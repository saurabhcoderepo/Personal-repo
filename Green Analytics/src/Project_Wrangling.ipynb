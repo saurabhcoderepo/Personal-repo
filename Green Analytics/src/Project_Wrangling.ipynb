{
 "cells": [
  {
   "cell_type": "code",
   "execution_count": 1,
   "id": "38c15723",
   "metadata": {
    "scrolled": false
   },
   "outputs": [
    {
     "name": "stdout",
     "output_type": "stream",
     "text": [
      "Requirement already satisfied: pandas in c:\\users\\u978275\\anaconda3\\lib\\site-packages (1.2.4)\n",
      "Requirement already satisfied: numpy>=1.16.5 in c:\\users\\u978275\\anaconda3\\lib\\site-packages (from pandas) (1.20.1)\n",
      "Requirement already satisfied: python-dateutil>=2.7.3 in c:\\users\\u978275\\anaconda3\\lib\\site-packages (from pandas) (2.8.1)\n",
      "Requirement already satisfied: pytz>=2017.3 in c:\\users\\u978275\\anaconda3\\lib\\site-packages (from pandas) (2021.1)Note: you may need to restart the kernel to use updated packages.\n",
      "Requirement already satisfied: six>=1.5 in c:\\users\\u978275\\anaconda3\\lib\\site-packages (from python-dateutil>=2.7.3->pandas) (1.15.0)\n",
      "\n"
     ]
    }
   ],
   "source": [
    "pip install pandas"
   ]
  },
  {
   "cell_type": "markdown",
   "id": "17796f3a",
   "metadata": {},
   "source": [
    "### Change to your local directory where data files are copied"
   ]
  },
  {
   "cell_type": "code",
   "execution_count": 2,
   "id": "5179a93f",
   "metadata": {},
   "outputs": [
    {
     "data": {
      "text/plain": [
       "'C:\\\\Users\\\\u978275\\\\OneDrive - Syngenta\\\\Saurabh Backup\\\\OMSA\\\\DVA - CS6242\\\\Project\\\\Git\\\\git_gatech\\\\data'"
      ]
     },
     "execution_count": 2,
     "metadata": {},
     "output_type": "execute_result"
    }
   ],
   "source": [
    "import pandas as pd\n",
    "import os\n",
    "\n",
    "os.chdir(\"../data\")\n",
    "os.getcwd()"
   ]
  },
  {
   "cell_type": "markdown",
   "id": "0f6553db",
   "metadata": {},
   "source": [
    "### Read and filter HDI (Human Development Index) file"
   ]
  },
  {
   "cell_type": "code",
   "execution_count": 3,
   "id": "d5a3463a",
   "metadata": {
    "scrolled": true
   },
   "outputs": [
    {
     "data": {
      "text/html": [
       "<div>\n",
       "<style scoped>\n",
       "    .dataframe tbody tr th:only-of-type {\n",
       "        vertical-align: middle;\n",
       "    }\n",
       "\n",
       "    .dataframe tbody tr th {\n",
       "        vertical-align: top;\n",
       "    }\n",
       "\n",
       "    .dataframe thead th {\n",
       "        text-align: right;\n",
       "    }\n",
       "</style>\n",
       "<table border=\"1\" class=\"dataframe\">\n",
       "  <thead>\n",
       "    <tr style=\"text-align: right;\">\n",
       "      <th></th>\n",
       "      <th>Country</th>\n",
       "      <th>HDI Rank</th>\n",
       "      <th>Year</th>\n",
       "      <th>HDI</th>\n",
       "    </tr>\n",
       "  </thead>\n",
       "  <tbody>\n",
       "    <tr>\n",
       "      <th>0</th>\n",
       "      <td>Afghanistan</td>\n",
       "      <td>169</td>\n",
       "      <td>1990</td>\n",
       "      <td>0.302</td>\n",
       "    </tr>\n",
       "    <tr>\n",
       "      <th>1</th>\n",
       "      <td>Albania</td>\n",
       "      <td>69</td>\n",
       "      <td>1990</td>\n",
       "      <td>0.650</td>\n",
       "    </tr>\n",
       "    <tr>\n",
       "      <th>2</th>\n",
       "      <td>Algeria</td>\n",
       "      <td>91</td>\n",
       "      <td>1990</td>\n",
       "      <td>0.572</td>\n",
       "    </tr>\n",
       "    <tr>\n",
       "      <th>3</th>\n",
       "      <td>Andorra</td>\n",
       "      <td>36</td>\n",
       "      <td>1990</td>\n",
       "      <td>..</td>\n",
       "    </tr>\n",
       "    <tr>\n",
       "      <th>4</th>\n",
       "      <td>Angola</td>\n",
       "      <td>148</td>\n",
       "      <td>1990</td>\n",
       "      <td>..</td>\n",
       "    </tr>\n",
       "  </tbody>\n",
       "</table>\n",
       "</div>"
      ],
      "text/plain": [
       "        Country HDI Rank  Year    HDI\n",
       "0   Afghanistan      169  1990  0.302\n",
       "1       Albania       69  1990  0.650\n",
       "2       Algeria       91  1990  0.572\n",
       "3       Andorra       36  1990     ..\n",
       "4        Angola      148  1990     .."
      ]
     },
     "execution_count": 3,
     "metadata": {},
     "output_type": "execute_result"
    }
   ],
   "source": [
    "filename = \"hdi/Human Development Index (HDI).csv\"\n",
    "\n",
    "df = pd.read_csv(filename, header = 0, skiprows=0, encoding='latin-1') \n",
    "\n",
    "df = df[df.columns.drop(list(df.filter(regex='Unnamed')))]\n",
    "\n",
    "df_hdi = pd.melt(df, id_vars=['Country', \"HDI Rank\"], value_vars=['1990', '1991', '1992', '1993', '1994', '1995', '1996', \\\n",
    "                                             '1997', '1998', '1999', '2000', '2001', '2002', '2003', \\\n",
    "                                             '2004', '2005', '2006', '2007', '2008', '2009', '2010', \\\n",
    "                                             '2011', '2012', '2013', '2014', '2015', '2016', '2017', \\\n",
    "                                             '2018', '2019'],\\\n",
    "                                            var_name='Year', value_name='HDI')\n",
    "df_hdi.head()"
   ]
  },
  {
   "cell_type": "code",
   "execution_count": 4,
   "id": "353fb095",
   "metadata": {},
   "outputs": [
    {
     "data": {
      "text/plain": [
       "array([' Andorra', ' Angola', ' Antigua and Barbuda', ' Azerbaijan',\n",
       "       ' Bahamas', ' Belarus', ' Bhutan', ' Bosnia and Herzegovina',\n",
       "       ' Burkina Faso', ' Cabo Verde', ' Chad', ' Comoros', ' Djibouti',\n",
       "       ' Dominica', ' Equatorial Guinea', ' Eritrea', ' Ethiopia',\n",
       "       ' Georgia', ' Grenada', ' Guinea-Bissau', ' Kiribati', ' Lebanon',\n",
       "       ' Liberia', ' Liechtenstein', ' Madagascar', ' Maldives',\n",
       "       ' Marshall Islands', ' Micronesia (Federated States of)',\n",
       "       ' Montenegro', ' Nigeria', ' North Macedonia', ' Oman', ' Palau',\n",
       "       ' Palestine, State of', ' Saint Kitts and Nevis', ' Saint Lucia',\n",
       "       ' Saint Vincent and the Grenadines', ' Seychelles',\n",
       "       ' Solomon Islands', ' South Sudan', ' Suriname', ' Timor-Leste',\n",
       "       ' Turkmenistan', ' Uzbekistan', ' Vanuatu', 'Human Development',\n",
       "       'Regions', nan], dtype=object)"
      ]
     },
     "execution_count": 4,
     "metadata": {},
     "output_type": "execute_result"
    }
   ],
   "source": [
    "# Many countries have \"..\" or null values for HDI. Those countries are filtered out.\n",
    "\n",
    "missing_hdi_countries = df_hdi[(df_hdi[\"HDI\"]== \"..\") | (df_hdi[\"HDI\"].isnull())].Country.unique()\n",
    "missing_hdi_countries"
   ]
  },
  {
   "cell_type": "code",
   "execution_count": 5,
   "id": "87000d44",
   "metadata": {},
   "outputs": [],
   "source": [
    "# Remove countries with missing HDI values\n",
    "\n",
    "df_hdi = df_hdi[~df_hdi[\"Country\"].isin(missing_hdi_countries)]\n",
    "\n",
    "# Remove entries which HDI Rank is not null\n",
    "\n",
    "df_hdi = df_hdi[df_hdi[\"HDI Rank\"].notnull()]\n",
    "df_hdi = df_hdi[[\"Country\", \"Year\", \"HDI\"]]"
   ]
  },
  {
   "cell_type": "code",
   "execution_count": 6,
   "id": "f8129aec",
   "metadata": {},
   "outputs": [
    {
     "data": {
      "text/html": [
       "<div>\n",
       "<style scoped>\n",
       "    .dataframe tbody tr th:only-of-type {\n",
       "        vertical-align: middle;\n",
       "    }\n",
       "\n",
       "    .dataframe tbody tr th {\n",
       "        vertical-align: top;\n",
       "    }\n",
       "\n",
       "    .dataframe thead th {\n",
       "        text-align: right;\n",
       "    }\n",
       "</style>\n",
       "<table border=\"1\" class=\"dataframe\">\n",
       "  <thead>\n",
       "    <tr style=\"text-align: right;\">\n",
       "      <th></th>\n",
       "      <th>Country</th>\n",
       "      <th>Year</th>\n",
       "      <th>HDI</th>\n",
       "    </tr>\n",
       "  </thead>\n",
       "  <tbody>\n",
       "    <tr>\n",
       "      <th>180</th>\n",
       "      <td>United States</td>\n",
       "      <td>1990</td>\n",
       "      <td>0.865</td>\n",
       "    </tr>\n",
       "    <tr>\n",
       "      <th>387</th>\n",
       "      <td>United States</td>\n",
       "      <td>1991</td>\n",
       "      <td>0.867</td>\n",
       "    </tr>\n",
       "    <tr>\n",
       "      <th>594</th>\n",
       "      <td>United States</td>\n",
       "      <td>1992</td>\n",
       "      <td>0.872</td>\n",
       "    </tr>\n",
       "    <tr>\n",
       "      <th>801</th>\n",
       "      <td>United States</td>\n",
       "      <td>1993</td>\n",
       "      <td>0.877</td>\n",
       "    </tr>\n",
       "    <tr>\n",
       "      <th>1008</th>\n",
       "      <td>United States</td>\n",
       "      <td>1994</td>\n",
       "      <td>0.880</td>\n",
       "    </tr>\n",
       "  </tbody>\n",
       "</table>\n",
       "</div>"
      ],
      "text/plain": [
       "            Country  Year    HDI\n",
       "180   United States  1990  0.865\n",
       "387   United States  1991  0.867\n",
       "594   United States  1992  0.872\n",
       "801   United States  1993  0.877\n",
       "1008  United States  1994  0.880"
      ]
     },
     "execution_count": 6,
     "metadata": {},
     "output_type": "execute_result"
    }
   ],
   "source": [
    "df_hdi[\"Country\"] = df_hdi[\"Country\"].str.strip()\n",
    "df_hdi[df_hdi[\"Country\"] == \"United States\"].head()"
   ]
  },
  {
   "cell_type": "markdown",
   "id": "90db4dad",
   "metadata": {},
   "source": [
    "### Read and filter Inflation file"
   ]
  },
  {
   "cell_type": "code",
   "execution_count": 7,
   "id": "c905d3bd",
   "metadata": {
    "scrolled": false
   },
   "outputs": [
    {
     "data": {
      "text/html": [
       "<div>\n",
       "<style scoped>\n",
       "    .dataframe tbody tr th:only-of-type {\n",
       "        vertical-align: middle;\n",
       "    }\n",
       "\n",
       "    .dataframe tbody tr th {\n",
       "        vertical-align: top;\n",
       "    }\n",
       "\n",
       "    .dataframe thead th {\n",
       "        text-align: right;\n",
       "    }\n",
       "</style>\n",
       "<table border=\"1\" class=\"dataframe\">\n",
       "  <thead>\n",
       "    <tr style=\"text-align: right;\">\n",
       "      <th></th>\n",
       "      <th>Country</th>\n",
       "      <th>Year</th>\n",
       "      <th>Inflation</th>\n",
       "    </tr>\n",
       "  </thead>\n",
       "  <tbody>\n",
       "    <tr>\n",
       "      <th>0</th>\n",
       "      <td>Aruba</td>\n",
       "      <td>1990</td>\n",
       "      <td>5.836688</td>\n",
       "    </tr>\n",
       "    <tr>\n",
       "      <th>1</th>\n",
       "      <td>Africa Eastern and Southern</td>\n",
       "      <td>1990</td>\n",
       "      <td>12.457914</td>\n",
       "    </tr>\n",
       "    <tr>\n",
       "      <th>2</th>\n",
       "      <td>Afghanistan</td>\n",
       "      <td>1990</td>\n",
       "      <td>NaN</td>\n",
       "    </tr>\n",
       "    <tr>\n",
       "      <th>3</th>\n",
       "      <td>Africa Western and Central</td>\n",
       "      <td>1990</td>\n",
       "      <td>1.057361</td>\n",
       "    </tr>\n",
       "    <tr>\n",
       "      <th>4</th>\n",
       "      <td>Angola</td>\n",
       "      <td>1990</td>\n",
       "      <td>NaN</td>\n",
       "    </tr>\n",
       "  </tbody>\n",
       "</table>\n",
       "</div>"
      ],
      "text/plain": [
       "                       Country  Year  Inflation\n",
       "0                        Aruba  1990   5.836688\n",
       "1  Africa Eastern and Southern  1990  12.457914\n",
       "2                  Afghanistan  1990        NaN\n",
       "3   Africa Western and Central  1990   1.057361\n",
       "4                       Angola  1990        NaN"
      ]
     },
     "execution_count": 7,
     "metadata": {},
     "output_type": "execute_result"
    }
   ],
   "source": [
    "filename = \"inflation/API_FP.CPI.TOTL.ZG_DS2_en_csv_v2_2917215.csv\"\n",
    "\n",
    "df = pd.read_csv(filename, header = 0, skiprows=0, encoding='utf-8') \n",
    "df = df.drop(columns = [\"Country Code\", \"Indicator Name\", \"Indicator Code\"])\n",
    "df.rename(columns = {'Country Name': 'Country'}, inplace = True)\n",
    "\n",
    "\n",
    "df_inflation = pd.melt(df, id_vars=['Country'], value_vars=['1990', '1991', '1992', '1993', '1994', '1995', '1996', \\\n",
    "                                             '1997', '1998', '1999', '2000', '2001', '2002', '2003', \\\n",
    "                                             '2004', '2005', '2006', '2007', '2008', '2009', '2010', \\\n",
    "                                             '2011', '2012', '2013', '2014', '2015', '2016', '2017', \\\n",
    "                                             '2018', '2019', '2020'],\\\n",
    "                                            var_name='Year', value_name='Inflation')\n",
    "df_inflation.head()"
   ]
  },
  {
   "cell_type": "markdown",
   "id": "0cf7ec3a",
   "metadata": {},
   "source": [
    "### Read and filter Infant Mortality file"
   ]
  },
  {
   "cell_type": "code",
   "execution_count": 8,
   "id": "cea270bb",
   "metadata": {},
   "outputs": [
    {
     "data": {
      "text/html": [
       "<div>\n",
       "<style scoped>\n",
       "    .dataframe tbody tr th:only-of-type {\n",
       "        vertical-align: middle;\n",
       "    }\n",
       "\n",
       "    .dataframe tbody tr th {\n",
       "        vertical-align: top;\n",
       "    }\n",
       "\n",
       "    .dataframe thead th {\n",
       "        text-align: right;\n",
       "    }\n",
       "</style>\n",
       "<table border=\"1\" class=\"dataframe\">\n",
       "  <thead>\n",
       "    <tr style=\"text-align: right;\">\n",
       "      <th></th>\n",
       "      <th>Country</th>\n",
       "      <th>Year</th>\n",
       "      <th>Infant_Mortality</th>\n",
       "    </tr>\n",
       "  </thead>\n",
       "  <tbody>\n",
       "    <tr>\n",
       "      <th>177</th>\n",
       "      <td>Afghanistan</td>\n",
       "      <td>1990</td>\n",
       "      <td>120.390072</td>\n",
       "    </tr>\n",
       "    <tr>\n",
       "      <th>178</th>\n",
       "      <td>Afghanistan</td>\n",
       "      <td>1991</td>\n",
       "      <td>116.779812</td>\n",
       "    </tr>\n",
       "    <tr>\n",
       "      <th>179</th>\n",
       "      <td>Afghanistan</td>\n",
       "      <td>1992</td>\n",
       "      <td>113.295508</td>\n",
       "    </tr>\n",
       "    <tr>\n",
       "      <th>180</th>\n",
       "      <td>Afghanistan</td>\n",
       "      <td>1993</td>\n",
       "      <td>109.929866</td>\n",
       "    </tr>\n",
       "    <tr>\n",
       "      <th>181</th>\n",
       "      <td>Afghanistan</td>\n",
       "      <td>1994</td>\n",
       "      <td>106.733450</td>\n",
       "    </tr>\n",
       "  </tbody>\n",
       "</table>\n",
       "</div>"
      ],
      "text/plain": [
       "         Country  Year  Infant_Mortality\n",
       "177  Afghanistan  1990        120.390072\n",
       "178  Afghanistan  1991        116.779812\n",
       "179  Afghanistan  1992        113.295508\n",
       "180  Afghanistan  1993        109.929866\n",
       "181  Afghanistan  1994        106.733450"
      ]
     },
     "execution_count": 8,
     "metadata": {},
     "output_type": "execute_result"
    }
   ],
   "source": [
    "\n",
    "filename = \"infant_mortality/fusion_CME_UNICEF_1.0_all.csv\"\n",
    "df = pd.read_csv(filename, header = 0, skiprows=0, encoding='utf-8', low_memory= False) \n",
    "df = df[(df['INDICATOR:Indicator'] =='CME_MRY0: Infant mortality rate') \\\n",
    "        & (df['SEX:Sex'] == '_T: Total')\\\n",
    "        & (df['TIME_PERIOD:Time period'] > 1989)]\n",
    "\n",
    "df = df[['REF_AREA:Country', 'TIME_PERIOD:Time period', 'OBS_VALUE:Observation Value']]\n",
    "df = df.rename(columns = {\"REF_AREA:Country\" : \"Country\", \\\n",
    "                          \"TIME_PERIOD:Time period\" : \"Year\", \\\n",
    "                          \"OBS_VALUE:Observation Value\" : \"Infant_Mortality\"})\n",
    "\n",
    "df['Country'] = df['Country'].str[5:]\n",
    "\n",
    "df_infant_mortality = df.copy()\n",
    "df_infant_mortality.head()"
   ]
  },
  {
   "cell_type": "markdown",
   "id": "000970e4",
   "metadata": {},
   "source": [
    "### Read and filter GDP (Gross Domestic Product) file"
   ]
  },
  {
   "cell_type": "code",
   "execution_count": 9,
   "id": "a3cf9c97",
   "metadata": {
    "scrolled": true
   },
   "outputs": [
    {
     "data": {
      "text/html": [
       "<div>\n",
       "<style scoped>\n",
       "    .dataframe tbody tr th:only-of-type {\n",
       "        vertical-align: middle;\n",
       "    }\n",
       "\n",
       "    .dataframe tbody tr th {\n",
       "        vertical-align: top;\n",
       "    }\n",
       "\n",
       "    .dataframe thead th {\n",
       "        text-align: right;\n",
       "    }\n",
       "</style>\n",
       "<table border=\"1\" class=\"dataframe\">\n",
       "  <thead>\n",
       "    <tr style=\"text-align: right;\">\n",
       "      <th></th>\n",
       "      <th>Country</th>\n",
       "      <th>Year</th>\n",
       "      <th>GDP</th>\n",
       "    </tr>\n",
       "  </thead>\n",
       "  <tbody>\n",
       "    <tr>\n",
       "      <th>0</th>\n",
       "      <td>Aruba</td>\n",
       "      <td>1990</td>\n",
       "      <td>12306.717679</td>\n",
       "    </tr>\n",
       "    <tr>\n",
       "      <th>1</th>\n",
       "      <td>Africa Eastern and Southern</td>\n",
       "      <td>1990</td>\n",
       "      <td>696.223892</td>\n",
       "    </tr>\n",
       "    <tr>\n",
       "      <th>2</th>\n",
       "      <td>Afghanistan</td>\n",
       "      <td>1990</td>\n",
       "      <td>NaN</td>\n",
       "    </tr>\n",
       "    <tr>\n",
       "      <th>3</th>\n",
       "      <td>Africa Western and Central</td>\n",
       "      <td>1990</td>\n",
       "      <td>594.899600</td>\n",
       "    </tr>\n",
       "    <tr>\n",
       "      <th>4</th>\n",
       "      <td>Angola</td>\n",
       "      <td>1990</td>\n",
       "      <td>948.338178</td>\n",
       "    </tr>\n",
       "  </tbody>\n",
       "</table>\n",
       "</div>"
      ],
      "text/plain": [
       "                       Country  Year           GDP\n",
       "0                        Aruba  1990  12306.717679\n",
       "1  Africa Eastern and Southern  1990    696.223892\n",
       "2                  Afghanistan  1990           NaN\n",
       "3   Africa Western and Central  1990    594.899600\n",
       "4                       Angola  1990    948.338178"
      ]
     },
     "execution_count": 9,
     "metadata": {},
     "output_type": "execute_result"
    }
   ],
   "source": [
    "\n",
    "filename = \"gdp/API_NY.GDP.PCAP.CD_DS2_en_csv_v2_2916517.csv\"\n",
    "\n",
    "df = pd.read_csv(filename, header = 0, skiprows=0, encoding='utf-8', low_memory= False) \n",
    "df = df.drop(columns = [\"Country Code\", \"Indicator Name\", \"Indicator Code\"])\n",
    "df = df.rename(columns = {\"Country Name\": \"Country\"})\n",
    "\n",
    "df_gdp = pd.melt(df, id_vars=['Country'], value_vars=['1990', '1991', '1992', '1993', '1994', '1995', '1996', \\\n",
    "                                             '1997', '1998', '1999', '2000', '2001', '2002', '2003', \\\n",
    "                                             '2004', '2005', '2006', '2007', '2008', '2009', '2010', \\\n",
    "                                             '2011', '2012', '2013', '2014', '2015', '2016', '2017', \\\n",
    "                                             '2018', '2019', '2020'],\\\n",
    "                                            var_name='Year', value_name='GDP')\n",
    "\n",
    "df_gdp.head()"
   ]
  },
  {
   "cell_type": "markdown",
   "id": "8d5d5f8a",
   "metadata": {},
   "source": [
    "### Read and filter GNI (Gross National Income) file"
   ]
  },
  {
   "cell_type": "code",
   "execution_count": 10,
   "id": "3480396b",
   "metadata": {},
   "outputs": [
    {
     "data": {
      "text/html": [
       "<div>\n",
       "<style scoped>\n",
       "    .dataframe tbody tr th:only-of-type {\n",
       "        vertical-align: middle;\n",
       "    }\n",
       "\n",
       "    .dataframe tbody tr th {\n",
       "        vertical-align: top;\n",
       "    }\n",
       "\n",
       "    .dataframe thead th {\n",
       "        text-align: right;\n",
       "    }\n",
       "</style>\n",
       "<table border=\"1\" class=\"dataframe\">\n",
       "  <thead>\n",
       "    <tr style=\"text-align: right;\">\n",
       "      <th></th>\n",
       "      <th>Country</th>\n",
       "      <th>Year</th>\n",
       "      <th>GNI</th>\n",
       "    </tr>\n",
       "  </thead>\n",
       "  <tbody>\n",
       "    <tr>\n",
       "      <th>0</th>\n",
       "      <td>Aruba</td>\n",
       "      <td>1990</td>\n",
       "      <td>12230.000000</td>\n",
       "    </tr>\n",
       "    <tr>\n",
       "      <th>1</th>\n",
       "      <td>Africa Eastern and Southern</td>\n",
       "      <td>1990</td>\n",
       "      <td>641.426872</td>\n",
       "    </tr>\n",
       "    <tr>\n",
       "      <th>2</th>\n",
       "      <td>Afghanistan</td>\n",
       "      <td>1990</td>\n",
       "      <td>NaN</td>\n",
       "    </tr>\n",
       "    <tr>\n",
       "      <th>3</th>\n",
       "      <td>Africa Western and Central</td>\n",
       "      <td>1990</td>\n",
       "      <td>556.079696</td>\n",
       "    </tr>\n",
       "    <tr>\n",
       "      <th>4</th>\n",
       "      <td>Angola</td>\n",
       "      <td>1990</td>\n",
       "      <td>780.000000</td>\n",
       "    </tr>\n",
       "  </tbody>\n",
       "</table>\n",
       "</div>"
      ],
      "text/plain": [
       "                       Country  Year           GNI\n",
       "0                        Aruba  1990  12230.000000\n",
       "1  Africa Eastern and Southern  1990    641.426872\n",
       "2                  Afghanistan  1990           NaN\n",
       "3   Africa Western and Central  1990    556.079696\n",
       "4                       Angola  1990    780.000000"
      ]
     },
     "execution_count": 10,
     "metadata": {},
     "output_type": "execute_result"
    }
   ],
   "source": [
    "\n",
    "filename = \"gni/API_NY.GNP.PCAP.CD_DS2_en_csv_v2_2924224.csv\"\n",
    "\n",
    "df = pd.read_csv(filename, header = 0, skiprows=0, encoding='utf-8', low_memory= False) \n",
    "df = df.drop(columns = [\"Country Code\", \"Indicator Name\", \"Indicator Code\"])\n",
    "df = df.rename(columns = {\"Country Name\": \"Country\"})\n",
    "\n",
    "df_gni = pd.melt(df, id_vars=['Country'], value_vars=['1990', '1991', '1992', '1993', '1994', '1995', '1996', \\\n",
    "                                             '1997', '1998', '1999', '2000', '2001', '2002', '2003', \\\n",
    "                                             '2004', '2005', '2006', '2007', '2008', '2009', '2010', \\\n",
    "                                             '2011', '2012', '2013', '2014', '2015', '2016', '2017', \\\n",
    "                                             '2018', '2019', '2020'],\\\n",
    "                                            var_name='Year', value_name='GNI')\n",
    "\n",
    "df_gni.head()"
   ]
  },
  {
   "cell_type": "markdown",
   "id": "bb62728a",
   "metadata": {},
   "source": [
    "### Read and filter Forest Area file"
   ]
  },
  {
   "cell_type": "code",
   "execution_count": 11,
   "id": "a59535df",
   "metadata": {},
   "outputs": [
    {
     "data": {
      "text/html": [
       "<div>\n",
       "<style scoped>\n",
       "    .dataframe tbody tr th:only-of-type {\n",
       "        vertical-align: middle;\n",
       "    }\n",
       "\n",
       "    .dataframe tbody tr th {\n",
       "        vertical-align: top;\n",
       "    }\n",
       "\n",
       "    .dataframe thead th {\n",
       "        text-align: right;\n",
       "    }\n",
       "</style>\n",
       "<table border=\"1\" class=\"dataframe\">\n",
       "  <thead>\n",
       "    <tr style=\"text-align: right;\">\n",
       "      <th></th>\n",
       "      <th>Country</th>\n",
       "      <th>Year</th>\n",
       "      <th>Forest_Area</th>\n",
       "    </tr>\n",
       "  </thead>\n",
       "  <tbody>\n",
       "    <tr>\n",
       "      <th>0</th>\n",
       "      <td>Aruba</td>\n",
       "      <td>1990</td>\n",
       "      <td>2.333333</td>\n",
       "    </tr>\n",
       "    <tr>\n",
       "      <th>1</th>\n",
       "      <td>Africa Eastern and Southern</td>\n",
       "      <td>1990</td>\n",
       "      <td>40.565912</td>\n",
       "    </tr>\n",
       "    <tr>\n",
       "      <th>2</th>\n",
       "      <td>Afghanistan</td>\n",
       "      <td>1990</td>\n",
       "      <td>1.850994</td>\n",
       "    </tr>\n",
       "    <tr>\n",
       "      <th>3</th>\n",
       "      <td>Africa Western and Central</td>\n",
       "      <td>1990</td>\n",
       "      <td>22.776908</td>\n",
       "    </tr>\n",
       "    <tr>\n",
       "      <th>4</th>\n",
       "      <td>Angola</td>\n",
       "      <td>1990</td>\n",
       "      <td>63.578070</td>\n",
       "    </tr>\n",
       "  </tbody>\n",
       "</table>\n",
       "</div>"
      ],
      "text/plain": [
       "                       Country  Year  Forest_Area\n",
       "0                        Aruba  1990     2.333333\n",
       "1  Africa Eastern and Southern  1990    40.565912\n",
       "2                  Afghanistan  1990     1.850994\n",
       "3   Africa Western and Central  1990    22.776908\n",
       "4                       Angola  1990    63.578070"
      ]
     },
     "execution_count": 11,
     "metadata": {},
     "output_type": "execute_result"
    }
   ],
   "source": [
    "\n",
    "filename = \"forest_area/API_AG.LND.FRST.ZS_DS2_en_csv_v2_2917381.csv\"\n",
    "\n",
    "df = pd.read_csv(filename, header = 0, skiprows=0, encoding='utf-8', low_memory= False) \n",
    "df = df.drop(columns = [\"Country Code\", \"Indicator Name\", \"Indicator Code\"])\n",
    "df = df.rename(columns = {\"Country Name\": \"Country\"})\n",
    "\n",
    "df_forest = pd.melt(df, id_vars=['Country'], value_vars=['1990', '1991', '1992', '1993', '1994', '1995', '1996', \\\n",
    "                                             '1997', '1998', '1999', '2000', '2001', '2002', '2003', \\\n",
    "                                             '2004', '2005', '2006', '2007', '2008', '2009', '2010', \\\n",
    "                                             '2011', '2012', '2013', '2014', '2015', '2016', '2017', \\\n",
    "                                             '2018', '2019', '2020'],\\\n",
    "                                            var_name='Year', value_name='Forest_Area')\n",
    "\n",
    "df_forest.head()"
   ]
  },
  {
   "cell_type": "code",
   "execution_count": 12,
   "id": "dc3606c8",
   "metadata": {},
   "outputs": [
    {
     "data": {
      "text/html": [
       "<div>\n",
       "<style scoped>\n",
       "    .dataframe tbody tr th:only-of-type {\n",
       "        vertical-align: middle;\n",
       "    }\n",
       "\n",
       "    .dataframe tbody tr th {\n",
       "        vertical-align: top;\n",
       "    }\n",
       "\n",
       "    .dataframe thead th {\n",
       "        text-align: right;\n",
       "    }\n",
       "</style>\n",
       "<table border=\"1\" class=\"dataframe\">\n",
       "  <thead>\n",
       "    <tr style=\"text-align: right;\">\n",
       "      <th></th>\n",
       "      <th>Country</th>\n",
       "      <th>Year</th>\n",
       "      <th>Forest_Area</th>\n",
       "    </tr>\n",
       "  </thead>\n",
       "  <tbody>\n",
       "    <tr>\n",
       "      <th>0</th>\n",
       "      <td>Aruba</td>\n",
       "      <td>1990</td>\n",
       "      <td>2.333333</td>\n",
       "    </tr>\n",
       "    <tr>\n",
       "      <th>1</th>\n",
       "      <td>Africa Eastern and Southern</td>\n",
       "      <td>1990</td>\n",
       "      <td>40.565912</td>\n",
       "    </tr>\n",
       "    <tr>\n",
       "      <th>2</th>\n",
       "      <td>Afghanistan</td>\n",
       "      <td>1990</td>\n",
       "      <td>1.850994</td>\n",
       "    </tr>\n",
       "    <tr>\n",
       "      <th>3</th>\n",
       "      <td>Africa Western and Central</td>\n",
       "      <td>1990</td>\n",
       "      <td>22.776908</td>\n",
       "    </tr>\n",
       "    <tr>\n",
       "      <th>4</th>\n",
       "      <td>Angola</td>\n",
       "      <td>1990</td>\n",
       "      <td>63.578070</td>\n",
       "    </tr>\n",
       "  </tbody>\n",
       "</table>\n",
       "</div>"
      ],
      "text/plain": [
       "                       Country  Year  Forest_Area\n",
       "0                        Aruba  1990     2.333333\n",
       "1  Africa Eastern and Southern  1990    40.565912\n",
       "2                  Afghanistan  1990     1.850994\n",
       "3   Africa Western and Central  1990    22.776908\n",
       "4                       Angola  1990    63.578070"
      ]
     },
     "execution_count": 12,
     "metadata": {},
     "output_type": "execute_result"
    }
   ],
   "source": [
    "# Filter out countries that have Forest_Area as 0 or blank in 1990. Eg Nauru, Qatar, Luxembourg\n",
    "\n",
    "missing_forest_countries = df_forest[(df_forest[\"Forest_Area\"] == 0) | (df_forest[\"Forest_Area\"].isnull())].Country.unique()\n",
    "missing_forest_countries\n",
    "\n",
    "df_forest = df_forest[~df_forest[\"Country\"].isin(missing_forest_countries)]\n",
    "df_forest.head()"
   ]
  },
  {
   "cell_type": "markdown",
   "id": "8be4cd81",
   "metadata": {},
   "source": [
    "### Read and filter Population file"
   ]
  },
  {
   "cell_type": "code",
   "execution_count": 13,
   "id": "a1a86b10",
   "metadata": {},
   "outputs": [
    {
     "data": {
      "text/html": [
       "<div>\n",
       "<style scoped>\n",
       "    .dataframe tbody tr th:only-of-type {\n",
       "        vertical-align: middle;\n",
       "    }\n",
       "\n",
       "    .dataframe tbody tr th {\n",
       "        vertical-align: top;\n",
       "    }\n",
       "\n",
       "    .dataframe thead th {\n",
       "        text-align: right;\n",
       "    }\n",
       "</style>\n",
       "<table border=\"1\" class=\"dataframe\">\n",
       "  <thead>\n",
       "    <tr style=\"text-align: right;\">\n",
       "      <th></th>\n",
       "      <th>Country</th>\n",
       "      <th>Year</th>\n",
       "      <th>Population</th>\n",
       "    </tr>\n",
       "  </thead>\n",
       "  <tbody>\n",
       "    <tr>\n",
       "      <th>0</th>\n",
       "      <td>Aruba</td>\n",
       "      <td>1990</td>\n",
       "      <td>345.288889</td>\n",
       "    </tr>\n",
       "    <tr>\n",
       "      <th>1</th>\n",
       "      <td>Africa Eastern and Southern</td>\n",
       "      <td>1990</td>\n",
       "      <td>20.615019</td>\n",
       "    </tr>\n",
       "    <tr>\n",
       "      <th>2</th>\n",
       "      <td>Afghanistan</td>\n",
       "      <td>1990</td>\n",
       "      <td>19.012209</td>\n",
       "    </tr>\n",
       "    <tr>\n",
       "      <th>3</th>\n",
       "      <td>Africa Western and Central</td>\n",
       "      <td>1990</td>\n",
       "      <td>22.640819</td>\n",
       "    </tr>\n",
       "    <tr>\n",
       "      <th>4</th>\n",
       "      <td>Angola</td>\n",
       "      <td>1990</td>\n",
       "      <td>9.503798</td>\n",
       "    </tr>\n",
       "  </tbody>\n",
       "</table>\n",
       "</div>"
      ],
      "text/plain": [
       "                       Country  Year  Population\n",
       "0                        Aruba  1990  345.288889\n",
       "1  Africa Eastern and Southern  1990   20.615019\n",
       "2                  Afghanistan  1990   19.012209\n",
       "3   Africa Western and Central  1990   22.640819\n",
       "4                       Angola  1990    9.503798"
      ]
     },
     "execution_count": 13,
     "metadata": {},
     "output_type": "execute_result"
    }
   ],
   "source": [
    "\n",
    "filename = \"population/API_EN.POP.DNST_DS2_en_csv_v2_2917301.csv\"\n",
    "\n",
    "df = pd.read_csv(filename, header = 0, skiprows=0, encoding='utf-8', low_memory= False) \n",
    "df = df.drop(columns = [\"Country Code\", \"Indicator Name\", \"Indicator Code\"])\n",
    "df = df.rename(columns = {\"Country Name\": \"Country\"})\n",
    "\n",
    "df_pop = pd.melt(df, id_vars=['Country'], value_vars=['1990', '1991', '1992', '1993', '1994', '1995', '1996', \\\n",
    "                                             '1997', '1998', '1999', '2000', '2001', '2002', '2003', \\\n",
    "                                             '2004', '2005', '2006', '2007', '2008', '2009', '2010', \\\n",
    "                                             '2011', '2012', '2013', '2014', '2015', '2016', '2017', \\\n",
    "                                             '2018', '2019', '2020'],\\\n",
    "                                            var_name='Year', value_name='Population')\n",
    "\n",
    "df_pop.head()"
   ]
  },
  {
   "cell_type": "markdown",
   "id": "7a6698f0",
   "metadata": {},
   "source": [
    "### Read and filter Unemployment file"
   ]
  },
  {
   "cell_type": "code",
   "execution_count": 14,
   "id": "4a08021f",
   "metadata": {},
   "outputs": [
    {
     "data": {
      "text/html": [
       "<div>\n",
       "<style scoped>\n",
       "    .dataframe tbody tr th:only-of-type {\n",
       "        vertical-align: middle;\n",
       "    }\n",
       "\n",
       "    .dataframe tbody tr th {\n",
       "        vertical-align: top;\n",
       "    }\n",
       "\n",
       "    .dataframe thead th {\n",
       "        text-align: right;\n",
       "    }\n",
       "</style>\n",
       "<table border=\"1\" class=\"dataframe\">\n",
       "  <thead>\n",
       "    <tr style=\"text-align: right;\">\n",
       "      <th></th>\n",
       "      <th>Country</th>\n",
       "      <th>Year</th>\n",
       "      <th>Unemployment</th>\n",
       "    </tr>\n",
       "  </thead>\n",
       "  <tbody>\n",
       "    <tr>\n",
       "      <th>0</th>\n",
       "      <td>Afghanistan</td>\n",
       "      <td>1991</td>\n",
       "      <td>11.38</td>\n",
       "    </tr>\n",
       "    <tr>\n",
       "      <th>1</th>\n",
       "      <td>Afghanistan</td>\n",
       "      <td>1992</td>\n",
       "      <td>11.46</td>\n",
       "    </tr>\n",
       "    <tr>\n",
       "      <th>2</th>\n",
       "      <td>Afghanistan</td>\n",
       "      <td>1993</td>\n",
       "      <td>11.61</td>\n",
       "    </tr>\n",
       "    <tr>\n",
       "      <th>3</th>\n",
       "      <td>Afghanistan</td>\n",
       "      <td>1994</td>\n",
       "      <td>11.65</td>\n",
       "    </tr>\n",
       "    <tr>\n",
       "      <th>4</th>\n",
       "      <td>Afghanistan</td>\n",
       "      <td>1995</td>\n",
       "      <td>11.65</td>\n",
       "    </tr>\n",
       "  </tbody>\n",
       "</table>\n",
       "</div>"
      ],
      "text/plain": [
       "       Country  Year  Unemployment\n",
       "0  Afghanistan  1991         11.38\n",
       "1  Afghanistan  1992         11.46\n",
       "2  Afghanistan  1993         11.61\n",
       "3  Afghanistan  1994         11.65\n",
       "4  Afghanistan  1995         11.65"
      ]
     },
     "execution_count": 14,
     "metadata": {},
     "output_type": "execute_result"
    }
   ],
   "source": [
    "\n",
    "filename = \"unemployment/unemployment-rate.csv\"\n",
    "\n",
    "df = pd.read_csv(filename, header = 0, skiprows=0, encoding='utf-8', low_memory= False) \n",
    "df_unemp = df.drop('Code',axis=1)\\\n",
    "    .rename(columns={'Entity':'Country', \n",
    "    'Unemployment, total (% of total labor force) (modeled ILO estimate)':'Unemployment'})\n",
    "\n",
    "df_unemp.head()"
   ]
  },
  {
   "cell_type": "code",
   "execution_count": 15,
   "id": "04462863",
   "metadata": {},
   "outputs": [],
   "source": [
    "# Strip whitespaces from country\n",
    "\n",
    "df_hdi['Country'] = df_hdi['Country'].str.strip()\n",
    "df_inflation['Country'] = df_inflation['Country'].str.strip()\n",
    "df_infant_mortality['Country'] = df_infant_mortality['Country'].str.strip()\n",
    "df_gdp['Country'] = df_gdp['Country'].str.strip()\n",
    "df_gni['Country'] = df_gni['Country'].str.strip()\n",
    "df_forest['Country'] = df_forest['Country'].str.strip()\n",
    "df_pop['Country'] = df_pop['Country'].str.strip()\n",
    "df_unemp['Country'] = df_unemp['Country'].str.strip()\n",
    "\n",
    "\n"
   ]
  },
  {
   "cell_type": "code",
   "execution_count": 16,
   "id": "c068f5d5",
   "metadata": {},
   "outputs": [],
   "source": [
    "# Convert year column to string in all factor dataframes\n",
    "\n",
    "df_hdi[\"Year\"] = df_hdi[\"Year\"].astype('str')\n",
    "df_inflation[\"Year\"] = df_inflation[\"Year\"].astype('str')\n",
    "df_infant_mortality[\"Year\"] = df_infant_mortality[\"Year\"].astype('str')\n",
    "df_gdp[\"Year\"] = df_gdp[\"Year\"].astype('str')\n",
    "df_gni[\"Year\"] = df_gni[\"Year\"].astype('str')\n",
    "df_forest[\"Year\"] = df_forest[\"Year\"].astype('str')\n",
    "df_pop[\"Year\"] = df_pop[\"Year\"].astype('str')\n",
    "df_unemp[\"Year\"] = df_unemp[\"Year\"].astype('str')\n"
   ]
  },
  {
   "cell_type": "code",
   "execution_count": 17,
   "id": "897ff49c",
   "metadata": {},
   "outputs": [],
   "source": [
    "df_hdi['Country'] = df_hdi['Country'].map(lambda x: x.replace(\"\\n\", \"\").replace(\"  \", \" \")\\\n",
    "                                                            .split(\"(\", 1)[0].split(\", T\", 1)[0]\\\n",
    "                                                            .split(\", A\", 1)[0]\\\n",
    "                                                            .split(\", I\", 1)[0].strip())\n",
    "\n",
    "df_inflation['Country'] = df_inflation['Country'].map(lambda x: x.replace(\"\\n\", \"\").replace(\"  \", \" \")\\\n",
    "                                                            .split(\"(\", 1)[0].split(\", T\", 1)[0]\\\n",
    "                                                            .split(\", A\", 1)[0]\\\n",
    "                                                            .split(\", I\", 1)[0].strip())\n",
    "\n",
    "df_infant_mortality['Country'] = df_infant_mortality['Country'].map(lambda x: x.replace(\"\\n\", \"\").replace(\"  \", \" \")\\\n",
    "                                                            .split(\"(\", 1)[0].split(\", T\", 1)[0]\\\n",
    "                                                            .split(\", A\", 1)[0]\\\n",
    "                                                            .split(\", I\", 1)[0].strip())\n",
    "\n",
    "df_gdp['Country'] = df_gdp['Country'].map(lambda x: x.replace(\"\\n\", \"\").replace(\"  \", \" \")\\\n",
    "                                                            .split(\"(\", 1)[0].split(\", T\", 1)[0]\\\n",
    "                                                            .split(\", A\", 1)[0]\\\n",
    "                                                            .split(\", I\", 1)[0].strip())\n",
    "\n",
    "df_gni['Country'] = df_gni['Country'].map(lambda x: x.replace(\"\\n\", \"\").replace(\"  \", \" \")\\\n",
    "                                                            .split(\"(\", 1)[0].split(\", T\", 1)[0]\\\n",
    "                                                            .split(\", A\", 1)[0]\\\n",
    "                                                            .split(\", I\", 1)[0].strip())\n",
    "\n",
    "df_forest['Country'] = df_forest['Country'].map(lambda x: x.replace(\"\\n\", \"\").replace(\"  \", \" \")\\\n",
    "                                                            .split(\"(\", 1)[0].split(\", T\", 1)[0]\\\n",
    "                                                            .split(\", A\", 1)[0]\\\n",
    "                                                            .split(\", I\", 1)[0].strip())\n",
    "\n",
    "df_pop['Country'] = df_pop['Country'].map(lambda x: x.replace(\"\\n\", \"\").replace(\"  \", \" \")\\\n",
    "                                                            .split(\"(\", 1)[0].split(\", T\", 1)[0]\\\n",
    "                                                            .split(\", A\", 1)[0]\\\n",
    "                                                            .split(\", I\", 1)[0].strip())\n",
    "\n",
    "df_unemp['Country'] = df_unemp['Country'].map(lambda x: x.replace(\"\\n\", \"\").replace(\"  \", \" \")\\\n",
    "                                                            .split(\"(\", 1)[0].split(\", T\", 1)[0]\\\n",
    "                                                            .split(\", A\", 1)[0]\\\n",
    "                                                            .split(\", I\", 1)[0].strip())\n"
   ]
  },
  {
   "cell_type": "code",
   "execution_count": 18,
   "id": "733ec4dc",
   "metadata": {},
   "outputs": [],
   "source": [
    "# Merge all the factor dataframes\n",
    "\n",
    "temp_df = pd.merge(df_hdi, df_inflation, how = \"outer\", left_on = [\"Country\", \"Year\"], right_on = [\"Country\", \"Year\"])\n",
    "temp_df = pd.merge(temp_df, df_infant_mortality, how = \"outer\", left_on = [\"Country\", \"Year\"], right_on = [\"Country\", \"Year\"])\n",
    "temp_df = pd.merge(temp_df, df_gdp, how = \"outer\", left_on = [\"Country\", \"Year\"], right_on = [\"Country\", \"Year\"])\n",
    "temp_df = pd.merge(temp_df, df_gni, how = \"outer\", left_on = [\"Country\", \"Year\"], right_on = [\"Country\", \"Year\"])\n",
    "temp_df = pd.merge(temp_df, df_forest, how = \"outer\", left_on = [\"Country\", \"Year\"], right_on = [\"Country\", \"Year\"])\n",
    "temp_df = pd.merge(temp_df, df_pop, how = \"outer\", left_on = [\"Country\", \"Year\"], right_on = [\"Country\", \"Year\"])\n",
    "temp_df = pd.merge(temp_df, df_unemp, how = \"outer\", left_on = [\"Country\", \"Year\"], right_on = [\"Country\", \"Year\"])\n",
    "\n",
    "# temp_df.count\n",
    "# len(temp_df[\"Country\"].unique())\n",
    "# temp_df.loc[temp_df[\"Country\"] == \"India\"].head()"
   ]
  },
  {
   "cell_type": "code",
   "execution_count": 19,
   "id": "76c3c56f",
   "metadata": {},
   "outputs": [
    {
     "data": {
      "text/html": [
       "<div>\n",
       "<style scoped>\n",
       "    .dataframe tbody tr th:only-of-type {\n",
       "        vertical-align: middle;\n",
       "    }\n",
       "\n",
       "    .dataframe tbody tr th {\n",
       "        vertical-align: top;\n",
       "    }\n",
       "\n",
       "    .dataframe thead th {\n",
       "        text-align: right;\n",
       "    }\n",
       "</style>\n",
       "<table border=\"1\" class=\"dataframe\">\n",
       "  <thead>\n",
       "    <tr style=\"text-align: right;\">\n",
       "      <th></th>\n",
       "      <th>Country_ID</th>\n",
       "      <th>Country</th>\n",
       "      <th>Continent</th>\n",
       "      <th>Development_Status</th>\n",
       "    </tr>\n",
       "  </thead>\n",
       "  <tbody>\n",
       "    <tr>\n",
       "      <th>0</th>\n",
       "      <td>0</td>\n",
       "      <td>Algeria</td>\n",
       "      <td>Africa</td>\n",
       "      <td>Developing</td>\n",
       "    </tr>\n",
       "    <tr>\n",
       "      <th>1</th>\n",
       "      <td>1</td>\n",
       "      <td>Egypt</td>\n",
       "      <td>Africa</td>\n",
       "      <td>Developing</td>\n",
       "    </tr>\n",
       "    <tr>\n",
       "      <th>2</th>\n",
       "      <td>2</td>\n",
       "      <td>Libya</td>\n",
       "      <td>Africa</td>\n",
       "      <td>Developing</td>\n",
       "    </tr>\n",
       "    <tr>\n",
       "      <th>3</th>\n",
       "      <td>3</td>\n",
       "      <td>Morocco</td>\n",
       "      <td>Africa</td>\n",
       "      <td>Developing</td>\n",
       "    </tr>\n",
       "    <tr>\n",
       "      <th>4</th>\n",
       "      <td>4</td>\n",
       "      <td>Sudan</td>\n",
       "      <td>Africa</td>\n",
       "      <td>Developing</td>\n",
       "    </tr>\n",
       "  </tbody>\n",
       "</table>\n",
       "</div>"
      ],
      "text/plain": [
       "   Country_ID  Country Continent Development_Status\n",
       "0           0  Algeria    Africa         Developing\n",
       "1           1    Egypt    Africa         Developing\n",
       "2           2    Libya    Africa         Developing\n",
       "3           3  Morocco    Africa         Developing\n",
       "4           4    Sudan    Africa         Developing"
      ]
     },
     "execution_count": 19,
     "metadata": {},
     "output_type": "execute_result"
    }
   ],
   "source": [
    "# Country list downloaded from https://unstats.un.org/unsd/methodology/m49/overview/\n",
    "\n",
    "filename = \"../src/viz/UNSD - Country_List.csv\"\n",
    "\n",
    "df_country = pd.read_csv(filename, header = 0, skiprows=0, encoding='utf-8') \n",
    "df_country = df_country[[\"Country or Area\", \"Region Name\", \"Developed / Developing Countries\"]]\n",
    "df_country = df_country.rename(columns = {\"Country or Area\" : \"Country\", \\\n",
    "                          \"Region Name\" : \"Continent\", \\\n",
    "                          \"Developed / Developing Countries\" : \"Development_Status\"})\n",
    "\n",
    "df_country = df_country.reset_index()\n",
    "df_country = df_country.rename(columns={\"index\":\"Country_ID\"})\n",
    "df_country.head()"
   ]
  },
  {
   "cell_type": "code",
   "execution_count": 20,
   "id": "ad7e0c4b",
   "metadata": {},
   "outputs": [
    {
     "data": {
      "text/html": [
       "<div>\n",
       "<style scoped>\n",
       "    .dataframe tbody tr th:only-of-type {\n",
       "        vertical-align: middle;\n",
       "    }\n",
       "\n",
       "    .dataframe tbody tr th {\n",
       "        vertical-align: top;\n",
       "    }\n",
       "\n",
       "    .dataframe thead th {\n",
       "        text-align: right;\n",
       "    }\n",
       "</style>\n",
       "<table border=\"1\" class=\"dataframe\">\n",
       "  <thead>\n",
       "    <tr style=\"text-align: right;\">\n",
       "      <th></th>\n",
       "      <th>Country</th>\n",
       "      <th>Year</th>\n",
       "      <th>HDI</th>\n",
       "      <th>Inflation</th>\n",
       "      <th>Infant_Mortality</th>\n",
       "      <th>GDP</th>\n",
       "      <th>GNI</th>\n",
       "      <th>Forest_Area</th>\n",
       "      <th>Population</th>\n",
       "      <th>Unemployment</th>\n",
       "      <th>Country_ID</th>\n",
       "      <th>Continent</th>\n",
       "      <th>Development_Status</th>\n",
       "    </tr>\n",
       "  </thead>\n",
       "  <tbody>\n",
       "    <tr>\n",
       "      <th>0</th>\n",
       "      <td>Afghanistan</td>\n",
       "      <td>1990</td>\n",
       "      <td>0.302</td>\n",
       "      <td>NaN</td>\n",
       "      <td>120.390072</td>\n",
       "      <td>NaN</td>\n",
       "      <td>NaN</td>\n",
       "      <td>1.850994</td>\n",
       "      <td>19.012209</td>\n",
       "      <td>NaN</td>\n",
       "      <td>139.0</td>\n",
       "      <td>Asia</td>\n",
       "      <td>Developing</td>\n",
       "    </tr>\n",
       "    <tr>\n",
       "      <th>1</th>\n",
       "      <td>Afghanistan</td>\n",
       "      <td>1991</td>\n",
       "      <td>0.307</td>\n",
       "      <td>NaN</td>\n",
       "      <td>116.779812</td>\n",
       "      <td>NaN</td>\n",
       "      <td>NaN</td>\n",
       "      <td>1.850994</td>\n",
       "      <td>20.370395</td>\n",
       "      <td>11.38</td>\n",
       "      <td>139.0</td>\n",
       "      <td>Asia</td>\n",
       "      <td>Developing</td>\n",
       "    </tr>\n",
       "    <tr>\n",
       "      <th>2</th>\n",
       "      <td>Afghanistan</td>\n",
       "      <td>1992</td>\n",
       "      <td>0.316</td>\n",
       "      <td>NaN</td>\n",
       "      <td>113.295508</td>\n",
       "      <td>NaN</td>\n",
       "      <td>NaN</td>\n",
       "      <td>1.850994</td>\n",
       "      <td>22.187824</td>\n",
       "      <td>11.46</td>\n",
       "      <td>139.0</td>\n",
       "      <td>Asia</td>\n",
       "      <td>Developing</td>\n",
       "    </tr>\n",
       "    <tr>\n",
       "      <th>3</th>\n",
       "      <td>Afghanistan</td>\n",
       "      <td>1993</td>\n",
       "      <td>0.312</td>\n",
       "      <td>NaN</td>\n",
       "      <td>109.929866</td>\n",
       "      <td>NaN</td>\n",
       "      <td>NaN</td>\n",
       "      <td>1.850994</td>\n",
       "      <td>24.226635</td>\n",
       "      <td>11.61</td>\n",
       "      <td>139.0</td>\n",
       "      <td>Asia</td>\n",
       "      <td>Developing</td>\n",
       "    </tr>\n",
       "    <tr>\n",
       "      <th>4</th>\n",
       "      <td>Afghanistan</td>\n",
       "      <td>1994</td>\n",
       "      <td>0.307</td>\n",
       "      <td>NaN</td>\n",
       "      <td>106.733450</td>\n",
       "      <td>NaN</td>\n",
       "      <td>NaN</td>\n",
       "      <td>1.850994</td>\n",
       "      <td>26.155268</td>\n",
       "      <td>11.65</td>\n",
       "      <td>139.0</td>\n",
       "      <td>Asia</td>\n",
       "      <td>Developing</td>\n",
       "    </tr>\n",
       "  </tbody>\n",
       "</table>\n",
       "</div>"
      ],
      "text/plain": [
       "       Country  Year    HDI  Inflation  Infant_Mortality  GDP  GNI  \\\n",
       "0  Afghanistan  1990  0.302        NaN        120.390072  NaN  NaN   \n",
       "1  Afghanistan  1991  0.307        NaN        116.779812  NaN  NaN   \n",
       "2  Afghanistan  1992  0.316        NaN        113.295508  NaN  NaN   \n",
       "3  Afghanistan  1993  0.312        NaN        109.929866  NaN  NaN   \n",
       "4  Afghanistan  1994  0.307        NaN        106.733450  NaN  NaN   \n",
       "\n",
       "   Forest_Area  Population  Unemployment  Country_ID Continent  \\\n",
       "0     1.850994   19.012209           NaN       139.0      Asia   \n",
       "1     1.850994   20.370395         11.38       139.0      Asia   \n",
       "2     1.850994   22.187824         11.46       139.0      Asia   \n",
       "3     1.850994   24.226635         11.61       139.0      Asia   \n",
       "4     1.850994   26.155268         11.65       139.0      Asia   \n",
       "\n",
       "  Development_Status  \n",
       "0         Developing  \n",
       "1         Developing  \n",
       "2         Developing  \n",
       "3         Developing  \n",
       "4         Developing  "
      ]
     },
     "execution_count": 20,
     "metadata": {},
     "output_type": "execute_result"
    }
   ],
   "source": [
    "df_final = pd.merge(temp_df, df_country, how = \"outer\", left_on = [\"Country\"], right_on = [\"Country\"])\n",
    "df_final.head()"
   ]
  },
  {
   "cell_type": "code",
   "execution_count": 21,
   "id": "54c8187c",
   "metadata": {},
   "outputs": [
    {
     "data": {
      "text/html": [
       "<div>\n",
       "<style scoped>\n",
       "    .dataframe tbody tr th:only-of-type {\n",
       "        vertical-align: middle;\n",
       "    }\n",
       "\n",
       "    .dataframe tbody tr th {\n",
       "        vertical-align: top;\n",
       "    }\n",
       "\n",
       "    .dataframe thead th {\n",
       "        text-align: right;\n",
       "    }\n",
       "</style>\n",
       "<table border=\"1\" class=\"dataframe\">\n",
       "  <thead>\n",
       "    <tr style=\"text-align: right;\">\n",
       "      <th></th>\n",
       "      <th>country</th>\n",
       "      <th>year</th>\n",
       "      <th>hdi</th>\n",
       "      <th>inflation</th>\n",
       "      <th>infant_mortality</th>\n",
       "      <th>gdp</th>\n",
       "      <th>gni</th>\n",
       "      <th>forest_area</th>\n",
       "      <th>population</th>\n",
       "      <th>unemployment</th>\n",
       "      <th>country_id</th>\n",
       "      <th>continent</th>\n",
       "      <th>development_status</th>\n",
       "    </tr>\n",
       "  </thead>\n",
       "  <tbody>\n",
       "    <tr>\n",
       "      <th>0</th>\n",
       "      <td>Afghanistan</td>\n",
       "      <td>1990</td>\n",
       "      <td>0.302</td>\n",
       "      <td>12.686269</td>\n",
       "      <td>120.390072</td>\n",
       "      <td>179.426579</td>\n",
       "      <td>450.0</td>\n",
       "      <td>1.850994</td>\n",
       "      <td>19.012209</td>\n",
       "      <td>11.38</td>\n",
       "      <td>139.0</td>\n",
       "      <td>Asia</td>\n",
       "      <td>Developing</td>\n",
       "    </tr>\n",
       "    <tr>\n",
       "      <th>1</th>\n",
       "      <td>Afghanistan</td>\n",
       "      <td>1991</td>\n",
       "      <td>0.307</td>\n",
       "      <td>12.686269</td>\n",
       "      <td>116.779812</td>\n",
       "      <td>179.426579</td>\n",
       "      <td>450.0</td>\n",
       "      <td>1.850994</td>\n",
       "      <td>20.370395</td>\n",
       "      <td>11.38</td>\n",
       "      <td>139.0</td>\n",
       "      <td>Asia</td>\n",
       "      <td>Developing</td>\n",
       "    </tr>\n",
       "    <tr>\n",
       "      <th>2</th>\n",
       "      <td>Afghanistan</td>\n",
       "      <td>1992</td>\n",
       "      <td>0.316</td>\n",
       "      <td>12.686269</td>\n",
       "      <td>113.295508</td>\n",
       "      <td>179.426579</td>\n",
       "      <td>450.0</td>\n",
       "      <td>1.850994</td>\n",
       "      <td>22.187824</td>\n",
       "      <td>11.46</td>\n",
       "      <td>139.0</td>\n",
       "      <td>Asia</td>\n",
       "      <td>Developing</td>\n",
       "    </tr>\n",
       "    <tr>\n",
       "      <th>3</th>\n",
       "      <td>Afghanistan</td>\n",
       "      <td>1993</td>\n",
       "      <td>0.312</td>\n",
       "      <td>12.686269</td>\n",
       "      <td>109.929866</td>\n",
       "      <td>179.426579</td>\n",
       "      <td>450.0</td>\n",
       "      <td>1.850994</td>\n",
       "      <td>24.226635</td>\n",
       "      <td>11.61</td>\n",
       "      <td>139.0</td>\n",
       "      <td>Asia</td>\n",
       "      <td>Developing</td>\n",
       "    </tr>\n",
       "    <tr>\n",
       "      <th>4</th>\n",
       "      <td>Afghanistan</td>\n",
       "      <td>1994</td>\n",
       "      <td>0.307</td>\n",
       "      <td>12.686269</td>\n",
       "      <td>106.733450</td>\n",
       "      <td>179.426579</td>\n",
       "      <td>450.0</td>\n",
       "      <td>1.850994</td>\n",
       "      <td>26.155268</td>\n",
       "      <td>11.65</td>\n",
       "      <td>139.0</td>\n",
       "      <td>Asia</td>\n",
       "      <td>Developing</td>\n",
       "    </tr>\n",
       "  </tbody>\n",
       "</table>\n",
       "</div>"
      ],
      "text/plain": [
       "       country  year    hdi  inflation  infant_mortality         gdp    gni  \\\n",
       "0  Afghanistan  1990  0.302  12.686269        120.390072  179.426579  450.0   \n",
       "1  Afghanistan  1991  0.307  12.686269        116.779812  179.426579  450.0   \n",
       "2  Afghanistan  1992  0.316  12.686269        113.295508  179.426579  450.0   \n",
       "3  Afghanistan  1993  0.312  12.686269        109.929866  179.426579  450.0   \n",
       "4  Afghanistan  1994  0.307  12.686269        106.733450  179.426579  450.0   \n",
       "\n",
       "   forest_area  population  unemployment  country_id continent  \\\n",
       "0     1.850994   19.012209         11.38       139.0      Asia   \n",
       "1     1.850994   20.370395         11.38       139.0      Asia   \n",
       "2     1.850994   22.187824         11.46       139.0      Asia   \n",
       "3     1.850994   24.226635         11.61       139.0      Asia   \n",
       "4     1.850994   26.155268         11.65       139.0      Asia   \n",
       "\n",
       "  development_status  \n",
       "0         Developing  \n",
       "1         Developing  \n",
       "2         Developing  \n",
       "3         Developing  \n",
       "4         Developing  "
      ]
     },
     "execution_count": 21,
     "metadata": {},
     "output_type": "execute_result"
    }
   ],
   "source": [
    "# Data imputation for missing values\n",
    "\n",
    "df_final = df_final.ffill().bfill()\n",
    "df_final.columns=[str(i).lower() for i in df_final.columns]\n",
    "\n",
    "df_final.head()"
   ]
  },
  {
   "cell_type": "code",
   "execution_count": 22,
   "id": "70ba3f4b",
   "metadata": {},
   "outputs": [],
   "source": [
    "# Convert all columns in df_country to lower case\n",
    "df_country.columns=[str(i).lower() for i in df_country.columns]\n",
    "\n",
    "# Convert all str columns in df_country to upper case and write to file\n",
    "df_country.apply(lambda x: x.astype(str).str.upper()).to_csv('data_countries.csv', index=False)\n",
    "\n",
    "# Convert all columns to lower case in df_final\n",
    "df_final.columns=[str(i).lower() for i in df_final.columns]"
   ]
  },
  {
   "cell_type": "code",
   "execution_count": 23,
   "id": "4c4d8044",
   "metadata": {},
   "outputs": [
    {
     "data": {
      "text/plain": [
       "country                object\n",
       "year                   object\n",
       "hdi                   float64\n",
       "inflation             float64\n",
       "infant_mortality      float64\n",
       "gdp                   float64\n",
       "gni                   float64\n",
       "forest_area           float64\n",
       "population            float64\n",
       "unemployment          float64\n",
       "country_id            float64\n",
       "continent              object\n",
       "development_status     object\n",
       "dtype: object"
      ]
     },
     "execution_count": 23,
     "metadata": {},
     "output_type": "execute_result"
    }
   ],
   "source": [
    "df_final[\"hdi\"] = df_final[\"hdi\"].astype(\"float\")\n",
    "df_final.dtypes"
   ]
  },
  {
   "cell_type": "markdown",
   "id": "5fb80b8a",
   "metadata": {},
   "source": [
    "### Calculate %age change in factors on a YoY basis"
   ]
  },
  {
   "cell_type": "code",
   "execution_count": 24,
   "id": "12ad2fc8",
   "metadata": {},
   "outputs": [],
   "source": [
    "exclude_list = ['inflation', 'forest_area', 'unemployment']\n",
    "\n",
    "for col in df_final.columns:\n",
    "    if (df_final.dtypes[col] == \"float64\") and (col not in exclude_list):\n",
    "        temp = ''\n",
    "        temp = col + \"_pct_change\"\n",
    "        df_final['shifted']=df_final.sort_values(by='year',ascending=True).groupby(['country'])[col].shift(1)\n",
    "        df_final[temp]=(df_final[col] - df_final['shifted']) / df_final[col]\n",
    "        df_final.drop('shifted',axis=1,inplace=True)\n",
    "df_final = df_final[['year', 'hdi_pct_change', 'inflation', 'infant_mortality_pct_change', 'gdp_pct_change', 'gni_pct_change', 'population_pct_change', 'unemployment', 'country_id', 'forest_area']]        \n",
    "\n",
    "# Inflation, Unemployment and forest area are already in %age. So no need to calculate %age YoY change\n",
    "\n",
    "df_final[\"forest_area\"] = df_final[\"forest_area\"] / 100\n",
    "df_final[\"inflation\"] = df_final[\"inflation\"] / 100\n",
    "df_final[\"unemployment\"] = df_final[\"unemployment\"] / 100\n",
    "\n",
    "# Rename percentage change columns\n",
    "df_final.rename(columns = {'hdi_pct_change' : 'hdi',\n",
    "                           'infant_mortality_pct_change' : 'infant_mortality',\n",
    "                           'gdp_pct_change' : 'gdp', \n",
    "                           'gni_pct_change' : 'gni', \n",
    "                           'forest_area' : 'forest', \n",
    "                           'population_pct_change' : 'population'}, inplace= True)\n",
    "\n",
    "# Add a column called \"info\" which will store actual / predicted value\n",
    "df_final['info'] = 'actual'\n",
    "\n",
    "df_final = df_final[[\"year\", \"hdi\", \"inflation\", \"infant_mortality\", \"gdp\",\"gni\", \n",
    "                     \"forest\", \"population\", \"unemployment\",\"country_id\", \"info\" ]]\n"
   ]
  },
  {
   "cell_type": "code",
   "execution_count": 25,
   "id": "75d5056d",
   "metadata": {},
   "outputs": [],
   "source": [
    "# filter out 1990 as it is the first year and has not percentage change associated with it\n",
    "\n",
    "df_final = df_final[df_final['year'] != \"1990\"]\n",
    "\n",
    "# df_final[df_final['country_id'] == 142].head()"
   ]
  },
  {
   "cell_type": "code",
   "execution_count": 26,
   "id": "c3be88e1",
   "metadata": {},
   "outputs": [],
   "source": [
    "# import matplotlib.pyplot as plt\n",
    "# import seaborn as sns\n",
    "\n",
    "# df_plot = df_final[[\"hdi\", \"gdp\", \"gni\", \"inflation\", \"infant_mortality\", \"unemployment\", \"population\"]]\n",
    "\n",
    "# fig = plt.figure(figsize = (12,8))\n",
    "# sns.boxplot(data=df_plot)\n",
    "# plt.show()"
   ]
  },
  {
   "cell_type": "code",
   "execution_count": 27,
   "id": "95cdd38f",
   "metadata": {},
   "outputs": [
    {
     "data": {
      "text/html": [
       "<div>\n",
       "<style scoped>\n",
       "    .dataframe tbody tr th:only-of-type {\n",
       "        vertical-align: middle;\n",
       "    }\n",
       "\n",
       "    .dataframe tbody tr th {\n",
       "        vertical-align: top;\n",
       "    }\n",
       "\n",
       "    .dataframe thead th {\n",
       "        text-align: right;\n",
       "    }\n",
       "</style>\n",
       "<table border=\"1\" class=\"dataframe\">\n",
       "  <thead>\n",
       "    <tr style=\"text-align: right;\">\n",
       "      <th></th>\n",
       "      <th>year</th>\n",
       "      <th>hdi</th>\n",
       "      <th>inflation</th>\n",
       "      <th>infant_mortality</th>\n",
       "      <th>gdp</th>\n",
       "      <th>gni</th>\n",
       "      <th>forest</th>\n",
       "      <th>population</th>\n",
       "      <th>unemployment</th>\n",
       "      <th>country_id</th>\n",
       "      <th>info</th>\n",
       "    </tr>\n",
       "  </thead>\n",
       "  <tbody>\n",
       "    <tr>\n",
       "      <th>1</th>\n",
       "      <td>1991</td>\n",
       "      <td>0.016287</td>\n",
       "      <td>0.126863</td>\n",
       "      <td>-0.030915</td>\n",
       "      <td>0.0</td>\n",
       "      <td>0.0</td>\n",
       "      <td>0.01851</td>\n",
       "      <td>0.066674</td>\n",
       "      <td>0.1138</td>\n",
       "      <td>139.0</td>\n",
       "      <td>actual</td>\n",
       "    </tr>\n",
       "    <tr>\n",
       "      <th>2</th>\n",
       "      <td>1992</td>\n",
       "      <td>0.028481</td>\n",
       "      <td>0.126863</td>\n",
       "      <td>-0.030754</td>\n",
       "      <td>0.0</td>\n",
       "      <td>0.0</td>\n",
       "      <td>0.01851</td>\n",
       "      <td>0.081911</td>\n",
       "      <td>0.1146</td>\n",
       "      <td>139.0</td>\n",
       "      <td>actual</td>\n",
       "    </tr>\n",
       "    <tr>\n",
       "      <th>3</th>\n",
       "      <td>1993</td>\n",
       "      <td>-0.012821</td>\n",
       "      <td>0.126863</td>\n",
       "      <td>-0.030616</td>\n",
       "      <td>0.0</td>\n",
       "      <td>0.0</td>\n",
       "      <td>0.01851</td>\n",
       "      <td>0.084156</td>\n",
       "      <td>0.1161</td>\n",
       "      <td>139.0</td>\n",
       "      <td>actual</td>\n",
       "    </tr>\n",
       "    <tr>\n",
       "      <th>4</th>\n",
       "      <td>1994</td>\n",
       "      <td>-0.016287</td>\n",
       "      <td>0.126863</td>\n",
       "      <td>-0.029948</td>\n",
       "      <td>0.0</td>\n",
       "      <td>0.0</td>\n",
       "      <td>0.01851</td>\n",
       "      <td>0.073738</td>\n",
       "      <td>0.1165</td>\n",
       "      <td>139.0</td>\n",
       "      <td>actual</td>\n",
       "    </tr>\n",
       "    <tr>\n",
       "      <th>5</th>\n",
       "      <td>1995</td>\n",
       "      <td>0.072508</td>\n",
       "      <td>0.126863</td>\n",
       "      <td>-0.029041</td>\n",
       "      <td>0.0</td>\n",
       "      <td>0.0</td>\n",
       "      <td>0.01851</td>\n",
       "      <td>0.057145</td>\n",
       "      <td>0.1165</td>\n",
       "      <td>139.0</td>\n",
       "      <td>actual</td>\n",
       "    </tr>\n",
       "  </tbody>\n",
       "</table>\n",
       "</div>"
      ],
      "text/plain": [
       "   year       hdi  inflation  infant_mortality  gdp  gni   forest  population  \\\n",
       "1  1991  0.016287   0.126863         -0.030915  0.0  0.0  0.01851    0.066674   \n",
       "2  1992  0.028481   0.126863         -0.030754  0.0  0.0  0.01851    0.081911   \n",
       "3  1993 -0.012821   0.126863         -0.030616  0.0  0.0  0.01851    0.084156   \n",
       "4  1994 -0.016287   0.126863         -0.029948  0.0  0.0  0.01851    0.073738   \n",
       "5  1995  0.072508   0.126863         -0.029041  0.0  0.0  0.01851    0.057145   \n",
       "\n",
       "   unemployment  country_id    info  \n",
       "1        0.1138       139.0  actual  \n",
       "2        0.1146       139.0  actual  \n",
       "3        0.1161       139.0  actual  \n",
       "4        0.1165       139.0  actual  \n",
       "5        0.1165       139.0  actual  "
      ]
     },
     "execution_count": 27,
     "metadata": {},
     "output_type": "execute_result"
    }
   ],
   "source": [
    "# filter for outliers - countries that have unusually high values for KPIs.\n",
    "\n",
    "df_final = df_final[(df_final[\"inflation\"] > -10) & (df_final[\"inflation\"] < 10) & \\\n",
    "        (df_final[\"gdp\"] > -100) & (df_final[\"gdp\"] < 100) & \\\n",
    "        (df_final[\"gni\"] > -100) & (df_final[\"gni\"] < 100) &\\\n",
    "        (df_final[\"population\"] > -100) & (df_final[\"population\"] < 100)]\n",
    "\n",
    "df_final.head()"
   ]
  },
  {
   "cell_type": "code",
   "execution_count": 28,
   "id": "06f2e3ea",
   "metadata": {},
   "outputs": [
    {
     "name": "stderr",
     "output_type": "stream",
     "text": [
      "<ipython-input-28-0a02c0a3047b>:16: UserWarning: Pandas doesn't allow columns to be created via a new attribute name - see https://pandas.pydata.org/pandas-docs/stable/indexing.html#attribute-access\n",
      "  train.Timestamp = pd.to_datetime(train.year,format='%Y')\n",
      "<ipython-input-28-0a02c0a3047b>:20: UserWarning: Pandas doesn't allow columns to be created via a new attribute name - see https://pandas.pydata.org/pandas-docs/stable/indexing.html#attribute-access\n",
      "  test.Timestamp = pd.to_datetime(test.year,format='%Y')\n"
     ]
    },
    {
     "data": {
      "image/png": "[encoded data removed]",
      "text/plain": [
       "<Figure size 1080x576 with 1 Axes>"
      ]
     },
     "metadata": {
      "needs_background": "light"
     },
     "output_type": "display_data"
    }
   ],
   "source": [
    "# Sample time series forecast for country_id = 116\n",
    "\n",
    "import matplotlib.pyplot as plt \n",
    "from statsmodels.tsa.api import ExponentialSmoothing, SimpleExpSmoothing, Holt\n",
    "\n",
    "x = df_final.copy()\n",
    "x = x[x[\"country_id\"] == 116]\n",
    "x = x[[\"year\", \"forest\"]]\n",
    "# len(x)\n",
    "\n",
    "train=x[1:22] \n",
    "test= x[21:]\n",
    "\n",
    "# train\n",
    "\n",
    "train.Timestamp = pd.to_datetime(train.year,format='%Y') \n",
    "train.index = train.Timestamp \n",
    "train = train.resample('Y').mean() \n",
    "\n",
    "test.Timestamp = pd.to_datetime(test.year,format='%Y') \n",
    "test.index = test.Timestamp\n",
    "test = test.resample('Y').mean()\n",
    "\n",
    "train.forest.plot(figsize=(15,8), title= 'Train', fontsize=14)\n",
    "test.forest.plot(figsize=(15,8), title= 'Test', fontsize=14)\n",
    "plt.show()"
   ]
  },
  {
   "cell_type": "code",
   "execution_count": 29,
   "id": "9a9caa2f",
   "metadata": {
    "scrolled": true
   },
   "outputs": [
    {
     "name": "stderr",
     "output_type": "stream",
     "text": [
      "C:\\Users\\u978275\\Anaconda3\\lib\\site-packages\\statsmodels\\tsa\\holtwinters\\model.py:427: FutureWarning: After 0.13 initialization must be handled at model creation\n",
      "  warnings.warn(\n"
     ]
    },
    {
     "data": {
      "image/png": "[encoded data removed]",
      "text/plain": [
       "<Figure size 1152x576 with 1 Axes>"
      ]
     },
     "metadata": {
      "needs_background": "light"
     },
     "output_type": "display_data"
    }
   ],
   "source": [
    "# Fitting the model for country_id = 116\n",
    "import numpy as np\n",
    "y_hat_avg = test.copy()\n",
    "fit1 = Holt(np.asarray(train['forest'])).fit(smoothing_level = 0.9)\n",
    "\n",
    "# y_hat_avg['SES'] = fit2.forecast(len(test))\n",
    "y_hat_avg['Holt_linear'] = fit1.forecast(len(test))\n",
    "\n",
    "# y_hat_avg\n",
    "plt.figure(figsize=(16,8))\n",
    "plt.plot(train['forest'], label='Train')\n",
    "plt.plot(test['forest'], label='Test')\n",
    "plt.plot(y_hat_avg['Holt_linear'], label='Holt_linear')\n",
    "plt.legend(loc='best')\n",
    "plt.show()"
   ]
  },
  {
   "cell_type": "code",
   "execution_count": 30,
   "id": "32d0185d",
   "metadata": {},
   "outputs": [
    {
     "name": "stdout",
     "output_type": "stream",
     "text": [
      "0.0011489358748726208\n"
     ]
    }
   ],
   "source": [
    "# Calculate accuracy of fit\n",
    "\n",
    "from sklearn.metrics import mean_squared_error\n",
    "from math import sqrt\n",
    "rms = sqrt(mean_squared_error(test.forest, y_hat_avg.Holt_linear))\n",
    "print(rms)"
   ]
  },
  {
   "cell_type": "code",
   "execution_count": 31,
   "id": "f34c6265",
   "metadata": {},
   "outputs": [
    {
     "data": {
      "text/html": [
       "<div>\n",
       "<style scoped>\n",
       "    .dataframe tbody tr th:only-of-type {\n",
       "        vertical-align: middle;\n",
       "    }\n",
       "\n",
       "    .dataframe tbody tr th {\n",
       "        vertical-align: top;\n",
       "    }\n",
       "\n",
       "    .dataframe thead th {\n",
       "        text-align: right;\n",
       "    }\n",
       "</style>\n",
       "<table border=\"1\" class=\"dataframe\">\n",
       "  <thead>\n",
       "    <tr style=\"text-align: right;\">\n",
       "      <th></th>\n",
       "      <th>years</th>\n",
       "      <th>forecast</th>\n",
       "    </tr>\n",
       "  </thead>\n",
       "  <tbody>\n",
       "    <tr>\n",
       "      <th>0</th>\n",
       "      <td>2021</td>\n",
       "      <td>0.338398</td>\n",
       "    </tr>\n",
       "    <tr>\n",
       "      <th>1</th>\n",
       "      <td>2022</td>\n",
       "      <td>0.338692</td>\n",
       "    </tr>\n",
       "    <tr>\n",
       "      <th>2</th>\n",
       "      <td>2023</td>\n",
       "      <td>0.338987</td>\n",
       "    </tr>\n",
       "    <tr>\n",
       "      <th>3</th>\n",
       "      <td>2024</td>\n",
       "      <td>0.339281</td>\n",
       "    </tr>\n",
       "    <tr>\n",
       "      <th>4</th>\n",
       "      <td>2025</td>\n",
       "      <td>0.339575</td>\n",
       "    </tr>\n",
       "  </tbody>\n",
       "</table>\n",
       "</div>"
      ],
      "text/plain": [
       "   years  forecast\n",
       "0   2021  0.338398\n",
       "1   2022  0.338692\n",
       "2   2023  0.338987\n",
       "3   2024  0.339281\n",
       "4   2025  0.339575"
      ]
     },
     "execution_count": 31,
     "metadata": {},
     "output_type": "execute_result"
    }
   ],
   "source": [
    "# Predict for year 2021 to 2025\n",
    "data = {'years': [2021,2022,2023,2024,2025], 'forecast': [0,0,0,0,0]}\n",
    "predict = pd.DataFrame(data=data)\n",
    "predict['forecast'] = fit1.forecast(len(predict))\n",
    "predict"
   ]
  },
  {
   "cell_type": "markdown",
   "id": "511e8e38",
   "metadata": {},
   "source": [
    "### Forest cover Prediction for next 5 years for all countries based on Holt Winter model"
   ]
  },
  {
   "cell_type": "code",
   "execution_count": 32,
   "id": "66023abf",
   "metadata": {},
   "outputs": [
    {
     "name": "stdout",
     "output_type": "stream",
     "text": [
      "139.0\n",
      "193.0\n",
      "0.0\n"
     ]
    },
    {
     "name": "stderr",
     "output_type": "stream",
     "text": [
      "<ipython-input-32-4a453f1d398e>:18: UserWarning: Pandas doesn't allow columns to be created via a new attribute name - see https://pandas.pydata.org/pandas-docs/stable/indexing.html#attribute-access\n",
      "  train.Timestamp = pd.to_datetime(train.year,format='%Y')\n",
      "<ipython-input-32-4a453f1d398e>:22: UserWarning: Pandas doesn't allow columns to be created via a new attribute name - see https://pandas.pydata.org/pandas-docs/stable/indexing.html#attribute-access\n",
      "  test.Timestamp = pd.to_datetime(test.year,format='%Y')\n",
      "C:\\Users\\u978275\\Anaconda3\\lib\\site-packages\\statsmodels\\tsa\\holtwinters\\model.py:427: FutureWarning: After 0.13 initialization must be handled at model creation\n",
      "  warnings.warn(\n",
      "<ipython-input-32-4a453f1d398e>:29: FutureWarning: the 'smoothing_slope'' keyword is deprecated, use 'smoothing_trend' instead\n",
      "  fit1 = Holt(np.asarray(train['forest'])).fit(smoothing_level = 0.8,smoothing_slope = 0.8)\n",
      "C:\\Users\\u978275\\Anaconda3\\lib\\site-packages\\statsmodels\\tsa\\holtwinters\\model.py:1439: RuntimeWarning: divide by zero encountered in log\n",
      "  aic = self.nobs * np.log(sse / self.nobs) + k * 2\n",
      "C:\\Users\\u978275\\Anaconda3\\lib\\site-packages\\statsmodels\\tsa\\holtwinters\\model.py:1445: RuntimeWarning: divide by zero encountered in log\n",
      "  bic = self.nobs * np.log(sse / self.nobs) + k * np.log(self.nobs)\n",
      "<ipython-input-32-4a453f1d398e>:18: UserWarning: Pandas doesn't allow columns to be created via a new attribute name - see https://pandas.pydata.org/pandas-docs/stable/indexing.html#attribute-access\n",
      "  train.Timestamp = pd.to_datetime(train.year,format='%Y')\n",
      "<ipython-input-32-4a453f1d398e>:22: UserWarning: Pandas doesn't allow columns to be created via a new attribute name - see https://pandas.pydata.org/pandas-docs/stable/indexing.html#attribute-access\n",
      "  test.Timestamp = pd.to_datetime(test.year,format='%Y')\n",
      "C:\\Users\\u978275\\Anaconda3\\lib\\site-packages\\statsmodels\\tsa\\holtwinters\\model.py:427: FutureWarning: After 0.13 initialization must be handled at model creation\n",
      "  warnings.warn(\n",
      "<ipython-input-32-4a453f1d398e>:29: FutureWarning: the 'smoothing_slope'' keyword is deprecated, use 'smoothing_trend' instead\n",
      "  fit1 = Holt(np.asarray(train['forest'])).fit(smoothing_level = 0.8,smoothing_slope = 0.8)\n",
      "<ipython-input-32-4a453f1d398e>:18: UserWarning: Pandas doesn't allow columns to be created via a new attribute name - see https://pandas.pydata.org/pandas-docs/stable/indexing.html#attribute-access\n",
      "  train.Timestamp = pd.to_datetime(train.year,format='%Y')\n",
      "<ipython-input-32-4a453f1d398e>:22: UserWarning: Pandas doesn't allow columns to be created via a new attribute name - see https://pandas.pydata.org/pandas-docs/stable/indexing.html#attribute-access\n",
      "  test.Timestamp = pd.to_datetime(test.year,format='%Y')\n",
      "C:\\Users\\u978275\\Anaconda3\\lib\\site-packages\\statsmodels\\tsa\\holtwinters\\model.py:427: FutureWarning: After 0.13 initialization must be handled at model creation\n",
      "  warnings.warn(\n",
      "<ipython-input-32-4a453f1d398e>:29: FutureWarning: the 'smoothing_slope'' keyword is deprecated, use 'smoothing_trend' instead\n",
      "  fit1 = Holt(np.asarray(train['forest'])).fit(smoothing_level = 0.8,smoothing_slope = 0.8)\n"
     ]
    },
    {
     "name": "stdout",
     "output_type": "stream",
     "text": [
      "96.0\n",
      "148.0\n"
     ]
    },
    {
     "name": "stderr",
     "output_type": "stream",
     "text": [
      "<ipython-input-32-4a453f1d398e>:18: UserWarning: Pandas doesn't allow columns to be created via a new attribute name - see https://pandas.pydata.org/pandas-docs/stable/indexing.html#attribute-access\n",
      "  train.Timestamp = pd.to_datetime(train.year,format='%Y')\n",
      "<ipython-input-32-4a453f1d398e>:22: UserWarning: Pandas doesn't allow columns to be created via a new attribute name - see https://pandas.pydata.org/pandas-docs/stable/indexing.html#attribute-access\n",
      "  test.Timestamp = pd.to_datetime(test.year,format='%Y')\n",
      "C:\\Users\\u978275\\Anaconda3\\lib\\site-packages\\statsmodels\\tsa\\holtwinters\\model.py:427: FutureWarning: After 0.13 initialization must be handled at model creation\n",
      "  warnings.warn(\n",
      "<ipython-input-32-4a453f1d398e>:29: FutureWarning: the 'smoothing_slope'' keyword is deprecated, use 'smoothing_trend' instead\n",
      "  fit1 = Holt(np.asarray(train['forest'])).fit(smoothing_level = 0.8,smoothing_slope = 0.8)\n",
      "<ipython-input-32-4a453f1d398e>:18: UserWarning: Pandas doesn't allow columns to be created via a new attribute name - see https://pandas.pydata.org/pandas-docs/stable/indexing.html#attribute-access\n",
      "  train.Timestamp = pd.to_datetime(train.year,format='%Y')\n",
      "<ipython-input-32-4a453f1d398e>:22: UserWarning: Pandas doesn't allow columns to be created via a new attribute name - see https://pandas.pydata.org/pandas-docs/stable/indexing.html#attribute-access\n",
      "  test.Timestamp = pd.to_datetime(test.year,format='%Y')\n",
      "C:\\Users\\u978275\\Anaconda3\\lib\\site-packages\\statsmodels\\tsa\\holtwinters\\model.py:427: FutureWarning: After 0.13 initialization must be handled at model creation\n",
      "  warnings.warn(\n",
      "<ipython-input-32-4a453f1d398e>:29: FutureWarning: the 'smoothing_slope'' keyword is deprecated, use 'smoothing_trend' instead\n",
      "  fit1 = Holt(np.asarray(train['forest'])).fit(smoothing_level = 0.8,smoothing_slope = 0.8)\n",
      "C:\\Users\\u978275\\Anaconda3\\lib\\site-packages\\statsmodels\\tsa\\holtwinters\\model.py:920: ConvergenceWarning: Optimization failed to converge. Check mle_retvals.\n",
      "  warnings.warn(\n",
      "<ipython-input-32-4a453f1d398e>:18: UserWarning: Pandas doesn't allow columns to be created via a new attribute name - see https://pandas.pydata.org/pandas-docs/stable/indexing.html#attribute-access\n",
      "  train.Timestamp = pd.to_datetime(train.year,format='%Y')\n",
      "<ipython-input-32-4a453f1d398e>:22: UserWarning: Pandas doesn't allow columns to be created via a new attribute name - see https://pandas.pydata.org/pandas-docs/stable/indexing.html#attribute-access\n",
      "  test.Timestamp = pd.to_datetime(test.year,format='%Y')\n",
      "C:\\Users\\u978275\\Anaconda3\\lib\\site-packages\\statsmodels\\tsa\\holtwinters\\model.py:427: FutureWarning: After 0.13 initialization must be handled at model creation\n",
      "  warnings.warn(\n",
      "<ipython-input-32-4a453f1d398e>:29: FutureWarning: the 'smoothing_slope'' keyword is deprecated, use 'smoothing_trend' instead\n",
      "  fit1 = Holt(np.asarray(train['forest'])).fit(smoothing_level = 0.8,smoothing_slope = 0.8)\n",
      "<ipython-input-32-4a453f1d398e>:18: UserWarning: Pandas doesn't allow columns to be created via a new attribute name - see https://pandas.pydata.org/pandas-docs/stable/indexing.html#attribute-access\n",
      "  train.Timestamp = pd.to_datetime(train.year,format='%Y')\n",
      "<ipython-input-32-4a453f1d398e>:22: UserWarning: Pandas doesn't allow columns to be created via a new attribute name - see https://pandas.pydata.org/pandas-docs/stable/indexing.html#attribute-access\n",
      "  test.Timestamp = pd.to_datetime(test.year,format='%Y')\n",
      "C:\\Users\\u978275\\Anaconda3\\lib\\site-packages\\statsmodels\\tsa\\holtwinters\\model.py:427: FutureWarning: After 0.13 initialization must be handled at model creation\n",
      "  warnings.warn(\n",
      "<ipython-input-32-4a453f1d398e>:29: FutureWarning: the 'smoothing_slope'' keyword is deprecated, use 'smoothing_trend' instead\n",
      "  fit1 = Holt(np.asarray(train['forest'])).fit(smoothing_level = 0.8,smoothing_slope = 0.8)\n"
     ]
    },
    {
     "name": "stdout",
     "output_type": "stream",
     "text": [
      "218.0\n",
      "209.0\n",
      "150.0\n"
     ]
    },
    {
     "name": "stderr",
     "output_type": "stream",
     "text": [
      "<ipython-input-32-4a453f1d398e>:18: UserWarning: Pandas doesn't allow columns to be created via a new attribute name - see https://pandas.pydata.org/pandas-docs/stable/indexing.html#attribute-access\n",
      "  train.Timestamp = pd.to_datetime(train.year,format='%Y')\n",
      "<ipython-input-32-4a453f1d398e>:22: UserWarning: Pandas doesn't allow columns to be created via a new attribute name - see https://pandas.pydata.org/pandas-docs/stable/indexing.html#attribute-access\n",
      "  test.Timestamp = pd.to_datetime(test.year,format='%Y')\n",
      "C:\\Users\\u978275\\Anaconda3\\lib\\site-packages\\statsmodels\\tsa\\holtwinters\\model.py:427: FutureWarning: After 0.13 initialization must be handled at model creation\n",
      "  warnings.warn(\n",
      "<ipython-input-32-4a453f1d398e>:29: FutureWarning: the 'smoothing_slope'' keyword is deprecated, use 'smoothing_trend' instead\n",
      "  fit1 = Holt(np.asarray(train['forest'])).fit(smoothing_level = 0.8,smoothing_slope = 0.8)\n",
      "<ipython-input-32-4a453f1d398e>:18: UserWarning: Pandas doesn't allow columns to be created via a new attribute name - see https://pandas.pydata.org/pandas-docs/stable/indexing.html#attribute-access\n",
      "  train.Timestamp = pd.to_datetime(train.year,format='%Y')\n",
      "<ipython-input-32-4a453f1d398e>:22: UserWarning: Pandas doesn't allow columns to be created via a new attribute name - see https://pandas.pydata.org/pandas-docs/stable/indexing.html#attribute-access\n",
      "  test.Timestamp = pd.to_datetime(test.year,format='%Y')\n",
      "C:\\Users\\u978275\\Anaconda3\\lib\\site-packages\\statsmodels\\tsa\\holtwinters\\model.py:427: FutureWarning: After 0.13 initialization must be handled at model creation\n",
      "  warnings.warn(\n",
      "<ipython-input-32-4a453f1d398e>:29: FutureWarning: the 'smoothing_slope'' keyword is deprecated, use 'smoothing_trend' instead\n",
      "  fit1 = Holt(np.asarray(train['forest'])).fit(smoothing_level = 0.8,smoothing_slope = 0.8)\n",
      "<ipython-input-32-4a453f1d398e>:18: UserWarning: Pandas doesn't allow columns to be created via a new attribute name - see https://pandas.pydata.org/pandas-docs/stable/indexing.html#attribute-access\n",
      "  train.Timestamp = pd.to_datetime(train.year,format='%Y')\n"
     ]
    },
    {
     "name": "stdout",
     "output_type": "stream",
     "text": [
      "140.0\n",
      "64.0\n",
      "210.0\n"
     ]
    },
    {
     "name": "stderr",
     "output_type": "stream",
     "text": [
      "<ipython-input-32-4a453f1d398e>:22: UserWarning: Pandas doesn't allow columns to be created via a new attribute name - see https://pandas.pydata.org/pandas-docs/stable/indexing.html#attribute-access\n",
      "  test.Timestamp = pd.to_datetime(test.year,format='%Y')\n",
      "C:\\Users\\u978275\\Anaconda3\\lib\\site-packages\\statsmodels\\tsa\\holtwinters\\model.py:427: FutureWarning: After 0.13 initialization must be handled at model creation\n",
      "  warnings.warn(\n",
      "<ipython-input-32-4a453f1d398e>:29: FutureWarning: the 'smoothing_slope'' keyword is deprecated, use 'smoothing_trend' instead\n",
      "  fit1 = Holt(np.asarray(train['forest'])).fit(smoothing_level = 0.8,smoothing_slope = 0.8)\n",
      "C:\\Users\\u978275\\Anaconda3\\lib\\site-packages\\statsmodels\\tsa\\holtwinters\\model.py:1439: RuntimeWarning: divide by zero encountered in log\n",
      "  aic = self.nobs * np.log(sse / self.nobs) + k * 2\n",
      "C:\\Users\\u978275\\Anaconda3\\lib\\site-packages\\statsmodels\\tsa\\holtwinters\\model.py:1445: RuntimeWarning: divide by zero encountered in log\n",
      "  bic = self.nobs * np.log(sse / self.nobs) + k * np.log(self.nobs)\n",
      "<ipython-input-32-4a453f1d398e>:18: UserWarning: Pandas doesn't allow columns to be created via a new attribute name - see https://pandas.pydata.org/pandas-docs/stable/indexing.html#attribute-access\n",
      "  train.Timestamp = pd.to_datetime(train.year,format='%Y')\n",
      "<ipython-input-32-4a453f1d398e>:22: UserWarning: Pandas doesn't allow columns to be created via a new attribute name - see https://pandas.pydata.org/pandas-docs/stable/indexing.html#attribute-access\n",
      "  test.Timestamp = pd.to_datetime(test.year,format='%Y')\n",
      "C:\\Users\\u978275\\Anaconda3\\lib\\site-packages\\statsmodels\\tsa\\holtwinters\\model.py:427: FutureWarning: After 0.13 initialization must be handled at model creation\n",
      "  warnings.warn(\n",
      "<ipython-input-32-4a453f1d398e>:29: FutureWarning: the 'smoothing_slope'' keyword is deprecated, use 'smoothing_trend' instead\n",
      "  fit1 = Holt(np.asarray(train['forest'])).fit(smoothing_level = 0.8,smoothing_slope = 0.8)\n",
      "<ipython-input-32-4a453f1d398e>:18: UserWarning: Pandas doesn't allow columns to be created via a new attribute name - see https://pandas.pydata.org/pandas-docs/stable/indexing.html#attribute-access\n",
      "  train.Timestamp = pd.to_datetime(train.year,format='%Y')\n"
     ]
    },
    {
     "name": "stdout",
     "output_type": "stream",
     "text": [
      "88.0\n",
      "43.0\n",
      "38.0\n"
     ]
    },
    {
     "name": "stderr",
     "output_type": "stream",
     "text": [
      "<ipython-input-32-4a453f1d398e>:22: UserWarning: Pandas doesn't allow columns to be created via a new attribute name - see https://pandas.pydata.org/pandas-docs/stable/indexing.html#attribute-access\n",
      "  test.Timestamp = pd.to_datetime(test.year,format='%Y')\n",
      "C:\\Users\\u978275\\Anaconda3\\lib\\site-packages\\statsmodels\\tsa\\holtwinters\\model.py:427: FutureWarning: After 0.13 initialization must be handled at model creation\n",
      "  warnings.warn(\n",
      "<ipython-input-32-4a453f1d398e>:29: FutureWarning: the 'smoothing_slope'' keyword is deprecated, use 'smoothing_trend' instead\n",
      "  fit1 = Holt(np.asarray(train['forest'])).fit(smoothing_level = 0.8,smoothing_slope = 0.8)\n",
      "<ipython-input-32-4a453f1d398e>:18: UserWarning: Pandas doesn't allow columns to be created via a new attribute name - see https://pandas.pydata.org/pandas-docs/stable/indexing.html#attribute-access\n",
      "  train.Timestamp = pd.to_datetime(train.year,format='%Y')\n",
      "<ipython-input-32-4a453f1d398e>:22: UserWarning: Pandas doesn't allow columns to be created via a new attribute name - see https://pandas.pydata.org/pandas-docs/stable/indexing.html#attribute-access\n",
      "  test.Timestamp = pd.to_datetime(test.year,format='%Y')\n",
      "C:\\Users\\u978275\\Anaconda3\\lib\\site-packages\\statsmodels\\tsa\\holtwinters\\model.py:427: FutureWarning: After 0.13 initialization must be handled at model creation\n",
      "  warnings.warn(\n",
      "<ipython-input-32-4a453f1d398e>:29: FutureWarning: the 'smoothing_slope'' keyword is deprecated, use 'smoothing_trend' instead\n",
      "  fit1 = Holt(np.asarray(train['forest'])).fit(smoothing_level = 0.8,smoothing_slope = 0.8)\n",
      "<ipython-input-32-4a453f1d398e>:18: UserWarning: Pandas doesn't allow columns to be created via a new attribute name - see https://pandas.pydata.org/pandas-docs/stable/indexing.html#attribute-access\n",
      "  train.Timestamp = pd.to_datetime(train.year,format='%Y')\n",
      "<ipython-input-32-4a453f1d398e>:22: UserWarning: Pandas doesn't allow columns to be created via a new attribute name - see https://pandas.pydata.org/pandas-docs/stable/indexing.html#attribute-access\n",
      "  test.Timestamp = pd.to_datetime(test.year,format='%Y')\n",
      "C:\\Users\\u978275\\Anaconda3\\lib\\site-packages\\statsmodels\\tsa\\holtwinters\\model.py:427: FutureWarning: After 0.13 initialization must be handled at model creation\n",
      "  warnings.warn(\n",
      "<ipython-input-32-4a453f1d398e>:29: FutureWarning: the 'smoothing_slope'' keyword is deprecated, use 'smoothing_trend' instead\n",
      "  fit1 = Holt(np.asarray(train['forest'])).fit(smoothing_level = 0.8,smoothing_slope = 0.8)\n"
     ]
    },
    {
     "name": "stdout",
     "output_type": "stream",
     "text": [
      "99.0\n",
      "128.0\n"
     ]
    },
    {
     "name": "stderr",
     "output_type": "stream",
     "text": [
      "<ipython-input-32-4a453f1d398e>:18: UserWarning: Pandas doesn't allow columns to be created via a new attribute name - see https://pandas.pydata.org/pandas-docs/stable/indexing.html#attribute-access\n",
      "  train.Timestamp = pd.to_datetime(train.year,format='%Y')\n",
      "<ipython-input-32-4a453f1d398e>:22: UserWarning: Pandas doesn't allow columns to be created via a new attribute name - see https://pandas.pydata.org/pandas-docs/stable/indexing.html#attribute-access\n",
      "  test.Timestamp = pd.to_datetime(test.year,format='%Y')\n",
      "C:\\Users\\u978275\\Anaconda3\\lib\\site-packages\\statsmodels\\tsa\\holtwinters\\model.py:427: FutureWarning: After 0.13 initialization must be handled at model creation\n",
      "  warnings.warn(\n",
      "<ipython-input-32-4a453f1d398e>:29: FutureWarning: the 'smoothing_slope'' keyword is deprecated, use 'smoothing_trend' instead\n",
      "  fit1 = Holt(np.asarray(train['forest'])).fit(smoothing_level = 0.8,smoothing_slope = 0.8)\n",
      "C:\\Users\\u978275\\Anaconda3\\lib\\site-packages\\statsmodels\\tsa\\holtwinters\\model.py:920: ConvergenceWarning: Optimization failed to converge. Check mle_retvals.\n",
      "  warnings.warn(\n",
      "<ipython-input-32-4a453f1d398e>:18: UserWarning: Pandas doesn't allow columns to be created via a new attribute name - see https://pandas.pydata.org/pandas-docs/stable/indexing.html#attribute-access\n",
      "  train.Timestamp = pd.to_datetime(train.year,format='%Y')\n",
      "<ipython-input-32-4a453f1d398e>:22: UserWarning: Pandas doesn't allow columns to be created via a new attribute name - see https://pandas.pydata.org/pandas-docs/stable/indexing.html#attribute-access\n",
      "  test.Timestamp = pd.to_datetime(test.year,format='%Y')\n",
      "C:\\Users\\u978275\\Anaconda3\\lib\\site-packages\\statsmodels\\tsa\\holtwinters\\model.py:427: FutureWarning: After 0.13 initialization must be handled at model creation\n",
      "  warnings.warn(\n",
      "<ipython-input-32-4a453f1d398e>:29: FutureWarning: the 'smoothing_slope'' keyword is deprecated, use 'smoothing_trend' instead\n",
      "  fit1 = Holt(np.asarray(train['forest'])).fit(smoothing_level = 0.8,smoothing_slope = 0.8)\n"
     ]
    },
    {
     "name": "stdout",
     "output_type": "stream",
     "text": [
      "167.0\n",
      "8.0\n"
     ]
    },
    {
     "name": "stderr",
     "output_type": "stream",
     "text": [
      "<ipython-input-32-4a453f1d398e>:18: UserWarning: Pandas doesn't allow columns to be created via a new attribute name - see https://pandas.pydata.org/pandas-docs/stable/indexing.html#attribute-access\n",
      "  train.Timestamp = pd.to_datetime(train.year,format='%Y')\n",
      "<ipython-input-32-4a453f1d398e>:22: UserWarning: Pandas doesn't allow columns to be created via a new attribute name - see https://pandas.pydata.org/pandas-docs/stable/indexing.html#attribute-access\n",
      "  test.Timestamp = pd.to_datetime(test.year,format='%Y')\n",
      "C:\\Users\\u978275\\Anaconda3\\lib\\site-packages\\statsmodels\\tsa\\holtwinters\\model.py:427: FutureWarning: After 0.13 initialization must be handled at model creation\n",
      "  warnings.warn(\n",
      "<ipython-input-32-4a453f1d398e>:29: FutureWarning: the 'smoothing_slope'' keyword is deprecated, use 'smoothing_trend' instead\n",
      "  fit1 = Holt(np.asarray(train['forest'])).fit(smoothing_level = 0.8,smoothing_slope = 0.8)\n",
      "C:\\Users\\u978275\\Anaconda3\\lib\\site-packages\\statsmodels\\tsa\\holtwinters\\model.py:920: ConvergenceWarning: Optimization failed to converge. Check mle_retvals.\n",
      "  warnings.warn(\n",
      "<ipython-input-32-4a453f1d398e>:18: UserWarning: Pandas doesn't allow columns to be created via a new attribute name - see https://pandas.pydata.org/pandas-docs/stable/indexing.html#attribute-access\n",
      "  train.Timestamp = pd.to_datetime(train.year,format='%Y')\n",
      "<ipython-input-32-4a453f1d398e>:22: UserWarning: Pandas doesn't allow columns to be created via a new attribute name - see https://pandas.pydata.org/pandas-docs/stable/indexing.html#attribute-access\n",
      "  test.Timestamp = pd.to_datetime(test.year,format='%Y')\n"
     ]
    },
    {
     "name": "stdout",
     "output_type": "stream",
     "text": [
      "129.0\n",
      "30.0\n",
      "113.0\n"
     ]
    },
    {
     "name": "stderr",
     "output_type": "stream",
     "text": [
      "C:\\Users\\u978275\\Anaconda3\\lib\\site-packages\\statsmodels\\tsa\\holtwinters\\model.py:427: FutureWarning: After 0.13 initialization must be handled at model creation\n",
      "  warnings.warn(\n",
      "<ipython-input-32-4a453f1d398e>:29: FutureWarning: the 'smoothing_slope'' keyword is deprecated, use 'smoothing_trend' instead\n",
      "  fit1 = Holt(np.asarray(train['forest'])).fit(smoothing_level = 0.8,smoothing_slope = 0.8)\n",
      "<ipython-input-32-4a453f1d398e>:18: UserWarning: Pandas doesn't allow columns to be created via a new attribute name - see https://pandas.pydata.org/pandas-docs/stable/indexing.html#attribute-access\n",
      "  train.Timestamp = pd.to_datetime(train.year,format='%Y')\n",
      "<ipython-input-32-4a453f1d398e>:22: UserWarning: Pandas doesn't allow columns to be created via a new attribute name - see https://pandas.pydata.org/pandas-docs/stable/indexing.html#attribute-access\n",
      "  test.Timestamp = pd.to_datetime(test.year,format='%Y')\n",
      "C:\\Users\\u978275\\Anaconda3\\lib\\site-packages\\statsmodels\\tsa\\holtwinters\\model.py:427: FutureWarning: After 0.13 initialization must be handled at model creation\n",
      "  warnings.warn(\n",
      "<ipython-input-32-4a453f1d398e>:29: FutureWarning: the 'smoothing_slope'' keyword is deprecated, use 'smoothing_trend' instead\n",
      "  fit1 = Holt(np.asarray(train['forest'])).fit(smoothing_level = 0.8,smoothing_slope = 0.8)\n",
      "<ipython-input-32-4a453f1d398e>:18: UserWarning: Pandas doesn't allow columns to be created via a new attribute name - see https://pandas.pydata.org/pandas-docs/stable/indexing.html#attribute-access\n",
      "  train.Timestamp = pd.to_datetime(train.year,format='%Y')\n",
      "<ipython-input-32-4a453f1d398e>:22: UserWarning: Pandas doesn't allow columns to be created via a new attribute name - see https://pandas.pydata.org/pandas-docs/stable/indexing.html#attribute-access\n",
      "  test.Timestamp = pd.to_datetime(test.year,format='%Y')\n",
      "C:\\Users\\u978275\\Anaconda3\\lib\\site-packages\\statsmodels\\tsa\\holtwinters\\model.py:427: FutureWarning: After 0.13 initialization must be handled at model creation\n",
      "  warnings.warn(\n",
      "<ipython-input-32-4a453f1d398e>:29: FutureWarning: the 'smoothing_slope'' keyword is deprecated, use 'smoothing_trend' instead\n",
      "  fit1 = Holt(np.asarray(train['forest'])).fit(smoothing_level = 0.8,smoothing_slope = 0.8)\n",
      "<ipython-input-32-4a453f1d398e>:18: UserWarning: Pandas doesn't allow columns to be created via a new attribute name - see https://pandas.pydata.org/pandas-docs/stable/indexing.html#attribute-access\n",
      "  train.Timestamp = pd.to_datetime(train.year,format='%Y')\n",
      "<ipython-input-32-4a453f1d398e>:22: UserWarning: Pandas doesn't allow columns to be created via a new attribute name - see https://pandas.pydata.org/pandas-docs/stable/indexing.html#attribute-access\n",
      "  test.Timestamp = pd.to_datetime(test.year,format='%Y')\n",
      "C:\\Users\\u978275\\Anaconda3\\lib\\site-packages\\statsmodels\\tsa\\holtwinters\\model.py:427: FutureWarning: After 0.13 initialization must be handled at model creation\n",
      "  warnings.warn(\n",
      "<ipython-input-32-4a453f1d398e>:29: FutureWarning: the 'smoothing_slope'' keyword is deprecated, use 'smoothing_trend' instead\n",
      "  fit1 = Holt(np.asarray(train['forest'])).fit(smoothing_level = 0.8,smoothing_slope = 0.8)\n"
     ]
    },
    {
     "name": "stdout",
     "output_type": "stream",
     "text": [
      "31.0\n",
      "100.0\n",
      "122.0\n"
     ]
    },
    {
     "name": "stderr",
     "output_type": "stream",
     "text": [
      "<ipython-input-32-4a453f1d398e>:18: UserWarning: Pandas doesn't allow columns to be created via a new attribute name - see https://pandas.pydata.org/pandas-docs/stable/indexing.html#attribute-access\n",
      "  train.Timestamp = pd.to_datetime(train.year,format='%Y')\n",
      "<ipython-input-32-4a453f1d398e>:22: UserWarning: Pandas doesn't allow columns to be created via a new attribute name - see https://pandas.pydata.org/pandas-docs/stable/indexing.html#attribute-access\n",
      "  test.Timestamp = pd.to_datetime(test.year,format='%Y')\n",
      "C:\\Users\\u978275\\Anaconda3\\lib\\site-packages\\statsmodels\\tsa\\holtwinters\\model.py:427: FutureWarning: After 0.13 initialization must be handled at model creation\n",
      "  warnings.warn(\n",
      "<ipython-input-32-4a453f1d398e>:29: FutureWarning: the 'smoothing_slope'' keyword is deprecated, use 'smoothing_trend' instead\n",
      "  fit1 = Holt(np.asarray(train['forest'])).fit(smoothing_level = 0.8,smoothing_slope = 0.8)\n",
      "<ipython-input-32-4a453f1d398e>:18: UserWarning: Pandas doesn't allow columns to be created via a new attribute name - see https://pandas.pydata.org/pandas-docs/stable/indexing.html#attribute-access\n",
      "  train.Timestamp = pd.to_datetime(train.year,format='%Y')\n",
      "<ipython-input-32-4a453f1d398e>:22: UserWarning: Pandas doesn't allow columns to be created via a new attribute name - see https://pandas.pydata.org/pandas-docs/stable/indexing.html#attribute-access\n",
      "  test.Timestamp = pd.to_datetime(test.year,format='%Y')\n",
      "C:\\Users\\u978275\\Anaconda3\\lib\\site-packages\\statsmodels\\tsa\\holtwinters\\model.py:427: FutureWarning: After 0.13 initialization must be handled at model creation\n",
      "  warnings.warn(\n",
      "<ipython-input-32-4a453f1d398e>:29: FutureWarning: the 'smoothing_slope'' keyword is deprecated, use 'smoothing_trend' instead\n",
      "  fit1 = Holt(np.asarray(train['forest'])).fit(smoothing_level = 0.8,smoothing_slope = 0.8)\n",
      "<ipython-input-32-4a453f1d398e>:18: UserWarning: Pandas doesn't allow columns to be created via a new attribute name - see https://pandas.pydata.org/pandas-docs/stable/indexing.html#attribute-access\n",
      "  train.Timestamp = pd.to_datetime(train.year,format='%Y')\n",
      "<ipython-input-32-4a453f1d398e>:22: UserWarning: Pandas doesn't allow columns to be created via a new attribute name - see https://pandas.pydata.org/pandas-docs/stable/indexing.html#attribute-access\n",
      "  test.Timestamp = pd.to_datetime(test.year,format='%Y')\n",
      "C:\\Users\\u978275\\Anaconda3\\lib\\site-packages\\statsmodels\\tsa\\holtwinters\\model.py:427: FutureWarning: After 0.13 initialization must be handled at model creation\n",
      "  warnings.warn(\n",
      "<ipython-input-32-4a453f1d398e>:29: FutureWarning: the 'smoothing_slope'' keyword is deprecated, use 'smoothing_trend' instead\n",
      "  fit1 = Holt(np.asarray(train['forest'])).fit(smoothing_level = 0.8,smoothing_slope = 0.8)\n"
     ]
    },
    {
     "name": "stdout",
     "output_type": "stream",
     "text": [
      "101.0\n",
      "33.0\n"
     ]
    },
    {
     "name": "stderr",
     "output_type": "stream",
     "text": [
      "<ipython-input-32-4a453f1d398e>:18: UserWarning: Pandas doesn't allow columns to be created via a new attribute name - see https://pandas.pydata.org/pandas-docs/stable/indexing.html#attribute-access\n",
      "  train.Timestamp = pd.to_datetime(train.year,format='%Y')\n",
      "<ipython-input-32-4a453f1d398e>:22: UserWarning: Pandas doesn't allow columns to be created via a new attribute name - see https://pandas.pydata.org/pandas-docs/stable/indexing.html#attribute-access\n",
      "  test.Timestamp = pd.to_datetime(test.year,format='%Y')\n",
      "C:\\Users\\u978275\\Anaconda3\\lib\\site-packages\\statsmodels\\tsa\\holtwinters\\model.py:427: FutureWarning: After 0.13 initialization must be handled at model creation\n",
      "  warnings.warn(\n",
      "<ipython-input-32-4a453f1d398e>:29: FutureWarning: the 'smoothing_slope'' keyword is deprecated, use 'smoothing_trend' instead\n",
      "  fit1 = Holt(np.asarray(train['forest'])).fit(smoothing_level = 0.8,smoothing_slope = 0.8)\n",
      "<ipython-input-32-4a453f1d398e>:18: UserWarning: Pandas doesn't allow columns to be created via a new attribute name - see https://pandas.pydata.org/pandas-docs/stable/indexing.html#attribute-access\n",
      "  train.Timestamp = pd.to_datetime(train.year,format='%Y')\n",
      "<ipython-input-32-4a453f1d398e>:22: UserWarning: Pandas doesn't allow columns to be created via a new attribute name - see https://pandas.pydata.org/pandas-docs/stable/indexing.html#attribute-access\n",
      "  test.Timestamp = pd.to_datetime(test.year,format='%Y')\n",
      "C:\\Users\\u978275\\Anaconda3\\lib\\site-packages\\statsmodels\\tsa\\holtwinters\\model.py:427: FutureWarning: After 0.13 initialization must be handled at model creation\n",
      "  warnings.warn(\n",
      "<ipython-input-32-4a453f1d398e>:29: FutureWarning: the 'smoothing_slope'' keyword is deprecated, use 'smoothing_trend' instead\n",
      "  fit1 = Holt(np.asarray(train['forest'])).fit(smoothing_level = 0.8,smoothing_slope = 0.8)\n",
      "C:\\Users\\u978275\\Anaconda3\\lib\\site-packages\\statsmodels\\tsa\\holtwinters\\model.py:1439: RuntimeWarning: divide by zero encountered in log\n",
      "  aic = self.nobs * np.log(sse / self.nobs) + k * 2\n",
      "C:\\Users\\u978275\\Anaconda3\\lib\\site-packages\\statsmodels\\tsa\\holtwinters\\model.py:1445: RuntimeWarning: divide by zero encountered in log\n",
      "  bic = self.nobs * np.log(sse / self.nobs) + k * np.log(self.nobs)\n",
      "<ipython-input-32-4a453f1d398e>:18: UserWarning: Pandas doesn't allow columns to be created via a new attribute name - see https://pandas.pydata.org/pandas-docs/stable/indexing.html#attribute-access\n",
      "  train.Timestamp = pd.to_datetime(train.year,format='%Y')\n",
      "<ipython-input-32-4a453f1d398e>:22: UserWarning: Pandas doesn't allow columns to be created via a new attribute name - see https://pandas.pydata.org/pandas-docs/stable/indexing.html#attribute-access\n",
      "  test.Timestamp = pd.to_datetime(test.year,format='%Y')\n",
      "C:\\Users\\u978275\\Anaconda3\\lib\\site-packages\\statsmodels\\tsa\\holtwinters\\model.py:427: FutureWarning: After 0.13 initialization must be handled at model creation\n",
      "  warnings.warn(\n",
      "<ipython-input-32-4a453f1d398e>:29: FutureWarning: the 'smoothing_slope'' keyword is deprecated, use 'smoothing_trend' instead\n",
      "  fit1 = Holt(np.asarray(train['forest'])).fit(smoothing_level = 0.8,smoothing_slope = 0.8)\n",
      "<ipython-input-32-4a453f1d398e>:18: UserWarning: Pandas doesn't allow columns to be created via a new attribute name - see https://pandas.pydata.org/pandas-docs/stable/indexing.html#attribute-access\n",
      "  train.Timestamp = pd.to_datetime(train.year,format='%Y')\n",
      "<ipython-input-32-4a453f1d398e>:22: UserWarning: Pandas doesn't allow columns to be created via a new attribute name - see https://pandas.pydata.org/pandas-docs/stable/indexing.html#attribute-access\n",
      "  test.Timestamp = pd.to_datetime(test.year,format='%Y')\n",
      "C:\\Users\\u978275\\Anaconda3\\lib\\site-packages\\statsmodels\\tsa\\holtwinters\\model.py:427: FutureWarning: After 0.13 initialization must be handled at model creation\n",
      "  warnings.warn(\n",
      "<ipython-input-32-4a453f1d398e>:29: FutureWarning: the 'smoothing_slope'' keyword is deprecated, use 'smoothing_trend' instead\n",
      "  fit1 = Holt(np.asarray(train['forest'])).fit(smoothing_level = 0.8,smoothing_slope = 0.8)\n",
      "C:\\Users\\u978275\\Anaconda3\\lib\\site-packages\\statsmodels\\tsa\\holtwinters\\model.py:920: ConvergenceWarning: Optimization failed to converge. Check mle_retvals.\n",
      "  warnings.warn(\n"
     ]
    },
    {
     "name": "stdout",
     "output_type": "stream",
     "text": [
      "89.0\n",
      "196.0\n",
      "68.0\n",
      "151.0\n",
      "168.0\n"
     ]
    },
    {
     "name": "stderr",
     "output_type": "stream",
     "text": [
      "<ipython-input-32-4a453f1d398e>:18: UserWarning: Pandas doesn't allow columns to be created via a new attribute name - see https://pandas.pydata.org/pandas-docs/stable/indexing.html#attribute-access\n",
      "  train.Timestamp = pd.to_datetime(train.year,format='%Y')\n",
      "<ipython-input-32-4a453f1d398e>:22: UserWarning: Pandas doesn't allow columns to be created via a new attribute name - see https://pandas.pydata.org/pandas-docs/stable/indexing.html#attribute-access\n",
      "  test.Timestamp = pd.to_datetime(test.year,format='%Y')\n",
      "C:\\Users\\u978275\\Anaconda3\\lib\\site-packages\\statsmodels\\tsa\\holtwinters\\model.py:427: FutureWarning: After 0.13 initialization must be handled at model creation\n",
      "  warnings.warn(\n",
      "<ipython-input-32-4a453f1d398e>:29: FutureWarning: the 'smoothing_slope'' keyword is deprecated, use 'smoothing_trend' instead\n",
      "  fit1 = Holt(np.asarray(train['forest'])).fit(smoothing_level = 0.8,smoothing_slope = 0.8)\n",
      "<ipython-input-32-4a453f1d398e>:18: UserWarning: Pandas doesn't allow columns to be created via a new attribute name - see https://pandas.pydata.org/pandas-docs/stable/indexing.html#attribute-access\n",
      "  train.Timestamp = pd.to_datetime(train.year,format='%Y')\n",
      "<ipython-input-32-4a453f1d398e>:22: UserWarning: Pandas doesn't allow columns to be created via a new attribute name - see https://pandas.pydata.org/pandas-docs/stable/indexing.html#attribute-access\n",
      "  test.Timestamp = pd.to_datetime(test.year,format='%Y')\n",
      "C:\\Users\\u978275\\Anaconda3\\lib\\site-packages\\statsmodels\\tsa\\holtwinters\\model.py:427: FutureWarning: After 0.13 initialization must be handled at model creation\n",
      "  warnings.warn(\n",
      "<ipython-input-32-4a453f1d398e>:29: FutureWarning: the 'smoothing_slope'' keyword is deprecated, use 'smoothing_trend' instead\n",
      "  fit1 = Holt(np.asarray(train['forest'])).fit(smoothing_level = 0.8,smoothing_slope = 0.8)\n",
      "<ipython-input-32-4a453f1d398e>:18: UserWarning: Pandas doesn't allow columns to be created via a new attribute name - see https://pandas.pydata.org/pandas-docs/stable/indexing.html#attribute-access\n",
      "  train.Timestamp = pd.to_datetime(train.year,format='%Y')\n",
      "<ipython-input-32-4a453f1d398e>:22: UserWarning: Pandas doesn't allow columns to be created via a new attribute name - see https://pandas.pydata.org/pandas-docs/stable/indexing.html#attribute-access\n",
      "  test.Timestamp = pd.to_datetime(test.year,format='%Y')\n",
      "C:\\Users\\u978275\\Anaconda3\\lib\\site-packages\\statsmodels\\tsa\\holtwinters\\model.py:427: FutureWarning: After 0.13 initialization must be handled at model creation\n",
      "  warnings.warn(\n",
      "<ipython-input-32-4a453f1d398e>:29: FutureWarning: the 'smoothing_slope'' keyword is deprecated, use 'smoothing_trend' instead\n",
      "  fit1 = Holt(np.asarray(train['forest'])).fit(smoothing_level = 0.8,smoothing_slope = 0.8)\n",
      "C:\\Users\\u978275\\Anaconda3\\lib\\site-packages\\statsmodels\\tsa\\holtwinters\\model.py:1439: RuntimeWarning: divide by zero encountered in log\n",
      "  aic = self.nobs * np.log(sse / self.nobs) + k * 2\n",
      "C:\\Users\\u978275\\Anaconda3\\lib\\site-packages\\statsmodels\\tsa\\holtwinters\\model.py:1445: RuntimeWarning: divide by zero encountered in log\n",
      "  bic = self.nobs * np.log(sse / self.nobs) + k * np.log(self.nobs)\n"
     ]
    },
    {
     "name": "stdout",
     "output_type": "stream",
     "text": [
      "180.0\n",
      "71.0\n",
      "102.0\n"
     ]
    },
    {
     "name": "stderr",
     "output_type": "stream",
     "text": [
      "<ipython-input-32-4a453f1d398e>:18: UserWarning: Pandas doesn't allow columns to be created via a new attribute name - see https://pandas.pydata.org/pandas-docs/stable/indexing.html#attribute-access\n",
      "  train.Timestamp = pd.to_datetime(train.year,format='%Y')\n",
      "<ipython-input-32-4a453f1d398e>:22: UserWarning: Pandas doesn't allow columns to be created via a new attribute name - see https://pandas.pydata.org/pandas-docs/stable/indexing.html#attribute-access\n",
      "  test.Timestamp = pd.to_datetime(test.year,format='%Y')\n",
      "C:\\Users\\u978275\\Anaconda3\\lib\\site-packages\\statsmodels\\tsa\\holtwinters\\model.py:427: FutureWarning: After 0.13 initialization must be handled at model creation\n",
      "  warnings.warn(\n",
      "<ipython-input-32-4a453f1d398e>:29: FutureWarning: the 'smoothing_slope'' keyword is deprecated, use 'smoothing_trend' instead\n",
      "  fit1 = Holt(np.asarray(train['forest'])).fit(smoothing_level = 0.8,smoothing_slope = 0.8)\n",
      "<ipython-input-32-4a453f1d398e>:18: UserWarning: Pandas doesn't allow columns to be created via a new attribute name - see https://pandas.pydata.org/pandas-docs/stable/indexing.html#attribute-access\n",
      "  train.Timestamp = pd.to_datetime(train.year,format='%Y')\n",
      "<ipython-input-32-4a453f1d398e>:22: UserWarning: Pandas doesn't allow columns to be created via a new attribute name - see https://pandas.pydata.org/pandas-docs/stable/indexing.html#attribute-access\n",
      "  test.Timestamp = pd.to_datetime(test.year,format='%Y')\n",
      "C:\\Users\\u978275\\Anaconda3\\lib\\site-packages\\statsmodels\\tsa\\holtwinters\\model.py:427: FutureWarning: After 0.13 initialization must be handled at model creation\n",
      "  warnings.warn(\n",
      "<ipython-input-32-4a453f1d398e>:29: FutureWarning: the 'smoothing_slope'' keyword is deprecated, use 'smoothing_trend' instead\n",
      "  fit1 = Holt(np.asarray(train['forest'])).fit(smoothing_level = 0.8,smoothing_slope = 0.8)\n",
      "<ipython-input-32-4a453f1d398e>:18: UserWarning: Pandas doesn't allow columns to be created via a new attribute name - see https://pandas.pydata.org/pandas-docs/stable/indexing.html#attribute-access\n",
      "  train.Timestamp = pd.to_datetime(train.year,format='%Y')\n",
      "<ipython-input-32-4a453f1d398e>:22: UserWarning: Pandas doesn't allow columns to be created via a new attribute name - see https://pandas.pydata.org/pandas-docs/stable/indexing.html#attribute-access\n",
      "  test.Timestamp = pd.to_datetime(test.year,format='%Y')\n",
      "C:\\Users\\u978275\\Anaconda3\\lib\\site-packages\\statsmodels\\tsa\\holtwinters\\model.py:427: FutureWarning: After 0.13 initialization must be handled at model creation\n",
      "  warnings.warn(\n",
      "<ipython-input-32-4a453f1d398e>:29: FutureWarning: the 'smoothing_slope'' keyword is deprecated, use 'smoothing_trend' instead\n",
      "  fit1 = Holt(np.asarray(train['forest'])).fit(smoothing_level = 0.8,smoothing_slope = 0.8)\n"
     ]
    },
    {
     "name": "stdout",
     "output_type": "stream",
     "text": [
      "1.0\n",
      "90.0\n",
      "181.0\n"
     ]
    },
    {
     "name": "stderr",
     "output_type": "stream",
     "text": [
      "<ipython-input-32-4a453f1d398e>:18: UserWarning: Pandas doesn't allow columns to be created via a new attribute name - see https://pandas.pydata.org/pandas-docs/stable/indexing.html#attribute-access\n",
      "  train.Timestamp = pd.to_datetime(train.year,format='%Y')\n",
      "<ipython-input-32-4a453f1d398e>:22: UserWarning: Pandas doesn't allow columns to be created via a new attribute name - see https://pandas.pydata.org/pandas-docs/stable/indexing.html#attribute-access\n",
      "  test.Timestamp = pd.to_datetime(test.year,format='%Y')\n",
      "C:\\Users\\u978275\\Anaconda3\\lib\\site-packages\\statsmodels\\tsa\\holtwinters\\model.py:427: FutureWarning: After 0.13 initialization must be handled at model creation\n",
      "  warnings.warn(\n",
      "<ipython-input-32-4a453f1d398e>:29: FutureWarning: the 'smoothing_slope'' keyword is deprecated, use 'smoothing_trend' instead\n",
      "  fit1 = Holt(np.asarray(train['forest'])).fit(smoothing_level = 0.8,smoothing_slope = 0.8)\n",
      "<ipython-input-32-4a453f1d398e>:18: UserWarning: Pandas doesn't allow columns to be created via a new attribute name - see https://pandas.pydata.org/pandas-docs/stable/indexing.html#attribute-access\n",
      "  train.Timestamp = pd.to_datetime(train.year,format='%Y')\n",
      "<ipython-input-32-4a453f1d398e>:22: UserWarning: Pandas doesn't allow columns to be created via a new attribute name - see https://pandas.pydata.org/pandas-docs/stable/indexing.html#attribute-access\n",
      "  test.Timestamp = pd.to_datetime(test.year,format='%Y')\n",
      "C:\\Users\\u978275\\Anaconda3\\lib\\site-packages\\statsmodels\\tsa\\holtwinters\\model.py:427: FutureWarning: After 0.13 initialization must be handled at model creation\n",
      "  warnings.warn(\n",
      "<ipython-input-32-4a453f1d398e>:29: FutureWarning: the 'smoothing_slope'' keyword is deprecated, use 'smoothing_trend' instead\n",
      "  fit1 = Holt(np.asarray(train['forest'])).fit(smoothing_level = 0.8,smoothing_slope = 0.8)\n",
      "<ipython-input-32-4a453f1d398e>:18: UserWarning: Pandas doesn't allow columns to be created via a new attribute name - see https://pandas.pydata.org/pandas-docs/stable/indexing.html#attribute-access\n",
      "  train.Timestamp = pd.to_datetime(train.year,format='%Y')\n",
      "<ipython-input-32-4a453f1d398e>:22: UserWarning: Pandas doesn't allow columns to be created via a new attribute name - see https://pandas.pydata.org/pandas-docs/stable/indexing.html#attribute-access\n",
      "  test.Timestamp = pd.to_datetime(test.year,format='%Y')\n",
      "C:\\Users\\u978275\\Anaconda3\\lib\\site-packages\\statsmodels\\tsa\\holtwinters\\model.py:427: FutureWarning: After 0.13 initialization must be handled at model creation\n",
      "  warnings.warn(\n",
      "<ipython-input-32-4a453f1d398e>:29: FutureWarning: the 'smoothing_slope'' keyword is deprecated, use 'smoothing_trend' instead\n",
      "  fit1 = Holt(np.asarray(train['forest'])).fit(smoothing_level = 0.8,smoothing_slope = 0.8)\n"
     ]
    },
    {
     "name": "stdout",
     "output_type": "stream",
     "text": [
      "39.0\n",
      "224.0\n",
      "183.0\n"
     ]
    },
    {
     "name": "stderr",
     "output_type": "stream",
     "text": [
      "<ipython-input-32-4a453f1d398e>:18: UserWarning: Pandas doesn't allow columns to be created via a new attribute name - see https://pandas.pydata.org/pandas-docs/stable/indexing.html#attribute-access\n",
      "  train.Timestamp = pd.to_datetime(train.year,format='%Y')\n",
      "<ipython-input-32-4a453f1d398e>:22: UserWarning: Pandas doesn't allow columns to be created via a new attribute name - see https://pandas.pydata.org/pandas-docs/stable/indexing.html#attribute-access\n",
      "  test.Timestamp = pd.to_datetime(test.year,format='%Y')\n",
      "C:\\Users\\u978275\\Anaconda3\\lib\\site-packages\\statsmodels\\tsa\\holtwinters\\model.py:427: FutureWarning: After 0.13 initialization must be handled at model creation\n",
      "  warnings.warn(\n",
      "<ipython-input-32-4a453f1d398e>:29: FutureWarning: the 'smoothing_slope'' keyword is deprecated, use 'smoothing_trend' instead\n",
      "  fit1 = Holt(np.asarray(train['forest'])).fit(smoothing_level = 0.8,smoothing_slope = 0.8)\n",
      "<ipython-input-32-4a453f1d398e>:18: UserWarning: Pandas doesn't allow columns to be created via a new attribute name - see https://pandas.pydata.org/pandas-docs/stable/indexing.html#attribute-access\n",
      "  train.Timestamp = pd.to_datetime(train.year,format='%Y')\n",
      "<ipython-input-32-4a453f1d398e>:22: UserWarning: Pandas doesn't allow columns to be created via a new attribute name - see https://pandas.pydata.org/pandas-docs/stable/indexing.html#attribute-access\n",
      "  test.Timestamp = pd.to_datetime(test.year,format='%Y')\n",
      "C:\\Users\\u978275\\Anaconda3\\lib\\site-packages\\statsmodels\\tsa\\holtwinters\\model.py:427: FutureWarning: After 0.13 initialization must be handled at model creation\n",
      "  warnings.warn(\n",
      "<ipython-input-32-4a453f1d398e>:29: FutureWarning: the 'smoothing_slope'' keyword is deprecated, use 'smoothing_trend' instead\n",
      "  fit1 = Holt(np.asarray(train['forest'])).fit(smoothing_level = 0.8,smoothing_slope = 0.8)\n",
      "<ipython-input-32-4a453f1d398e>:18: UserWarning: Pandas doesn't allow columns to be created via a new attribute name - see https://pandas.pydata.org/pandas-docs/stable/indexing.html#attribute-access\n",
      "  train.Timestamp = pd.to_datetime(train.year,format='%Y')\n",
      "<ipython-input-32-4a453f1d398e>:22: UserWarning: Pandas doesn't allow columns to be created via a new attribute name - see https://pandas.pydata.org/pandas-docs/stable/indexing.html#attribute-access\n",
      "  test.Timestamp = pd.to_datetime(test.year,format='%Y')\n",
      "C:\\Users\\u978275\\Anaconda3\\lib\\site-packages\\statsmodels\\tsa\\holtwinters\\model.py:427: FutureWarning: After 0.13 initialization must be handled at model creation\n",
      "  warnings.warn(\n",
      "<ipython-input-32-4a453f1d398e>:29: FutureWarning: the 'smoothing_slope'' keyword is deprecated, use 'smoothing_trend' instead\n",
      "  fit1 = Holt(np.asarray(train['forest'])).fit(smoothing_level = 0.8,smoothing_slope = 0.8)\n"
     ]
    },
    {
     "name": "stdout",
     "output_type": "stream",
     "text": [
      "211.0\n",
      "36.0\n",
      "47.0\n"
     ]
    },
    {
     "name": "stderr",
     "output_type": "stream",
     "text": [
      "<ipython-input-32-4a453f1d398e>:18: UserWarning: Pandas doesn't allow columns to be created via a new attribute name - see https://pandas.pydata.org/pandas-docs/stable/indexing.html#attribute-access\n",
      "  train.Timestamp = pd.to_datetime(train.year,format='%Y')\n",
      "<ipython-input-32-4a453f1d398e>:22: UserWarning: Pandas doesn't allow columns to be created via a new attribute name - see https://pandas.pydata.org/pandas-docs/stable/indexing.html#attribute-access\n",
      "  test.Timestamp = pd.to_datetime(test.year,format='%Y')\n",
      "C:\\Users\\u978275\\Anaconda3\\lib\\site-packages\\statsmodels\\tsa\\holtwinters\\model.py:427: FutureWarning: After 0.13 initialization must be handled at model creation\n",
      "  warnings.warn(\n",
      "<ipython-input-32-4a453f1d398e>:29: FutureWarning: the 'smoothing_slope'' keyword is deprecated, use 'smoothing_trend' instead\n",
      "  fit1 = Holt(np.asarray(train['forest'])).fit(smoothing_level = 0.8,smoothing_slope = 0.8)\n",
      "<ipython-input-32-4a453f1d398e>:18: UserWarning: Pandas doesn't allow columns to be created via a new attribute name - see https://pandas.pydata.org/pandas-docs/stable/indexing.html#attribute-access\n",
      "  train.Timestamp = pd.to_datetime(train.year,format='%Y')\n",
      "<ipython-input-32-4a453f1d398e>:22: UserWarning: Pandas doesn't allow columns to be created via a new attribute name - see https://pandas.pydata.org/pandas-docs/stable/indexing.html#attribute-access\n",
      "  test.Timestamp = pd.to_datetime(test.year,format='%Y')\n",
      "C:\\Users\\u978275\\Anaconda3\\lib\\site-packages\\statsmodels\\tsa\\holtwinters\\model.py:427: FutureWarning: After 0.13 initialization must be handled at model creation\n",
      "  warnings.warn(\n",
      "<ipython-input-32-4a453f1d398e>:29: FutureWarning: the 'smoothing_slope'' keyword is deprecated, use 'smoothing_trend' instead\n",
      "  fit1 = Holt(np.asarray(train['forest'])).fit(smoothing_level = 0.8,smoothing_slope = 0.8)\n",
      "<ipython-input-32-4a453f1d398e>:18: UserWarning: Pandas doesn't allow columns to be created via a new attribute name - see https://pandas.pydata.org/pandas-docs/stable/indexing.html#attribute-access\n",
      "  train.Timestamp = pd.to_datetime(train.year,format='%Y')\n",
      "<ipython-input-32-4a453f1d398e>:22: UserWarning: Pandas doesn't allow columns to be created via a new attribute name - see https://pandas.pydata.org/pandas-docs/stable/indexing.html#attribute-access\n",
      "  test.Timestamp = pd.to_datetime(test.year,format='%Y')\n",
      "C:\\Users\\u978275\\Anaconda3\\lib\\site-packages\\statsmodels\\tsa\\holtwinters\\model.py:427: FutureWarning: After 0.13 initialization must be handled at model creation\n",
      "  warnings.warn(\n",
      "<ipython-input-32-4a453f1d398e>:29: FutureWarning: the 'smoothing_slope'' keyword is deprecated, use 'smoothing_trend' instead\n",
      "  fit1 = Holt(np.asarray(train['forest'])).fit(smoothing_level = 0.8,smoothing_slope = 0.8)\n"
     ]
    },
    {
     "name": "stdout",
     "output_type": "stream",
     "text": [
      "212.0\n",
      "48.0\n",
      "198.0\n"
     ]
    },
    {
     "name": "stderr",
     "output_type": "stream",
     "text": [
      "<ipython-input-32-4a453f1d398e>:18: UserWarning: Pandas doesn't allow columns to be created via a new attribute name - see https://pandas.pydata.org/pandas-docs/stable/indexing.html#attribute-access\n",
      "  train.Timestamp = pd.to_datetime(train.year,format='%Y')\n",
      "<ipython-input-32-4a453f1d398e>:22: UserWarning: Pandas doesn't allow columns to be created via a new attribute name - see https://pandas.pydata.org/pandas-docs/stable/indexing.html#attribute-access\n",
      "  test.Timestamp = pd.to_datetime(test.year,format='%Y')\n",
      "C:\\Users\\u978275\\Anaconda3\\lib\\site-packages\\statsmodels\\tsa\\holtwinters\\model.py:427: FutureWarning: After 0.13 initialization must be handled at model creation\n",
      "  warnings.warn(\n",
      "<ipython-input-32-4a453f1d398e>:29: FutureWarning: the 'smoothing_slope'' keyword is deprecated, use 'smoothing_trend' instead\n",
      "  fit1 = Holt(np.asarray(train['forest'])).fit(smoothing_level = 0.8,smoothing_slope = 0.8)\n",
      "<ipython-input-32-4a453f1d398e>:18: UserWarning: Pandas doesn't allow columns to be created via a new attribute name - see https://pandas.pydata.org/pandas-docs/stable/indexing.html#attribute-access\n",
      "  train.Timestamp = pd.to_datetime(train.year,format='%Y')\n",
      "<ipython-input-32-4a453f1d398e>:22: UserWarning: Pandas doesn't allow columns to be created via a new attribute name - see https://pandas.pydata.org/pandas-docs/stable/indexing.html#attribute-access\n",
      "  test.Timestamp = pd.to_datetime(test.year,format='%Y')\n",
      "C:\\Users\\u978275\\Anaconda3\\lib\\site-packages\\statsmodels\\tsa\\holtwinters\\model.py:427: FutureWarning: After 0.13 initialization must be handled at model creation\n",
      "  warnings.warn(\n",
      "<ipython-input-32-4a453f1d398e>:29: FutureWarning: the 'smoothing_slope'' keyword is deprecated, use 'smoothing_trend' instead\n",
      "  fit1 = Holt(np.asarray(train['forest'])).fit(smoothing_level = 0.8,smoothing_slope = 0.8)\n",
      "<ipython-input-32-4a453f1d398e>:18: UserWarning: Pandas doesn't allow columns to be created via a new attribute name - see https://pandas.pydata.org/pandas-docs/stable/indexing.html#attribute-access\n",
      "  train.Timestamp = pd.to_datetime(train.year,format='%Y')\n",
      "<ipython-input-32-4a453f1d398e>:22: UserWarning: Pandas doesn't allow columns to be created via a new attribute name - see https://pandas.pydata.org/pandas-docs/stable/indexing.html#attribute-access\n",
      "  test.Timestamp = pd.to_datetime(test.year,format='%Y')\n",
      "C:\\Users\\u978275\\Anaconda3\\lib\\site-packages\\statsmodels\\tsa\\holtwinters\\model.py:427: FutureWarning: After 0.13 initialization must be handled at model creation\n",
      "  warnings.warn(\n",
      "<ipython-input-32-4a453f1d398e>:29: FutureWarning: the 'smoothing_slope'' keyword is deprecated, use 'smoothing_trend' instead\n",
      "  fit1 = Holt(np.asarray(train['forest'])).fit(smoothing_level = 0.8,smoothing_slope = 0.8)\n"
     ]
    },
    {
     "name": "stdout",
     "output_type": "stream",
     "text": [
      "91.0\n",
      "49.0\n",
      "105.0\n"
     ]
    },
    {
     "name": "stderr",
     "output_type": "stream",
     "text": [
      "<ipython-input-32-4a453f1d398e>:18: UserWarning: Pandas doesn't allow columns to be created via a new attribute name - see https://pandas.pydata.org/pandas-docs/stable/indexing.html#attribute-access\n",
      "  train.Timestamp = pd.to_datetime(train.year,format='%Y')\n",
      "<ipython-input-32-4a453f1d398e>:22: UserWarning: Pandas doesn't allow columns to be created via a new attribute name - see https://pandas.pydata.org/pandas-docs/stable/indexing.html#attribute-access\n",
      "  test.Timestamp = pd.to_datetime(test.year,format='%Y')\n",
      "C:\\Users\\u978275\\Anaconda3\\lib\\site-packages\\statsmodels\\tsa\\holtwinters\\model.py:427: FutureWarning: After 0.13 initialization must be handled at model creation\n",
      "  warnings.warn(\n",
      "<ipython-input-32-4a453f1d398e>:29: FutureWarning: the 'smoothing_slope'' keyword is deprecated, use 'smoothing_trend' instead\n",
      "  fit1 = Holt(np.asarray(train['forest'])).fit(smoothing_level = 0.8,smoothing_slope = 0.8)\n",
      "<ipython-input-32-4a453f1d398e>:18: UserWarning: Pandas doesn't allow columns to be created via a new attribute name - see https://pandas.pydata.org/pandas-docs/stable/indexing.html#attribute-access\n",
      "  train.Timestamp = pd.to_datetime(train.year,format='%Y')\n",
      "<ipython-input-32-4a453f1d398e>:22: UserWarning: Pandas doesn't allow columns to be created via a new attribute name - see https://pandas.pydata.org/pandas-docs/stable/indexing.html#attribute-access\n",
      "  test.Timestamp = pd.to_datetime(test.year,format='%Y')\n",
      "C:\\Users\\u978275\\Anaconda3\\lib\\site-packages\\statsmodels\\tsa\\holtwinters\\model.py:427: FutureWarning: After 0.13 initialization must be handled at model creation\n",
      "  warnings.warn(\n",
      "<ipython-input-32-4a453f1d398e>:29: FutureWarning: the 'smoothing_slope'' keyword is deprecated, use 'smoothing_trend' instead\n",
      "  fit1 = Holt(np.asarray(train['forest'])).fit(smoothing_level = 0.8,smoothing_slope = 0.8)\n",
      "<ipython-input-32-4a453f1d398e>:18: UserWarning: Pandas doesn't allow columns to be created via a new attribute name - see https://pandas.pydata.org/pandas-docs/stable/indexing.html#attribute-access\n",
      "  train.Timestamp = pd.to_datetime(train.year,format='%Y')\n",
      "<ipython-input-32-4a453f1d398e>:22: UserWarning: Pandas doesn't allow columns to be created via a new attribute name - see https://pandas.pydata.org/pandas-docs/stable/indexing.html#attribute-access\n",
      "  test.Timestamp = pd.to_datetime(test.year,format='%Y')\n",
      "C:\\Users\\u978275\\Anaconda3\\lib\\site-packages\\statsmodels\\tsa\\holtwinters\\model.py:427: FutureWarning: After 0.13 initialization must be handled at model creation\n",
      "  warnings.warn(\n",
      "<ipython-input-32-4a453f1d398e>:29: FutureWarning: the 'smoothing_slope'' keyword is deprecated, use 'smoothing_trend' instead\n",
      "  fit1 = Holt(np.asarray(train['forest'])).fit(smoothing_level = 0.8,smoothing_slope = 0.8)\n"
     ]
    },
    {
     "name": "stdout",
     "output_type": "stream",
     "text": [
      "74.0\n",
      "92.0\n",
      "169.0\n"
     ]
    },
    {
     "name": "stderr",
     "output_type": "stream",
     "text": [
      "<ipython-input-32-4a453f1d398e>:18: UserWarning: Pandas doesn't allow columns to be created via a new attribute name - see https://pandas.pydata.org/pandas-docs/stable/indexing.html#attribute-access\n",
      "  train.Timestamp = pd.to_datetime(train.year,format='%Y')\n",
      "<ipython-input-32-4a453f1d398e>:22: UserWarning: Pandas doesn't allow columns to be created via a new attribute name - see https://pandas.pydata.org/pandas-docs/stable/indexing.html#attribute-access\n",
      "  test.Timestamp = pd.to_datetime(test.year,format='%Y')\n",
      "C:\\Users\\u978275\\Anaconda3\\lib\\site-packages\\statsmodels\\tsa\\holtwinters\\model.py:427: FutureWarning: After 0.13 initialization must be handled at model creation\n",
      "  warnings.warn(\n",
      "<ipython-input-32-4a453f1d398e>:29: FutureWarning: the 'smoothing_slope'' keyword is deprecated, use 'smoothing_trend' instead\n",
      "  fit1 = Holt(np.asarray(train['forest'])).fit(smoothing_level = 0.8,smoothing_slope = 0.8)\n",
      "<ipython-input-32-4a453f1d398e>:18: UserWarning: Pandas doesn't allow columns to be created via a new attribute name - see https://pandas.pydata.org/pandas-docs/stable/indexing.html#attribute-access\n",
      "  train.Timestamp = pd.to_datetime(train.year,format='%Y')\n",
      "<ipython-input-32-4a453f1d398e>:22: UserWarning: Pandas doesn't allow columns to be created via a new attribute name - see https://pandas.pydata.org/pandas-docs/stable/indexing.html#attribute-access\n",
      "  test.Timestamp = pd.to_datetime(test.year,format='%Y')\n",
      "C:\\Users\\u978275\\Anaconda3\\lib\\site-packages\\statsmodels\\tsa\\holtwinters\\model.py:427: FutureWarning: After 0.13 initialization must be handled at model creation\n",
      "  warnings.warn(\n",
      "<ipython-input-32-4a453f1d398e>:29: FutureWarning: the 'smoothing_slope'' keyword is deprecated, use 'smoothing_trend' instead\n",
      "  fit1 = Holt(np.asarray(train['forest'])).fit(smoothing_level = 0.8,smoothing_slope = 0.8)\n",
      "<ipython-input-32-4a453f1d398e>:18: UserWarning: Pandas doesn't allow columns to be created via a new attribute name - see https://pandas.pydata.org/pandas-docs/stable/indexing.html#attribute-access\n",
      "  train.Timestamp = pd.to_datetime(train.year,format='%Y')\n",
      "<ipython-input-32-4a453f1d398e>:22: UserWarning: Pandas doesn't allow columns to be created via a new attribute name - see https://pandas.pydata.org/pandas-docs/stable/indexing.html#attribute-access\n",
      "  test.Timestamp = pd.to_datetime(test.year,format='%Y')\n",
      "C:\\Users\\u978275\\Anaconda3\\lib\\site-packages\\statsmodels\\tsa\\holtwinters\\model.py:427: FutureWarning: After 0.13 initialization must be handled at model creation\n",
      "  warnings.warn(\n",
      "<ipython-input-32-4a453f1d398e>:29: FutureWarning: the 'smoothing_slope'' keyword is deprecated, use 'smoothing_trend' instead\n",
      "  fit1 = Holt(np.asarray(train['forest'])).fit(smoothing_level = 0.8,smoothing_slope = 0.8)\n"
     ]
    },
    {
     "name": "stdout",
     "output_type": "stream",
     "text": [
      "184.0\n",
      "142.0\n",
      "130.0\n"
     ]
    },
    {
     "name": "stderr",
     "output_type": "stream",
     "text": [
      "<ipython-input-32-4a453f1d398e>:18: UserWarning: Pandas doesn't allow columns to be created via a new attribute name - see https://pandas.pydata.org/pandas-docs/stable/indexing.html#attribute-access\n",
      "  train.Timestamp = pd.to_datetime(train.year,format='%Y')\n",
      "<ipython-input-32-4a453f1d398e>:22: UserWarning: Pandas doesn't allow columns to be created via a new attribute name - see https://pandas.pydata.org/pandas-docs/stable/indexing.html#attribute-access\n",
      "  test.Timestamp = pd.to_datetime(test.year,format='%Y')\n",
      "C:\\Users\\u978275\\Anaconda3\\lib\\site-packages\\statsmodels\\tsa\\holtwinters\\model.py:427: FutureWarning: After 0.13 initialization must be handled at model creation\n",
      "  warnings.warn(\n",
      "<ipython-input-32-4a453f1d398e>:29: FutureWarning: the 'smoothing_slope'' keyword is deprecated, use 'smoothing_trend' instead\n",
      "  fit1 = Holt(np.asarray(train['forest'])).fit(smoothing_level = 0.8,smoothing_slope = 0.8)\n",
      "<ipython-input-32-4a453f1d398e>:18: UserWarning: Pandas doesn't allow columns to be created via a new attribute name - see https://pandas.pydata.org/pandas-docs/stable/indexing.html#attribute-access\n",
      "  train.Timestamp = pd.to_datetime(train.year,format='%Y')\n",
      "<ipython-input-32-4a453f1d398e>:22: UserWarning: Pandas doesn't allow columns to be created via a new attribute name - see https://pandas.pydata.org/pandas-docs/stable/indexing.html#attribute-access\n",
      "  test.Timestamp = pd.to_datetime(test.year,format='%Y')\n",
      "C:\\Users\\u978275\\Anaconda3\\lib\\site-packages\\statsmodels\\tsa\\holtwinters\\model.py:427: FutureWarning: After 0.13 initialization must be handled at model creation\n",
      "  warnings.warn(\n",
      "<ipython-input-32-4a453f1d398e>:29: FutureWarning: the 'smoothing_slope'' keyword is deprecated, use 'smoothing_trend' instead\n",
      "  fit1 = Holt(np.asarray(train['forest'])).fit(smoothing_level = 0.8,smoothing_slope = 0.8)\n",
      "<ipython-input-32-4a453f1d398e>:18: UserWarning: Pandas doesn't allow columns to be created via a new attribute name - see https://pandas.pydata.org/pandas-docs/stable/indexing.html#attribute-access\n",
      "  train.Timestamp = pd.to_datetime(train.year,format='%Y')\n",
      "<ipython-input-32-4a453f1d398e>:22: UserWarning: Pandas doesn't allow columns to be created via a new attribute name - see https://pandas.pydata.org/pandas-docs/stable/indexing.html#attribute-access\n",
      "  test.Timestamp = pd.to_datetime(test.year,format='%Y')\n",
      "C:\\Users\\u978275\\Anaconda3\\lib\\site-packages\\statsmodels\\tsa\\holtwinters\\model.py:427: FutureWarning: After 0.13 initialization must be handled at model creation\n",
      "  warnings.warn(\n",
      "<ipython-input-32-4a453f1d398e>:29: FutureWarning: the 'smoothing_slope'' keyword is deprecated, use 'smoothing_trend' instead\n",
      "  fit1 = Holt(np.asarray(train['forest'])).fit(smoothing_level = 0.8,smoothing_slope = 0.8)\n"
     ]
    },
    {
     "name": "stdout",
     "output_type": "stream",
     "text": [
      "153.0\n",
      "185.0\n",
      "154.0\n"
     ]
    },
    {
     "name": "stderr",
     "output_type": "stream",
     "text": [
      "<ipython-input-32-4a453f1d398e>:18: UserWarning: Pandas doesn't allow columns to be created via a new attribute name - see https://pandas.pydata.org/pandas-docs/stable/indexing.html#attribute-access\n",
      "  train.Timestamp = pd.to_datetime(train.year,format='%Y')\n",
      "<ipython-input-32-4a453f1d398e>:22: UserWarning: Pandas doesn't allow columns to be created via a new attribute name - see https://pandas.pydata.org/pandas-docs/stable/indexing.html#attribute-access\n",
      "  test.Timestamp = pd.to_datetime(test.year,format='%Y')\n",
      "C:\\Users\\u978275\\Anaconda3\\lib\\site-packages\\statsmodels\\tsa\\holtwinters\\model.py:427: FutureWarning: After 0.13 initialization must be handled at model creation\n",
      "  warnings.warn(\n",
      "<ipython-input-32-4a453f1d398e>:29: FutureWarning: the 'smoothing_slope'' keyword is deprecated, use 'smoothing_trend' instead\n",
      "  fit1 = Holt(np.asarray(train['forest'])).fit(smoothing_level = 0.8,smoothing_slope = 0.8)\n",
      "<ipython-input-32-4a453f1d398e>:18: UserWarning: Pandas doesn't allow columns to be created via a new attribute name - see https://pandas.pydata.org/pandas-docs/stable/indexing.html#attribute-access\n",
      "  train.Timestamp = pd.to_datetime(train.year,format='%Y')\n",
      "<ipython-input-32-4a453f1d398e>:22: UserWarning: Pandas doesn't allow columns to be created via a new attribute name - see https://pandas.pydata.org/pandas-docs/stable/indexing.html#attribute-access\n",
      "  test.Timestamp = pd.to_datetime(test.year,format='%Y')\n",
      "C:\\Users\\u978275\\Anaconda3\\lib\\site-packages\\statsmodels\\tsa\\holtwinters\\model.py:427: FutureWarning: After 0.13 initialization must be handled at model creation\n",
      "  warnings.warn(\n",
      "<ipython-input-32-4a453f1d398e>:29: FutureWarning: the 'smoothing_slope'' keyword is deprecated, use 'smoothing_trend' instead\n",
      "  fit1 = Holt(np.asarray(train['forest'])).fit(smoothing_level = 0.8,smoothing_slope = 0.8)\n",
      "<ipython-input-32-4a453f1d398e>:18: UserWarning: Pandas doesn't allow columns to be created via a new attribute name - see https://pandas.pydata.org/pandas-docs/stable/indexing.html#attribute-access\n",
      "  train.Timestamp = pd.to_datetime(train.year,format='%Y')\n",
      "<ipython-input-32-4a453f1d398e>:22: UserWarning: Pandas doesn't allow columns to be created via a new attribute name - see https://pandas.pydata.org/pandas-docs/stable/indexing.html#attribute-access\n",
      "  test.Timestamp = pd.to_datetime(test.year,format='%Y')\n",
      "C:\\Users\\u978275\\Anaconda3\\lib\\site-packages\\statsmodels\\tsa\\holtwinters\\model.py:427: FutureWarning: After 0.13 initialization must be handled at model creation\n",
      "  warnings.warn(\n",
      "<ipython-input-32-4a453f1d398e>:29: FutureWarning: the 'smoothing_slope'' keyword is deprecated, use 'smoothing_trend' instead\n",
      "  fit1 = Holt(np.asarray(train['forest'])).fit(smoothing_level = 0.8,smoothing_slope = 0.8)\n"
     ]
    },
    {
     "name": "stdout",
     "output_type": "stream",
     "text": [
      "200.0\n",
      "75.0\n",
      "125.0\n"
     ]
    },
    {
     "name": "stderr",
     "output_type": "stream",
     "text": [
      "<ipython-input-32-4a453f1d398e>:18: UserWarning: Pandas doesn't allow columns to be created via a new attribute name - see https://pandas.pydata.org/pandas-docs/stable/indexing.html#attribute-access\n",
      "  train.Timestamp = pd.to_datetime(train.year,format='%Y')\n",
      "<ipython-input-32-4a453f1d398e>:22: UserWarning: Pandas doesn't allow columns to be created via a new attribute name - see https://pandas.pydata.org/pandas-docs/stable/indexing.html#attribute-access\n",
      "  test.Timestamp = pd.to_datetime(test.year,format='%Y')\n",
      "C:\\Users\\u978275\\Anaconda3\\lib\\site-packages\\statsmodels\\tsa\\holtwinters\\model.py:427: FutureWarning: After 0.13 initialization must be handled at model creation\n",
      "  warnings.warn(\n",
      "<ipython-input-32-4a453f1d398e>:29: FutureWarning: the 'smoothing_slope'' keyword is deprecated, use 'smoothing_trend' instead\n",
      "  fit1 = Holt(np.asarray(train['forest'])).fit(smoothing_level = 0.8,smoothing_slope = 0.8)\n",
      "<ipython-input-32-4a453f1d398e>:18: UserWarning: Pandas doesn't allow columns to be created via a new attribute name - see https://pandas.pydata.org/pandas-docs/stable/indexing.html#attribute-access\n",
      "  train.Timestamp = pd.to_datetime(train.year,format='%Y')\n",
      "<ipython-input-32-4a453f1d398e>:22: UserWarning: Pandas doesn't allow columns to be created via a new attribute name - see https://pandas.pydata.org/pandas-docs/stable/indexing.html#attribute-access\n",
      "  test.Timestamp = pd.to_datetime(test.year,format='%Y')\n",
      "C:\\Users\\u978275\\Anaconda3\\lib\\site-packages\\statsmodels\\tsa\\holtwinters\\model.py:427: FutureWarning: After 0.13 initialization must be handled at model creation\n",
      "  warnings.warn(\n",
      "<ipython-input-32-4a453f1d398e>:29: FutureWarning: the 'smoothing_slope'' keyword is deprecated, use 'smoothing_trend' instead\n",
      "  fit1 = Holt(np.asarray(train['forest'])).fit(smoothing_level = 0.8,smoothing_slope = 0.8)\n",
      "<ipython-input-32-4a453f1d398e>:18: UserWarning: Pandas doesn't allow columns to be created via a new attribute name - see https://pandas.pydata.org/pandas-docs/stable/indexing.html#attribute-access\n",
      "  train.Timestamp = pd.to_datetime(train.year,format='%Y')\n",
      "<ipython-input-32-4a453f1d398e>:22: UserWarning: Pandas doesn't allow columns to be created via a new attribute name - see https://pandas.pydata.org/pandas-docs/stable/indexing.html#attribute-access\n",
      "  test.Timestamp = pd.to_datetime(test.year,format='%Y')\n",
      "C:\\Users\\u978275\\Anaconda3\\lib\\site-packages\\statsmodels\\tsa\\holtwinters\\model.py:427: FutureWarning: After 0.13 initialization must be handled at model creation\n",
      "  warnings.warn(\n",
      "<ipython-input-32-4a453f1d398e>:29: FutureWarning: the 'smoothing_slope'' keyword is deprecated, use 'smoothing_trend' instead\n",
      "  fit1 = Holt(np.asarray(train['forest'])).fit(smoothing_level = 0.8,smoothing_slope = 0.8)\n"
     ]
    },
    {
     "name": "stdout",
     "output_type": "stream",
     "text": [
      "155.0\n",
      "117.0\n"
     ]
    },
    {
     "name": "stderr",
     "output_type": "stream",
     "text": [
      "<ipython-input-32-4a453f1d398e>:18: UserWarning: Pandas doesn't allow columns to be created via a new attribute name - see https://pandas.pydata.org/pandas-docs/stable/indexing.html#attribute-access\n",
      "  train.Timestamp = pd.to_datetime(train.year,format='%Y')\n",
      "<ipython-input-32-4a453f1d398e>:22: UserWarning: Pandas doesn't allow columns to be created via a new attribute name - see https://pandas.pydata.org/pandas-docs/stable/indexing.html#attribute-access\n",
      "  test.Timestamp = pd.to_datetime(test.year,format='%Y')\n",
      "C:\\Users\\u978275\\Anaconda3\\lib\\site-packages\\statsmodels\\tsa\\holtwinters\\model.py:427: FutureWarning: After 0.13 initialization must be handled at model creation\n",
      "  warnings.warn(\n",
      "<ipython-input-32-4a453f1d398e>:29: FutureWarning: the 'smoothing_slope'' keyword is deprecated, use 'smoothing_trend' instead\n",
      "  fit1 = Holt(np.asarray(train['forest'])).fit(smoothing_level = 0.8,smoothing_slope = 0.8)\n",
      "<ipython-input-32-4a453f1d398e>:18: UserWarning: Pandas doesn't allow columns to be created via a new attribute name - see https://pandas.pydata.org/pandas-docs/stable/indexing.html#attribute-access\n",
      "  train.Timestamp = pd.to_datetime(train.year,format='%Y')\n",
      "<ipython-input-32-4a453f1d398e>:22: UserWarning: Pandas doesn't allow columns to be created via a new attribute name - see https://pandas.pydata.org/pandas-docs/stable/indexing.html#attribute-access\n",
      "  test.Timestamp = pd.to_datetime(test.year,format='%Y')\n",
      "C:\\Users\\u978275\\Anaconda3\\lib\\site-packages\\statsmodels\\tsa\\holtwinters\\model.py:427: FutureWarning: After 0.13 initialization must be handled at model creation\n",
      "  warnings.warn(\n",
      "<ipython-input-32-4a453f1d398e>:29: FutureWarning: the 'smoothing_slope'' keyword is deprecated, use 'smoothing_trend' instead\n",
      "  fit1 = Holt(np.asarray(train['forest'])).fit(smoothing_level = 0.8,smoothing_slope = 0.8)\n"
     ]
    },
    {
     "name": "stdout",
     "output_type": "stream",
     "text": [
      "14.0\n",
      "156.0\n",
      "118.0\n"
     ]
    },
    {
     "name": "stderr",
     "output_type": "stream",
     "text": [
      "C:\\Users\\u978275\\Anaconda3\\lib\\site-packages\\statsmodels\\tsa\\holtwinters\\model.py:920: ConvergenceWarning: Optimization failed to converge. Check mle_retvals.\n",
      "  warnings.warn(\n",
      "<ipython-input-32-4a453f1d398e>:18: UserWarning: Pandas doesn't allow columns to be created via a new attribute name - see https://pandas.pydata.org/pandas-docs/stable/indexing.html#attribute-access\n",
      "  train.Timestamp = pd.to_datetime(train.year,format='%Y')\n",
      "<ipython-input-32-4a453f1d398e>:22: UserWarning: Pandas doesn't allow columns to be created via a new attribute name - see https://pandas.pydata.org/pandas-docs/stable/indexing.html#attribute-access\n",
      "  test.Timestamp = pd.to_datetime(test.year,format='%Y')\n",
      "C:\\Users\\u978275\\Anaconda3\\lib\\site-packages\\statsmodels\\tsa\\holtwinters\\model.py:427: FutureWarning: After 0.13 initialization must be handled at model creation\n",
      "  warnings.warn(\n",
      "<ipython-input-32-4a453f1d398e>:29: FutureWarning: the 'smoothing_slope'' keyword is deprecated, use 'smoothing_trend' instead\n",
      "  fit1 = Holt(np.asarray(train['forest'])).fit(smoothing_level = 0.8,smoothing_slope = 0.8)\n",
      "<ipython-input-32-4a453f1d398e>:18: UserWarning: Pandas doesn't allow columns to be created via a new attribute name - see https://pandas.pydata.org/pandas-docs/stable/indexing.html#attribute-access\n",
      "  train.Timestamp = pd.to_datetime(train.year,format='%Y')\n",
      "<ipython-input-32-4a453f1d398e>:22: UserWarning: Pandas doesn't allow columns to be created via a new attribute name - see https://pandas.pydata.org/pandas-docs/stable/indexing.html#attribute-access\n",
      "  test.Timestamp = pd.to_datetime(test.year,format='%Y')\n",
      "C:\\Users\\u978275\\Anaconda3\\lib\\site-packages\\statsmodels\\tsa\\holtwinters\\model.py:427: FutureWarning: After 0.13 initialization must be handled at model creation\n",
      "  warnings.warn(\n",
      "<ipython-input-32-4a453f1d398e>:29: FutureWarning: the 'smoothing_slope'' keyword is deprecated, use 'smoothing_trend' instead\n",
      "  fit1 = Holt(np.asarray(train['forest'])).fit(smoothing_level = 0.8,smoothing_slope = 0.8)\n",
      "<ipython-input-32-4a453f1d398e>:18: UserWarning: Pandas doesn't allow columns to be created via a new attribute name - see https://pandas.pydata.org/pandas-docs/stable/indexing.html#attribute-access\n",
      "  train.Timestamp = pd.to_datetime(train.year,format='%Y')\n",
      "<ipython-input-32-4a453f1d398e>:22: UserWarning: Pandas doesn't allow columns to be created via a new attribute name - see https://pandas.pydata.org/pandas-docs/stable/indexing.html#attribute-access\n",
      "  test.Timestamp = pd.to_datetime(test.year,format='%Y')\n",
      "C:\\Users\\u978275\\Anaconda3\\lib\\site-packages\\statsmodels\\tsa\\holtwinters\\model.py:427: FutureWarning: After 0.13 initialization must be handled at model creation\n",
      "  warnings.warn(\n",
      "<ipython-input-32-4a453f1d398e>:29: FutureWarning: the 'smoothing_slope'' keyword is deprecated, use 'smoothing_trend' instead\n",
      "  fit1 = Holt(np.asarray(train['forest'])).fit(smoothing_level = 0.8,smoothing_slope = 0.8)\n",
      "C:\\Users\\u978275\\Anaconda3\\lib\\site-packages\\statsmodels\\tsa\\holtwinters\\model.py:1439: RuntimeWarning: divide by zero encountered in log\n",
      "  aic = self.nobs * np.log(sse / self.nobs) + k * 2\n",
      "C:\\Users\\u978275\\Anaconda3\\lib\\site-packages\\statsmodels\\tsa\\holtwinters\\model.py:1445: RuntimeWarning: divide by zero encountered in log\n",
      "  bic = self.nobs * np.log(sse / self.nobs) + k * np.log(self.nobs)\n",
      "<ipython-input-32-4a453f1d398e>:18: UserWarning: Pandas doesn't allow columns to be created via a new attribute name - see https://pandas.pydata.org/pandas-docs/stable/indexing.html#attribute-access\n",
      "  train.Timestamp = pd.to_datetime(train.year,format='%Y')\n",
      "<ipython-input-32-4a453f1d398e>:22: UserWarning: Pandas doesn't allow columns to be created via a new attribute name - see https://pandas.pydata.org/pandas-docs/stable/indexing.html#attribute-access\n",
      "  test.Timestamp = pd.to_datetime(test.year,format='%Y')\n",
      "C:\\Users\\u978275\\Anaconda3\\lib\\site-packages\\statsmodels\\tsa\\holtwinters\\model.py:427: FutureWarning: After 0.13 initialization must be handled at model creation\n",
      "  warnings.warn(\n",
      "<ipython-input-32-4a453f1d398e>:29: FutureWarning: the 'smoothing_slope'' keyword is deprecated, use 'smoothing_trend' instead\n",
      "  fit1 = Holt(np.asarray(train['forest'])).fit(smoothing_level = 0.8,smoothing_slope = 0.8)\n",
      "C:\\Users\\u978275\\Anaconda3\\lib\\site-packages\\statsmodels\\tsa\\holtwinters\\model.py:1439: RuntimeWarning: divide by zero encountered in log\n",
      "  aic = self.nobs * np.log(sse / self.nobs) + k * 2\n",
      "C:\\Users\\u978275\\Anaconda3\\lib\\site-packages\\statsmodels\\tsa\\holtwinters\\model.py:1445: RuntimeWarning: divide by zero encountered in log\n",
      "  bic = self.nobs * np.log(sse / self.nobs) + k * np.log(self.nobs)\n",
      "<ipython-input-32-4a453f1d398e>:18: UserWarning: Pandas doesn't allow columns to be created via a new attribute name - see https://pandas.pydata.org/pandas-docs/stable/indexing.html#attribute-access\n",
      "  train.Timestamp = pd.to_datetime(train.year,format='%Y')\n",
      "<ipython-input-32-4a453f1d398e>:22: UserWarning: Pandas doesn't allow columns to be created via a new attribute name - see https://pandas.pydata.org/pandas-docs/stable/indexing.html#attribute-access\n",
      "  test.Timestamp = pd.to_datetime(test.year,format='%Y')\n",
      "C:\\Users\\u978275\\Anaconda3\\lib\\site-packages\\statsmodels\\tsa\\holtwinters\\model.py:427: FutureWarning: After 0.13 initialization must be handled at model creation\n",
      "  warnings.warn(\n",
      "<ipython-input-32-4a453f1d398e>:29: FutureWarning: the 'smoothing_slope'' keyword is deprecated, use 'smoothing_trend' instead\n",
      "  fit1 = Holt(np.asarray(train['forest'])).fit(smoothing_level = 0.8,smoothing_slope = 0.8)\n"
     ]
    },
    {
     "name": "stdout",
     "output_type": "stream",
     "text": [
      "131.0\n",
      "187.0\n",
      "40.0\n"
     ]
    },
    {
     "name": "stderr",
     "output_type": "stream",
     "text": [
      "<ipython-input-32-4a453f1d398e>:18: UserWarning: Pandas doesn't allow columns to be created via a new attribute name - see https://pandas.pydata.org/pandas-docs/stable/indexing.html#attribute-access\n",
      "  train.Timestamp = pd.to_datetime(train.year,format='%Y')\n",
      "<ipython-input-32-4a453f1d398e>:22: UserWarning: Pandas doesn't allow columns to be created via a new attribute name - see https://pandas.pydata.org/pandas-docs/stable/indexing.html#attribute-access\n",
      "  test.Timestamp = pd.to_datetime(test.year,format='%Y')\n",
      "C:\\Users\\u978275\\Anaconda3\\lib\\site-packages\\statsmodels\\tsa\\holtwinters\\model.py:427: FutureWarning: After 0.13 initialization must be handled at model creation\n",
      "  warnings.warn(\n",
      "<ipython-input-32-4a453f1d398e>:29: FutureWarning: the 'smoothing_slope'' keyword is deprecated, use 'smoothing_trend' instead\n",
      "  fit1 = Holt(np.asarray(train['forest'])).fit(smoothing_level = 0.8,smoothing_slope = 0.8)\n",
      "C:\\Users\\u978275\\Anaconda3\\lib\\site-packages\\statsmodels\\tsa\\holtwinters\\model.py:1439: RuntimeWarning: divide by zero encountered in log\n",
      "  aic = self.nobs * np.log(sse / self.nobs) + k * 2\n",
      "C:\\Users\\u978275\\Anaconda3\\lib\\site-packages\\statsmodels\\tsa\\holtwinters\\model.py:1445: RuntimeWarning: divide by zero encountered in log\n",
      "  bic = self.nobs * np.log(sse / self.nobs) + k * np.log(self.nobs)\n",
      "<ipython-input-32-4a453f1d398e>:18: UserWarning: Pandas doesn't allow columns to be created via a new attribute name - see https://pandas.pydata.org/pandas-docs/stable/indexing.html#attribute-access\n",
      "  train.Timestamp = pd.to_datetime(train.year,format='%Y')\n",
      "<ipython-input-32-4a453f1d398e>:22: UserWarning: Pandas doesn't allow columns to be created via a new attribute name - see https://pandas.pydata.org/pandas-docs/stable/indexing.html#attribute-access\n",
      "  test.Timestamp = pd.to_datetime(test.year,format='%Y')\n",
      "C:\\Users\\u978275\\Anaconda3\\lib\\site-packages\\statsmodels\\tsa\\holtwinters\\model.py:427: FutureWarning: After 0.13 initialization must be handled at model creation\n",
      "  warnings.warn(\n",
      "<ipython-input-32-4a453f1d398e>:29: FutureWarning: the 'smoothing_slope'' keyword is deprecated, use 'smoothing_trend' instead\n",
      "  fit1 = Holt(np.asarray(train['forest'])).fit(smoothing_level = 0.8,smoothing_slope = 0.8)\n",
      "C:\\Users\\u978275\\Anaconda3\\lib\\site-packages\\statsmodels\\tsa\\holtwinters\\model.py:1439: RuntimeWarning: divide by zero encountered in log\n",
      "  aic = self.nobs * np.log(sse / self.nobs) + k * 2\n",
      "C:\\Users\\u978275\\Anaconda3\\lib\\site-packages\\statsmodels\\tsa\\holtwinters\\model.py:1445: RuntimeWarning: divide by zero encountered in log\n",
      "  bic = self.nobs * np.log(sse / self.nobs) + k * np.log(self.nobs)\n",
      "<ipython-input-32-4a453f1d398e>:18: UserWarning: Pandas doesn't allow columns to be created via a new attribute name - see https://pandas.pydata.org/pandas-docs/stable/indexing.html#attribute-access\n",
      "  train.Timestamp = pd.to_datetime(train.year,format='%Y')\n",
      "<ipython-input-32-4a453f1d398e>:22: UserWarning: Pandas doesn't allow columns to be created via a new attribute name - see https://pandas.pydata.org/pandas-docs/stable/indexing.html#attribute-access\n",
      "  test.Timestamp = pd.to_datetime(test.year,format='%Y')\n",
      "C:\\Users\\u978275\\Anaconda3\\lib\\site-packages\\statsmodels\\tsa\\holtwinters\\model.py:427: FutureWarning: After 0.13 initialization must be handled at model creation\n",
      "  warnings.warn(\n",
      "<ipython-input-32-4a453f1d398e>:29: FutureWarning: the 'smoothing_slope'' keyword is deprecated, use 'smoothing_trend' instead\n",
      "  fit1 = Holt(np.asarray(train['forest'])).fit(smoothing_level = 0.8,smoothing_slope = 0.8)\n"
     ]
    },
    {
     "name": "stdout",
     "output_type": "stream",
     "text": [
      "2.0\n",
      "188.0\n",
      "214.0\n"
     ]
    },
    {
     "name": "stderr",
     "output_type": "stream",
     "text": [
      "<ipython-input-32-4a453f1d398e>:18: UserWarning: Pandas doesn't allow columns to be created via a new attribute name - see https://pandas.pydata.org/pandas-docs/stable/indexing.html#attribute-access\n",
      "  train.Timestamp = pd.to_datetime(train.year,format='%Y')\n",
      "<ipython-input-32-4a453f1d398e>:22: UserWarning: Pandas doesn't allow columns to be created via a new attribute name - see https://pandas.pydata.org/pandas-docs/stable/indexing.html#attribute-access\n",
      "  test.Timestamp = pd.to_datetime(test.year,format='%Y')\n",
      "C:\\Users\\u978275\\Anaconda3\\lib\\site-packages\\statsmodels\\tsa\\holtwinters\\model.py:427: FutureWarning: After 0.13 initialization must be handled at model creation\n",
      "  warnings.warn(\n",
      "<ipython-input-32-4a453f1d398e>:29: FutureWarning: the 'smoothing_slope'' keyword is deprecated, use 'smoothing_trend' instead\n",
      "  fit1 = Holt(np.asarray(train['forest'])).fit(smoothing_level = 0.8,smoothing_slope = 0.8)\n",
      "C:\\Users\\u978275\\Anaconda3\\lib\\site-packages\\statsmodels\\tsa\\holtwinters\\model.py:1439: RuntimeWarning: divide by zero encountered in log\n",
      "  aic = self.nobs * np.log(sse / self.nobs) + k * 2\n",
      "C:\\Users\\u978275\\Anaconda3\\lib\\site-packages\\statsmodels\\tsa\\holtwinters\\model.py:1445: RuntimeWarning: divide by zero encountered in log\n",
      "  bic = self.nobs * np.log(sse / self.nobs) + k * np.log(self.nobs)\n",
      "<ipython-input-32-4a453f1d398e>:18: UserWarning: Pandas doesn't allow columns to be created via a new attribute name - see https://pandas.pydata.org/pandas-docs/stable/indexing.html#attribute-access\n",
      "  train.Timestamp = pd.to_datetime(train.year,format='%Y')\n",
      "<ipython-input-32-4a453f1d398e>:22: UserWarning: Pandas doesn't allow columns to be created via a new attribute name - see https://pandas.pydata.org/pandas-docs/stable/indexing.html#attribute-access\n",
      "  test.Timestamp = pd.to_datetime(test.year,format='%Y')\n",
      "C:\\Users\\u978275\\Anaconda3\\lib\\site-packages\\statsmodels\\tsa\\holtwinters\\model.py:427: FutureWarning: After 0.13 initialization must be handled at model creation\n",
      "  warnings.warn(\n",
      "<ipython-input-32-4a453f1d398e>:29: FutureWarning: the 'smoothing_slope'' keyword is deprecated, use 'smoothing_trend' instead\n",
      "  fit1 = Holt(np.asarray(train['forest'])).fit(smoothing_level = 0.8,smoothing_slope = 0.8)\n",
      "<ipython-input-32-4a453f1d398e>:18: UserWarning: Pandas doesn't allow columns to be created via a new attribute name - see https://pandas.pydata.org/pandas-docs/stable/indexing.html#attribute-access\n",
      "  train.Timestamp = pd.to_datetime(train.year,format='%Y')\n",
      "<ipython-input-32-4a453f1d398e>:22: UserWarning: Pandas doesn't allow columns to be created via a new attribute name - see https://pandas.pydata.org/pandas-docs/stable/indexing.html#attribute-access\n",
      "  test.Timestamp = pd.to_datetime(test.year,format='%Y')\n",
      "C:\\Users\\u978275\\Anaconda3\\lib\\site-packages\\statsmodels\\tsa\\holtwinters\\model.py:427: FutureWarning: After 0.13 initialization must be handled at model creation\n",
      "  warnings.warn(\n",
      "<ipython-input-32-4a453f1d398e>:29: FutureWarning: the 'smoothing_slope'' keyword is deprecated, use 'smoothing_trend' instead\n",
      "  fit1 = Holt(np.asarray(train['forest'])).fit(smoothing_level = 0.8,smoothing_slope = 0.8)\n"
     ]
    },
    {
     "name": "stdout",
     "output_type": "stream",
     "text": [
      "16.0\n",
      "132.0\n",
      "52.0\n"
     ]
    },
    {
     "name": "stderr",
     "output_type": "stream",
     "text": [
      "<ipython-input-32-4a453f1d398e>:18: UserWarning: Pandas doesn't allow columns to be created via a new attribute name - see https://pandas.pydata.org/pandas-docs/stable/indexing.html#attribute-access\n",
      "  train.Timestamp = pd.to_datetime(train.year,format='%Y')\n",
      "<ipython-input-32-4a453f1d398e>:22: UserWarning: Pandas doesn't allow columns to be created via a new attribute name - see https://pandas.pydata.org/pandas-docs/stable/indexing.html#attribute-access\n",
      "  test.Timestamp = pd.to_datetime(test.year,format='%Y')\n",
      "C:\\Users\\u978275\\Anaconda3\\lib\\site-packages\\statsmodels\\tsa\\holtwinters\\model.py:427: FutureWarning: After 0.13 initialization must be handled at model creation\n",
      "  warnings.warn(\n",
      "<ipython-input-32-4a453f1d398e>:29: FutureWarning: the 'smoothing_slope'' keyword is deprecated, use 'smoothing_trend' instead\n",
      "  fit1 = Holt(np.asarray(train['forest'])).fit(smoothing_level = 0.8,smoothing_slope = 0.8)\n"
     ]
    },
    {
     "name": "stdout",
     "output_type": "stream",
     "text": [
      "201.0\n"
     ]
    },
    {
     "name": "stderr",
     "output_type": "stream",
     "text": [
      "<ipython-input-32-4a453f1d398e>:18: UserWarning: Pandas doesn't allow columns to be created via a new attribute name - see https://pandas.pydata.org/pandas-docs/stable/indexing.html#attribute-access\n",
      "  train.Timestamp = pd.to_datetime(train.year,format='%Y')\n",
      "<ipython-input-32-4a453f1d398e>:22: UserWarning: Pandas doesn't allow columns to be created via a new attribute name - see https://pandas.pydata.org/pandas-docs/stable/indexing.html#attribute-access\n",
      "  test.Timestamp = pd.to_datetime(test.year,format='%Y')\n",
      "C:\\Users\\u978275\\Anaconda3\\lib\\site-packages\\statsmodels\\tsa\\holtwinters\\model.py:427: FutureWarning: After 0.13 initialization must be handled at model creation\n",
      "  warnings.warn(\n",
      "<ipython-input-32-4a453f1d398e>:29: FutureWarning: the 'smoothing_slope'' keyword is deprecated, use 'smoothing_trend' instead\n",
      "  fit1 = Holt(np.asarray(train['forest'])).fit(smoothing_level = 0.8,smoothing_slope = 0.8)\n",
      "C:\\Users\\u978275\\Anaconda3\\lib\\site-packages\\statsmodels\\tsa\\holtwinters\\model.py:1439: RuntimeWarning: divide by zero encountered in log\n",
      "  aic = self.nobs * np.log(sse / self.nobs) + k * 2\n",
      "C:\\Users\\u978275\\Anaconda3\\lib\\site-packages\\statsmodels\\tsa\\holtwinters\\model.py:1445: RuntimeWarning: divide by zero encountered in log\n",
      "  bic = self.nobs * np.log(sse / self.nobs) + k * np.log(self.nobs)\n"
     ]
    },
    {
     "name": "stdout",
     "output_type": "stream",
     "text": [
      "53.0\n",
      "17.0\n",
      "93.0\n"
     ]
    },
    {
     "name": "stderr",
     "output_type": "stream",
     "text": [
      "<ipython-input-32-4a453f1d398e>:18: UserWarning: Pandas doesn't allow columns to be created via a new attribute name - see https://pandas.pydata.org/pandas-docs/stable/indexing.html#attribute-access\n",
      "  train.Timestamp = pd.to_datetime(train.year,format='%Y')\n",
      "<ipython-input-32-4a453f1d398e>:22: UserWarning: Pandas doesn't allow columns to be created via a new attribute name - see https://pandas.pydata.org/pandas-docs/stable/indexing.html#attribute-access\n",
      "  test.Timestamp = pd.to_datetime(test.year,format='%Y')\n",
      "C:\\Users\\u978275\\Anaconda3\\lib\\site-packages\\statsmodels\\tsa\\holtwinters\\model.py:427: FutureWarning: After 0.13 initialization must be handled at model creation\n",
      "  warnings.warn(\n",
      "<ipython-input-32-4a453f1d398e>:29: FutureWarning: the 'smoothing_slope'' keyword is deprecated, use 'smoothing_trend' instead\n",
      "  fit1 = Holt(np.asarray(train['forest'])).fit(smoothing_level = 0.8,smoothing_slope = 0.8)\n",
      "<ipython-input-32-4a453f1d398e>:18: UserWarning: Pandas doesn't allow columns to be created via a new attribute name - see https://pandas.pydata.org/pandas-docs/stable/indexing.html#attribute-access\n",
      "  train.Timestamp = pd.to_datetime(train.year,format='%Y')\n",
      "<ipython-input-32-4a453f1d398e>:22: UserWarning: Pandas doesn't allow columns to be created via a new attribute name - see https://pandas.pydata.org/pandas-docs/stable/indexing.html#attribute-access\n",
      "  test.Timestamp = pd.to_datetime(test.year,format='%Y')\n",
      "C:\\Users\\u978275\\Anaconda3\\lib\\site-packages\\statsmodels\\tsa\\holtwinters\\model.py:427: FutureWarning: After 0.13 initialization must be handled at model creation\n",
      "  warnings.warn(\n",
      "<ipython-input-32-4a453f1d398e>:29: FutureWarning: the 'smoothing_slope'' keyword is deprecated, use 'smoothing_trend' instead\n",
      "  fit1 = Holt(np.asarray(train['forest'])).fit(smoothing_level = 0.8,smoothing_slope = 0.8)\n",
      "<ipython-input-32-4a453f1d398e>:18: UserWarning: Pandas doesn't allow columns to be created via a new attribute name - see https://pandas.pydata.org/pandas-docs/stable/indexing.html#attribute-access\n",
      "  train.Timestamp = pd.to_datetime(train.year,format='%Y')\n",
      "<ipython-input-32-4a453f1d398e>:22: UserWarning: Pandas doesn't allow columns to be created via a new attribute name - see https://pandas.pydata.org/pandas-docs/stable/indexing.html#attribute-access\n",
      "  test.Timestamp = pd.to_datetime(test.year,format='%Y')\n",
      "C:\\Users\\u978275\\Anaconda3\\lib\\site-packages\\statsmodels\\tsa\\holtwinters\\model.py:427: FutureWarning: After 0.13 initialization must be handled at model creation\n",
      "  warnings.warn(\n",
      "<ipython-input-32-4a453f1d398e>:29: FutureWarning: the 'smoothing_slope'' keyword is deprecated, use 'smoothing_trend' instead\n",
      "  fit1 = Holt(np.asarray(train['forest'])).fit(smoothing_level = 0.8,smoothing_slope = 0.8)\n"
     ]
    },
    {
     "name": "stdout",
     "output_type": "stream",
     "text": [
      "126.0\n"
     ]
    },
    {
     "name": "stderr",
     "output_type": "stream",
     "text": [
      "<ipython-input-32-4a453f1d398e>:18: UserWarning: Pandas doesn't allow columns to be created via a new attribute name - see https://pandas.pydata.org/pandas-docs/stable/indexing.html#attribute-access\n",
      "  train.Timestamp = pd.to_datetime(train.year,format='%Y')\n",
      "<ipython-input-32-4a453f1d398e>:22: UserWarning: Pandas doesn't allow columns to be created via a new attribute name - see https://pandas.pydata.org/pandas-docs/stable/indexing.html#attribute-access\n",
      "  test.Timestamp = pd.to_datetime(test.year,format='%Y')\n",
      "C:\\Users\\u978275\\Anaconda3\\lib\\site-packages\\statsmodels\\tsa\\holtwinters\\model.py:427: FutureWarning: After 0.13 initialization must be handled at model creation\n",
      "  warnings.warn(\n",
      "<ipython-input-32-4a453f1d398e>:29: FutureWarning: the 'smoothing_slope'' keyword is deprecated, use 'smoothing_trend' instead\n",
      "  fit1 = Holt(np.asarray(train['forest'])).fit(smoothing_level = 0.8,smoothing_slope = 0.8)\n"
     ]
    },
    {
     "name": "stdout",
     "output_type": "stream",
     "text": [
      "3.0\n"
     ]
    },
    {
     "name": "stderr",
     "output_type": "stream",
     "text": [
      "<ipython-input-32-4a453f1d398e>:18: UserWarning: Pandas doesn't allow columns to be created via a new attribute name - see https://pandas.pydata.org/pandas-docs/stable/indexing.html#attribute-access\n",
      "  train.Timestamp = pd.to_datetime(train.year,format='%Y')\n",
      "<ipython-input-32-4a453f1d398e>:22: UserWarning: Pandas doesn't allow columns to be created via a new attribute name - see https://pandas.pydata.org/pandas-docs/stable/indexing.html#attribute-access\n",
      "  test.Timestamp = pd.to_datetime(test.year,format='%Y')\n",
      "C:\\Users\\u978275\\Anaconda3\\lib\\site-packages\\statsmodels\\tsa\\holtwinters\\model.py:427: FutureWarning: After 0.13 initialization must be handled at model creation\n",
      "  warnings.warn(\n",
      "<ipython-input-32-4a453f1d398e>:29: FutureWarning: the 'smoothing_slope'' keyword is deprecated, use 'smoothing_trend' instead\n",
      "  fit1 = Holt(np.asarray(train['forest'])).fit(smoothing_level = 0.8,smoothing_slope = 0.8)\n",
      "<ipython-input-32-4a453f1d398e>:18: UserWarning: Pandas doesn't allow columns to be created via a new attribute name - see https://pandas.pydata.org/pandas-docs/stable/indexing.html#attribute-access\n",
      "  train.Timestamp = pd.to_datetime(train.year,format='%Y')\n",
      "<ipython-input-32-4a453f1d398e>:22: UserWarning: Pandas doesn't allow columns to be created via a new attribute name - see https://pandas.pydata.org/pandas-docs/stable/indexing.html#attribute-access\n",
      "  test.Timestamp = pd.to_datetime(test.year,format='%Y')\n",
      "C:\\Users\\u978275\\Anaconda3\\lib\\site-packages\\statsmodels\\tsa\\holtwinters\\model.py:427: FutureWarning: After 0.13 initialization must be handled at model creation\n",
      "  warnings.warn(\n",
      "<ipython-input-32-4a453f1d398e>:29: FutureWarning: the 'smoothing_slope'' keyword is deprecated, use 'smoothing_trend' instead\n",
      "  fit1 = Holt(np.asarray(train['forest'])).fit(smoothing_level = 0.8,smoothing_slope = 0.8)\n"
     ]
    },
    {
     "name": "stdout",
     "output_type": "stream",
     "text": [
      "19.0\n",
      "133.0\n"
     ]
    },
    {
     "name": "stderr",
     "output_type": "stream",
     "text": [
      "<ipython-input-32-4a453f1d398e>:18: UserWarning: Pandas doesn't allow columns to be created via a new attribute name - see https://pandas.pydata.org/pandas-docs/stable/indexing.html#attribute-access\n",
      "  train.Timestamp = pd.to_datetime(train.year,format='%Y')\n",
      "<ipython-input-32-4a453f1d398e>:22: UserWarning: Pandas doesn't allow columns to be created via a new attribute name - see https://pandas.pydata.org/pandas-docs/stable/indexing.html#attribute-access\n",
      "  test.Timestamp = pd.to_datetime(test.year,format='%Y')\n",
      "C:\\Users\\u978275\\Anaconda3\\lib\\site-packages\\statsmodels\\tsa\\holtwinters\\model.py:427: FutureWarning: After 0.13 initialization must be handled at model creation\n",
      "  warnings.warn(\n",
      "<ipython-input-32-4a453f1d398e>:29: FutureWarning: the 'smoothing_slope'' keyword is deprecated, use 'smoothing_trend' instead\n",
      "  fit1 = Holt(np.asarray(train['forest'])).fit(smoothing_level = 0.8,smoothing_slope = 0.8)\n",
      "<ipython-input-32-4a453f1d398e>:18: UserWarning: Pandas doesn't allow columns to be created via a new attribute name - see https://pandas.pydata.org/pandas-docs/stable/indexing.html#attribute-access\n",
      "  train.Timestamp = pd.to_datetime(train.year,format='%Y')\n",
      "<ipython-input-32-4a453f1d398e>:22: UserWarning: Pandas doesn't allow columns to be created via a new attribute name - see https://pandas.pydata.org/pandas-docs/stable/indexing.html#attribute-access\n",
      "  test.Timestamp = pd.to_datetime(test.year,format='%Y')\n",
      "C:\\Users\\u978275\\Anaconda3\\lib\\site-packages\\statsmodels\\tsa\\holtwinters\\model.py:427: FutureWarning: After 0.13 initialization must be handled at model creation\n",
      "  warnings.warn(\n",
      "<ipython-input-32-4a453f1d398e>:29: FutureWarning: the 'smoothing_slope'' keyword is deprecated, use 'smoothing_trend' instead\n",
      "  fit1 = Holt(np.asarray(train['forest'])).fit(smoothing_level = 0.8,smoothing_slope = 0.8)\n"
     ]
    },
    {
     "name": "stdout",
     "output_type": "stream",
     "text": [
      "41.0\n",
      "145.0\n"
     ]
    },
    {
     "name": "stderr",
     "output_type": "stream",
     "text": [
      "<ipython-input-32-4a453f1d398e>:18: UserWarning: Pandas doesn't allow columns to be created via a new attribute name - see https://pandas.pydata.org/pandas-docs/stable/indexing.html#attribute-access\n",
      "  train.Timestamp = pd.to_datetime(train.year,format='%Y')\n",
      "<ipython-input-32-4a453f1d398e>:22: UserWarning: Pandas doesn't allow columns to be created via a new attribute name - see https://pandas.pydata.org/pandas-docs/stable/indexing.html#attribute-access\n",
      "  test.Timestamp = pd.to_datetime(test.year,format='%Y')\n",
      "C:\\Users\\u978275\\Anaconda3\\lib\\site-packages\\statsmodels\\tsa\\holtwinters\\model.py:427: FutureWarning: After 0.13 initialization must be handled at model creation\n",
      "  warnings.warn(\n",
      "<ipython-input-32-4a453f1d398e>:29: FutureWarning: the 'smoothing_slope'' keyword is deprecated, use 'smoothing_trend' instead\n",
      "  fit1 = Holt(np.asarray(train['forest'])).fit(smoothing_level = 0.8,smoothing_slope = 0.8)\n",
      "<ipython-input-32-4a453f1d398e>:18: UserWarning: Pandas doesn't allow columns to be created via a new attribute name - see https://pandas.pydata.org/pandas-docs/stable/indexing.html#attribute-access\n",
      "  train.Timestamp = pd.to_datetime(train.year,format='%Y')\n",
      "<ipython-input-32-4a453f1d398e>:22: UserWarning: Pandas doesn't allow columns to be created via a new attribute name - see https://pandas.pydata.org/pandas-docs/stable/indexing.html#attribute-access\n",
      "  test.Timestamp = pd.to_datetime(test.year,format='%Y')\n",
      "C:\\Users\\u978275\\Anaconda3\\lib\\site-packages\\statsmodels\\tsa\\holtwinters\\model.py:427: FutureWarning: After 0.13 initialization must be handled at model creation\n",
      "  warnings.warn(\n",
      "<ipython-input-32-4a453f1d398e>:29: FutureWarning: the 'smoothing_slope'' keyword is deprecated, use 'smoothing_trend' instead\n",
      "  fit1 = Holt(np.asarray(train['forest'])).fit(smoothing_level = 0.8,smoothing_slope = 0.8)\n",
      "<ipython-input-32-4a453f1d398e>:18: UserWarning: Pandas doesn't allow columns to be created via a new attribute name - see https://pandas.pydata.org/pandas-docs/stable/indexing.html#attribute-access\n",
      "  train.Timestamp = pd.to_datetime(train.year,format='%Y')\n"
     ]
    },
    {
     "name": "stdout",
     "output_type": "stream",
     "text": [
      "216.0\n",
      "222.0\n"
     ]
    },
    {
     "name": "stderr",
     "output_type": "stream",
     "text": [
      "<ipython-input-32-4a453f1d398e>:22: UserWarning: Pandas doesn't allow columns to be created via a new attribute name - see https://pandas.pydata.org/pandas-docs/stable/indexing.html#attribute-access\n",
      "  test.Timestamp = pd.to_datetime(test.year,format='%Y')\n",
      "C:\\Users\\u978275\\Anaconda3\\lib\\site-packages\\statsmodels\\tsa\\holtwinters\\model.py:427: FutureWarning: After 0.13 initialization must be handled at model creation\n",
      "  warnings.warn(\n",
      "<ipython-input-32-4a453f1d398e>:29: FutureWarning: the 'smoothing_slope'' keyword is deprecated, use 'smoothing_trend' instead\n",
      "  fit1 = Holt(np.asarray(train['forest'])).fit(smoothing_level = 0.8,smoothing_slope = 0.8)\n",
      "<ipython-input-32-4a453f1d398e>:18: UserWarning: Pandas doesn't allow columns to be created via a new attribute name - see https://pandas.pydata.org/pandas-docs/stable/indexing.html#attribute-access\n",
      "  train.Timestamp = pd.to_datetime(train.year,format='%Y')\n",
      "<ipython-input-32-4a453f1d398e>:22: UserWarning: Pandas doesn't allow columns to be created via a new attribute name - see https://pandas.pydata.org/pandas-docs/stable/indexing.html#attribute-access\n",
      "  test.Timestamp = pd.to_datetime(test.year,format='%Y')\n",
      "C:\\Users\\u978275\\Anaconda3\\lib\\site-packages\\statsmodels\\tsa\\holtwinters\\model.py:427: FutureWarning: After 0.13 initialization must be handled at model creation\n",
      "  warnings.warn(\n",
      "<ipython-input-32-4a453f1d398e>:29: FutureWarning: the 'smoothing_slope'' keyword is deprecated, use 'smoothing_trend' instead\n",
      "  fit1 = Holt(np.asarray(train['forest'])).fit(smoothing_level = 0.8,smoothing_slope = 0.8)\n",
      "<ipython-input-32-4a453f1d398e>:18: UserWarning: Pandas doesn't allow columns to be created via a new attribute name - see https://pandas.pydata.org/pandas-docs/stable/indexing.html#attribute-access\n",
      "  train.Timestamp = pd.to_datetime(train.year,format='%Y')\n"
     ]
    },
    {
     "name": "stdout",
     "output_type": "stream",
     "text": [
      "94.0\n",
      "54.0\n",
      "189.0\n"
     ]
    },
    {
     "name": "stderr",
     "output_type": "stream",
     "text": [
      "<ipython-input-32-4a453f1d398e>:22: UserWarning: Pandas doesn't allow columns to be created via a new attribute name - see https://pandas.pydata.org/pandas-docs/stable/indexing.html#attribute-access\n",
      "  test.Timestamp = pd.to_datetime(test.year,format='%Y')\n",
      "C:\\Users\\u978275\\Anaconda3\\lib\\site-packages\\statsmodels\\tsa\\holtwinters\\model.py:427: FutureWarning: After 0.13 initialization must be handled at model creation\n",
      "  warnings.warn(\n",
      "<ipython-input-32-4a453f1d398e>:29: FutureWarning: the 'smoothing_slope'' keyword is deprecated, use 'smoothing_trend' instead\n",
      "  fit1 = Holt(np.asarray(train['forest'])).fit(smoothing_level = 0.8,smoothing_slope = 0.8)\n",
      "<ipython-input-32-4a453f1d398e>:18: UserWarning: Pandas doesn't allow columns to be created via a new attribute name - see https://pandas.pydata.org/pandas-docs/stable/indexing.html#attribute-access\n",
      "  train.Timestamp = pd.to_datetime(train.year,format='%Y')\n",
      "<ipython-input-32-4a453f1d398e>:22: UserWarning: Pandas doesn't allow columns to be created via a new attribute name - see https://pandas.pydata.org/pandas-docs/stable/indexing.html#attribute-access\n",
      "  test.Timestamp = pd.to_datetime(test.year,format='%Y')\n",
      "C:\\Users\\u978275\\Anaconda3\\lib\\site-packages\\statsmodels\\tsa\\holtwinters\\model.py:427: FutureWarning: After 0.13 initialization must be handled at model creation\n",
      "  warnings.warn(\n",
      "<ipython-input-32-4a453f1d398e>:29: FutureWarning: the 'smoothing_slope'' keyword is deprecated, use 'smoothing_trend' instead\n",
      "  fit1 = Holt(np.asarray(train['forest'])).fit(smoothing_level = 0.8,smoothing_slope = 0.8)\n",
      "<ipython-input-32-4a453f1d398e>:18: UserWarning: Pandas doesn't allow columns to be created via a new attribute name - see https://pandas.pydata.org/pandas-docs/stable/indexing.html#attribute-access\n",
      "  train.Timestamp = pd.to_datetime(train.year,format='%Y')\n",
      "<ipython-input-32-4a453f1d398e>:22: UserWarning: Pandas doesn't allow columns to be created via a new attribute name - see https://pandas.pydata.org/pandas-docs/stable/indexing.html#attribute-access\n",
      "  test.Timestamp = pd.to_datetime(test.year,format='%Y')\n",
      "C:\\Users\\u978275\\Anaconda3\\lib\\site-packages\\statsmodels\\tsa\\holtwinters\\model.py:427: FutureWarning: After 0.13 initialization must be handled at model creation\n",
      "  warnings.warn(\n",
      "<ipython-input-32-4a453f1d398e>:29: FutureWarning: the 'smoothing_slope'' keyword is deprecated, use 'smoothing_trend' instead\n",
      "  fit1 = Holt(np.asarray(train['forest'])).fit(smoothing_level = 0.8,smoothing_slope = 0.8)\n"
     ]
    },
    {
     "name": "stdout",
     "output_type": "stream",
     "text": [
      "146.0\n",
      "95.0\n",
      "226.0\n"
     ]
    },
    {
     "name": "stderr",
     "output_type": "stream",
     "text": [
      "<ipython-input-32-4a453f1d398e>:18: UserWarning: Pandas doesn't allow columns to be created via a new attribute name - see https://pandas.pydata.org/pandas-docs/stable/indexing.html#attribute-access\n",
      "  train.Timestamp = pd.to_datetime(train.year,format='%Y')\n",
      "<ipython-input-32-4a453f1d398e>:22: UserWarning: Pandas doesn't allow columns to be created via a new attribute name - see https://pandas.pydata.org/pandas-docs/stable/indexing.html#attribute-access\n",
      "  test.Timestamp = pd.to_datetime(test.year,format='%Y')\n",
      "C:\\Users\\u978275\\Anaconda3\\lib\\site-packages\\statsmodels\\tsa\\holtwinters\\model.py:427: FutureWarning: After 0.13 initialization must be handled at model creation\n",
      "  warnings.warn(\n",
      "<ipython-input-32-4a453f1d398e>:29: FutureWarning: the 'smoothing_slope'' keyword is deprecated, use 'smoothing_trend' instead\n",
      "  fit1 = Holt(np.asarray(train['forest'])).fit(smoothing_level = 0.8,smoothing_slope = 0.8)\n",
      "<ipython-input-32-4a453f1d398e>:18: UserWarning: Pandas doesn't allow columns to be created via a new attribute name - see https://pandas.pydata.org/pandas-docs/stable/indexing.html#attribute-access\n",
      "  train.Timestamp = pd.to_datetime(train.year,format='%Y')\n",
      "<ipython-input-32-4a453f1d398e>:22: UserWarning: Pandas doesn't allow columns to be created via a new attribute name - see https://pandas.pydata.org/pandas-docs/stable/indexing.html#attribute-access\n",
      "  test.Timestamp = pd.to_datetime(test.year,format='%Y')\n",
      "C:\\Users\\u978275\\Anaconda3\\lib\\site-packages\\statsmodels\\tsa\\holtwinters\\model.py:427: FutureWarning: After 0.13 initialization must be handled at model creation\n",
      "  warnings.warn(\n",
      "<ipython-input-32-4a453f1d398e>:29: FutureWarning: the 'smoothing_slope'' keyword is deprecated, use 'smoothing_trend' instead\n",
      "  fit1 = Holt(np.asarray(train['forest'])).fit(smoothing_level = 0.8,smoothing_slope = 0.8)\n",
      "<ipython-input-32-4a453f1d398e>:18: UserWarning: Pandas doesn't allow columns to be created via a new attribute name - see https://pandas.pydata.org/pandas-docs/stable/indexing.html#attribute-access\n",
      "  train.Timestamp = pd.to_datetime(train.year,format='%Y')\n",
      "<ipython-input-32-4a453f1d398e>:22: UserWarning: Pandas doesn't allow columns to be created via a new attribute name - see https://pandas.pydata.org/pandas-docs/stable/indexing.html#attribute-access\n",
      "  test.Timestamp = pd.to_datetime(test.year,format='%Y')\n",
      "C:\\Users\\u978275\\Anaconda3\\lib\\site-packages\\statsmodels\\tsa\\holtwinters\\model.py:427: FutureWarning: After 0.13 initialization must be handled at model creation\n",
      "  warnings.warn(\n",
      "<ipython-input-32-4a453f1d398e>:29: FutureWarning: the 'smoothing_slope'' keyword is deprecated, use 'smoothing_trend' instead\n",
      "  fit1 = Holt(np.asarray(train['forest'])).fit(smoothing_level = 0.8,smoothing_slope = 0.8)\n"
     ]
    },
    {
     "name": "stdout",
     "output_type": "stream",
     "text": [
      "106.0\n",
      "107.0\n",
      "134.0\n"
     ]
    },
    {
     "name": "stderr",
     "output_type": "stream",
     "text": [
      "<ipython-input-32-4a453f1d398e>:18: UserWarning: Pandas doesn't allow columns to be created via a new attribute name - see https://pandas.pydata.org/pandas-docs/stable/indexing.html#attribute-access\n",
      "  train.Timestamp = pd.to_datetime(train.year,format='%Y')\n",
      "<ipython-input-32-4a453f1d398e>:22: UserWarning: Pandas doesn't allow columns to be created via a new attribute name - see https://pandas.pydata.org/pandas-docs/stable/indexing.html#attribute-access\n",
      "  test.Timestamp = pd.to_datetime(test.year,format='%Y')\n",
      "C:\\Users\\u978275\\Anaconda3\\lib\\site-packages\\statsmodels\\tsa\\holtwinters\\model.py:427: FutureWarning: After 0.13 initialization must be handled at model creation\n",
      "  warnings.warn(\n",
      "<ipython-input-32-4a453f1d398e>:29: FutureWarning: the 'smoothing_slope'' keyword is deprecated, use 'smoothing_trend' instead\n",
      "  fit1 = Holt(np.asarray(train['forest'])).fit(smoothing_level = 0.8,smoothing_slope = 0.8)\n",
      "<ipython-input-32-4a453f1d398e>:18: UserWarning: Pandas doesn't allow columns to be created via a new attribute name - see https://pandas.pydata.org/pandas-docs/stable/indexing.html#attribute-access\n",
      "  train.Timestamp = pd.to_datetime(train.year,format='%Y')\n",
      "<ipython-input-32-4a453f1d398e>:22: UserWarning: Pandas doesn't allow columns to be created via a new attribute name - see https://pandas.pydata.org/pandas-docs/stable/indexing.html#attribute-access\n",
      "  test.Timestamp = pd.to_datetime(test.year,format='%Y')\n",
      "C:\\Users\\u978275\\Anaconda3\\lib\\site-packages\\statsmodels\\tsa\\holtwinters\\model.py:427: FutureWarning: After 0.13 initialization must be handled at model creation\n",
      "  warnings.warn(\n",
      "<ipython-input-32-4a453f1d398e>:29: FutureWarning: the 'smoothing_slope'' keyword is deprecated, use 'smoothing_trend' instead\n",
      "  fit1 = Holt(np.asarray(train['forest'])).fit(smoothing_level = 0.8,smoothing_slope = 0.8)\n",
      "<ipython-input-32-4a453f1d398e>:18: UserWarning: Pandas doesn't allow columns to be created via a new attribute name - see https://pandas.pydata.org/pandas-docs/stable/indexing.html#attribute-access\n",
      "  train.Timestamp = pd.to_datetime(train.year,format='%Y')\n"
     ]
    },
    {
     "name": "stdout",
     "output_type": "stream",
     "text": [
      "170.0\n",
      "204.0\n"
     ]
    },
    {
     "name": "stderr",
     "output_type": "stream",
     "text": [
      "<ipython-input-32-4a453f1d398e>:22: UserWarning: Pandas doesn't allow columns to be created via a new attribute name - see https://pandas.pydata.org/pandas-docs/stable/indexing.html#attribute-access\n",
      "  test.Timestamp = pd.to_datetime(test.year,format='%Y')\n",
      "C:\\Users\\u978275\\Anaconda3\\lib\\site-packages\\statsmodels\\tsa\\holtwinters\\model.py:427: FutureWarning: After 0.13 initialization must be handled at model creation\n",
      "  warnings.warn(\n",
      "<ipython-input-32-4a453f1d398e>:29: FutureWarning: the 'smoothing_slope'' keyword is deprecated, use 'smoothing_trend' instead\n",
      "  fit1 = Holt(np.asarray(train['forest'])).fit(smoothing_level = 0.8,smoothing_slope = 0.8)\n",
      "<ipython-input-32-4a453f1d398e>:18: UserWarning: Pandas doesn't allow columns to be created via a new attribute name - see https://pandas.pydata.org/pandas-docs/stable/indexing.html#attribute-access\n",
      "  train.Timestamp = pd.to_datetime(train.year,format='%Y')\n",
      "<ipython-input-32-4a453f1d398e>:22: UserWarning: Pandas doesn't allow columns to be created via a new attribute name - see https://pandas.pydata.org/pandas-docs/stable/indexing.html#attribute-access\n",
      "  test.Timestamp = pd.to_datetime(test.year,format='%Y')\n",
      "C:\\Users\\u978275\\Anaconda3\\lib\\site-packages\\statsmodels\\tsa\\holtwinters\\model.py:427: FutureWarning: After 0.13 initialization must be handled at model creation\n",
      "  warnings.warn(\n",
      "<ipython-input-32-4a453f1d398e>:29: FutureWarning: the 'smoothing_slope'' keyword is deprecated, use 'smoothing_trend' instead\n",
      "  fit1 = Holt(np.asarray(train['forest'])).fit(smoothing_level = 0.8,smoothing_slope = 0.8)\n"
     ]
    },
    {
     "name": "stdout",
     "output_type": "stream",
     "text": [
      "159.0\n",
      "172.0\n",
      "173.0"
     ]
    },
    {
     "name": "stderr",
     "output_type": "stream",
     "text": [
      "<ipython-input-32-4a453f1d398e>:18: UserWarning: Pandas doesn't allow columns to be created via a new attribute name - see https://pandas.pydata.org/pandas-docs/stable/indexing.html#attribute-access\n",
      "  train.Timestamp = pd.to_datetime(train.year,format='%Y')\n",
      "<ipython-input-32-4a453f1d398e>:22: UserWarning: Pandas doesn't allow columns to be created via a new attribute name - see https://pandas.pydata.org/pandas-docs/stable/indexing.html#attribute-access\n",
      "  test.Timestamp = pd.to_datetime(test.year,format='%Y')\n",
      "C:\\Users\\u978275\\Anaconda3\\lib\\site-packages\\statsmodels\\tsa\\holtwinters\\model.py:427: FutureWarning: After 0.13 initialization must be handled at model creation\n",
      "  warnings.warn(\n",
      "<ipython-input-32-4a453f1d398e>:29: FutureWarning: the 'smoothing_slope'' keyword is deprecated, use 'smoothing_trend' instead\n",
      "  fit1 = Holt(np.asarray(train['forest'])).fit(smoothing_level = 0.8,smoothing_slope = 0.8)\n",
      "C:\\Users\\u978275\\Anaconda3\\lib\\site-packages\\statsmodels\\tsa\\holtwinters\\model.py:1439: RuntimeWarning: divide by zero encountered in log\n",
      "  aic = self.nobs * np.log(sse / self.nobs) + k * 2\n",
      "C:\\Users\\u978275\\Anaconda3\\lib\\site-packages\\statsmodels\\tsa\\holtwinters\\model.py:1445: RuntimeWarning: divide by zero encountered in log\n",
      "  bic = self.nobs * np.log(sse / self.nobs) + k * np.log(self.nobs)\n",
      "<ipython-input-32-4a453f1d398e>:18: UserWarning: Pandas doesn't allow columns to be created via a new attribute name - see https://pandas.pydata.org/pandas-docs/stable/indexing.html#attribute-access\n",
      "  train.Timestamp = pd.to_datetime(train.year,format='%Y')\n",
      "<ipython-input-32-4a453f1d398e>:22: UserWarning: Pandas doesn't allow columns to be created via a new attribute name - see https://pandas.pydata.org/pandas-docs/stable/indexing.html#attribute-access\n",
      "  test.Timestamp = pd.to_datetime(test.year,format='%Y')\n",
      "C:\\Users\\u978275\\Anaconda3\\lib\\site-packages\\statsmodels\\tsa\\holtwinters\\model.py:427: FutureWarning: After 0.13 initialization must be handled at model creation\n",
      "  warnings.warn(\n",
      "<ipython-input-32-4a453f1d398e>:29: FutureWarning: the 'smoothing_slope'' keyword is deprecated, use 'smoothing_trend' instead\n",
      "  fit1 = Holt(np.asarray(train['forest'])).fit(smoothing_level = 0.8,smoothing_slope = 0.8)\n",
      "<ipython-input-32-4a453f1d398e>:18: UserWarning: Pandas doesn't allow columns to be created via a new attribute name - see https://pandas.pydata.org/pandas-docs/stable/indexing.html#attribute-access\n",
      "  train.Timestamp = pd.to_datetime(train.year,format='%Y')\n"
     ]
    },
    {
     "name": "stdout",
     "output_type": "stream",
     "text": [
      "\n",
      "21.0\n",
      "242.0\n"
     ]
    },
    {
     "name": "stderr",
     "output_type": "stream",
     "text": [
      "<ipython-input-32-4a453f1d398e>:22: UserWarning: Pandas doesn't allow columns to be created via a new attribute name - see https://pandas.pydata.org/pandas-docs/stable/indexing.html#attribute-access\n",
      "  test.Timestamp = pd.to_datetime(test.year,format='%Y')\n",
      "C:\\Users\\u978275\\Anaconda3\\lib\\site-packages\\statsmodels\\tsa\\holtwinters\\model.py:427: FutureWarning: After 0.13 initialization must be handled at model creation\n",
      "  warnings.warn(\n",
      "<ipython-input-32-4a453f1d398e>:29: FutureWarning: the 'smoothing_slope'' keyword is deprecated, use 'smoothing_trend' instead\n",
      "  fit1 = Holt(np.asarray(train['forest'])).fit(smoothing_level = 0.8,smoothing_slope = 0.8)\n",
      "<ipython-input-32-4a453f1d398e>:18: UserWarning: Pandas doesn't allow columns to be created via a new attribute name - see https://pandas.pydata.org/pandas-docs/stable/indexing.html#attribute-access\n",
      "  train.Timestamp = pd.to_datetime(train.year,format='%Y')\n",
      "<ipython-input-32-4a453f1d398e>:22: UserWarning: Pandas doesn't allow columns to be created via a new attribute name - see https://pandas.pydata.org/pandas-docs/stable/indexing.html#attribute-access\n",
      "  test.Timestamp = pd.to_datetime(test.year,format='%Y')\n",
      "C:\\Users\\u978275\\Anaconda3\\lib\\site-packages\\statsmodels\\tsa\\holtwinters\\model.py:427: FutureWarning: After 0.13 initialization must be handled at model creation\n",
      "  warnings.warn(\n",
      "<ipython-input-32-4a453f1d398e>:29: FutureWarning: the 'smoothing_slope'' keyword is deprecated, use 'smoothing_trend' instead\n",
      "  fit1 = Holt(np.asarray(train['forest'])).fit(smoothing_level = 0.8,smoothing_slope = 0.8)\n",
      "<ipython-input-32-4a453f1d398e>:18: UserWarning: Pandas doesn't allow columns to be created via a new attribute name - see https://pandas.pydata.org/pandas-docs/stable/indexing.html#attribute-access\n",
      "  train.Timestamp = pd.to_datetime(train.year,format='%Y')\n",
      "<ipython-input-32-4a453f1d398e>:22: UserWarning: Pandas doesn't allow columns to be created via a new attribute name - see https://pandas.pydata.org/pandas-docs/stable/indexing.html#attribute-access\n",
      "  test.Timestamp = pd.to_datetime(test.year,format='%Y')\n",
      "C:\\Users\\u978275\\Anaconda3\\lib\\site-packages\\statsmodels\\tsa\\holtwinters\\model.py:427: FutureWarning: After 0.13 initialization must be handled at model creation\n",
      "  warnings.warn(\n",
      "<ipython-input-32-4a453f1d398e>:29: FutureWarning: the 'smoothing_slope'' keyword is deprecated, use 'smoothing_trend' instead\n",
      "  fit1 = Holt(np.asarray(train['forest'])).fit(smoothing_level = 0.8,smoothing_slope = 0.8)\n"
     ]
    },
    {
     "name": "stdout",
     "output_type": "stream",
     "text": [
      "37.0\n",
      "160.0\n",
      "57.0\n"
     ]
    },
    {
     "name": "stderr",
     "output_type": "stream",
     "text": [
      "<ipython-input-32-4a453f1d398e>:18: UserWarning: Pandas doesn't allow columns to be created via a new attribute name - see https://pandas.pydata.org/pandas-docs/stable/indexing.html#attribute-access\n",
      "  train.Timestamp = pd.to_datetime(train.year,format='%Y')\n",
      "<ipython-input-32-4a453f1d398e>:22: UserWarning: Pandas doesn't allow columns to be created via a new attribute name - see https://pandas.pydata.org/pandas-docs/stable/indexing.html#attribute-access\n",
      "  test.Timestamp = pd.to_datetime(test.year,format='%Y')\n",
      "C:\\Users\\u978275\\Anaconda3\\lib\\site-packages\\statsmodels\\tsa\\holtwinters\\model.py:427: FutureWarning: After 0.13 initialization must be handled at model creation\n",
      "  warnings.warn(\n",
      "<ipython-input-32-4a453f1d398e>:29: FutureWarning: the 'smoothing_slope'' keyword is deprecated, use 'smoothing_trend' instead\n",
      "  fit1 = Holt(np.asarray(train['forest'])).fit(smoothing_level = 0.8,smoothing_slope = 0.8)\n",
      "<ipython-input-32-4a453f1d398e>:18: UserWarning: Pandas doesn't allow columns to be created via a new attribute name - see https://pandas.pydata.org/pandas-docs/stable/indexing.html#attribute-access\n",
      "  train.Timestamp = pd.to_datetime(train.year,format='%Y')\n",
      "<ipython-input-32-4a453f1d398e>:22: UserWarning: Pandas doesn't allow columns to be created via a new attribute name - see https://pandas.pydata.org/pandas-docs/stable/indexing.html#attribute-access\n",
      "  test.Timestamp = pd.to_datetime(test.year,format='%Y')\n",
      "C:\\Users\\u978275\\Anaconda3\\lib\\site-packages\\statsmodels\\tsa\\holtwinters\\model.py:427: FutureWarning: After 0.13 initialization must be handled at model creation\n",
      "  warnings.warn(\n",
      "<ipython-input-32-4a453f1d398e>:29: FutureWarning: the 'smoothing_slope'' keyword is deprecated, use 'smoothing_trend' instead\n",
      "  fit1 = Holt(np.asarray(train['forest'])).fit(smoothing_level = 0.8,smoothing_slope = 0.8)\n",
      "C:\\Users\\u978275\\Anaconda3\\lib\\site-packages\\statsmodels\\tsa\\holtwinters\\model.py:1439: RuntimeWarning: divide by zero encountered in log\n",
      "  aic = self.nobs * np.log(sse / self.nobs) + k * 2\n",
      "C:\\Users\\u978275\\Anaconda3\\lib\\site-packages\\statsmodels\\tsa\\holtwinters\\model.py:1445: RuntimeWarning: divide by zero encountered in log\n",
      "  bic = self.nobs * np.log(sse / self.nobs) + k * np.log(self.nobs)\n",
      "<ipython-input-32-4a453f1d398e>:18: UserWarning: Pandas doesn't allow columns to be created via a new attribute name - see https://pandas.pydata.org/pandas-docs/stable/indexing.html#attribute-access\n",
      "  train.Timestamp = pd.to_datetime(train.year,format='%Y')\n",
      "<ipython-input-32-4a453f1d398e>:22: UserWarning: Pandas doesn't allow columns to be created via a new attribute name - see https://pandas.pydata.org/pandas-docs/stable/indexing.html#attribute-access\n",
      "  test.Timestamp = pd.to_datetime(test.year,format='%Y')\n",
      "C:\\Users\\u978275\\Anaconda3\\lib\\site-packages\\statsmodels\\tsa\\holtwinters\\model.py:427: FutureWarning: After 0.13 initialization must be handled at model creation\n",
      "  warnings.warn(\n",
      "<ipython-input-32-4a453f1d398e>:29: FutureWarning: the 'smoothing_slope'' keyword is deprecated, use 'smoothing_trend' instead\n",
      "  fit1 = Holt(np.asarray(train['forest'])).fit(smoothing_level = 0.8,smoothing_slope = 0.8)\n"
     ]
    },
    {
     "name": "stdout",
     "output_type": "stream",
     "text": [
      "206.0\n",
      "58.0\n",
      "135.0\n"
     ]
    },
    {
     "name": "stderr",
     "output_type": "stream",
     "text": [
      "<ipython-input-32-4a453f1d398e>:18: UserWarning: Pandas doesn't allow columns to be created via a new attribute name - see https://pandas.pydata.org/pandas-docs/stable/indexing.html#attribute-access\n",
      "  train.Timestamp = pd.to_datetime(train.year,format='%Y')\n",
      "<ipython-input-32-4a453f1d398e>:22: UserWarning: Pandas doesn't allow columns to be created via a new attribute name - see https://pandas.pydata.org/pandas-docs/stable/indexing.html#attribute-access\n",
      "  test.Timestamp = pd.to_datetime(test.year,format='%Y')\n",
      "C:\\Users\\u978275\\Anaconda3\\lib\\site-packages\\statsmodels\\tsa\\holtwinters\\model.py:427: FutureWarning: After 0.13 initialization must be handled at model creation\n",
      "  warnings.warn(\n",
      "<ipython-input-32-4a453f1d398e>:29: FutureWarning: the 'smoothing_slope'' keyword is deprecated, use 'smoothing_trend' instead\n",
      "  fit1 = Holt(np.asarray(train['forest'])).fit(smoothing_level = 0.8,smoothing_slope = 0.8)\n",
      "<ipython-input-32-4a453f1d398e>:18: UserWarning: Pandas doesn't allow columns to be created via a new attribute name - see https://pandas.pydata.org/pandas-docs/stable/indexing.html#attribute-access\n",
      "  train.Timestamp = pd.to_datetime(train.year,format='%Y')\n",
      "<ipython-input-32-4a453f1d398e>:22: UserWarning: Pandas doesn't allow columns to be created via a new attribute name - see https://pandas.pydata.org/pandas-docs/stable/indexing.html#attribute-access\n",
      "  test.Timestamp = pd.to_datetime(test.year,format='%Y')\n",
      "C:\\Users\\u978275\\Anaconda3\\lib\\site-packages\\statsmodels\\tsa\\holtwinters\\model.py:427: FutureWarning: After 0.13 initialization must be handled at model creation\n",
      "  warnings.warn(\n",
      "<ipython-input-32-4a453f1d398e>:29: FutureWarning: the 'smoothing_slope'' keyword is deprecated, use 'smoothing_trend' instead\n",
      "  fit1 = Holt(np.asarray(train['forest'])).fit(smoothing_level = 0.8,smoothing_slope = 0.8)\n",
      "<ipython-input-32-4a453f1d398e>:18: UserWarning: Pandas doesn't allow columns to be created via a new attribute name - see https://pandas.pydata.org/pandas-docs/stable/indexing.html#attribute-access\n",
      "  train.Timestamp = pd.to_datetime(train.year,format='%Y')\n",
      "<ipython-input-32-4a453f1d398e>:22: UserWarning: Pandas doesn't allow columns to be created via a new attribute name - see https://pandas.pydata.org/pandas-docs/stable/indexing.html#attribute-access\n",
      "  test.Timestamp = pd.to_datetime(test.year,format='%Y')\n",
      "C:\\Users\\u978275\\Anaconda3\\lib\\site-packages\\statsmodels\\tsa\\holtwinters\\model.py:427: FutureWarning: After 0.13 initialization must be handled at model creation\n",
      "  warnings.warn(\n",
      "<ipython-input-32-4a453f1d398e>:29: FutureWarning: the 'smoothing_slope'' keyword is deprecated, use 'smoothing_trend' instead\n",
      "  fit1 = Holt(np.asarray(train['forest'])).fit(smoothing_level = 0.8,smoothing_slope = 0.8)\n",
      "<ipython-input-32-4a453f1d398e>:18: UserWarning: Pandas doesn't allow columns to be created via a new attribute name - see https://pandas.pydata.org/pandas-docs/stable/indexing.html#attribute-access\n",
      "  train.Timestamp = pd.to_datetime(train.year,format='%Y')\n",
      "<ipython-input-32-4a453f1d398e>:22: UserWarning: Pandas doesn't allow columns to be created via a new attribute name - see https://pandas.pydata.org/pandas-docs/stable/indexing.html#attribute-access\n",
      "  test.Timestamp = pd.to_datetime(test.year,format='%Y')\n",
      "C:\\Users\\u978275\\Anaconda3\\lib\\site-packages\\statsmodels\\tsa\\holtwinters\\model.py:427: FutureWarning: After 0.13 initialization must be handled at model creation\n",
      "  warnings.warn(\n",
      "<ipython-input-32-4a453f1d398e>:29: FutureWarning: the 'smoothing_slope'' keyword is deprecated, use 'smoothing_trend' instead\n",
      "  fit1 = Holt(np.asarray(train['forest'])).fit(smoothing_level = 0.8,smoothing_slope = 0.8)\n",
      "C:\\Users\\u978275\\Anaconda3\\lib\\site-packages\\statsmodels\\tsa\\holtwinters\\model.py:1439: RuntimeWarning: divide by zero encountered in log\n",
      "  aic = self.nobs * np.log(sse / self.nobs) + k * 2\n",
      "C:\\Users\\u978275\\Anaconda3\\lib\\site-packages\\statsmodels\\tsa\\holtwinters\\model.py:1445: RuntimeWarning: divide by zero encountered in log\n",
      "  bic = self.nobs * np.log(sse / self.nobs) + k * np.log(self.nobs)\n",
      "<ipython-input-32-4a453f1d398e>:18: UserWarning: Pandas doesn't allow columns to be created via a new attribute name - see https://pandas.pydata.org/pandas-docs/stable/indexing.html#attribute-access\n",
      "  train.Timestamp = pd.to_datetime(train.year,format='%Y')\n",
      "<ipython-input-32-4a453f1d398e>:22: UserWarning: Pandas doesn't allow columns to be created via a new attribute name - see https://pandas.pydata.org/pandas-docs/stable/indexing.html#attribute-access\n",
      "  test.Timestamp = pd.to_datetime(test.year,format='%Y')\n",
      "C:\\Users\\u978275\\Anaconda3\\lib\\site-packages\\statsmodels\\tsa\\holtwinters\\model.py:427: FutureWarning: After 0.13 initialization must be handled at model creation\n",
      "  warnings.warn(\n",
      "<ipython-input-32-4a453f1d398e>:29: FutureWarning: the 'smoothing_slope'' keyword is deprecated, use 'smoothing_trend' instead\n",
      "  fit1 = Holt(np.asarray(train['forest'])).fit(smoothing_level = 0.8,smoothing_slope = 0.8)\n"
     ]
    },
    {
     "name": "stdout",
     "output_type": "stream",
     "text": [
      "174.0\n",
      "207.0\n",
      "42.0\n"
     ]
    },
    {
     "name": "stderr",
     "output_type": "stream",
     "text": [
      "<ipython-input-32-4a453f1d398e>:18: UserWarning: Pandas doesn't allow columns to be created via a new attribute name - see https://pandas.pydata.org/pandas-docs/stable/indexing.html#attribute-access\n",
      "  train.Timestamp = pd.to_datetime(train.year,format='%Y')\n",
      "<ipython-input-32-4a453f1d398e>:22: UserWarning: Pandas doesn't allow columns to be created via a new attribute name - see https://pandas.pydata.org/pandas-docs/stable/indexing.html#attribute-access\n",
      "  test.Timestamp = pd.to_datetime(test.year,format='%Y')\n",
      "C:\\Users\\u978275\\Anaconda3\\lib\\site-packages\\statsmodels\\tsa\\holtwinters\\model.py:427: FutureWarning: After 0.13 initialization must be handled at model creation\n",
      "  warnings.warn(\n",
      "<ipython-input-32-4a453f1d398e>:29: FutureWarning: the 'smoothing_slope'' keyword is deprecated, use 'smoothing_trend' instead\n",
      "  fit1 = Holt(np.asarray(train['forest'])).fit(smoothing_level = 0.8,smoothing_slope = 0.8)\n",
      "<ipython-input-32-4a453f1d398e>:18: UserWarning: Pandas doesn't allow columns to be created via a new attribute name - see https://pandas.pydata.org/pandas-docs/stable/indexing.html#attribute-access\n",
      "  train.Timestamp = pd.to_datetime(train.year,format='%Y')\n",
      "<ipython-input-32-4a453f1d398e>:22: UserWarning: Pandas doesn't allow columns to be created via a new attribute name - see https://pandas.pydata.org/pandas-docs/stable/indexing.html#attribute-access\n",
      "  test.Timestamp = pd.to_datetime(test.year,format='%Y')\n",
      "C:\\Users\\u978275\\Anaconda3\\lib\\site-packages\\statsmodels\\tsa\\holtwinters\\model.py:427: FutureWarning: After 0.13 initialization must be handled at model creation\n",
      "  warnings.warn(\n",
      "<ipython-input-32-4a453f1d398e>:29: FutureWarning: the 'smoothing_slope'' keyword is deprecated, use 'smoothing_trend' instead\n",
      "  fit1 = Holt(np.asarray(train['forest'])).fit(smoothing_level = 0.8,smoothing_slope = 0.8)\n",
      "<ipython-input-32-4a453f1d398e>:18: UserWarning: Pandas doesn't allow columns to be created via a new attribute name - see https://pandas.pydata.org/pandas-docs/stable/indexing.html#attribute-access\n",
      "  train.Timestamp = pd.to_datetime(train.year,format='%Y')\n",
      "<ipython-input-32-4a453f1d398e>:22: UserWarning: Pandas doesn't allow columns to be created via a new attribute name - see https://pandas.pydata.org/pandas-docs/stable/indexing.html#attribute-access\n",
      "  test.Timestamp = pd.to_datetime(test.year,format='%Y')\n",
      "C:\\Users\\u978275\\Anaconda3\\lib\\site-packages\\statsmodels\\tsa\\holtwinters\\model.py:427: FutureWarning: After 0.13 initialization must be handled at model creation\n",
      "  warnings.warn(\n",
      "<ipython-input-32-4a453f1d398e>:29: FutureWarning: the 'smoothing_slope'' keyword is deprecated, use 'smoothing_trend' instead\n",
      "  fit1 = Holt(np.asarray(train['forest'])).fit(smoothing_level = 0.8,smoothing_slope = 0.8)\n"
     ]
    },
    {
     "name": "stdout",
     "output_type": "stream",
     "text": [
      "208.0\n",
      "147.0\n",
      "4.0\n"
     ]
    },
    {
     "name": "stderr",
     "output_type": "stream",
     "text": [
      "<ipython-input-32-4a453f1d398e>:18: UserWarning: Pandas doesn't allow columns to be created via a new attribute name - see https://pandas.pydata.org/pandas-docs/stable/indexing.html#attribute-access\n",
      "  train.Timestamp = pd.to_datetime(train.year,format='%Y')\n",
      "<ipython-input-32-4a453f1d398e>:22: UserWarning: Pandas doesn't allow columns to be created via a new attribute name - see https://pandas.pydata.org/pandas-docs/stable/indexing.html#attribute-access\n",
      "  test.Timestamp = pd.to_datetime(test.year,format='%Y')\n",
      "C:\\Users\\u978275\\Anaconda3\\lib\\site-packages\\statsmodels\\tsa\\holtwinters\\model.py:427: FutureWarning: After 0.13 initialization must be handled at model creation\n",
      "  warnings.warn(\n",
      "<ipython-input-32-4a453f1d398e>:29: FutureWarning: the 'smoothing_slope'' keyword is deprecated, use 'smoothing_trend' instead\n",
      "  fit1 = Holt(np.asarray(train['forest'])).fit(smoothing_level = 0.8,smoothing_slope = 0.8)\n",
      "C:\\Users\\u978275\\Anaconda3\\lib\\site-packages\\statsmodels\\tsa\\holtwinters\\model.py:1439: RuntimeWarning: divide by zero encountered in log\n",
      "  aic = self.nobs * np.log(sse / self.nobs) + k * 2\n",
      "C:\\Users\\u978275\\Anaconda3\\lib\\site-packages\\statsmodels\\tsa\\holtwinters\\model.py:1445: RuntimeWarning: divide by zero encountered in log\n",
      "  bic = self.nobs * np.log(sse / self.nobs) + k * np.log(self.nobs)\n",
      "<ipython-input-32-4a453f1d398e>:18: UserWarning: Pandas doesn't allow columns to be created via a new attribute name - see https://pandas.pydata.org/pandas-docs/stable/indexing.html#attribute-access\n",
      "  train.Timestamp = pd.to_datetime(train.year,format='%Y')\n",
      "<ipython-input-32-4a453f1d398e>:22: UserWarning: Pandas doesn't allow columns to be created via a new attribute name - see https://pandas.pydata.org/pandas-docs/stable/indexing.html#attribute-access\n",
      "  test.Timestamp = pd.to_datetime(test.year,format='%Y')\n",
      "C:\\Users\\u978275\\Anaconda3\\lib\\site-packages\\statsmodels\\tsa\\holtwinters\\model.py:427: FutureWarning: After 0.13 initialization must be handled at model creation\n",
      "  warnings.warn(\n",
      "<ipython-input-32-4a453f1d398e>:29: FutureWarning: the 'smoothing_slope'' keyword is deprecated, use 'smoothing_trend' instead\n",
      "  fit1 = Holt(np.asarray(train['forest'])).fit(smoothing_level = 0.8,smoothing_slope = 0.8)\n",
      "<ipython-input-32-4a453f1d398e>:18: UserWarning: Pandas doesn't allow columns to be created via a new attribute name - see https://pandas.pydata.org/pandas-docs/stable/indexing.html#attribute-access\n",
      "  train.Timestamp = pd.to_datetime(train.year,format='%Y')\n"
     ]
    },
    {
     "name": "stdout",
     "output_type": "stream",
     "text": [
      "191.0\n",
      "217.0\n"
     ]
    },
    {
     "name": "stderr",
     "output_type": "stream",
     "text": [
      "<ipython-input-32-4a453f1d398e>:22: UserWarning: Pandas doesn't allow columns to be created via a new attribute name - see https://pandas.pydata.org/pandas-docs/stable/indexing.html#attribute-access\n",
      "  test.Timestamp = pd.to_datetime(test.year,format='%Y')\n",
      "C:\\Users\\u978275\\Anaconda3\\lib\\site-packages\\statsmodels\\tsa\\holtwinters\\model.py:427: FutureWarning: After 0.13 initialization must be handled at model creation\n",
      "  warnings.warn(\n",
      "<ipython-input-32-4a453f1d398e>:29: FutureWarning: the 'smoothing_slope'' keyword is deprecated, use 'smoothing_trend' instead\n",
      "  fit1 = Holt(np.asarray(train['forest'])).fit(smoothing_level = 0.8,smoothing_slope = 0.8)\n",
      "<ipython-input-32-4a453f1d398e>:18: UserWarning: Pandas doesn't allow columns to be created via a new attribute name - see https://pandas.pydata.org/pandas-docs/stable/indexing.html#attribute-access\n",
      "  train.Timestamp = pd.to_datetime(train.year,format='%Y')\n",
      "<ipython-input-32-4a453f1d398e>:22: UserWarning: Pandas doesn't allow columns to be created via a new attribute name - see https://pandas.pydata.org/pandas-docs/stable/indexing.html#attribute-access\n",
      "  test.Timestamp = pd.to_datetime(test.year,format='%Y')\n",
      "C:\\Users\\u978275\\Anaconda3\\lib\\site-packages\\statsmodels\\tsa\\holtwinters\\model.py:427: FutureWarning: After 0.13 initialization must be handled at model creation\n",
      "  warnings.warn(\n",
      "<ipython-input-32-4a453f1d398e>:29: FutureWarning: the 'smoothing_slope'' keyword is deprecated, use 'smoothing_trend' instead\n",
      "  fit1 = Holt(np.asarray(train['forest'])).fit(smoothing_level = 0.8,smoothing_slope = 0.8)\n",
      "<ipython-input-32-4a453f1d398e>:18: UserWarning: Pandas doesn't allow columns to be created via a new attribute name - see https://pandas.pydata.org/pandas-docs/stable/indexing.html#attribute-access\n",
      "  train.Timestamp = pd.to_datetime(train.year,format='%Y')\n",
      "<ipython-input-32-4a453f1d398e>:22: UserWarning: Pandas doesn't allow columns to be created via a new attribute name - see https://pandas.pydata.org/pandas-docs/stable/indexing.html#attribute-access\n",
      "  test.Timestamp = pd.to_datetime(test.year,format='%Y')\n",
      "C:\\Users\\u978275\\Anaconda3\\lib\\site-packages\\statsmodels\\tsa\\holtwinters\\model.py:427: FutureWarning: After 0.13 initialization must be handled at model creation\n",
      "  warnings.warn(\n",
      "<ipython-input-32-4a453f1d398e>:29: FutureWarning: the 'smoothing_slope'' keyword is deprecated, use 'smoothing_trend' instead\n",
      "  fit1 = Holt(np.asarray(train['forest'])).fit(smoothing_level = 0.8,smoothing_slope = 0.8)\n"
     ]
    },
    {
     "name": "stdout",
     "output_type": "stream",
     "text": [
      "162.0\n",
      "119.0\n",
      "136.0\n"
     ]
    },
    {
     "name": "stderr",
     "output_type": "stream",
     "text": [
      "<ipython-input-32-4a453f1d398e>:18: UserWarning: Pandas doesn't allow columns to be created via a new attribute name - see https://pandas.pydata.org/pandas-docs/stable/indexing.html#attribute-access\n",
      "  train.Timestamp = pd.to_datetime(train.year,format='%Y')\n",
      "<ipython-input-32-4a453f1d398e>:22: UserWarning: Pandas doesn't allow columns to be created via a new attribute name - see https://pandas.pydata.org/pandas-docs/stable/indexing.html#attribute-access\n",
      "  test.Timestamp = pd.to_datetime(test.year,format='%Y')\n",
      "C:\\Users\\u978275\\Anaconda3\\lib\\site-packages\\statsmodels\\tsa\\holtwinters\\model.py:427: FutureWarning: After 0.13 initialization must be handled at model creation\n",
      "  warnings.warn(\n",
      "<ipython-input-32-4a453f1d398e>:29: FutureWarning: the 'smoothing_slope'' keyword is deprecated, use 'smoothing_trend' instead\n",
      "  fit1 = Holt(np.asarray(train['forest'])).fit(smoothing_level = 0.8,smoothing_slope = 0.8)\n",
      "<ipython-input-32-4a453f1d398e>:18: UserWarning: Pandas doesn't allow columns to be created via a new attribute name - see https://pandas.pydata.org/pandas-docs/stable/indexing.html#attribute-access\n",
      "  train.Timestamp = pd.to_datetime(train.year,format='%Y')\n",
      "<ipython-input-32-4a453f1d398e>:22: UserWarning: Pandas doesn't allow columns to be created via a new attribute name - see https://pandas.pydata.org/pandas-docs/stable/indexing.html#attribute-access\n",
      "  test.Timestamp = pd.to_datetime(test.year,format='%Y')\n",
      "C:\\Users\\u978275\\Anaconda3\\lib\\site-packages\\statsmodels\\tsa\\holtwinters\\model.py:427: FutureWarning: After 0.13 initialization must be handled at model creation\n",
      "  warnings.warn(\n",
      "<ipython-input-32-4a453f1d398e>:29: FutureWarning: the 'smoothing_slope'' keyword is deprecated, use 'smoothing_trend' instead\n",
      "  fit1 = Holt(np.asarray(train['forest'])).fit(smoothing_level = 0.8,smoothing_slope = 0.8)\n",
      "<ipython-input-32-4a453f1d398e>:18: UserWarning: Pandas doesn't allow columns to be created via a new attribute name - see https://pandas.pydata.org/pandas-docs/stable/indexing.html#attribute-access\n",
      "  train.Timestamp = pd.to_datetime(train.year,format='%Y')\n",
      "<ipython-input-32-4a453f1d398e>:22: UserWarning: Pandas doesn't allow columns to be created via a new attribute name - see https://pandas.pydata.org/pandas-docs/stable/indexing.html#attribute-access\n",
      "  test.Timestamp = pd.to_datetime(test.year,format='%Y')\n",
      "C:\\Users\\u978275\\Anaconda3\\lib\\site-packages\\statsmodels\\tsa\\holtwinters\\model.py:427: FutureWarning: After 0.13 initialization must be handled at model creation\n",
      "  warnings.warn(\n",
      "<ipython-input-32-4a453f1d398e>:29: FutureWarning: the 'smoothing_slope'' keyword is deprecated, use 'smoothing_trend' instead\n",
      "  fit1 = Holt(np.asarray(train['forest'])).fit(smoothing_level = 0.8,smoothing_slope = 0.8)\n",
      "C:\\Users\\u978275\\Anaconda3\\lib\\site-packages\\statsmodels\\tsa\\holtwinters\\model.py:1439: RuntimeWarning: divide by zero encountered in log\n",
      "  aic = self.nobs * np.log(sse / self.nobs) + k * 2\n",
      "C:\\Users\\u978275\\Anaconda3\\lib\\site-packages\\statsmodels\\tsa\\holtwinters\\model.py:1445: RuntimeWarning: divide by zero encountered in log\n",
      "  bic = self.nobs * np.log(sse / self.nobs) + k * np.log(self.nobs)\n"
     ]
    },
    {
     "name": "stdout",
     "output_type": "stream",
     "text": [
      "59.0\n",
      "244.0\n",
      "85.0\n"
     ]
    },
    {
     "name": "stderr",
     "output_type": "stream",
     "text": [
      "<ipython-input-32-4a453f1d398e>:18: UserWarning: Pandas doesn't allow columns to be created via a new attribute name - see https://pandas.pydata.org/pandas-docs/stable/indexing.html#attribute-access\n",
      "  train.Timestamp = pd.to_datetime(train.year,format='%Y')\n",
      "<ipython-input-32-4a453f1d398e>:22: UserWarning: Pandas doesn't allow columns to be created via a new attribute name - see https://pandas.pydata.org/pandas-docs/stable/indexing.html#attribute-access\n",
      "  test.Timestamp = pd.to_datetime(test.year,format='%Y')\n",
      "C:\\Users\\u978275\\Anaconda3\\lib\\site-packages\\statsmodels\\tsa\\holtwinters\\model.py:427: FutureWarning: After 0.13 initialization must be handled at model creation\n",
      "  warnings.warn(\n",
      "<ipython-input-32-4a453f1d398e>:29: FutureWarning: the 'smoothing_slope'' keyword is deprecated, use 'smoothing_trend' instead\n",
      "  fit1 = Holt(np.asarray(train['forest'])).fit(smoothing_level = 0.8,smoothing_slope = 0.8)\n",
      "<ipython-input-32-4a453f1d398e>:18: UserWarning: Pandas doesn't allow columns to be created via a new attribute name - see https://pandas.pydata.org/pandas-docs/stable/indexing.html#attribute-access\n",
      "  train.Timestamp = pd.to_datetime(train.year,format='%Y')\n",
      "<ipython-input-32-4a453f1d398e>:22: UserWarning: Pandas doesn't allow columns to be created via a new attribute name - see https://pandas.pydata.org/pandas-docs/stable/indexing.html#attribute-access\n",
      "  test.Timestamp = pd.to_datetime(test.year,format='%Y')\n",
      "C:\\Users\\u978275\\Anaconda3\\lib\\site-packages\\statsmodels\\tsa\\holtwinters\\model.py:427: FutureWarning: After 0.13 initialization must be handled at model creation\n",
      "  warnings.warn(\n",
      "<ipython-input-32-4a453f1d398e>:29: FutureWarning: the 'smoothing_slope'' keyword is deprecated, use 'smoothing_trend' instead\n",
      "  fit1 = Holt(np.asarray(train['forest'])).fit(smoothing_level = 0.8,smoothing_slope = 0.8)\n",
      "<ipython-input-32-4a453f1d398e>:18: UserWarning: Pandas doesn't allow columns to be created via a new attribute name - see https://pandas.pydata.org/pandas-docs/stable/indexing.html#attribute-access\n",
      "  train.Timestamp = pd.to_datetime(train.year,format='%Y')\n",
      "<ipython-input-32-4a453f1d398e>:22: UserWarning: Pandas doesn't allow columns to be created via a new attribute name - see https://pandas.pydata.org/pandas-docs/stable/indexing.html#attribute-access\n",
      "  test.Timestamp = pd.to_datetime(test.year,format='%Y')\n",
      "C:\\Users\\u978275\\Anaconda3\\lib\\site-packages\\statsmodels\\tsa\\holtwinters\\model.py:427: FutureWarning: After 0.13 initialization must be handled at model creation\n",
      "  warnings.warn(\n",
      "<ipython-input-32-4a453f1d398e>:29: FutureWarning: the 'smoothing_slope'' keyword is deprecated, use 'smoothing_trend' instead\n",
      "  fit1 = Holt(np.asarray(train['forest'])).fit(smoothing_level = 0.8,smoothing_slope = 0.8)\n"
     ]
    },
    {
     "name": "stdout",
     "output_type": "stream",
     "text": [
      "5.0\n",
      "163.0\n",
      "25.0\n"
     ]
    },
    {
     "name": "stderr",
     "output_type": "stream",
     "text": [
      "<ipython-input-32-4a453f1d398e>:18: UserWarning: Pandas doesn't allow columns to be created via a new attribute name - see https://pandas.pydata.org/pandas-docs/stable/indexing.html#attribute-access\n",
      "  train.Timestamp = pd.to_datetime(train.year,format='%Y')\n",
      "<ipython-input-32-4a453f1d398e>:22: UserWarning: Pandas doesn't allow columns to be created via a new attribute name - see https://pandas.pydata.org/pandas-docs/stable/indexing.html#attribute-access\n",
      "  test.Timestamp = pd.to_datetime(test.year,format='%Y')\n",
      "C:\\Users\\u978275\\Anaconda3\\lib\\site-packages\\statsmodels\\tsa\\holtwinters\\model.py:427: FutureWarning: After 0.13 initialization must be handled at model creation\n",
      "  warnings.warn(\n",
      "<ipython-input-32-4a453f1d398e>:29: FutureWarning: the 'smoothing_slope'' keyword is deprecated, use 'smoothing_trend' instead\n",
      "  fit1 = Holt(np.asarray(train['forest'])).fit(smoothing_level = 0.8,smoothing_slope = 0.8)\n",
      "<ipython-input-32-4a453f1d398e>:18: UserWarning: Pandas doesn't allow columns to be created via a new attribute name - see https://pandas.pydata.org/pandas-docs/stable/indexing.html#attribute-access\n",
      "  train.Timestamp = pd.to_datetime(train.year,format='%Y')\n",
      "<ipython-input-32-4a453f1d398e>:22: UserWarning: Pandas doesn't allow columns to be created via a new attribute name - see https://pandas.pydata.org/pandas-docs/stable/indexing.html#attribute-access\n",
      "  test.Timestamp = pd.to_datetime(test.year,format='%Y')\n",
      "C:\\Users\\u978275\\Anaconda3\\lib\\site-packages\\statsmodels\\tsa\\holtwinters\\model.py:427: FutureWarning: After 0.13 initialization must be handled at model creation\n",
      "  warnings.warn(\n",
      "<ipython-input-32-4a453f1d398e>:29: FutureWarning: the 'smoothing_slope'' keyword is deprecated, use 'smoothing_trend' instead\n",
      "  fit1 = Holt(np.asarray(train['forest'])).fit(smoothing_level = 0.8,smoothing_slope = 0.8)\n",
      "C:\\Users\\u978275\\Anaconda3\\lib\\site-packages\\statsmodels\\tsa\\holtwinters\\model.py:920: ConvergenceWarning: Optimization failed to converge. Check mle_retvals.\n",
      "  warnings.warn(\n"
     ]
    },
    {
     "name": "stdout",
     "output_type": "stream",
     "text": [
      "175.0\n"
     ]
    },
    {
     "name": "stderr",
     "output_type": "stream",
     "text": [
      "<ipython-input-32-4a453f1d398e>:18: UserWarning: Pandas doesn't allow columns to be created via a new attribute name - see https://pandas.pydata.org/pandas-docs/stable/indexing.html#attribute-access\n",
      "  train.Timestamp = pd.to_datetime(train.year,format='%Y')\n",
      "<ipython-input-32-4a453f1d398e>:22: UserWarning: Pandas doesn't allow columns to be created via a new attribute name - see https://pandas.pydata.org/pandas-docs/stable/indexing.html#attribute-access\n",
      "  test.Timestamp = pd.to_datetime(test.year,format='%Y')\n",
      "C:\\Users\\u978275\\Anaconda3\\lib\\site-packages\\statsmodels\\tsa\\holtwinters\\model.py:427: FutureWarning: After 0.13 initialization must be handled at model creation\n",
      "  warnings.warn(\n",
      "<ipython-input-32-4a453f1d398e>:29: FutureWarning: the 'smoothing_slope'' keyword is deprecated, use 'smoothing_trend' instead\n",
      "  fit1 = Holt(np.asarray(train['forest'])).fit(smoothing_level = 0.8,smoothing_slope = 0.8)\n",
      "<ipython-input-32-4a453f1d398e>:18: UserWarning: Pandas doesn't allow columns to be created via a new attribute name - see https://pandas.pydata.org/pandas-docs/stable/indexing.html#attribute-access\n",
      "  train.Timestamp = pd.to_datetime(train.year,format='%Y')\n",
      "<ipython-input-32-4a453f1d398e>:22: UserWarning: Pandas doesn't allow columns to be created via a new attribute name - see https://pandas.pydata.org/pandas-docs/stable/indexing.html#attribute-access\n",
      "  test.Timestamp = pd.to_datetime(test.year,format='%Y')\n",
      "C:\\Users\\u978275\\Anaconda3\\lib\\site-packages\\statsmodels\\tsa\\holtwinters\\model.py:427: FutureWarning: After 0.13 initialization must be handled at model creation\n",
      "  warnings.warn(\n",
      "<ipython-input-32-4a453f1d398e>:29: FutureWarning: the 'smoothing_slope'' keyword is deprecated, use 'smoothing_trend' instead\n",
      "  fit1 = Holt(np.asarray(train['forest'])).fit(smoothing_level = 0.8,smoothing_slope = 0.8)\n"
     ]
    },
    {
     "name": "stdout",
     "output_type": "stream",
     "text": [
      "164.0\n",
      "192.0\n",
      "116.0\n"
     ]
    },
    {
     "name": "stderr",
     "output_type": "stream",
     "text": [
      "<ipython-input-32-4a453f1d398e>:18: UserWarning: Pandas doesn't allow columns to be created via a new attribute name - see https://pandas.pydata.org/pandas-docs/stable/indexing.html#attribute-access\n",
      "  train.Timestamp = pd.to_datetime(train.year,format='%Y')\n",
      "<ipython-input-32-4a453f1d398e>:22: UserWarning: Pandas doesn't allow columns to be created via a new attribute name - see https://pandas.pydata.org/pandas-docs/stable/indexing.html#attribute-access\n",
      "  test.Timestamp = pd.to_datetime(test.year,format='%Y')\n",
      "C:\\Users\\u978275\\Anaconda3\\lib\\site-packages\\statsmodels\\tsa\\holtwinters\\model.py:427: FutureWarning: After 0.13 initialization must be handled at model creation\n",
      "  warnings.warn(\n",
      "<ipython-input-32-4a453f1d398e>:29: FutureWarning: the 'smoothing_slope'' keyword is deprecated, use 'smoothing_trend' instead\n",
      "  fit1 = Holt(np.asarray(train['forest'])).fit(smoothing_level = 0.8,smoothing_slope = 0.8)\n",
      "<ipython-input-32-4a453f1d398e>:18: UserWarning: Pandas doesn't allow columns to be created via a new attribute name - see https://pandas.pydata.org/pandas-docs/stable/indexing.html#attribute-access\n",
      "  train.Timestamp = pd.to_datetime(train.year,format='%Y')\n",
      "<ipython-input-32-4a453f1d398e>:22: UserWarning: Pandas doesn't allow columns to be created via a new attribute name - see https://pandas.pydata.org/pandas-docs/stable/indexing.html#attribute-access\n",
      "  test.Timestamp = pd.to_datetime(test.year,format='%Y')\n",
      "C:\\Users\\u978275\\Anaconda3\\lib\\site-packages\\statsmodels\\tsa\\holtwinters\\model.py:427: FutureWarning: After 0.13 initialization must be handled at model creation\n",
      "  warnings.warn(\n",
      "<ipython-input-32-4a453f1d398e>:29: FutureWarning: the 'smoothing_slope'' keyword is deprecated, use 'smoothing_trend' instead\n",
      "  fit1 = Holt(np.asarray(train['forest'])).fit(smoothing_level = 0.8,smoothing_slope = 0.8)\n"
     ]
    },
    {
     "name": "stdout",
     "output_type": "stream",
     "text": [
      "110.0\n",
      "138.0\n"
     ]
    },
    {
     "name": "stderr",
     "output_type": "stream",
     "text": [
      "<ipython-input-32-4a453f1d398e>:18: UserWarning: Pandas doesn't allow columns to be created via a new attribute name - see https://pandas.pydata.org/pandas-docs/stable/indexing.html#attribute-access\n",
      "  train.Timestamp = pd.to_datetime(train.year,format='%Y')\n",
      "<ipython-input-32-4a453f1d398e>:22: UserWarning: Pandas doesn't allow columns to be created via a new attribute name - see https://pandas.pydata.org/pandas-docs/stable/indexing.html#attribute-access\n",
      "  test.Timestamp = pd.to_datetime(test.year,format='%Y')\n",
      "C:\\Users\\u978275\\Anaconda3\\lib\\site-packages\\statsmodels\\tsa\\holtwinters\\model.py:427: FutureWarning: After 0.13 initialization must be handled at model creation\n",
      "  warnings.warn(\n",
      "<ipython-input-32-4a453f1d398e>:29: FutureWarning: the 'smoothing_slope'' keyword is deprecated, use 'smoothing_trend' instead\n",
      "  fit1 = Holt(np.asarray(train['forest'])).fit(smoothing_level = 0.8,smoothing_slope = 0.8)\n",
      "C:\\Users\\u978275\\Anaconda3\\lib\\site-packages\\statsmodels\\tsa\\holtwinters\\model.py:1439: RuntimeWarning: divide by zero encountered in log\n",
      "  aic = self.nobs * np.log(sse / self.nobs) + k * 2\n",
      "C:\\Users\\u978275\\Anaconda3\\lib\\site-packages\\statsmodels\\tsa\\holtwinters\\model.py:1445: RuntimeWarning: divide by zero encountered in log\n",
      "  bic = self.nobs * np.log(sse / self.nobs) + k * np.log(self.nobs)\n",
      "<ipython-input-32-4a453f1d398e>:18: UserWarning: Pandas doesn't allow columns to be created via a new attribute name - see https://pandas.pydata.org/pandas-docs/stable/indexing.html#attribute-access\n",
      "  train.Timestamp = pd.to_datetime(train.year,format='%Y')\n",
      "<ipython-input-32-4a453f1d398e>:22: UserWarning: Pandas doesn't allow columns to be created via a new attribute name - see https://pandas.pydata.org/pandas-docs/stable/indexing.html#attribute-access\n",
      "  test.Timestamp = pd.to_datetime(test.year,format='%Y')\n",
      "C:\\Users\\u978275\\Anaconda3\\lib\\site-packages\\statsmodels\\tsa\\holtwinters\\model.py:427: FutureWarning: After 0.13 initialization must be handled at model creation\n",
      "  warnings.warn(\n",
      "<ipython-input-32-4a453f1d398e>:29: FutureWarning: the 'smoothing_slope'' keyword is deprecated, use 'smoothing_trend' instead\n",
      "  fit1 = Holt(np.asarray(train['forest'])).fit(smoothing_level = 0.8,smoothing_slope = 0.8)\n",
      "C:\\Users\\u978275\\Anaconda3\\lib\\site-packages\\statsmodels\\tsa\\holtwinters\\model.py:1439: RuntimeWarning: divide by zero encountered in log\n",
      "  aic = self.nobs * np.log(sse / self.nobs) + k * 2\n",
      "C:\\Users\\u978275\\Anaconda3\\lib\\site-packages\\statsmodels\\tsa\\holtwinters\\model.py:1445: RuntimeWarning: divide by zero encountered in log\n",
      "  bic = self.nobs * np.log(sse / self.nobs) + k * np.log(self.nobs)\n",
      "<ipython-input-32-4a453f1d398e>:18: UserWarning: Pandas doesn't allow columns to be created via a new attribute name - see https://pandas.pydata.org/pandas-docs/stable/indexing.html#attribute-access\n",
      "  train.Timestamp = pd.to_datetime(train.year,format='%Y')\n",
      "<ipython-input-32-4a453f1d398e>:22: UserWarning: Pandas doesn't allow columns to be created via a new attribute name - see https://pandas.pydata.org/pandas-docs/stable/indexing.html#attribute-access\n",
      "  test.Timestamp = pd.to_datetime(test.year,format='%Y')\n"
     ]
    },
    {
     "name": "stdout",
     "output_type": "stream",
     "text": [
      "165.0\n",
      "27.0\n",
      "28.0\n"
     ]
    },
    {
     "name": "stderr",
     "output_type": "stream",
     "text": [
      "C:\\Users\\u978275\\Anaconda3\\lib\\site-packages\\statsmodels\\tsa\\holtwinters\\model.py:427: FutureWarning: After 0.13 initialization must be handled at model creation\n",
      "  warnings.warn(\n",
      "<ipython-input-32-4a453f1d398e>:29: FutureWarning: the 'smoothing_slope'' keyword is deprecated, use 'smoothing_trend' instead\n",
      "  fit1 = Holt(np.asarray(train['forest'])).fit(smoothing_level = 0.8,smoothing_slope = 0.8)\n",
      "<ipython-input-32-4a453f1d398e>:18: UserWarning: Pandas doesn't allow columns to be created via a new attribute name - see https://pandas.pydata.org/pandas-docs/stable/indexing.html#attribute-access\n",
      "  train.Timestamp = pd.to_datetime(train.year,format='%Y')\n",
      "<ipython-input-32-4a453f1d398e>:22: UserWarning: Pandas doesn't allow columns to be created via a new attribute name - see https://pandas.pydata.org/pandas-docs/stable/indexing.html#attribute-access\n",
      "  test.Timestamp = pd.to_datetime(test.year,format='%Y')\n",
      "C:\\Users\\u978275\\Anaconda3\\lib\\site-packages\\statsmodels\\tsa\\holtwinters\\model.py:427: FutureWarning: After 0.13 initialization must be handled at model creation\n",
      "  warnings.warn(\n",
      "<ipython-input-32-4a453f1d398e>:29: FutureWarning: the 'smoothing_slope'' keyword is deprecated, use 'smoothing_trend' instead\n",
      "  fit1 = Holt(np.asarray(train['forest'])).fit(smoothing_level = 0.8,smoothing_slope = 0.8)\n",
      "<ipython-input-32-4a453f1d398e>:18: UserWarning: Pandas doesn't allow columns to be created via a new attribute name - see https://pandas.pydata.org/pandas-docs/stable/indexing.html#attribute-access\n",
      "  train.Timestamp = pd.to_datetime(train.year,format='%Y')\n",
      "<ipython-input-32-4a453f1d398e>:22: UserWarning: Pandas doesn't allow columns to be created via a new attribute name - see https://pandas.pydata.org/pandas-docs/stable/indexing.html#attribute-access\n",
      "  test.Timestamp = pd.to_datetime(test.year,format='%Y')\n"
     ]
    },
    {
     "name": "stdout",
     "output_type": "stream",
     "text": [
      "62.0\n",
      "29.0\n"
     ]
    },
    {
     "name": "stderr",
     "output_type": "stream",
     "text": [
      "C:\\Users\\u978275\\Anaconda3\\lib\\site-packages\\statsmodels\\tsa\\holtwinters\\model.py:427: FutureWarning: After 0.13 initialization must be handled at model creation\n",
      "  warnings.warn(\n",
      "<ipython-input-32-4a453f1d398e>:29: FutureWarning: the 'smoothing_slope'' keyword is deprecated, use 'smoothing_trend' instead\n",
      "  fit1 = Holt(np.asarray(train['forest'])).fit(smoothing_level = 0.8,smoothing_slope = 0.8)\n",
      "C:\\Users\\u978275\\Anaconda3\\lib\\site-packages\\statsmodels\\tsa\\holtwinters\\model.py:1439: RuntimeWarning: divide by zero encountered in log\n",
      "  aic = self.nobs * np.log(sse / self.nobs) + k * 2\n",
      "C:\\Users\\u978275\\Anaconda3\\lib\\site-packages\\statsmodels\\tsa\\holtwinters\\model.py:1445: RuntimeWarning: divide by zero encountered in log\n",
      "  bic = self.nobs * np.log(sse / self.nobs) + k * np.log(self.nobs)\n",
      "<ipython-input-32-4a453f1d398e>:18: UserWarning: Pandas doesn't allow columns to be created via a new attribute name - see https://pandas.pydata.org/pandas-docs/stable/indexing.html#attribute-access\n",
      "  train.Timestamp = pd.to_datetime(train.year,format='%Y')\n",
      "<ipython-input-32-4a453f1d398e>:22: UserWarning: Pandas doesn't allow columns to be created via a new attribute name - see https://pandas.pydata.org/pandas-docs/stable/indexing.html#attribute-access\n",
      "  test.Timestamp = pd.to_datetime(test.year,format='%Y')\n",
      "C:\\Users\\u978275\\Anaconda3\\lib\\site-packages\\statsmodels\\tsa\\holtwinters\\model.py:427: FutureWarning: After 0.13 initialization must be handled at model creation\n",
      "  warnings.warn(\n",
      "<ipython-input-32-4a453f1d398e>:29: FutureWarning: the 'smoothing_slope'' keyword is deprecated, use 'smoothing_trend' instead\n",
      "  fit1 = Holt(np.asarray(train['forest'])).fit(smoothing_level = 0.8,smoothing_slope = 0.8)\n",
      "C:\\Users\\u978275\\Anaconda3\\lib\\site-packages\\statsmodels\\tsa\\holtwinters\\model.py:920: ConvergenceWarning: Optimization failed to converge. Check mle_retvals.\n",
      "  warnings.warn(\n",
      "<ipython-input-32-4a453f1d398e>:18: UserWarning: Pandas doesn't allow columns to be created via a new attribute name - see https://pandas.pydata.org/pandas-docs/stable/indexing.html#attribute-access\n",
      "  train.Timestamp = pd.to_datetime(train.year,format='%Y')\n",
      "<ipython-input-32-4a453f1d398e>:22: UserWarning: Pandas doesn't allow columns to be created via a new attribute name - see https://pandas.pydata.org/pandas-docs/stable/indexing.html#attribute-access\n",
      "  test.Timestamp = pd.to_datetime(test.year,format='%Y')\n",
      "C:\\Users\\u978275\\Anaconda3\\lib\\site-packages\\statsmodels\\tsa\\holtwinters\\model.py:427: FutureWarning: After 0.13 initialization must be handled at model creation\n",
      "  warnings.warn(\n",
      "<ipython-input-32-4a453f1d398e>:29: FutureWarning: the 'smoothing_slope'' keyword is deprecated, use 'smoothing_trend' instead\n",
      "  fit1 = Holt(np.asarray(train['forest'])).fit(smoothing_level = 0.8,smoothing_slope = 0.8)\n",
      "C:\\Users\\u978275\\Anaconda3\\lib\\site-packages\\statsmodels\\tsa\\holtwinters\\model.py:1439: RuntimeWarning: divide by zero encountered in log\n",
      "  aic = self.nobs * np.log(sse / self.nobs) + k * 2\n",
      "C:\\Users\\u978275\\Anaconda3\\lib\\site-packages\\statsmodels\\tsa\\holtwinters\\model.py:1445: RuntimeWarning: divide by zero encountered in log\n",
      "  bic = self.nobs * np.log(sse / self.nobs) + k * np.log(self.nobs)\n",
      "<ipython-input-32-4a453f1d398e>:18: UserWarning: Pandas doesn't allow columns to be created via a new attribute name - see https://pandas.pydata.org/pandas-docs/stable/indexing.html#attribute-access\n",
      "  train.Timestamp = pd.to_datetime(train.year,format='%Y')\n"
     ]
    },
    {
     "name": "stdout",
     "output_type": "stream",
     "text": [
      "194.0\n",
      "237.0\n"
     ]
    },
    {
     "name": "stderr",
     "output_type": "stream",
     "text": [
      "<ipython-input-32-4a453f1d398e>:22: UserWarning: Pandas doesn't allow columns to be created via a new attribute name - see https://pandas.pydata.org/pandas-docs/stable/indexing.html#attribute-access\n",
      "  test.Timestamp = pd.to_datetime(test.year,format='%Y')\n",
      "C:\\Users\\u978275\\Anaconda3\\lib\\site-packages\\statsmodels\\tsa\\holtwinters\\model.py:427: FutureWarning: After 0.13 initialization must be handled at model creation\n",
      "  warnings.warn(\n",
      "<ipython-input-32-4a453f1d398e>:29: FutureWarning: the 'smoothing_slope'' keyword is deprecated, use 'smoothing_trend' instead\n",
      "  fit1 = Holt(np.asarray(train['forest'])).fit(smoothing_level = 0.8,smoothing_slope = 0.8)\n",
      "<ipython-input-32-4a453f1d398e>:18: UserWarning: Pandas doesn't allow columns to be created via a new attribute name - see https://pandas.pydata.org/pandas-docs/stable/indexing.html#attribute-access\n",
      "  train.Timestamp = pd.to_datetime(train.year,format='%Y')\n",
      "<ipython-input-32-4a453f1d398e>:22: UserWarning: Pandas doesn't allow columns to be created via a new attribute name - see https://pandas.pydata.org/pandas-docs/stable/indexing.html#attribute-access\n",
      "  test.Timestamp = pd.to_datetime(test.year,format='%Y')\n",
      "C:\\Users\\u978275\\Anaconda3\\lib\\site-packages\\statsmodels\\tsa\\holtwinters\\model.py:427: FutureWarning: After 0.13 initialization must be handled at model creation\n",
      "  warnings.warn(\n",
      "<ipython-input-32-4a453f1d398e>:29: FutureWarning: the 'smoothing_slope'' keyword is deprecated, use 'smoothing_trend' instead\n",
      "  fit1 = Holt(np.asarray(train['forest'])).fit(smoothing_level = 0.8,smoothing_slope = 0.8)\n",
      "<ipython-input-32-4a453f1d398e>:18: UserWarning: Pandas doesn't allow columns to be created via a new attribute name - see https://pandas.pydata.org/pandas-docs/stable/indexing.html#attribute-access\n",
      "  train.Timestamp = pd.to_datetime(train.year,format='%Y')\n",
      "<ipython-input-32-4a453f1d398e>:22: UserWarning: Pandas doesn't allow columns to be created via a new attribute name - see https://pandas.pydata.org/pandas-docs/stable/indexing.html#attribute-access\n",
      "  test.Timestamp = pd.to_datetime(test.year,format='%Y')\n",
      "C:\\Users\\u978275\\Anaconda3\\lib\\site-packages\\statsmodels\\tsa\\holtwinters\\model.py:427: FutureWarning: After 0.13 initialization must be handled at model creation\n",
      "  warnings.warn(\n",
      "<ipython-input-32-4a453f1d398e>:29: FutureWarning: the 'smoothing_slope'' keyword is deprecated, use 'smoothing_trend' instead\n",
      "  fit1 = Holt(np.asarray(train['forest'])).fit(smoothing_level = 0.8,smoothing_slope = 0.8)\n"
     ]
    },
    {
     "name": "stdout",
     "output_type": "stream",
     "text": [
      "61.0\n",
      "149.0\n",
      "44.0\n"
     ]
    },
    {
     "name": "stderr",
     "output_type": "stream",
     "text": [
      "<ipython-input-32-4a453f1d398e>:18: UserWarning: Pandas doesn't allow columns to be created via a new attribute name - see https://pandas.pydata.org/pandas-docs/stable/indexing.html#attribute-access\n",
      "  train.Timestamp = pd.to_datetime(train.year,format='%Y')\n",
      "<ipython-input-32-4a453f1d398e>:22: UserWarning: Pandas doesn't allow columns to be created via a new attribute name - see https://pandas.pydata.org/pandas-docs/stable/indexing.html#attribute-access\n",
      "  test.Timestamp = pd.to_datetime(test.year,format='%Y')\n",
      "C:\\Users\\u978275\\Anaconda3\\lib\\site-packages\\statsmodels\\tsa\\holtwinters\\model.py:427: FutureWarning: After 0.13 initialization must be handled at model creation\n",
      "  warnings.warn(\n",
      "<ipython-input-32-4a453f1d398e>:29: FutureWarning: the 'smoothing_slope'' keyword is deprecated, use 'smoothing_trend' instead\n",
      "  fit1 = Holt(np.asarray(train['forest'])).fit(smoothing_level = 0.8,smoothing_slope = 0.8)\n",
      "<ipython-input-32-4a453f1d398e>:18: UserWarning: Pandas doesn't allow columns to be created via a new attribute name - see https://pandas.pydata.org/pandas-docs/stable/indexing.html#attribute-access\n",
      "  train.Timestamp = pd.to_datetime(train.year,format='%Y')\n",
      "<ipython-input-32-4a453f1d398e>:22: UserWarning: Pandas doesn't allow columns to be created via a new attribute name - see https://pandas.pydata.org/pandas-docs/stable/indexing.html#attribute-access\n",
      "  test.Timestamp = pd.to_datetime(test.year,format='%Y')\n",
      "C:\\Users\\u978275\\Anaconda3\\lib\\site-packages\\statsmodels\\tsa\\holtwinters\\model.py:427: FutureWarning: After 0.13 initialization must be handled at model creation\n",
      "  warnings.warn(\n",
      "<ipython-input-32-4a453f1d398e>:29: FutureWarning: the 'smoothing_slope'' keyword is deprecated, use 'smoothing_trend' instead\n",
      "  fit1 = Holt(np.asarray(train['forest'])).fit(smoothing_level = 0.8,smoothing_slope = 0.8)\n",
      "C:\\Users\\u978275\\Anaconda3\\lib\\site-packages\\statsmodels\\tsa\\holtwinters\\model.py:1439: RuntimeWarning: divide by zero encountered in log\n",
      "  aic = self.nobs * np.log(sse / self.nobs) + k * 2\n",
      "C:\\Users\\u978275\\Anaconda3\\lib\\site-packages\\statsmodels\\tsa\\holtwinters\\model.py:1445: RuntimeWarning: divide by zero encountered in log\n",
      "  bic = self.nobs * np.log(sse / self.nobs) + k * np.log(self.nobs)\n",
      "<ipython-input-32-4a453f1d398e>:18: UserWarning: Pandas doesn't allow columns to be created via a new attribute name - see https://pandas.pydata.org/pandas-docs/stable/indexing.html#attribute-access\n",
      "  train.Timestamp = pd.to_datetime(train.year,format='%Y')\n",
      "<ipython-input-32-4a453f1d398e>:22: UserWarning: Pandas doesn't allow columns to be created via a new attribute name - see https://pandas.pydata.org/pandas-docs/stable/indexing.html#attribute-access\n",
      "  test.Timestamp = pd.to_datetime(test.year,format='%Y')\n"
     ]
    },
    {
     "name": "stdout",
     "output_type": "stream",
     "text": [
      "63.0\n",
      "195.0\n"
     ]
    },
    {
     "name": "stderr",
     "output_type": "stream",
     "text": [
      "C:\\Users\\u978275\\Anaconda3\\lib\\site-packages\\statsmodels\\tsa\\holtwinters\\model.py:427: FutureWarning: After 0.13 initialization must be handled at model creation\n",
      "  warnings.warn(\n",
      "<ipython-input-32-4a453f1d398e>:29: FutureWarning: the 'smoothing_slope'' keyword is deprecated, use 'smoothing_trend' instead\n",
      "  fit1 = Holt(np.asarray(train['forest'])).fit(smoothing_level = 0.8,smoothing_slope = 0.8)\n",
      "<ipython-input-32-4a453f1d398e>:18: UserWarning: Pandas doesn't allow columns to be created via a new attribute name - see https://pandas.pydata.org/pandas-docs/stable/indexing.html#attribute-access\n",
      "  train.Timestamp = pd.to_datetime(train.year,format='%Y')\n",
      "<ipython-input-32-4a453f1d398e>:22: UserWarning: Pandas doesn't allow columns to be created via a new attribute name - see https://pandas.pydata.org/pandas-docs/stable/indexing.html#attribute-access\n",
      "  test.Timestamp = pd.to_datetime(test.year,format='%Y')\n",
      "C:\\Users\\u978275\\Anaconda3\\lib\\site-packages\\statsmodels\\tsa\\holtwinters\\model.py:427: FutureWarning: After 0.13 initialization must be handled at model creation\n",
      "  warnings.warn(\n",
      "<ipython-input-32-4a453f1d398e>:29: FutureWarning: the 'smoothing_slope'' keyword is deprecated, use 'smoothing_trend' instead\n",
      "  fit1 = Holt(np.asarray(train['forest'])).fit(smoothing_level = 0.8,smoothing_slope = 0.8)\n"
     ]
    },
    {
     "name": "stdout",
     "output_type": "stream",
     "text": [
      "166.0\n"
     ]
    },
    {
     "name": "stderr",
     "output_type": "stream",
     "text": [
      "C:\\Users\\u978275\\Anaconda3\\lib\\site-packages\\statsmodels\\tsa\\holtwinters\\model.py:920: ConvergenceWarning: Optimization failed to converge. Check mle_retvals.\n",
      "  warnings.warn(\n",
      "<ipython-input-32-4a453f1d398e>:18: UserWarning: Pandas doesn't allow columns to be created via a new attribute name - see https://pandas.pydata.org/pandas-docs/stable/indexing.html#attribute-access\n",
      "  train.Timestamp = pd.to_datetime(train.year,format='%Y')\n",
      "<ipython-input-32-4a453f1d398e>:22: UserWarning: Pandas doesn't allow columns to be created via a new attribute name - see https://pandas.pydata.org/pandas-docs/stable/indexing.html#attribute-access\n",
      "  test.Timestamp = pd.to_datetime(test.year,format='%Y')\n",
      "C:\\Users\\u978275\\Anaconda3\\lib\\site-packages\\statsmodels\\tsa\\holtwinters\\model.py:427: FutureWarning: After 0.13 initialization must be handled at model creation\n",
      "  warnings.warn(\n",
      "<ipython-input-32-4a453f1d398e>:29: FutureWarning: the 'smoothing_slope'' keyword is deprecated, use 'smoothing_trend' instead\n",
      "  fit1 = Holt(np.asarray(train['forest'])).fit(smoothing_level = 0.8,smoothing_slope = 0.8)\n",
      "C:\\Users\\u978275\\Anaconda3\\lib\\site-packages\\statsmodels\\tsa\\holtwinters\\model.py:1439: RuntimeWarning: divide by zero encountered in log\n",
      "  aic = self.nobs * np.log(sse / self.nobs) + k * 2\n",
      "C:\\Users\\u978275\\Anaconda3\\lib\\site-packages\\statsmodels\\tsa\\holtwinters\\model.py:1445: RuntimeWarning: divide by zero encountered in log\n",
      "  bic = self.nobs * np.log(sse / self.nobs) + k * np.log(self.nobs)\n"
     ]
    },
    {
     "name": "stdout",
     "output_type": "stream",
     "text": [
      "112.0\n",
      "141.0\n"
     ]
    },
    {
     "name": "stderr",
     "output_type": "stream",
     "text": [
      "<ipython-input-32-4a453f1d398e>:18: UserWarning: Pandas doesn't allow columns to be created via a new attribute name - see https://pandas.pydata.org/pandas-docs/stable/indexing.html#attribute-access\n",
      "  train.Timestamp = pd.to_datetime(train.year,format='%Y')\n",
      "<ipython-input-32-4a453f1d398e>:22: UserWarning: Pandas doesn't allow columns to be created via a new attribute name - see https://pandas.pydata.org/pandas-docs/stable/indexing.html#attribute-access\n",
      "  test.Timestamp = pd.to_datetime(test.year,format='%Y')\n",
      "C:\\Users\\u978275\\Anaconda3\\lib\\site-packages\\statsmodels\\tsa\\holtwinters\\model.py:427: FutureWarning: After 0.13 initialization must be handled at model creation\n",
      "  warnings.warn(\n",
      "<ipython-input-32-4a453f1d398e>:29: FutureWarning: the 'smoothing_slope'' keyword is deprecated, use 'smoothing_trend' instead\n",
      "  fit1 = Holt(np.asarray(train['forest'])).fit(smoothing_level = 0.8,smoothing_slope = 0.8)\n",
      "<ipython-input-32-4a453f1d398e>:18: UserWarning: Pandas doesn't allow columns to be created via a new attribute name - see https://pandas.pydata.org/pandas-docs/stable/indexing.html#attribute-access\n",
      "  train.Timestamp = pd.to_datetime(train.year,format='%Y')\n",
      "<ipython-input-32-4a453f1d398e>:22: UserWarning: Pandas doesn't allow columns to be created via a new attribute name - see https://pandas.pydata.org/pandas-docs/stable/indexing.html#attribute-access\n",
      "  test.Timestamp = pd.to_datetime(test.year,format='%Y')\n"
     ]
    },
    {
     "name": "stdout",
     "output_type": "stream",
     "text": [
      "9.0\n",
      "45.0\n"
     ]
    },
    {
     "name": "stderr",
     "output_type": "stream",
     "text": [
      "C:\\Users\\u978275\\Anaconda3\\lib\\site-packages\\statsmodels\\tsa\\holtwinters\\model.py:427: FutureWarning: After 0.13 initialization must be handled at model creation\n",
      "  warnings.warn(\n",
      "<ipython-input-32-4a453f1d398e>:29: FutureWarning: the 'smoothing_slope'' keyword is deprecated, use 'smoothing_trend' instead\n",
      "  fit1 = Holt(np.asarray(train['forest'])).fit(smoothing_level = 0.8,smoothing_slope = 0.8)\n",
      "<ipython-input-32-4a453f1d398e>:18: UserWarning: Pandas doesn't allow columns to be created via a new attribute name - see https://pandas.pydata.org/pandas-docs/stable/indexing.html#attribute-access\n",
      "  train.Timestamp = pd.to_datetime(train.year,format='%Y')\n",
      "<ipython-input-32-4a453f1d398e>:22: UserWarning: Pandas doesn't allow columns to be created via a new attribute name - see https://pandas.pydata.org/pandas-docs/stable/indexing.html#attribute-access\n",
      "  test.Timestamp = pd.to_datetime(test.year,format='%Y')\n",
      "C:\\Users\\u978275\\Anaconda3\\lib\\site-packages\\statsmodels\\tsa\\holtwinters\\model.py:427: FutureWarning: After 0.13 initialization must be handled at model creation\n",
      "  warnings.warn(\n",
      "<ipython-input-32-4a453f1d398e>:29: FutureWarning: the 'smoothing_slope'' keyword is deprecated, use 'smoothing_trend' instead\n",
      "  fit1 = Holt(np.asarray(train['forest'])).fit(smoothing_level = 0.8,smoothing_slope = 0.8)\n"
     ]
    },
    {
     "name": "stdout",
     "output_type": "stream",
     "text": [
      "67.0\n",
      "10.0\n"
     ]
    },
    {
     "name": "stderr",
     "output_type": "stream",
     "text": [
      "<ipython-input-32-4a453f1d398e>:18: UserWarning: Pandas doesn't allow columns to be created via a new attribute name - see https://pandas.pydata.org/pandas-docs/stable/indexing.html#attribute-access\n",
      "  train.Timestamp = pd.to_datetime(train.year,format='%Y')\n",
      "<ipython-input-32-4a453f1d398e>:22: UserWarning: Pandas doesn't allow columns to be created via a new attribute name - see https://pandas.pydata.org/pandas-docs/stable/indexing.html#attribute-access\n",
      "  test.Timestamp = pd.to_datetime(test.year,format='%Y')\n",
      "C:\\Users\\u978275\\Anaconda3\\lib\\site-packages\\statsmodels\\tsa\\holtwinters\\model.py:427: FutureWarning: After 0.13 initialization must be handled at model creation\n",
      "  warnings.warn(\n",
      "<ipython-input-32-4a453f1d398e>:29: FutureWarning: the 'smoothing_slope'' keyword is deprecated, use 'smoothing_trend' instead\n",
      "  fit1 = Holt(np.asarray(train['forest'])).fit(smoothing_level = 0.8,smoothing_slope = 0.8)\n",
      "<ipython-input-32-4a453f1d398e>:18: UserWarning: Pandas doesn't allow columns to be created via a new attribute name - see https://pandas.pydata.org/pandas-docs/stable/indexing.html#attribute-access\n",
      "  train.Timestamp = pd.to_datetime(train.year,format='%Y')\n",
      "<ipython-input-32-4a453f1d398e>:22: UserWarning: Pandas doesn't allow columns to be created via a new attribute name - see https://pandas.pydata.org/pandas-docs/stable/indexing.html#attribute-access\n",
      "  test.Timestamp = pd.to_datetime(test.year,format='%Y')\n",
      "C:\\Users\\u978275\\Anaconda3\\lib\\site-packages\\statsmodels\\tsa\\holtwinters\\model.py:427: FutureWarning: After 0.13 initialization must be handled at model creation\n",
      "  warnings.warn(\n",
      "<ipython-input-32-4a453f1d398e>:29: FutureWarning: the 'smoothing_slope'' keyword is deprecated, use 'smoothing_trend' instead\n",
      "  fit1 = Holt(np.asarray(train['forest'])).fit(smoothing_level = 0.8,smoothing_slope = 0.8)\n",
      "C:\\Users\\u978275\\Anaconda3\\lib\\site-packages\\statsmodels\\tsa\\holtwinters\\model.py:1439: RuntimeWarning: divide by zero encountered in log\n",
      "  aic = self.nobs * np.log(sse / self.nobs) + k * 2\n",
      "C:\\Users\\u978275\\Anaconda3\\lib\\site-packages\\statsmodels\\tsa\\holtwinters\\model.py:1445: RuntimeWarning: divide by zero encountered in log\n",
      "  bic = self.nobs * np.log(sse / self.nobs) + k * np.log(self.nobs)\n",
      "<ipython-input-32-4a453f1d398e>:18: UserWarning: Pandas doesn't allow columns to be created via a new attribute name - see https://pandas.pydata.org/pandas-docs/stable/indexing.html#attribute-access\n",
      "  train.Timestamp = pd.to_datetime(train.year,format='%Y')\n"
     ]
    },
    {
     "name": "stdout",
     "output_type": "stream",
     "text": [
      "70.0\n"
     ]
    },
    {
     "name": "stderr",
     "output_type": "stream",
     "text": [
      "<ipython-input-32-4a453f1d398e>:22: UserWarning: Pandas doesn't allow columns to be created via a new attribute name - see https://pandas.pydata.org/pandas-docs/stable/indexing.html#attribute-access\n",
      "  test.Timestamp = pd.to_datetime(test.year,format='%Y')\n",
      "C:\\Users\\u978275\\Anaconda3\\lib\\site-packages\\statsmodels\\tsa\\holtwinters\\model.py:427: FutureWarning: After 0.13 initialization must be handled at model creation\n",
      "  warnings.warn(\n",
      "<ipython-input-32-4a453f1d398e>:29: FutureWarning: the 'smoothing_slope'' keyword is deprecated, use 'smoothing_trend' instead\n",
      "  fit1 = Holt(np.asarray(train['forest'])).fit(smoothing_level = 0.8,smoothing_slope = 0.8)\n"
     ]
    },
    {
     "name": "stdout",
     "output_type": "stream",
     "text": [
      "11.0\n"
     ]
    },
    {
     "name": "stderr",
     "output_type": "stream",
     "text": [
      "<ipython-input-32-4a453f1d398e>:18: UserWarning: Pandas doesn't allow columns to be created via a new attribute name - see https://pandas.pydata.org/pandas-docs/stable/indexing.html#attribute-access\n",
      "  train.Timestamp = pd.to_datetime(train.year,format='%Y')\n",
      "<ipython-input-32-4a453f1d398e>:22: UserWarning: Pandas doesn't allow columns to be created via a new attribute name - see https://pandas.pydata.org/pandas-docs/stable/indexing.html#attribute-access\n",
      "  test.Timestamp = pd.to_datetime(test.year,format='%Y')\n",
      "C:\\Users\\u978275\\Anaconda3\\lib\\site-packages\\statsmodels\\tsa\\holtwinters\\model.py:427: FutureWarning: After 0.13 initialization must be handled at model creation\n",
      "  warnings.warn(\n",
      "<ipython-input-32-4a453f1d398e>:29: FutureWarning: the 'smoothing_slope'' keyword is deprecated, use 'smoothing_trend' instead\n",
      "  fit1 = Holt(np.asarray(train['forest'])).fit(smoothing_level = 0.8,smoothing_slope = 0.8)\n",
      "C:\\Users\\u978275\\Anaconda3\\lib\\site-packages\\statsmodels\\tsa\\holtwinters\\model.py:920: ConvergenceWarning: Optimization failed to converge. Check mle_retvals.\n",
      "  warnings.warn(\n",
      "<ipython-input-32-4a453f1d398e>:18: UserWarning: Pandas doesn't allow columns to be created via a new attribute name - see https://pandas.pydata.org/pandas-docs/stable/indexing.html#attribute-access\n",
      "  train.Timestamp = pd.to_datetime(train.year,format='%Y')\n",
      "<ipython-input-32-4a453f1d398e>:22: UserWarning: Pandas doesn't allow columns to be created via a new attribute name - see https://pandas.pydata.org/pandas-docs/stable/indexing.html#attribute-access\n",
      "  test.Timestamp = pd.to_datetime(test.year,format='%Y')\n",
      "C:\\Users\\u978275\\Anaconda3\\lib\\site-packages\\statsmodels\\tsa\\holtwinters\\model.py:427: FutureWarning: After 0.13 initialization must be handled at model creation\n",
      "  warnings.warn(\n",
      "<ipython-input-32-4a453f1d398e>:29: FutureWarning: the 'smoothing_slope'' keyword is deprecated, use 'smoothing_trend' instead\n",
      "  fit1 = Holt(np.asarray(train['forest'])).fit(smoothing_level = 0.8,smoothing_slope = 0.8)\n"
     ]
    },
    {
     "name": "stdout",
     "output_type": "stream",
     "text": [
      "12.0\n",
      "182.0\n"
     ]
    },
    {
     "name": "stderr",
     "output_type": "stream",
     "text": [
      "<ipython-input-32-4a453f1d398e>:18: UserWarning: Pandas doesn't allow columns to be created via a new attribute name - see https://pandas.pydata.org/pandas-docs/stable/indexing.html#attribute-access\n",
      "  train.Timestamp = pd.to_datetime(train.year,format='%Y')\n",
      "<ipython-input-32-4a453f1d398e>:22: UserWarning: Pandas doesn't allow columns to be created via a new attribute name - see https://pandas.pydata.org/pandas-docs/stable/indexing.html#attribute-access\n",
      "  test.Timestamp = pd.to_datetime(test.year,format='%Y')\n",
      "C:\\Users\\u978275\\Anaconda3\\lib\\site-packages\\statsmodels\\tsa\\holtwinters\\model.py:427: FutureWarning: After 0.13 initialization must be handled at model creation\n",
      "  warnings.warn(\n",
      "<ipython-input-32-4a453f1d398e>:29: FutureWarning: the 'smoothing_slope'' keyword is deprecated, use 'smoothing_trend' instead\n",
      "  fit1 = Holt(np.asarray(train['forest'])).fit(smoothing_level = 0.8,smoothing_slope = 0.8)\n",
      "C:\\Users\\u978275\\Anaconda3\\lib\\site-packages\\statsmodels\\tsa\\holtwinters\\model.py:1439: RuntimeWarning: divide by zero encountered in log\n",
      "  aic = self.nobs * np.log(sse / self.nobs) + k * 2\n",
      "C:\\Users\\u978275\\Anaconda3\\lib\\site-packages\\statsmodels\\tsa\\holtwinters\\model.py:1445: RuntimeWarning: divide by zero encountered in log\n",
      "  bic = self.nobs * np.log(sse / self.nobs) + k * np.log(self.nobs)\n",
      "<ipython-input-32-4a453f1d398e>:18: UserWarning: Pandas doesn't allow columns to be created via a new attribute name - see https://pandas.pydata.org/pandas-docs/stable/indexing.html#attribute-access\n",
      "  train.Timestamp = pd.to_datetime(train.year,format='%Y')\n",
      "<ipython-input-32-4a453f1d398e>:22: UserWarning: Pandas doesn't allow columns to be created via a new attribute name - see https://pandas.pydata.org/pandas-docs/stable/indexing.html#attribute-access\n",
      "  test.Timestamp = pd.to_datetime(test.year,format='%Y')\n",
      "C:\\Users\\u978275\\Anaconda3\\lib\\site-packages\\statsmodels\\tsa\\holtwinters\\model.py:427: FutureWarning: After 0.13 initialization must be handled at model creation\n",
      "  warnings.warn(\n",
      "<ipython-input-32-4a453f1d398e>:29: FutureWarning: the 'smoothing_slope'' keyword is deprecated, use 'smoothing_trend' instead\n",
      "  fit1 = Holt(np.asarray(train['forest'])).fit(smoothing_level = 0.8,smoothing_slope = 0.8)\n"
     ]
    },
    {
     "name": "stdout",
     "output_type": "stream",
     "text": [
      "152.0\n",
      "197.0\n",
      "50.0\n"
     ]
    },
    {
     "name": "stderr",
     "output_type": "stream",
     "text": [
      "<ipython-input-32-4a453f1d398e>:18: UserWarning: Pandas doesn't allow columns to be created via a new attribute name - see https://pandas.pydata.org/pandas-docs/stable/indexing.html#attribute-access\n",
      "  train.Timestamp = pd.to_datetime(train.year,format='%Y')\n",
      "<ipython-input-32-4a453f1d398e>:22: UserWarning: Pandas doesn't allow columns to be created via a new attribute name - see https://pandas.pydata.org/pandas-docs/stable/indexing.html#attribute-access\n",
      "  test.Timestamp = pd.to_datetime(test.year,format='%Y')\n",
      "C:\\Users\\u978275\\Anaconda3\\lib\\site-packages\\statsmodels\\tsa\\holtwinters\\model.py:427: FutureWarning: After 0.13 initialization must be handled at model creation\n",
      "  warnings.warn(\n",
      "<ipython-input-32-4a453f1d398e>:29: FutureWarning: the 'smoothing_slope'' keyword is deprecated, use 'smoothing_trend' instead\n",
      "  fit1 = Holt(np.asarray(train['forest'])).fit(smoothing_level = 0.8,smoothing_slope = 0.8)\n",
      "C:\\Users\\u978275\\Anaconda3\\lib\\site-packages\\statsmodels\\tsa\\holtwinters\\model.py:1439: RuntimeWarning: divide by zero encountered in log\n",
      "  aic = self.nobs * np.log(sse / self.nobs) + k * 2\n",
      "C:\\Users\\u978275\\Anaconda3\\lib\\site-packages\\statsmodels\\tsa\\holtwinters\\model.py:1445: RuntimeWarning: divide by zero encountered in log\n",
      "  bic = self.nobs * np.log(sse / self.nobs) + k * np.log(self.nobs)\n",
      "<ipython-input-32-4a453f1d398e>:18: UserWarning: Pandas doesn't allow columns to be created via a new attribute name - see https://pandas.pydata.org/pandas-docs/stable/indexing.html#attribute-access\n",
      "  train.Timestamp = pd.to_datetime(train.year,format='%Y')\n",
      "<ipython-input-32-4a453f1d398e>:22: UserWarning: Pandas doesn't allow columns to be created via a new attribute name - see https://pandas.pydata.org/pandas-docs/stable/indexing.html#attribute-access\n",
      "  test.Timestamp = pd.to_datetime(test.year,format='%Y')\n",
      "C:\\Users\\u978275\\Anaconda3\\lib\\site-packages\\statsmodels\\tsa\\holtwinters\\model.py:427: FutureWarning: After 0.13 initialization must be handled at model creation\n",
      "  warnings.warn(\n",
      "<ipython-input-32-4a453f1d398e>:29: FutureWarning: the 'smoothing_slope'' keyword is deprecated, use 'smoothing_trend' instead\n",
      "  fit1 = Holt(np.asarray(train['forest'])).fit(smoothing_level = 0.8,smoothing_slope = 0.8)\n"
     ]
    },
    {
     "name": "stdout",
     "output_type": "stream",
     "text": [
      "35.0\n",
      "72.0\n"
     ]
    },
    {
     "name": "stderr",
     "output_type": "stream",
     "text": [
      "<ipython-input-32-4a453f1d398e>:18: UserWarning: Pandas doesn't allow columns to be created via a new attribute name - see https://pandas.pydata.org/pandas-docs/stable/indexing.html#attribute-access\n",
      "  train.Timestamp = pd.to_datetime(train.year,format='%Y')\n",
      "<ipython-input-32-4a453f1d398e>:22: UserWarning: Pandas doesn't allow columns to be created via a new attribute name - see https://pandas.pydata.org/pandas-docs/stable/indexing.html#attribute-access\n",
      "  test.Timestamp = pd.to_datetime(test.year,format='%Y')\n",
      "C:\\Users\\u978275\\Anaconda3\\lib\\site-packages\\statsmodels\\tsa\\holtwinters\\model.py:427: FutureWarning: After 0.13 initialization must be handled at model creation\n",
      "  warnings.warn(\n",
      "<ipython-input-32-4a453f1d398e>:29: FutureWarning: the 'smoothing_slope'' keyword is deprecated, use 'smoothing_trend' instead\n",
      "  fit1 = Holt(np.asarray(train['forest'])).fit(smoothing_level = 0.8,smoothing_slope = 0.8)\n",
      "<ipython-input-32-4a453f1d398e>:18: UserWarning: Pandas doesn't allow columns to be created via a new attribute name - see https://pandas.pydata.org/pandas-docs/stable/indexing.html#attribute-access\n",
      "  train.Timestamp = pd.to_datetime(train.year,format='%Y')\n",
      "<ipython-input-32-4a453f1d398e>:22: UserWarning: Pandas doesn't allow columns to be created via a new attribute name - see https://pandas.pydata.org/pandas-docs/stable/indexing.html#attribute-access\n",
      "  test.Timestamp = pd.to_datetime(test.year,format='%Y')\n",
      "C:\\Users\\u978275\\Anaconda3\\lib\\site-packages\\statsmodels\\tsa\\holtwinters\\model.py:427: FutureWarning: After 0.13 initialization must be handled at model creation\n",
      "  warnings.warn(\n",
      "<ipython-input-32-4a453f1d398e>:29: FutureWarning: the 'smoothing_slope'' keyword is deprecated, use 'smoothing_trend' instead\n",
      "  fit1 = Holt(np.asarray(train['forest'])).fit(smoothing_level = 0.8,smoothing_slope = 0.8)\n",
      "C:\\Users\\u978275\\Anaconda3\\lib\\site-packages\\statsmodels\\tsa\\holtwinters\\model.py:1439: RuntimeWarning: divide by zero encountered in log\n",
      "  aic = self.nobs * np.log(sse / self.nobs) + k * 2\n",
      "C:\\Users\\u978275\\Anaconda3\\lib\\site-packages\\statsmodels\\tsa\\holtwinters\\model.py:1445: RuntimeWarning: divide by zero encountered in log\n",
      "  bic = self.nobs * np.log(sse / self.nobs) + k * np.log(self.nobs)\n"
     ]
    },
    {
     "name": "stdout",
     "output_type": "stream",
     "text": [
      "114.0\n",
      "229.0\n"
     ]
    },
    {
     "name": "stderr",
     "output_type": "stream",
     "text": [
      "<ipython-input-32-4a453f1d398e>:18: UserWarning: Pandas doesn't allow columns to be created via a new attribute name - see https://pandas.pydata.org/pandas-docs/stable/indexing.html#attribute-access\n",
      "  train.Timestamp = pd.to_datetime(train.year,format='%Y')\n",
      "<ipython-input-32-4a453f1d398e>:22: UserWarning: Pandas doesn't allow columns to be created via a new attribute name - see https://pandas.pydata.org/pandas-docs/stable/indexing.html#attribute-access\n",
      "  test.Timestamp = pd.to_datetime(test.year,format='%Y')\n",
      "C:\\Users\\u978275\\Anaconda3\\lib\\site-packages\\statsmodels\\tsa\\holtwinters\\model.py:427: FutureWarning: After 0.13 initialization must be handled at model creation\n",
      "  warnings.warn(\n",
      "<ipython-input-32-4a453f1d398e>:29: FutureWarning: the 'smoothing_slope'' keyword is deprecated, use 'smoothing_trend' instead\n",
      "  fit1 = Holt(np.asarray(train['forest'])).fit(smoothing_level = 0.8,smoothing_slope = 0.8)\n",
      "<ipython-input-32-4a453f1d398e>:18: UserWarning: Pandas doesn't allow columns to be created via a new attribute name - see https://pandas.pydata.org/pandas-docs/stable/indexing.html#attribute-access\n",
      "  train.Timestamp = pd.to_datetime(train.year,format='%Y')\n",
      "<ipython-input-32-4a453f1d398e>:22: UserWarning: Pandas doesn't allow columns to be created via a new attribute name - see https://pandas.pydata.org/pandas-docs/stable/indexing.html#attribute-access\n",
      "  test.Timestamp = pd.to_datetime(test.year,format='%Y')\n",
      "C:\\Users\\u978275\\Anaconda3\\lib\\site-packages\\statsmodels\\tsa\\holtwinters\\model.py:427: FutureWarning: After 0.13 initialization must be handled at model creation\n",
      "  warnings.warn(\n",
      "<ipython-input-32-4a453f1d398e>:29: FutureWarning: the 'smoothing_slope'' keyword is deprecated, use 'smoothing_trend' instead\n",
      "  fit1 = Holt(np.asarray(train['forest'])).fit(smoothing_level = 0.8,smoothing_slope = 0.8)\n"
     ]
    },
    {
     "name": "stdout",
     "output_type": "stream",
     "text": [
      "186.0\n",
      "230.0\n"
     ]
    },
    {
     "name": "stderr",
     "output_type": "stream",
     "text": [
      "<ipython-input-32-4a453f1d398e>:18: UserWarning: Pandas doesn't allow columns to be created via a new attribute name - see https://pandas.pydata.org/pandas-docs/stable/indexing.html#attribute-access\n",
      "  train.Timestamp = pd.to_datetime(train.year,format='%Y')\n",
      "<ipython-input-32-4a453f1d398e>:22: UserWarning: Pandas doesn't allow columns to be created via a new attribute name - see https://pandas.pydata.org/pandas-docs/stable/indexing.html#attribute-access\n",
      "  test.Timestamp = pd.to_datetime(test.year,format='%Y')\n",
      "C:\\Users\\u978275\\Anaconda3\\lib\\site-packages\\statsmodels\\tsa\\holtwinters\\model.py:427: FutureWarning: After 0.13 initialization must be handled at model creation\n",
      "  warnings.warn(\n",
      "<ipython-input-32-4a453f1d398e>:29: FutureWarning: the 'smoothing_slope'' keyword is deprecated, use 'smoothing_trend' instead\n",
      "  fit1 = Holt(np.asarray(train['forest'])).fit(smoothing_level = 0.8,smoothing_slope = 0.8)\n",
      "C:\\Users\\u978275\\Anaconda3\\lib\\site-packages\\statsmodels\\tsa\\holtwinters\\model.py:1439: RuntimeWarning: divide by zero encountered in log\n",
      "  aic = self.nobs * np.log(sse / self.nobs) + k * 2\n",
      "C:\\Users\\u978275\\Anaconda3\\lib\\site-packages\\statsmodels\\tsa\\holtwinters\\model.py:1445: RuntimeWarning: divide by zero encountered in log\n",
      "  bic = self.nobs * np.log(sse / self.nobs) + k * np.log(self.nobs)\n",
      "<ipython-input-32-4a453f1d398e>:18: UserWarning: Pandas doesn't allow columns to be created via a new attribute name - see https://pandas.pydata.org/pandas-docs/stable/indexing.html#attribute-access\n",
      "  train.Timestamp = pd.to_datetime(train.year,format='%Y')\n",
      "<ipython-input-32-4a453f1d398e>:22: UserWarning: Pandas doesn't allow columns to be created via a new attribute name - see https://pandas.pydata.org/pandas-docs/stable/indexing.html#attribute-access\n",
      "  test.Timestamp = pd.to_datetime(test.year,format='%Y')\n",
      "C:\\Users\\u978275\\Anaconda3\\lib\\site-packages\\statsmodels\\tsa\\holtwinters\\model.py:427: FutureWarning: After 0.13 initialization must be handled at model creation\n",
      "  warnings.warn(\n",
      "<ipython-input-32-4a453f1d398e>:29: FutureWarning: the 'smoothing_slope'' keyword is deprecated, use 'smoothing_trend' instead\n",
      "  fit1 = Holt(np.asarray(train['forest'])).fit(smoothing_level = 0.8,smoothing_slope = 0.8)\n",
      "C:\\Users\\u978275\\Anaconda3\\lib\\site-packages\\statsmodels\\tsa\\holtwinters\\model.py:1439: RuntimeWarning: divide by zero encountered in log\n",
      "  aic = self.nobs * np.log(sse / self.nobs) + k * 2\n",
      "C:\\Users\\u978275\\Anaconda3\\lib\\site-packages\\statsmodels\\tsa\\holtwinters\\model.py:1445: RuntimeWarning: divide by zero encountered in log\n",
      "  bic = self.nobs * np.log(sse / self.nobs) + k * np.log(self.nobs)\n"
     ]
    },
    {
     "name": "stdout",
     "output_type": "stream",
     "text": [
      "157.0\n",
      "51.0\n",
      "213.0\n"
     ]
    },
    {
     "name": "stderr",
     "output_type": "stream",
     "text": [
      "<ipython-input-32-4a453f1d398e>:18: UserWarning: Pandas doesn't allow columns to be created via a new attribute name - see https://pandas.pydata.org/pandas-docs/stable/indexing.html#attribute-access\n",
      "  train.Timestamp = pd.to_datetime(train.year,format='%Y')\n",
      "<ipython-input-32-4a453f1d398e>:22: UserWarning: Pandas doesn't allow columns to be created via a new attribute name - see https://pandas.pydata.org/pandas-docs/stable/indexing.html#attribute-access\n",
      "  test.Timestamp = pd.to_datetime(test.year,format='%Y')\n",
      "C:\\Users\\u978275\\Anaconda3\\lib\\site-packages\\statsmodels\\tsa\\holtwinters\\model.py:427: FutureWarning: After 0.13 initialization must be handled at model creation\n",
      "  warnings.warn(\n",
      "<ipython-input-32-4a453f1d398e>:29: FutureWarning: the 'smoothing_slope'' keyword is deprecated, use 'smoothing_trend' instead\n",
      "  fit1 = Holt(np.asarray(train['forest'])).fit(smoothing_level = 0.8,smoothing_slope = 0.8)\n",
      "<ipython-input-32-4a453f1d398e>:18: UserWarning: Pandas doesn't allow columns to be created via a new attribute name - see https://pandas.pydata.org/pandas-docs/stable/indexing.html#attribute-access\n",
      "  train.Timestamp = pd.to_datetime(train.year,format='%Y')\n",
      "<ipython-input-32-4a453f1d398e>:22: UserWarning: Pandas doesn't allow columns to be created via a new attribute name - see https://pandas.pydata.org/pandas-docs/stable/indexing.html#attribute-access\n",
      "  test.Timestamp = pd.to_datetime(test.year,format='%Y')\n",
      "C:\\Users\\u978275\\Anaconda3\\lib\\site-packages\\statsmodels\\tsa\\holtwinters\\model.py:427: FutureWarning: After 0.13 initialization must be handled at model creation\n",
      "  warnings.warn(\n",
      "<ipython-input-32-4a453f1d398e>:29: FutureWarning: the 'smoothing_slope'' keyword is deprecated, use 'smoothing_trend' instead\n",
      "  fit1 = Holt(np.asarray(train['forest'])).fit(smoothing_level = 0.8,smoothing_slope = 0.8)\n",
      "<ipython-input-32-4a453f1d398e>:18: UserWarning: Pandas doesn't allow columns to be created via a new attribute name - see https://pandas.pydata.org/pandas-docs/stable/indexing.html#attribute-access\n",
      "  train.Timestamp = pd.to_datetime(train.year,format='%Y')\n",
      "<ipython-input-32-4a453f1d398e>:22: UserWarning: Pandas doesn't allow columns to be created via a new attribute name - see https://pandas.pydata.org/pandas-docs/stable/indexing.html#attribute-access\n",
      "  test.Timestamp = pd.to_datetime(test.year,format='%Y')\n",
      "C:\\Users\\u978275\\Anaconda3\\lib\\site-packages\\statsmodels\\tsa\\holtwinters\\model.py:427: FutureWarning: After 0.13 initialization must be handled at model creation\n",
      "  warnings.warn(\n",
      "<ipython-input-32-4a453f1d398e>:29: FutureWarning: the 'smoothing_slope'' keyword is deprecated, use 'smoothing_trend' instead\n",
      "  fit1 = Holt(np.asarray(train['forest'])).fit(smoothing_level = 0.8,smoothing_slope = 0.8)\n"
     ]
    },
    {
     "name": "stdout",
     "output_type": "stream",
     "text": [
      "215.0\n",
      "15.0\n",
      "144.0\n"
     ]
    },
    {
     "name": "stderr",
     "output_type": "stream",
     "text": [
      "<ipython-input-32-4a453f1d398e>:18: UserWarning: Pandas doesn't allow columns to be created via a new attribute name - see https://pandas.pydata.org/pandas-docs/stable/indexing.html#attribute-access\n",
      "  train.Timestamp = pd.to_datetime(train.year,format='%Y')\n",
      "<ipython-input-32-4a453f1d398e>:22: UserWarning: Pandas doesn't allow columns to be created via a new attribute name - see https://pandas.pydata.org/pandas-docs/stable/indexing.html#attribute-access\n",
      "  test.Timestamp = pd.to_datetime(test.year,format='%Y')\n",
      "C:\\Users\\u978275\\Anaconda3\\lib\\site-packages\\statsmodels\\tsa\\holtwinters\\model.py:427: FutureWarning: After 0.13 initialization must be handled at model creation\n",
      "  warnings.warn(\n",
      "<ipython-input-32-4a453f1d398e>:29: FutureWarning: the 'smoothing_slope'' keyword is deprecated, use 'smoothing_trend' instead\n",
      "  fit1 = Holt(np.asarray(train['forest'])).fit(smoothing_level = 0.8,smoothing_slope = 0.8)\n",
      "C:\\Users\\u978275\\Anaconda3\\lib\\site-packages\\statsmodels\\tsa\\holtwinters\\model.py:1439: RuntimeWarning: divide by zero encountered in log\n",
      "  aic = self.nobs * np.log(sse / self.nobs) + k * 2\n",
      "C:\\Users\\u978275\\Anaconda3\\lib\\site-packages\\statsmodels\\tsa\\holtwinters\\model.py:1445: RuntimeWarning: divide by zero encountered in log\n",
      "  bic = self.nobs * np.log(sse / self.nobs) + k * np.log(self.nobs)\n",
      "<ipython-input-32-4a453f1d398e>:18: UserWarning: Pandas doesn't allow columns to be created via a new attribute name - see https://pandas.pydata.org/pandas-docs/stable/indexing.html#attribute-access\n",
      "  train.Timestamp = pd.to_datetime(train.year,format='%Y')\n",
      "<ipython-input-32-4a453f1d398e>:22: UserWarning: Pandas doesn't allow columns to be created via a new attribute name - see https://pandas.pydata.org/pandas-docs/stable/indexing.html#attribute-access\n",
      "  test.Timestamp = pd.to_datetime(test.year,format='%Y')\n",
      "C:\\Users\\u978275\\Anaconda3\\lib\\site-packages\\statsmodels\\tsa\\holtwinters\\model.py:427: FutureWarning: After 0.13 initialization must be handled at model creation\n",
      "  warnings.warn(\n",
      "<ipython-input-32-4a453f1d398e>:29: FutureWarning: the 'smoothing_slope'' keyword is deprecated, use 'smoothing_trend' instead\n",
      "  fit1 = Holt(np.asarray(train['forest'])).fit(smoothing_level = 0.8,smoothing_slope = 0.8)\n",
      "<ipython-input-32-4a453f1d398e>:18: UserWarning: Pandas doesn't allow columns to be created via a new attribute name - see https://pandas.pydata.org/pandas-docs/stable/indexing.html#attribute-access\n",
      "  train.Timestamp = pd.to_datetime(train.year,format='%Y')\n",
      "<ipython-input-32-4a453f1d398e>:22: UserWarning: Pandas doesn't allow columns to be created via a new attribute name - see https://pandas.pydata.org/pandas-docs/stable/indexing.html#attribute-access\n",
      "  test.Timestamp = pd.to_datetime(test.year,format='%Y')\n",
      "C:\\Users\\u978275\\Anaconda3\\lib\\site-packages\\statsmodels\\tsa\\holtwinters\\model.py:427: FutureWarning: After 0.13 initialization must be handled at model creation\n",
      "  warnings.warn(\n",
      "<ipython-input-32-4a453f1d398e>:29: FutureWarning: the 'smoothing_slope'' keyword is deprecated, use 'smoothing_trend' instead\n",
      "  fit1 = Holt(np.asarray(train['forest'])).fit(smoothing_level = 0.8,smoothing_slope = 0.8)\n",
      "C:\\Users\\u978275\\Anaconda3\\lib\\site-packages\\statsmodels\\tsa\\holtwinters\\model.py:1439: RuntimeWarning: divide by zero encountered in log\n",
      "  aic = self.nobs * np.log(sse / self.nobs) + k * 2\n",
      "C:\\Users\\u978275\\Anaconda3\\lib\\site-packages\\statsmodels\\tsa\\holtwinters\\model.py:1445: RuntimeWarning: divide by zero encountered in log\n",
      "  bic = self.nobs * np.log(sse / self.nobs) + k * np.log(self.nobs)\n",
      "<ipython-input-32-4a453f1d398e>:18: UserWarning: Pandas doesn't allow columns to be created via a new attribute name - see https://pandas.pydata.org/pandas-docs/stable/indexing.html#attribute-access\n",
      "  train.Timestamp = pd.to_datetime(train.year,format='%Y')\n",
      "<ipython-input-32-4a453f1d398e>:22: UserWarning: Pandas doesn't allow columns to be created via a new attribute name - see https://pandas.pydata.org/pandas-docs/stable/indexing.html#attribute-access\n",
      "  test.Timestamp = pd.to_datetime(test.year,format='%Y')\n",
      "C:\\Users\\u978275\\Anaconda3\\lib\\site-packages\\statsmodels\\tsa\\holtwinters\\model.py:427: FutureWarning: After 0.13 initialization must be handled at model creation\n",
      "  warnings.warn(\n",
      "<ipython-input-32-4a453f1d398e>:29: FutureWarning: the 'smoothing_slope'' keyword is deprecated, use 'smoothing_trend' instead\n",
      "  fit1 = Holt(np.asarray(train['forest'])).fit(smoothing_level = 0.8,smoothing_slope = 0.8)\n",
      "C:\\Users\\u978275\\Anaconda3\\lib\\site-packages\\statsmodels\\tsa\\holtwinters\\model.py:1439: RuntimeWarning: divide by zero encountered in log\n",
      "  aic = self.nobs * np.log(sse / self.nobs) + k * 2\n",
      "C:\\Users\\u978275\\Anaconda3\\lib\\site-packages\\statsmodels\\tsa\\holtwinters\\model.py:1445: RuntimeWarning: divide by zero encountered in log\n",
      "  bic = self.nobs * np.log(sse / self.nobs) + k * np.log(self.nobs)\n"
     ]
    },
    {
     "name": "stdout",
     "output_type": "stream",
     "text": [
      "231.0\n",
      "203.0\n"
     ]
    },
    {
     "name": "stderr",
     "output_type": "stream",
     "text": [
      "<ipython-input-32-4a453f1d398e>:18: UserWarning: Pandas doesn't allow columns to be created via a new attribute name - see https://pandas.pydata.org/pandas-docs/stable/indexing.html#attribute-access\n",
      "  train.Timestamp = pd.to_datetime(train.year,format='%Y')\n",
      "<ipython-input-32-4a453f1d398e>:22: UserWarning: Pandas doesn't allow columns to be created via a new attribute name - see https://pandas.pydata.org/pandas-docs/stable/indexing.html#attribute-access\n",
      "  test.Timestamp = pd.to_datetime(test.year,format='%Y')\n",
      "C:\\Users\\u978275\\Anaconda3\\lib\\site-packages\\statsmodels\\tsa\\holtwinters\\model.py:427: FutureWarning: After 0.13 initialization must be handled at model creation\n",
      "  warnings.warn(\n",
      "<ipython-input-32-4a453f1d398e>:29: FutureWarning: the 'smoothing_slope'' keyword is deprecated, use 'smoothing_trend' instead\n",
      "  fit1 = Holt(np.asarray(train['forest'])).fit(smoothing_level = 0.8,smoothing_slope = 0.8)\n",
      "<ipython-input-32-4a453f1d398e>:18: UserWarning: Pandas doesn't allow columns to be created via a new attribute name - see https://pandas.pydata.org/pandas-docs/stable/indexing.html#attribute-access\n",
      "  train.Timestamp = pd.to_datetime(train.year,format='%Y')\n",
      "<ipython-input-32-4a453f1d398e>:22: UserWarning: Pandas doesn't allow columns to be created via a new attribute name - see https://pandas.pydata.org/pandas-docs/stable/indexing.html#attribute-access\n",
      "  test.Timestamp = pd.to_datetime(test.year,format='%Y')\n",
      "C:\\Users\\u978275\\Anaconda3\\lib\\site-packages\\statsmodels\\tsa\\holtwinters\\model.py:427: FutureWarning: After 0.13 initialization must be handled at model creation\n",
      "  warnings.warn(\n",
      "<ipython-input-32-4a453f1d398e>:29: FutureWarning: the 'smoothing_slope'' keyword is deprecated, use 'smoothing_trend' instead\n",
      "  fit1 = Holt(np.asarray(train['forest'])).fit(smoothing_level = 0.8,smoothing_slope = 0.8)\n",
      "<ipython-input-32-4a453f1d398e>:18: UserWarning: Pandas doesn't allow columns to be created via a new attribute name - see https://pandas.pydata.org/pandas-docs/stable/indexing.html#attribute-access\n",
      "  train.Timestamp = pd.to_datetime(train.year,format='%Y')\n"
     ]
    },
    {
     "name": "stdout",
     "output_type": "stream",
     "text": [
      "202.0\n",
      "234.0\n"
     ]
    },
    {
     "name": "stderr",
     "output_type": "stream",
     "text": [
      "<ipython-input-32-4a453f1d398e>:22: UserWarning: Pandas doesn't allow columns to be created via a new attribute name - see https://pandas.pydata.org/pandas-docs/stable/indexing.html#attribute-access\n",
      "  test.Timestamp = pd.to_datetime(test.year,format='%Y')\n",
      "C:\\Users\\u978275\\Anaconda3\\lib\\site-packages\\statsmodels\\tsa\\holtwinters\\model.py:427: FutureWarning: After 0.13 initialization must be handled at model creation\n",
      "  warnings.warn(\n",
      "<ipython-input-32-4a453f1d398e>:29: FutureWarning: the 'smoothing_slope'' keyword is deprecated, use 'smoothing_trend' instead\n",
      "  fit1 = Holt(np.asarray(train['forest'])).fit(smoothing_level = 0.8,smoothing_slope = 0.8)\n",
      "C:\\Users\\u978275\\Anaconda3\\lib\\site-packages\\statsmodels\\tsa\\holtwinters\\model.py:1439: RuntimeWarning: divide by zero encountered in log\n",
      "  aic = self.nobs * np.log(sse / self.nobs) + k * 2\n",
      "C:\\Users\\u978275\\Anaconda3\\lib\\site-packages\\statsmodels\\tsa\\holtwinters\\model.py:1445: RuntimeWarning: divide by zero encountered in log\n",
      "  bic = self.nobs * np.log(sse / self.nobs) + k * np.log(self.nobs)\n",
      "<ipython-input-32-4a453f1d398e>:18: UserWarning: Pandas doesn't allow columns to be created via a new attribute name - see https://pandas.pydata.org/pandas-docs/stable/indexing.html#attribute-access\n",
      "  train.Timestamp = pd.to_datetime(train.year,format='%Y')\n",
      "<ipython-input-32-4a453f1d398e>:22: UserWarning: Pandas doesn't allow columns to be created via a new attribute name - see https://pandas.pydata.org/pandas-docs/stable/indexing.html#attribute-access\n",
      "  test.Timestamp = pd.to_datetime(test.year,format='%Y')\n",
      "C:\\Users\\u978275\\Anaconda3\\lib\\site-packages\\statsmodels\\tsa\\holtwinters\\model.py:427: FutureWarning: After 0.13 initialization must be handled at model creation\n",
      "  warnings.warn(\n",
      "<ipython-input-32-4a453f1d398e>:29: FutureWarning: the 'smoothing_slope'' keyword is deprecated, use 'smoothing_trend' instead\n",
      "  fit1 = Holt(np.asarray(train['forest'])).fit(smoothing_level = 0.8,smoothing_slope = 0.8)\n",
      "<ipython-input-32-4a453f1d398e>:18: UserWarning: Pandas doesn't allow columns to be created via a new attribute name - see https://pandas.pydata.org/pandas-docs/stable/indexing.html#attribute-access\n",
      "  train.Timestamp = pd.to_datetime(train.year,format='%Y')\n",
      "<ipython-input-32-4a453f1d398e>:22: UserWarning: Pandas doesn't allow columns to be created via a new attribute name - see https://pandas.pydata.org/pandas-docs/stable/indexing.html#attribute-access\n",
      "  test.Timestamp = pd.to_datetime(test.year,format='%Y')\n",
      "C:\\Users\\u978275\\Anaconda3\\lib\\site-packages\\statsmodels\\tsa\\holtwinters\\model.py:427: FutureWarning: After 0.13 initialization must be handled at model creation\n",
      "  warnings.warn(\n",
      "<ipython-input-32-4a453f1d398e>:29: FutureWarning: the 'smoothing_slope'' keyword is deprecated, use 'smoothing_trend' instead\n",
      "  fit1 = Holt(np.asarray(train['forest'])).fit(smoothing_level = 0.8,smoothing_slope = 0.8)\n"
     ]
    },
    {
     "name": "stdout",
     "output_type": "stream",
     "text": [
      "225.0\n",
      "55.0\n",
      "233.0\n"
     ]
    },
    {
     "name": "stderr",
     "output_type": "stream",
     "text": [
      "<ipython-input-32-4a453f1d398e>:18: UserWarning: Pandas doesn't allow columns to be created via a new attribute name - see https://pandas.pydata.org/pandas-docs/stable/indexing.html#attribute-access\n",
      "  train.Timestamp = pd.to_datetime(train.year,format='%Y')\n",
      "<ipython-input-32-4a453f1d398e>:22: UserWarning: Pandas doesn't allow columns to be created via a new attribute name - see https://pandas.pydata.org/pandas-docs/stable/indexing.html#attribute-access\n",
      "  test.Timestamp = pd.to_datetime(test.year,format='%Y')\n",
      "C:\\Users\\u978275\\Anaconda3\\lib\\site-packages\\statsmodels\\tsa\\holtwinters\\model.py:427: FutureWarning: After 0.13 initialization must be handled at model creation\n",
      "  warnings.warn(\n",
      "<ipython-input-32-4a453f1d398e>:29: FutureWarning: the 'smoothing_slope'' keyword is deprecated, use 'smoothing_trend' instead\n",
      "  fit1 = Holt(np.asarray(train['forest'])).fit(smoothing_level = 0.8,smoothing_slope = 0.8)\n",
      "C:\\Users\\u978275\\Anaconda3\\lib\\site-packages\\statsmodels\\tsa\\holtwinters\\model.py:1439: RuntimeWarning: divide by zero encountered in log\n",
      "  aic = self.nobs * np.log(sse / self.nobs) + k * 2\n",
      "C:\\Users\\u978275\\Anaconda3\\lib\\site-packages\\statsmodels\\tsa\\holtwinters\\model.py:1445: RuntimeWarning: divide by zero encountered in log\n",
      "  bic = self.nobs * np.log(sse / self.nobs) + k * np.log(self.nobs)\n",
      "<ipython-input-32-4a453f1d398e>:18: UserWarning: Pandas doesn't allow columns to be created via a new attribute name - see https://pandas.pydata.org/pandas-docs/stable/indexing.html#attribute-access\n",
      "  train.Timestamp = pd.to_datetime(train.year,format='%Y')\n",
      "<ipython-input-32-4a453f1d398e>:22: UserWarning: Pandas doesn't allow columns to be created via a new attribute name - see https://pandas.pydata.org/pandas-docs/stable/indexing.html#attribute-access\n",
      "  test.Timestamp = pd.to_datetime(test.year,format='%Y')\n",
      "C:\\Users\\u978275\\Anaconda3\\lib\\site-packages\\statsmodels\\tsa\\holtwinters\\model.py:427: FutureWarning: After 0.13 initialization must be handled at model creation\n",
      "  warnings.warn(\n",
      "<ipython-input-32-4a453f1d398e>:29: FutureWarning: the 'smoothing_slope'' keyword is deprecated, use 'smoothing_trend' instead\n",
      "  fit1 = Holt(np.asarray(train['forest'])).fit(smoothing_level = 0.8,smoothing_slope = 0.8)\n",
      "<ipython-input-32-4a453f1d398e>:18: UserWarning: Pandas doesn't allow columns to be created via a new attribute name - see https://pandas.pydata.org/pandas-docs/stable/indexing.html#attribute-access\n",
      "  train.Timestamp = pd.to_datetime(train.year,format='%Y')\n",
      "<ipython-input-32-4a453f1d398e>:22: UserWarning: Pandas doesn't allow columns to be created via a new attribute name - see https://pandas.pydata.org/pandas-docs/stable/indexing.html#attribute-access\n",
      "  test.Timestamp = pd.to_datetime(test.year,format='%Y')\n"
     ]
    },
    {
     "name": "stdout",
     "output_type": "stream",
     "text": [
      "158.0\n",
      "235.0\n",
      "78.0\n"
     ]
    },
    {
     "name": "stderr",
     "output_type": "stream",
     "text": [
      "C:\\Users\\u978275\\Anaconda3\\lib\\site-packages\\statsmodels\\tsa\\holtwinters\\model.py:427: FutureWarning: After 0.13 initialization must be handled at model creation\n",
      "  warnings.warn(\n",
      "<ipython-input-32-4a453f1d398e>:29: FutureWarning: the 'smoothing_slope'' keyword is deprecated, use 'smoothing_trend' instead\n",
      "  fit1 = Holt(np.asarray(train['forest'])).fit(smoothing_level = 0.8,smoothing_slope = 0.8)\n",
      "C:\\Users\\u978275\\Anaconda3\\lib\\site-packages\\statsmodels\\tsa\\holtwinters\\model.py:1439: RuntimeWarning: divide by zero encountered in log\n",
      "  aic = self.nobs * np.log(sse / self.nobs) + k * 2\n",
      "C:\\Users\\u978275\\Anaconda3\\lib\\site-packages\\statsmodels\\tsa\\holtwinters\\model.py:1445: RuntimeWarning: divide by zero encountered in log\n",
      "  bic = self.nobs * np.log(sse / self.nobs) + k * np.log(self.nobs)\n",
      "<ipython-input-32-4a453f1d398e>:18: UserWarning: Pandas doesn't allow columns to be created via a new attribute name - see https://pandas.pydata.org/pandas-docs/stable/indexing.html#attribute-access\n",
      "  train.Timestamp = pd.to_datetime(train.year,format='%Y')\n",
      "<ipython-input-32-4a453f1d398e>:22: UserWarning: Pandas doesn't allow columns to be created via a new attribute name - see https://pandas.pydata.org/pandas-docs/stable/indexing.html#attribute-access\n",
      "  test.Timestamp = pd.to_datetime(test.year,format='%Y')\n",
      "C:\\Users\\u978275\\Anaconda3\\lib\\site-packages\\statsmodels\\tsa\\holtwinters\\model.py:427: FutureWarning: After 0.13 initialization must be handled at model creation\n",
      "  warnings.warn(\n",
      "<ipython-input-32-4a453f1d398e>:29: FutureWarning: the 'smoothing_slope'' keyword is deprecated, use 'smoothing_trend' instead\n",
      "  fit1 = Holt(np.asarray(train['forest'])).fit(smoothing_level = 0.8,smoothing_slope = 0.8)\n",
      "<ipython-input-32-4a453f1d398e>:18: UserWarning: Pandas doesn't allow columns to be created via a new attribute name - see https://pandas.pydata.org/pandas-docs/stable/indexing.html#attribute-access\n",
      "  train.Timestamp = pd.to_datetime(train.year,format='%Y')\n"
     ]
    },
    {
     "name": "stdout",
     "output_type": "stream",
     "text": [
      "239.0\n",
      "227.0\n",
      "205.0\n"
     ]
    },
    {
     "name": "stderr",
     "output_type": "stream",
     "text": [
      "<ipython-input-32-4a453f1d398e>:22: UserWarning: Pandas doesn't allow columns to be created via a new attribute name - see https://pandas.pydata.org/pandas-docs/stable/indexing.html#attribute-access\n",
      "  test.Timestamp = pd.to_datetime(test.year,format='%Y')\n",
      "C:\\Users\\u978275\\Anaconda3\\lib\\site-packages\\statsmodels\\tsa\\holtwinters\\model.py:427: FutureWarning: After 0.13 initialization must be handled at model creation\n",
      "  warnings.warn(\n",
      "<ipython-input-32-4a453f1d398e>:29: FutureWarning: the 'smoothing_slope'' keyword is deprecated, use 'smoothing_trend' instead\n",
      "  fit1 = Holt(np.asarray(train['forest'])).fit(smoothing_level = 0.8,smoothing_slope = 0.8)\n",
      "<ipython-input-32-4a453f1d398e>:18: UserWarning: Pandas doesn't allow columns to be created via a new attribute name - see https://pandas.pydata.org/pandas-docs/stable/indexing.html#attribute-access\n",
      "  train.Timestamp = pd.to_datetime(train.year,format='%Y')\n",
      "<ipython-input-32-4a453f1d398e>:22: UserWarning: Pandas doesn't allow columns to be created via a new attribute name - see https://pandas.pydata.org/pandas-docs/stable/indexing.html#attribute-access\n",
      "  test.Timestamp = pd.to_datetime(test.year,format='%Y')\n",
      "C:\\Users\\u978275\\Anaconda3\\lib\\site-packages\\statsmodels\\tsa\\holtwinters\\model.py:427: FutureWarning: After 0.13 initialization must be handled at model creation\n",
      "  warnings.warn(\n",
      "<ipython-input-32-4a453f1d398e>:29: FutureWarning: the 'smoothing_slope'' keyword is deprecated, use 'smoothing_trend' instead\n",
      "  fit1 = Holt(np.asarray(train['forest'])).fit(smoothing_level = 0.8,smoothing_slope = 0.8)\n",
      "<ipython-input-32-4a453f1d398e>:18: UserWarning: Pandas doesn't allow columns to be created via a new attribute name - see https://pandas.pydata.org/pandas-docs/stable/indexing.html#attribute-access\n",
      "  train.Timestamp = pd.to_datetime(train.year,format='%Y')\n",
      "<ipython-input-32-4a453f1d398e>:22: UserWarning: Pandas doesn't allow columns to be created via a new attribute name - see https://pandas.pydata.org/pandas-docs/stable/indexing.html#attribute-access\n",
      "  test.Timestamp = pd.to_datetime(test.year,format='%Y')\n",
      "C:\\Users\\u978275\\Anaconda3\\lib\\site-packages\\statsmodels\\tsa\\holtwinters\\model.py:427: FutureWarning: After 0.13 initialization must be handled at model creation\n",
      "  warnings.warn(\n",
      "<ipython-input-32-4a453f1d398e>:29: FutureWarning: the 'smoothing_slope'' keyword is deprecated, use 'smoothing_trend' instead\n",
      "  fit1 = Holt(np.asarray(train['forest'])).fit(smoothing_level = 0.8,smoothing_slope = 0.8)\n",
      "C:\\Users\\u978275\\Anaconda3\\lib\\site-packages\\statsmodels\\tsa\\holtwinters\\model.py:1439: RuntimeWarning: divide by zero encountered in log\n",
      "  aic = self.nobs * np.log(sse / self.nobs) + k * 2\n",
      "C:\\Users\\u978275\\Anaconda3\\lib\\site-packages\\statsmodels\\tsa\\holtwinters\\model.py:1445: RuntimeWarning: divide by zero encountered in log\n",
      "  bic = self.nobs * np.log(sse / self.nobs) + k * np.log(self.nobs)\n"
     ]
    },
    {
     "name": "stdout",
     "output_type": "stream",
     "text": [
      "23.0\n",
      "24.0\n",
      "109.0\n"
     ]
    },
    {
     "name": "stderr",
     "output_type": "stream",
     "text": [
      "<ipython-input-32-4a453f1d398e>:18: UserWarning: Pandas doesn't allow columns to be created via a new attribute name - see https://pandas.pydata.org/pandas-docs/stable/indexing.html#attribute-access\n",
      "  train.Timestamp = pd.to_datetime(train.year,format='%Y')\n",
      "<ipython-input-32-4a453f1d398e>:22: UserWarning: Pandas doesn't allow columns to be created via a new attribute name - see https://pandas.pydata.org/pandas-docs/stable/indexing.html#attribute-access\n",
      "  test.Timestamp = pd.to_datetime(test.year,format='%Y')\n",
      "C:\\Users\\u978275\\Anaconda3\\lib\\site-packages\\statsmodels\\tsa\\holtwinters\\model.py:427: FutureWarning: After 0.13 initialization must be handled at model creation\n",
      "  warnings.warn(\n",
      "<ipython-input-32-4a453f1d398e>:29: FutureWarning: the 'smoothing_slope'' keyword is deprecated, use 'smoothing_trend' instead\n",
      "  fit1 = Holt(np.asarray(train['forest'])).fit(smoothing_level = 0.8,smoothing_slope = 0.8)\n",
      "<ipython-input-32-4a453f1d398e>:18: UserWarning: Pandas doesn't allow columns to be created via a new attribute name - see https://pandas.pydata.org/pandas-docs/stable/indexing.html#attribute-access\n",
      "  train.Timestamp = pd.to_datetime(train.year,format='%Y')\n",
      "<ipython-input-32-4a453f1d398e>:22: UserWarning: Pandas doesn't allow columns to be created via a new attribute name - see https://pandas.pydata.org/pandas-docs/stable/indexing.html#attribute-access\n",
      "  test.Timestamp = pd.to_datetime(test.year,format='%Y')\n",
      "C:\\Users\\u978275\\Anaconda3\\lib\\site-packages\\statsmodels\\tsa\\holtwinters\\model.py:427: FutureWarning: After 0.13 initialization must be handled at model creation\n",
      "  warnings.warn(\n",
      "<ipython-input-32-4a453f1d398e>:29: FutureWarning: the 'smoothing_slope'' keyword is deprecated, use 'smoothing_trend' instead\n",
      "  fit1 = Holt(np.asarray(train['forest'])).fit(smoothing_level = 0.8,smoothing_slope = 0.8)\n",
      "C:\\Users\\u978275\\Anaconda3\\lib\\site-packages\\statsmodels\\tsa\\holtwinters\\model.py:1439: RuntimeWarning: divide by zero encountered in log\n",
      "  aic = self.nobs * np.log(sse / self.nobs) + k * 2\n",
      "C:\\Users\\u978275\\Anaconda3\\lib\\site-packages\\statsmodels\\tsa\\holtwinters\\model.py:1445: RuntimeWarning: divide by zero encountered in log\n",
      "  bic = self.nobs * np.log(sse / self.nobs) + k * np.log(self.nobs)\n",
      "<ipython-input-32-4a453f1d398e>:18: UserWarning: Pandas doesn't allow columns to be created via a new attribute name - see https://pandas.pydata.org/pandas-docs/stable/indexing.html#attribute-access\n",
      "  train.Timestamp = pd.to_datetime(train.year,format='%Y')\n",
      "<ipython-input-32-4a453f1d398e>:22: UserWarning: Pandas doesn't allow columns to be created via a new attribute name - see https://pandas.pydata.org/pandas-docs/stable/indexing.html#attribute-access\n",
      "  test.Timestamp = pd.to_datetime(test.year,format='%Y')\n",
      "C:\\Users\\u978275\\Anaconda3\\lib\\site-packages\\statsmodels\\tsa\\holtwinters\\model.py:427: FutureWarning: After 0.13 initialization must be handled at model creation\n",
      "  warnings.warn(\n",
      "<ipython-input-32-4a453f1d398e>:29: FutureWarning: the 'smoothing_slope'' keyword is deprecated, use 'smoothing_trend' instead\n",
      "  fit1 = Holt(np.asarray(train['forest'])).fit(smoothing_level = 0.8,smoothing_slope = 0.8)\n"
     ]
    },
    {
     "name": "stdout",
     "output_type": "stream",
     "text": [
      "22.0\n",
      "86.0\n",
      "32.0\n"
     ]
    },
    {
     "name": "stderr",
     "output_type": "stream",
     "text": [
      "<ipython-input-32-4a453f1d398e>:18: UserWarning: Pandas doesn't allow columns to be created via a new attribute name - see https://pandas.pydata.org/pandas-docs/stable/indexing.html#attribute-access\n",
      "  train.Timestamp = pd.to_datetime(train.year,format='%Y')\n",
      "<ipython-input-32-4a453f1d398e>:22: UserWarning: Pandas doesn't allow columns to be created via a new attribute name - see https://pandas.pydata.org/pandas-docs/stable/indexing.html#attribute-access\n",
      "  test.Timestamp = pd.to_datetime(test.year,format='%Y')\n",
      "C:\\Users\\u978275\\Anaconda3\\lib\\site-packages\\statsmodels\\tsa\\holtwinters\\model.py:427: FutureWarning: After 0.13 initialization must be handled at model creation\n",
      "  warnings.warn(\n",
      "<ipython-input-32-4a453f1d398e>:29: FutureWarning: the 'smoothing_slope'' keyword is deprecated, use 'smoothing_trend' instead\n",
      "  fit1 = Holt(np.asarray(train['forest'])).fit(smoothing_level = 0.8,smoothing_slope = 0.8)\n",
      "C:\\Users\\u978275\\Anaconda3\\lib\\site-packages\\statsmodels\\tsa\\holtwinters\\model.py:1439: RuntimeWarning: divide by zero encountered in log\n",
      "  aic = self.nobs * np.log(sse / self.nobs) + k * 2\n",
      "C:\\Users\\u978275\\Anaconda3\\lib\\site-packages\\statsmodels\\tsa\\holtwinters\\model.py:1445: RuntimeWarning: divide by zero encountered in log\n",
      "  bic = self.nobs * np.log(sse / self.nobs) + k * np.log(self.nobs)\n",
      "<ipython-input-32-4a453f1d398e>:18: UserWarning: Pandas doesn't allow columns to be created via a new attribute name - see https://pandas.pydata.org/pandas-docs/stable/indexing.html#attribute-access\n",
      "  train.Timestamp = pd.to_datetime(train.year,format='%Y')\n",
      "<ipython-input-32-4a453f1d398e>:22: UserWarning: Pandas doesn't allow columns to be created via a new attribute name - see https://pandas.pydata.org/pandas-docs/stable/indexing.html#attribute-access\n",
      "  test.Timestamp = pd.to_datetime(test.year,format='%Y')\n",
      "C:\\Users\\u978275\\Anaconda3\\lib\\site-packages\\statsmodels\\tsa\\holtwinters\\model.py:427: FutureWarning: After 0.13 initialization must be handled at model creation\n",
      "  warnings.warn(\n",
      "<ipython-input-32-4a453f1d398e>:29: FutureWarning: the 'smoothing_slope'' keyword is deprecated, use 'smoothing_trend' instead\n",
      "  fit1 = Holt(np.asarray(train['forest'])).fit(smoothing_level = 0.8,smoothing_slope = 0.8)\n",
      "C:\\Users\\u978275\\Anaconda3\\lib\\site-packages\\statsmodels\\tsa\\holtwinters\\model.py:1439: RuntimeWarning: divide by zero encountered in log\n",
      "  aic = self.nobs * np.log(sse / self.nobs) + k * 2\n",
      "C:\\Users\\u978275\\Anaconda3\\lib\\site-packages\\statsmodels\\tsa\\holtwinters\\model.py:1445: RuntimeWarning: divide by zero encountered in log\n",
      "  bic = self.nobs * np.log(sse / self.nobs) + k * np.log(self.nobs)\n",
      "<ipython-input-32-4a453f1d398e>:18: UserWarning: Pandas doesn't allow columns to be created via a new attribute name - see https://pandas.pydata.org/pandas-docs/stable/indexing.html#attribute-access\n",
      "  train.Timestamp = pd.to_datetime(train.year,format='%Y')\n",
      "<ipython-input-32-4a453f1d398e>:22: UserWarning: Pandas doesn't allow columns to be created via a new attribute name - see https://pandas.pydata.org/pandas-docs/stable/indexing.html#attribute-access\n",
      "  test.Timestamp = pd.to_datetime(test.year,format='%Y')\n",
      "C:\\Users\\u978275\\Anaconda3\\lib\\site-packages\\statsmodels\\tsa\\holtwinters\\model.py:427: FutureWarning: After 0.13 initialization must be handled at model creation\n",
      "  warnings.warn(\n",
      "<ipython-input-32-4a453f1d398e>:29: FutureWarning: the 'smoothing_slope'' keyword is deprecated, use 'smoothing_trend' instead\n",
      "  fit1 = Holt(np.asarray(train['forest'])).fit(smoothing_level = 0.8,smoothing_slope = 0.8)\n"
     ]
    },
    {
     "name": "stdout",
     "output_type": "stream",
     "text": [
      "120.0\n",
      "137.0\n",
      "245.0\n"
     ]
    },
    {
     "name": "stderr",
     "output_type": "stream",
     "text": [
      "<ipython-input-32-4a453f1d398e>:18: UserWarning: Pandas doesn't allow columns to be created via a new attribute name - see https://pandas.pydata.org/pandas-docs/stable/indexing.html#attribute-access\n",
      "  train.Timestamp = pd.to_datetime(train.year,format='%Y')\n",
      "<ipython-input-32-4a453f1d398e>:22: UserWarning: Pandas doesn't allow columns to be created via a new attribute name - see https://pandas.pydata.org/pandas-docs/stable/indexing.html#attribute-access\n",
      "  test.Timestamp = pd.to_datetime(test.year,format='%Y')\n",
      "C:\\Users\\u978275\\Anaconda3\\lib\\site-packages\\statsmodels\\tsa\\holtwinters\\model.py:427: FutureWarning: After 0.13 initialization must be handled at model creation\n",
      "  warnings.warn(\n",
      "<ipython-input-32-4a453f1d398e>:29: FutureWarning: the 'smoothing_slope'' keyword is deprecated, use 'smoothing_trend' instead\n",
      "  fit1 = Holt(np.asarray(train['forest'])).fit(smoothing_level = 0.8,smoothing_slope = 0.8)\n",
      "C:\\Users\\u978275\\Anaconda3\\lib\\site-packages\\statsmodels\\tsa\\holtwinters\\model.py:1439: RuntimeWarning: divide by zero encountered in log\n",
      "  aic = self.nobs * np.log(sse / self.nobs) + k * 2\n",
      "C:\\Users\\u978275\\Anaconda3\\lib\\site-packages\\statsmodels\\tsa\\holtwinters\\model.py:1445: RuntimeWarning: divide by zero encountered in log\n",
      "  bic = self.nobs * np.log(sse / self.nobs) + k * np.log(self.nobs)\n",
      "<ipython-input-32-4a453f1d398e>:18: UserWarning: Pandas doesn't allow columns to be created via a new attribute name - see https://pandas.pydata.org/pandas-docs/stable/indexing.html#attribute-access\n",
      "  train.Timestamp = pd.to_datetime(train.year,format='%Y')\n",
      "<ipython-input-32-4a453f1d398e>:22: UserWarning: Pandas doesn't allow columns to be created via a new attribute name - see https://pandas.pydata.org/pandas-docs/stable/indexing.html#attribute-access\n",
      "  test.Timestamp = pd.to_datetime(test.year,format='%Y')\n",
      "C:\\Users\\u978275\\Anaconda3\\lib\\site-packages\\statsmodels\\tsa\\holtwinters\\model.py:427: FutureWarning: After 0.13 initialization must be handled at model creation\n",
      "  warnings.warn(\n",
      "<ipython-input-32-4a453f1d398e>:29: FutureWarning: the 'smoothing_slope'' keyword is deprecated, use 'smoothing_trend' instead\n",
      "  fit1 = Holt(np.asarray(train['forest'])).fit(smoothing_level = 0.8,smoothing_slope = 0.8)\n",
      "<ipython-input-32-4a453f1d398e>:18: UserWarning: Pandas doesn't allow columns to be created via a new attribute name - see https://pandas.pydata.org/pandas-docs/stable/indexing.html#attribute-access\n",
      "  train.Timestamp = pd.to_datetime(train.year,format='%Y')\n",
      "<ipython-input-32-4a453f1d398e>:22: UserWarning: Pandas doesn't allow columns to be created via a new attribute name - see https://pandas.pydata.org/pandas-docs/stable/indexing.html#attribute-access\n",
      "  test.Timestamp = pd.to_datetime(test.year,format='%Y')\n",
      "C:\\Users\\u978275\\Anaconda3\\lib\\site-packages\\statsmodels\\tsa\\holtwinters\\model.py:427: FutureWarning: After 0.13 initialization must be handled at model creation\n",
      "  warnings.warn(\n",
      "<ipython-input-32-4a453f1d398e>:29: FutureWarning: the 'smoothing_slope'' keyword is deprecated, use 'smoothing_trend' instead\n",
      "  fit1 = Holt(np.asarray(train['forest'])).fit(smoothing_level = 0.8,smoothing_slope = 0.8)\n",
      "C:\\Users\\u978275\\Anaconda3\\lib\\site-packages\\statsmodels\\tsa\\holtwinters\\model.py:1439: RuntimeWarning: divide by zero encountered in log\n",
      "  aic = self.nobs * np.log(sse / self.nobs) + k * 2\n",
      "C:\\Users\\u978275\\Anaconda3\\lib\\site-packages\\statsmodels\\tsa\\holtwinters\\model.py:1445: RuntimeWarning: divide by zero encountered in log\n",
      "  bic = self.nobs * np.log(sse / self.nobs) + k * np.log(self.nobs)\n",
      "<ipython-input-32-4a453f1d398e>:18: UserWarning: Pandas doesn't allow columns to be created via a new attribute name - see https://pandas.pydata.org/pandas-docs/stable/indexing.html#attribute-access\n",
      "  train.Timestamp = pd.to_datetime(train.year,format='%Y')\n",
      "<ipython-input-32-4a453f1d398e>:22: UserWarning: Pandas doesn't allow columns to be created via a new attribute name - see https://pandas.pydata.org/pandas-docs/stable/indexing.html#attribute-access\n",
      "  test.Timestamp = pd.to_datetime(test.year,format='%Y')\n",
      "C:\\Users\\u978275\\Anaconda3\\lib\\site-packages\\statsmodels\\tsa\\holtwinters\\model.py:427: FutureWarning: After 0.13 initialization must be handled at model creation\n",
      "  warnings.warn(\n",
      "<ipython-input-32-4a453f1d398e>:29: FutureWarning: the 'smoothing_slope'' keyword is deprecated, use 'smoothing_trend' instead\n",
      "  fit1 = Holt(np.asarray(train['forest'])).fit(smoothing_level = 0.8,smoothing_slope = 0.8)\n"
     ]
    },
    {
     "name": "stdout",
     "output_type": "stream",
     "text": [
      "121.0\n",
      "66.0\n",
      "228.0\n"
     ]
    },
    {
     "name": "stderr",
     "output_type": "stream",
     "text": [
      "<ipython-input-32-4a453f1d398e>:18: UserWarning: Pandas doesn't allow columns to be created via a new attribute name - see https://pandas.pydata.org/pandas-docs/stable/indexing.html#attribute-access\n",
      "  train.Timestamp = pd.to_datetime(train.year,format='%Y')\n",
      "<ipython-input-32-4a453f1d398e>:22: UserWarning: Pandas doesn't allow columns to be created via a new attribute name - see https://pandas.pydata.org/pandas-docs/stable/indexing.html#attribute-access\n",
      "  test.Timestamp = pd.to_datetime(test.year,format='%Y')\n",
      "C:\\Users\\u978275\\Anaconda3\\lib\\site-packages\\statsmodels\\tsa\\holtwinters\\model.py:427: FutureWarning: After 0.13 initialization must be handled at model creation\n",
      "  warnings.warn(\n",
      "<ipython-input-32-4a453f1d398e>:29: FutureWarning: the 'smoothing_slope'' keyword is deprecated, use 'smoothing_trend' instead\n",
      "  fit1 = Holt(np.asarray(train['forest'])).fit(smoothing_level = 0.8,smoothing_slope = 0.8)\n",
      "<ipython-input-32-4a453f1d398e>:18: UserWarning: Pandas doesn't allow columns to be created via a new attribute name - see https://pandas.pydata.org/pandas-docs/stable/indexing.html#attribute-access\n",
      "  train.Timestamp = pd.to_datetime(train.year,format='%Y')\n",
      "<ipython-input-32-4a453f1d398e>:22: UserWarning: Pandas doesn't allow columns to be created via a new attribute name - see https://pandas.pydata.org/pandas-docs/stable/indexing.html#attribute-access\n",
      "  test.Timestamp = pd.to_datetime(test.year,format='%Y')\n",
      "C:\\Users\\u978275\\Anaconda3\\lib\\site-packages\\statsmodels\\tsa\\holtwinters\\model.py:427: FutureWarning: After 0.13 initialization must be handled at model creation\n",
      "  warnings.warn(\n",
      "<ipython-input-32-4a453f1d398e>:29: FutureWarning: the 'smoothing_slope'' keyword is deprecated, use 'smoothing_trend' instead\n",
      "  fit1 = Holt(np.asarray(train['forest'])).fit(smoothing_level = 0.8,smoothing_slope = 0.8)\n",
      "C:\\Users\\u978275\\Anaconda3\\lib\\site-packages\\statsmodels\\tsa\\holtwinters\\model.py:1439: RuntimeWarning: divide by zero encountered in log\n",
      "  aic = self.nobs * np.log(sse / self.nobs) + k * 2\n",
      "C:\\Users\\u978275\\Anaconda3\\lib\\site-packages\\statsmodels\\tsa\\holtwinters\\model.py:1445: RuntimeWarning: divide by zero encountered in log\n",
      "  bic = self.nobs * np.log(sse / self.nobs) + k * np.log(self.nobs)\n",
      "<ipython-input-32-4a453f1d398e>:18: UserWarning: Pandas doesn't allow columns to be created via a new attribute name - see https://pandas.pydata.org/pandas-docs/stable/indexing.html#attribute-access\n",
      "  train.Timestamp = pd.to_datetime(train.year,format='%Y')\n"
     ]
    },
    {
     "name": "stdout",
     "output_type": "stream",
     "text": [
      "34.0\n",
      "238.0\n",
      "80.0\n"
     ]
    },
    {
     "name": "stderr",
     "output_type": "stream",
     "text": [
      "<ipython-input-32-4a453f1d398e>:22: UserWarning: Pandas doesn't allow columns to be created via a new attribute name - see https://pandas.pydata.org/pandas-docs/stable/indexing.html#attribute-access\n",
      "  test.Timestamp = pd.to_datetime(test.year,format='%Y')\n",
      "C:\\Users\\u978275\\Anaconda3\\lib\\site-packages\\statsmodels\\tsa\\holtwinters\\model.py:427: FutureWarning: After 0.13 initialization must be handled at model creation\n",
      "  warnings.warn(\n",
      "<ipython-input-32-4a453f1d398e>:29: FutureWarning: the 'smoothing_slope'' keyword is deprecated, use 'smoothing_trend' instead\n",
      "  fit1 = Holt(np.asarray(train['forest'])).fit(smoothing_level = 0.8,smoothing_slope = 0.8)\n",
      "C:\\Users\\u978275\\Anaconda3\\lib\\site-packages\\statsmodels\\tsa\\holtwinters\\model.py:1439: RuntimeWarning: divide by zero encountered in log\n",
      "  aic = self.nobs * np.log(sse / self.nobs) + k * 2\n",
      "C:\\Users\\u978275\\Anaconda3\\lib\\site-packages\\statsmodels\\tsa\\holtwinters\\model.py:1445: RuntimeWarning: divide by zero encountered in log\n",
      "  bic = self.nobs * np.log(sse / self.nobs) + k * np.log(self.nobs)\n",
      "<ipython-input-32-4a453f1d398e>:18: UserWarning: Pandas doesn't allow columns to be created via a new attribute name - see https://pandas.pydata.org/pandas-docs/stable/indexing.html#attribute-access\n",
      "  train.Timestamp = pd.to_datetime(train.year,format='%Y')\n",
      "<ipython-input-32-4a453f1d398e>:22: UserWarning: Pandas doesn't allow columns to be created via a new attribute name - see https://pandas.pydata.org/pandas-docs/stable/indexing.html#attribute-access\n",
      "  test.Timestamp = pd.to_datetime(test.year,format='%Y')\n",
      "C:\\Users\\u978275\\Anaconda3\\lib\\site-packages\\statsmodels\\tsa\\holtwinters\\model.py:427: FutureWarning: After 0.13 initialization must be handled at model creation\n",
      "  warnings.warn(\n",
      "<ipython-input-32-4a453f1d398e>:29: FutureWarning: the 'smoothing_slope'' keyword is deprecated, use 'smoothing_trend' instead\n",
      "  fit1 = Holt(np.asarray(train['forest'])).fit(smoothing_level = 0.8,smoothing_slope = 0.8)\n",
      "C:\\Users\\u978275\\Anaconda3\\lib\\site-packages\\statsmodels\\tsa\\holtwinters\\model.py:1439: RuntimeWarning: divide by zero encountered in log\n",
      "  aic = self.nobs * np.log(sse / self.nobs) + k * 2\n",
      "C:\\Users\\u978275\\Anaconda3\\lib\\site-packages\\statsmodels\\tsa\\holtwinters\\model.py:1445: RuntimeWarning: divide by zero encountered in log\n",
      "  bic = self.nobs * np.log(sse / self.nobs) + k * np.log(self.nobs)\n",
      "<ipython-input-32-4a453f1d398e>:18: UserWarning: Pandas doesn't allow columns to be created via a new attribute name - see https://pandas.pydata.org/pandas-docs/stable/indexing.html#attribute-access\n",
      "  train.Timestamp = pd.to_datetime(train.year,format='%Y')\n",
      "<ipython-input-32-4a453f1d398e>:22: UserWarning: Pandas doesn't allow columns to be created via a new attribute name - see https://pandas.pydata.org/pandas-docs/stable/indexing.html#attribute-access\n",
      "  test.Timestamp = pd.to_datetime(test.year,format='%Y')\n",
      "C:\\Users\\u978275\\Anaconda3\\lib\\site-packages\\statsmodels\\tsa\\holtwinters\\model.py:427: FutureWarning: After 0.13 initialization must be handled at model creation\n",
      "  warnings.warn(\n",
      "<ipython-input-32-4a453f1d398e>:29: FutureWarning: the 'smoothing_slope'' keyword is deprecated, use 'smoothing_trend' instead\n",
      "  fit1 = Holt(np.asarray(train['forest'])).fit(smoothing_level = 0.8,smoothing_slope = 0.8)\n",
      "C:\\Users\\u978275\\Anaconda3\\lib\\site-packages\\statsmodels\\tsa\\holtwinters\\model.py:1439: RuntimeWarning: divide by zero encountered in log\n",
      "  aic = self.nobs * np.log(sse / self.nobs) + k * 2\n",
      "C:\\Users\\u978275\\Anaconda3\\lib\\site-packages\\statsmodels\\tsa\\holtwinters\\model.py:1445: RuntimeWarning: divide by zero encountered in log\n",
      "  bic = self.nobs * np.log(sse / self.nobs) + k * np.log(self.nobs)\n"
     ]
    },
    {
     "name": "stdout",
     "output_type": "stream",
     "text": [
      "127.0\n",
      "81.0\n",
      "171.0\n"
     ]
    },
    {
     "name": "stderr",
     "output_type": "stream",
     "text": [
      "<ipython-input-32-4a453f1d398e>:18: UserWarning: Pandas doesn't allow columns to be created via a new attribute name - see https://pandas.pydata.org/pandas-docs/stable/indexing.html#attribute-access\n",
      "  train.Timestamp = pd.to_datetime(train.year,format='%Y')\n",
      "<ipython-input-32-4a453f1d398e>:22: UserWarning: Pandas doesn't allow columns to be created via a new attribute name - see https://pandas.pydata.org/pandas-docs/stable/indexing.html#attribute-access\n",
      "  test.Timestamp = pd.to_datetime(test.year,format='%Y')\n",
      "C:\\Users\\u978275\\Anaconda3\\lib\\site-packages\\statsmodels\\tsa\\holtwinters\\model.py:427: FutureWarning: After 0.13 initialization must be handled at model creation\n",
      "  warnings.warn(\n",
      "<ipython-input-32-4a453f1d398e>:29: FutureWarning: the 'smoothing_slope'' keyword is deprecated, use 'smoothing_trend' instead\n",
      "  fit1 = Holt(np.asarray(train['forest'])).fit(smoothing_level = 0.8,smoothing_slope = 0.8)\n",
      "C:\\Users\\u978275\\Anaconda3\\lib\\site-packages\\statsmodels\\tsa\\holtwinters\\model.py:1439: RuntimeWarning: divide by zero encountered in log\n",
      "  aic = self.nobs * np.log(sse / self.nobs) + k * 2\n",
      "C:\\Users\\u978275\\Anaconda3\\lib\\site-packages\\statsmodels\\tsa\\holtwinters\\model.py:1445: RuntimeWarning: divide by zero encountered in log\n",
      "  bic = self.nobs * np.log(sse / self.nobs) + k * np.log(self.nobs)\n",
      "<ipython-input-32-4a453f1d398e>:18: UserWarning: Pandas doesn't allow columns to be created via a new attribute name - see https://pandas.pydata.org/pandas-docs/stable/indexing.html#attribute-access\n",
      "  train.Timestamp = pd.to_datetime(train.year,format='%Y')\n",
      "<ipython-input-32-4a453f1d398e>:22: UserWarning: Pandas doesn't allow columns to be created via a new attribute name - see https://pandas.pydata.org/pandas-docs/stable/indexing.html#attribute-access\n",
      "  test.Timestamp = pd.to_datetime(test.year,format='%Y')\n",
      "C:\\Users\\u978275\\Anaconda3\\lib\\site-packages\\statsmodels\\tsa\\holtwinters\\model.py:427: FutureWarning: After 0.13 initialization must be handled at model creation\n",
      "  warnings.warn(\n",
      "<ipython-input-32-4a453f1d398e>:29: FutureWarning: the 'smoothing_slope'' keyword is deprecated, use 'smoothing_trend' instead\n",
      "  fit1 = Holt(np.asarray(train['forest'])).fit(smoothing_level = 0.8,smoothing_slope = 0.8)\n",
      "C:\\Users\\u978275\\Anaconda3\\lib\\site-packages\\statsmodels\\tsa\\holtwinters\\model.py:1439: RuntimeWarning: divide by zero encountered in log\n",
      "  aic = self.nobs * np.log(sse / self.nobs) + k * 2\n",
      "C:\\Users\\u978275\\Anaconda3\\lib\\site-packages\\statsmodels\\tsa\\holtwinters\\model.py:1445: RuntimeWarning: divide by zero encountered in log\n",
      "  bic = self.nobs * np.log(sse / self.nobs) + k * np.log(self.nobs)\n",
      "<ipython-input-32-4a453f1d398e>:18: UserWarning: Pandas doesn't allow columns to be created via a new attribute name - see https://pandas.pydata.org/pandas-docs/stable/indexing.html#attribute-access\n",
      "  train.Timestamp = pd.to_datetime(train.year,format='%Y')\n",
      "<ipython-input-32-4a453f1d398e>:22: UserWarning: Pandas doesn't allow columns to be created via a new attribute name - see https://pandas.pydata.org/pandas-docs/stable/indexing.html#attribute-access\n",
      "  test.Timestamp = pd.to_datetime(test.year,format='%Y')\n",
      "C:\\Users\\u978275\\Anaconda3\\lib\\site-packages\\statsmodels\\tsa\\holtwinters\\model.py:427: FutureWarning: After 0.13 initialization must be handled at model creation\n",
      "  warnings.warn(\n",
      "<ipython-input-32-4a453f1d398e>:29: FutureWarning: the 'smoothing_slope'' keyword is deprecated, use 'smoothing_trend' instead\n",
      "  fit1 = Holt(np.asarray(train['forest'])).fit(smoothing_level = 0.8,smoothing_slope = 0.8)\n",
      "C:\\Users\\u978275\\Anaconda3\\lib\\site-packages\\statsmodels\\tsa\\holtwinters\\model.py:1439: RuntimeWarning: divide by zero encountered in log\n",
      "  aic = self.nobs * np.log(sse / self.nobs) + k * 2\n",
      "C:\\Users\\u978275\\Anaconda3\\lib\\site-packages\\statsmodels\\tsa\\holtwinters\\model.py:1445: RuntimeWarning: divide by zero encountered in log\n",
      "  bic = self.nobs * np.log(sse / self.nobs) + k * np.log(self.nobs)\n",
      "<ipython-input-32-4a453f1d398e>:18: UserWarning: Pandas doesn't allow columns to be created via a new attribute name - see https://pandas.pydata.org/pandas-docs/stable/indexing.html#attribute-access\n",
      "  train.Timestamp = pd.to_datetime(train.year,format='%Y')\n",
      "<ipython-input-32-4a453f1d398e>:22: UserWarning: Pandas doesn't allow columns to be created via a new attribute name - see https://pandas.pydata.org/pandas-docs/stable/indexing.html#attribute-access\n",
      "  test.Timestamp = pd.to_datetime(test.year,format='%Y')\n",
      "C:\\Users\\u978275\\Anaconda3\\lib\\site-packages\\statsmodels\\tsa\\holtwinters\\model.py:427: FutureWarning: After 0.13 initialization must be handled at model creation\n",
      "  warnings.warn(\n",
      "<ipython-input-32-4a453f1d398e>:29: FutureWarning: the 'smoothing_slope'' keyword is deprecated, use 'smoothing_trend' instead\n",
      "  fit1 = Holt(np.asarray(train['forest'])).fit(smoothing_level = 0.8,smoothing_slope = 0.8)\n",
      "C:\\Users\\u978275\\Anaconda3\\lib\\site-packages\\statsmodels\\tsa\\holtwinters\\model.py:1439: RuntimeWarning: divide by zero encountered in log\n",
      "  aic = self.nobs * np.log(sse / self.nobs) + k * 2\n",
      "C:\\Users\\u978275\\Anaconda3\\lib\\site-packages\\statsmodels\\tsa\\holtwinters\\model.py:1445: RuntimeWarning: divide by zero encountered in log\n",
      "  bic = self.nobs * np.log(sse / self.nobs) + k * np.log(self.nobs)\n",
      "<ipython-input-32-4a453f1d398e>:18: UserWarning: Pandas doesn't allow columns to be created via a new attribute name - see https://pandas.pydata.org/pandas-docs/stable/indexing.html#attribute-access\n",
      "  train.Timestamp = pd.to_datetime(train.year,format='%Y')\n",
      "<ipython-input-32-4a453f1d398e>:22: UserWarning: Pandas doesn't allow columns to be created via a new attribute name - see https://pandas.pydata.org/pandas-docs/stable/indexing.html#attribute-access\n",
      "  test.Timestamp = pd.to_datetime(test.year,format='%Y')\n",
      "C:\\Users\\u978275\\Anaconda3\\lib\\site-packages\\statsmodels\\tsa\\holtwinters\\model.py:427: FutureWarning: After 0.13 initialization must be handled at model creation\n",
      "  warnings.warn(\n",
      "<ipython-input-32-4a453f1d398e>:29: FutureWarning: the 'smoothing_slope'' keyword is deprecated, use 'smoothing_trend' instead\n",
      "  fit1 = Holt(np.asarray(train['forest'])).fit(smoothing_level = 0.8,smoothing_slope = 0.8)\n",
      "C:\\Users\\u978275\\Anaconda3\\lib\\site-packages\\statsmodels\\tsa\\holtwinters\\model.py:1439: RuntimeWarning: divide by zero encountered in log\n",
      "  aic = self.nobs * np.log(sse / self.nobs) + k * 2\n",
      "C:\\Users\\u978275\\Anaconda3\\lib\\site-packages\\statsmodels\\tsa\\holtwinters\\model.py:1445: RuntimeWarning: divide by zero encountered in log\n",
      "  bic = self.nobs * np.log(sse / self.nobs) + k * np.log(self.nobs)\n"
     ]
    },
    {
     "name": "stdout",
     "output_type": "stream",
     "text": [
      "240.0\n",
      "124.0\n",
      "161.0\n"
     ]
    },
    {
     "name": "stderr",
     "output_type": "stream",
     "text": [
      "<ipython-input-32-4a453f1d398e>:18: UserWarning: Pandas doesn't allow columns to be created via a new attribute name - see https://pandas.pydata.org/pandas-docs/stable/indexing.html#attribute-access\n",
      "  train.Timestamp = pd.to_datetime(train.year,format='%Y')\n",
      "<ipython-input-32-4a453f1d398e>:22: UserWarning: Pandas doesn't allow columns to be created via a new attribute name - see https://pandas.pydata.org/pandas-docs/stable/indexing.html#attribute-access\n",
      "  test.Timestamp = pd.to_datetime(test.year,format='%Y')\n",
      "C:\\Users\\u978275\\Anaconda3\\lib\\site-packages\\statsmodels\\tsa\\holtwinters\\model.py:427: FutureWarning: After 0.13 initialization must be handled at model creation\n",
      "  warnings.warn(\n",
      "<ipython-input-32-4a453f1d398e>:29: FutureWarning: the 'smoothing_slope'' keyword is deprecated, use 'smoothing_trend' instead\n",
      "  fit1 = Holt(np.asarray(train['forest'])).fit(smoothing_level = 0.8,smoothing_slope = 0.8)\n",
      "C:\\Users\\u978275\\Anaconda3\\lib\\site-packages\\statsmodels\\tsa\\holtwinters\\model.py:1439: RuntimeWarning: divide by zero encountered in log\n",
      "  aic = self.nobs * np.log(sse / self.nobs) + k * 2\n",
      "C:\\Users\\u978275\\Anaconda3\\lib\\site-packages\\statsmodels\\tsa\\holtwinters\\model.py:1445: RuntimeWarning: divide by zero encountered in log\n",
      "  bic = self.nobs * np.log(sse / self.nobs) + k * np.log(self.nobs)\n",
      "<ipython-input-32-4a453f1d398e>:18: UserWarning: Pandas doesn't allow columns to be created via a new attribute name - see https://pandas.pydata.org/pandas-docs/stable/indexing.html#attribute-access\n",
      "  train.Timestamp = pd.to_datetime(train.year,format='%Y')\n",
      "<ipython-input-32-4a453f1d398e>:22: UserWarning: Pandas doesn't allow columns to be created via a new attribute name - see https://pandas.pydata.org/pandas-docs/stable/indexing.html#attribute-access\n",
      "  test.Timestamp = pd.to_datetime(test.year,format='%Y')\n",
      "C:\\Users\\u978275\\Anaconda3\\lib\\site-packages\\statsmodels\\tsa\\holtwinters\\model.py:427: FutureWarning: After 0.13 initialization must be handled at model creation\n",
      "  warnings.warn(\n",
      "<ipython-input-32-4a453f1d398e>:29: FutureWarning: the 'smoothing_slope'' keyword is deprecated, use 'smoothing_trend' instead\n",
      "  fit1 = Holt(np.asarray(train['forest'])).fit(smoothing_level = 0.8,smoothing_slope = 0.8)\n",
      "C:\\Users\\u978275\\Anaconda3\\lib\\site-packages\\statsmodels\\tsa\\holtwinters\\model.py:1439: RuntimeWarning: divide by zero encountered in log\n",
      "  aic = self.nobs * np.log(sse / self.nobs) + k * 2\n",
      "C:\\Users\\u978275\\Anaconda3\\lib\\site-packages\\statsmodels\\tsa\\holtwinters\\model.py:1445: RuntimeWarning: divide by zero encountered in log\n",
      "  bic = self.nobs * np.log(sse / self.nobs) + k * np.log(self.nobs)\n",
      "<ipython-input-32-4a453f1d398e>:18: UserWarning: Pandas doesn't allow columns to be created via a new attribute name - see https://pandas.pydata.org/pandas-docs/stable/indexing.html#attribute-access\n",
      "  train.Timestamp = pd.to_datetime(train.year,format='%Y')\n",
      "<ipython-input-32-4a453f1d398e>:22: UserWarning: Pandas doesn't allow columns to be created via a new attribute name - see https://pandas.pydata.org/pandas-docs/stable/indexing.html#attribute-access\n",
      "  test.Timestamp = pd.to_datetime(test.year,format='%Y')\n",
      "C:\\Users\\u978275\\Anaconda3\\lib\\site-packages\\statsmodels\\tsa\\holtwinters\\model.py:427: FutureWarning: After 0.13 initialization must be handled at model creation\n",
      "  warnings.warn(\n",
      "<ipython-input-32-4a453f1d398e>:29: FutureWarning: the 'smoothing_slope'' keyword is deprecated, use 'smoothing_trend' instead\n",
      "  fit1 = Holt(np.asarray(train['forest'])).fit(smoothing_level = 0.8,smoothing_slope = 0.8)\n",
      "C:\\Users\\u978275\\Anaconda3\\lib\\site-packages\\statsmodels\\tsa\\holtwinters\\model.py:1439: RuntimeWarning: divide by zero encountered in log\n",
      "  aic = self.nobs * np.log(sse / self.nobs) + k * 2\n",
      "C:\\Users\\u978275\\Anaconda3\\lib\\site-packages\\statsmodels\\tsa\\holtwinters\\model.py:1445: RuntimeWarning: divide by zero encountered in log\n",
      "  bic = self.nobs * np.log(sse / self.nobs) + k * np.log(self.nobs)\n"
     ]
    },
    {
     "name": "stdout",
     "output_type": "stream",
     "text": [
      "26.0\n",
      "83.0\n",
      "87.0\n"
     ]
    },
    {
     "name": "stderr",
     "output_type": "stream",
     "text": [
      "<ipython-input-32-4a453f1d398e>:18: UserWarning: Pandas doesn't allow columns to be created via a new attribute name - see https://pandas.pydata.org/pandas-docs/stable/indexing.html#attribute-access\n",
      "  train.Timestamp = pd.to_datetime(train.year,format='%Y')\n",
      "<ipython-input-32-4a453f1d398e>:22: UserWarning: Pandas doesn't allow columns to be created via a new attribute name - see https://pandas.pydata.org/pandas-docs/stable/indexing.html#attribute-access\n",
      "  test.Timestamp = pd.to_datetime(test.year,format='%Y')\n",
      "C:\\Users\\u978275\\Anaconda3\\lib\\site-packages\\statsmodels\\tsa\\holtwinters\\model.py:427: FutureWarning: After 0.13 initialization must be handled at model creation\n",
      "  warnings.warn(\n",
      "<ipython-input-32-4a453f1d398e>:29: FutureWarning: the 'smoothing_slope'' keyword is deprecated, use 'smoothing_trend' instead\n",
      "  fit1 = Holt(np.asarray(train['forest'])).fit(smoothing_level = 0.8,smoothing_slope = 0.8)\n",
      "C:\\Users\\u978275\\Anaconda3\\lib\\site-packages\\statsmodels\\tsa\\holtwinters\\model.py:1439: RuntimeWarning: divide by zero encountered in log\n",
      "  aic = self.nobs * np.log(sse / self.nobs) + k * 2\n",
      "C:\\Users\\u978275\\Anaconda3\\lib\\site-packages\\statsmodels\\tsa\\holtwinters\\model.py:1445: RuntimeWarning: divide by zero encountered in log\n",
      "  bic = self.nobs * np.log(sse / self.nobs) + k * np.log(self.nobs)\n"
     ]
    }
   ],
   "source": [
    "# Predict next 5 years score for all countries based on Holt Winter model \n",
    "country_list = []\n",
    "country_list =  list(df_final.country_id.unique())\n",
    "\n",
    "for country_id in country_list:\n",
    "    \n",
    "    data = {'year': [2021,2022,2023,2024,2025], 'forest': [0,0,0,0,0]}\n",
    "    predict = pd.DataFrame(data=data)\n",
    "    print(country_id)\n",
    "    \n",
    "    x = df_final.copy()\n",
    "    x = x[x[\"country_id\"] == country_id]\n",
    "    x = x[[\"year\", \"forest\"]]\n",
    "\n",
    "    train=x[1:25] \n",
    "    test= x[24:]\n",
    "\n",
    "    train.Timestamp = pd.to_datetime(train.year,format='%Y') \n",
    "    train.index = train.Timestamp \n",
    "    train = train.resample('Y').mean() \n",
    "\n",
    "    test.Timestamp = pd.to_datetime(test.year,format='%Y') \n",
    "    test.index = test.Timestamp\n",
    "    test = test.resample('Y').mean()\n",
    "    \n",
    "    y_hat_avg = test.copy()\n",
    "#     fit2 = SimpleExpSmoothing(np.asarray(train['forest_area'])).fit(smoothing_level=0.75,optimized=False)\n",
    "#     y_hat_avg['SES'] = fit2.forecast(len(test))\n",
    "    fit1 = Holt(np.asarray(train['forest'])).fit(smoothing_level = 0.8,smoothing_slope = 0.8)\n",
    "    y_hat_avg['Holt_linear'] = fit1.forecast(len(test))\n",
    "    \n",
    "\n",
    "    predict['country_id'] = country_id\n",
    "    predict['info'] = 'predicted'\n",
    "#     predict['forest_area'] = fit2.forecast(len(predict))\n",
    "    predict['forest'] = fit1.forecast(len(predict))\n",
    "    \n",
    "    \n",
    "    df_final = pd.concat([df_final, predict], join = \"outer\")\n",
    "    \n",
    "    \n",
    "    \n"
   ]
  },
  {
   "cell_type": "code",
   "execution_count": 33,
   "id": "27ab9a6b",
   "metadata": {},
   "outputs": [
    {
     "data": {
      "text/html": [
       "<div>\n",
       "<style scoped>\n",
       "    .dataframe tbody tr th:only-of-type {\n",
       "        vertical-align: middle;\n",
       "    }\n",
       "\n",
       "    .dataframe tbody tr th {\n",
       "        vertical-align: top;\n",
       "    }\n",
       "\n",
       "    .dataframe thead th {\n",
       "        text-align: right;\n",
       "    }\n",
       "</style>\n",
       "<table border=\"1\" class=\"dataframe\">\n",
       "  <thead>\n",
       "    <tr style=\"text-align: right;\">\n",
       "      <th></th>\n",
       "      <th>year</th>\n",
       "      <th>hdi</th>\n",
       "      <th>inflation</th>\n",
       "      <th>infant_mortality</th>\n",
       "      <th>gdp</th>\n",
       "      <th>gni</th>\n",
       "      <th>forest</th>\n",
       "      <th>population</th>\n",
       "      <th>unemployment</th>\n",
       "      <th>country_id</th>\n",
       "      <th>info</th>\n",
       "    </tr>\n",
       "  </thead>\n",
       "  <tbody>\n",
       "    <tr>\n",
       "      <th>0</th>\n",
       "      <td>2021</td>\n",
       "      <td>NaN</td>\n",
       "      <td>NaN</td>\n",
       "      <td>NaN</td>\n",
       "      <td>NaN</td>\n",
       "      <td>NaN</td>\n",
       "      <td>0.0104</td>\n",
       "      <td>NaN</td>\n",
       "      <td>NaN</td>\n",
       "      <td>87</td>\n",
       "      <td>predicted</td>\n",
       "    </tr>\n",
       "    <tr>\n",
       "      <th>1</th>\n",
       "      <td>2022</td>\n",
       "      <td>NaN</td>\n",
       "      <td>NaN</td>\n",
       "      <td>NaN</td>\n",
       "      <td>NaN</td>\n",
       "      <td>NaN</td>\n",
       "      <td>0.0104</td>\n",
       "      <td>NaN</td>\n",
       "      <td>NaN</td>\n",
       "      <td>87</td>\n",
       "      <td>predicted</td>\n",
       "    </tr>\n",
       "    <tr>\n",
       "      <th>2</th>\n",
       "      <td>2023</td>\n",
       "      <td>NaN</td>\n",
       "      <td>NaN</td>\n",
       "      <td>NaN</td>\n",
       "      <td>NaN</td>\n",
       "      <td>NaN</td>\n",
       "      <td>0.0104</td>\n",
       "      <td>NaN</td>\n",
       "      <td>NaN</td>\n",
       "      <td>87</td>\n",
       "      <td>predicted</td>\n",
       "    </tr>\n",
       "    <tr>\n",
       "      <th>3</th>\n",
       "      <td>2024</td>\n",
       "      <td>NaN</td>\n",
       "      <td>NaN</td>\n",
       "      <td>NaN</td>\n",
       "      <td>NaN</td>\n",
       "      <td>NaN</td>\n",
       "      <td>0.0104</td>\n",
       "      <td>NaN</td>\n",
       "      <td>NaN</td>\n",
       "      <td>87</td>\n",
       "      <td>predicted</td>\n",
       "    </tr>\n",
       "    <tr>\n",
       "      <th>4</th>\n",
       "      <td>2025</td>\n",
       "      <td>NaN</td>\n",
       "      <td>NaN</td>\n",
       "      <td>NaN</td>\n",
       "      <td>NaN</td>\n",
       "      <td>NaN</td>\n",
       "      <td>0.0104</td>\n",
       "      <td>NaN</td>\n",
       "      <td>NaN</td>\n",
       "      <td>87</td>\n",
       "      <td>predicted</td>\n",
       "    </tr>\n",
       "  </tbody>\n",
       "</table>\n",
       "</div>"
      ],
      "text/plain": [
       "   year  hdi  inflation  infant_mortality  gdp  gni  forest  population  \\\n",
       "0  2021  NaN        NaN               NaN  NaN  NaN  0.0104         NaN   \n",
       "1  2022  NaN        NaN               NaN  NaN  NaN  0.0104         NaN   \n",
       "2  2023  NaN        NaN               NaN  NaN  NaN  0.0104         NaN   \n",
       "3  2024  NaN        NaN               NaN  NaN  NaN  0.0104         NaN   \n",
       "4  2025  NaN        NaN               NaN  NaN  NaN  0.0104         NaN   \n",
       "\n",
       "   unemployment  country_id       info  \n",
       "0           NaN          87  predicted  \n",
       "1           NaN          87  predicted  \n",
       "2           NaN          87  predicted  \n",
       "3           NaN          87  predicted  \n",
       "4           NaN          87  predicted  "
      ]
     },
     "execution_count": 33,
     "metadata": {},
     "output_type": "execute_result"
    }
   ],
   "source": [
    "# Round to forest cover % and KPI %age to 4  decimal places\n",
    "\n",
    "for col in df_final.columns:\n",
    "    if df_final.dtypes[col] == \"float64\" :\n",
    "        df_final[col] = df_final[col].round(decimals = 4)\n",
    "\n",
    "df_final[\"country_id\"] = df_final[\"country_id\"].astype(int)\n",
    "\n",
    "df_final.tail()"
   ]
  },
  {
   "cell_type": "code",
   "execution_count": 34,
   "id": "e97c99ca",
   "metadata": {},
   "outputs": [],
   "source": [
    "# Write to measurements file\n",
    "\n",
    "df_final.to_csv('data_measurements.csv', index=False)"
   ]
  },
  {
   "cell_type": "markdown",
   "id": "70a94621",
   "metadata": {},
   "source": [
    "### Web Scraping to update income classification for all countries (df_country)"
   ]
  },
  {
   "cell_type": "code",
   "execution_count": 35,
   "id": "864403ef",
   "metadata": {},
   "outputs": [],
   "source": [
    "from urllib.request import urlopen"
   ]
  },
  {
   "cell_type": "code",
   "execution_count": 36,
   "id": "7feda8ca",
   "metadata": {},
   "outputs": [
    {
     "data": {
      "text/plain": [
       "<http.client.HTTPResponse at 0x232d26c05b0>"
      ]
     },
     "execution_count": 36,
     "metadata": {},
     "output_type": "execute_result"
    }
   ],
   "source": [
    "url = \"https://datahelpdesk.worldbank.org/knowledgebase/articles/906519-world-bank-country-and-lending-groups\"\n",
    "page = urlopen(url)\n",
    "page"
   ]
  },
  {
   "cell_type": "code",
   "execution_count": 37,
   "id": "3575a29d",
   "metadata": {},
   "outputs": [],
   "source": [
    "html_bytes = page.read()\n",
    "html = html_bytes.decode(\"utf-8\")\n",
    "# print(html)"
   ]
  },
  {
   "cell_type": "code",
   "execution_count": 38,
   "id": "8475162f",
   "metadata": {},
   "outputs": [
    {
     "data": {
      "text/plain": [
       "21762"
      ]
     },
     "execution_count": 38,
     "metadata": {},
     "output_type": "execute_result"
    }
   ],
   "source": [
    "# LOW-INCOME ECONOMIES ($1,045 OR LESS)\n",
    "low_income_start_index = html.find(\"LOW-INCOME ECONOMIES\\n($1,045 OR LESS)\")\n",
    "low_income_start_index\n"
   ]
  },
  {
   "cell_type": "code",
   "execution_count": 39,
   "id": "ee20b8ef",
   "metadata": {},
   "outputs": [
    {
     "data": {
      "text/plain": [
       "23495"
      ]
     },
     "execution_count": 39,
     "metadata": {},
     "output_type": "execute_result"
    }
   ],
   "source": [
    "low_income_end_index = html.find(\"LOWER-MIDDLE INCOME\")\n",
    "low_income_end_index\n"
   ]
  },
  {
   "cell_type": "code",
   "execution_count": 40,
   "id": "dc3d8b06",
   "metadata": {
    "scrolled": true
   },
   "outputs": [],
   "source": [
    "# html[low_income_start_index: low_income_end_index]"
   ]
  },
  {
   "cell_type": "code",
   "execution_count": 41,
   "id": "394c97b7",
   "metadata": {},
   "outputs": [
    {
     "name": "stdout",
     "output_type": "stream",
     "text": [
      "['AFGHANISTAN', 'BURKINA FASO', 'BURUNDI', 'CENTRAL AFRICAN\\n  REPUBLIC', 'CHAD', 'CONGO, DEM. REP', 'ERITREA', 'ETHIOPIA', 'GAMBIA, THE', 'GUINEA', 'GUINEA-BISSAU', \"KOREA, DEM. PEOPLE'S REP\", 'LIBERIA', 'MADAGASCAR', 'MALAWI', 'MALI', 'MOZAMBIQUE', 'NIGER', 'RWANDA', 'SIERRA LEONE', 'SOMALIA', 'SOUTH SUDAN', 'SUDAN', 'TOGO', 'UGANDA', 'YEMEN, REP.']\n"
     ]
    }
   ],
   "source": [
    "# Using regular expression to parse countries\n",
    "import regex as re\n",
    "\n",
    "pattern = re.compile(r\"\"\"<td[^>]*>(?:<[^>]*>|&\\w*;|\\\\u[a-f\\d]*)*((?:[^<&\\\\]+|\\\\n)+)\"\"\", re.VERBOSE)\n",
    "\n",
    "matches = re.finditer(pattern, html[low_income_start_index: low_income_end_index])\n",
    "low_income_countries = []\n",
    "for match in matches:\n",
    "    low_income_countries.append(match[1].upper())\n",
    "\n",
    "low_income_countries = sorted(low_income_countries)\n",
    "low_income_countries = low_income_countries[2:-1]\n",
    "print(low_income_countries)"
   ]
  },
  {
   "cell_type": "code",
   "execution_count": 42,
   "id": "fbac757a",
   "metadata": {},
   "outputs": [
    {
     "data": {
      "text/plain": [
       "23495"
      ]
     },
     "execution_count": 42,
     "metadata": {},
     "output_type": "execute_result"
    }
   ],
   "source": [
    "# LOWER-MIDDLE INCOME ECONOMIES ($1,046 TO $4,095)\n",
    "low_middle_income_start_index = html.find(\"LOWER-MIDDLE INCOME\")\n",
    "low_middle_income_start_index"
   ]
  },
  {
   "cell_type": "code",
   "execution_count": 43,
   "id": "a40b318a",
   "metadata": {},
   "outputs": [
    {
     "data": {
      "text/plain": [
       "25914"
      ]
     },
     "execution_count": 43,
     "metadata": {},
     "output_type": "execute_result"
    }
   ],
   "source": [
    "low_middle_income_end_index = html.find(\"UPPER-MIDDLE-INCOME\")\n",
    "low_middle_income_end_index"
   ]
  },
  {
   "cell_type": "code",
   "execution_count": 44,
   "id": "dd897c48",
   "metadata": {},
   "outputs": [],
   "source": [
    "# html[low_middle_income_start_index: low_middle_income_end_index]"
   ]
  },
  {
   "cell_type": "code",
   "execution_count": 45,
   "id": "971a6a68",
   "metadata": {},
   "outputs": [
    {
     "name": "stdout",
     "output_type": "stream",
     "text": [
      "['ALGERIA', 'ANGOLA', 'BANGLADESH', 'BELIZE', 'BENIN', 'BHUTAN', 'BOLIVIA', 'CABO VERDE', 'CAMBODIA', 'CAMEROON', 'COMOROS', 'CONGO, REP.', \"CÔTE D'IVOIRE\", 'DJIBOUTI', 'EGYPT, ARAB REP.', 'EL SALVADOR', 'ESWATINI', 'GHANA', 'HAITI', 'HONDURAS', 'INDIA', 'INDONESIA', 'IRAN, ISLAMIC REP', 'KENYA', 'KIRIBATI', 'KYRGYZ REPUBLIC', 'LAO PDR', 'LESOTHO', 'MAURITANIA', 'MICRONESIA, FED. STS.', 'MONGOLIA', 'MOROCCO', 'MYANMAR', 'NEPAL', 'NICARAGUA', 'NIGERIA', 'PAKISTAN', 'PAPUA NEW GUINEA', 'PHILIPPINES', 'SAMOA', 'SENEGAL', 'SOLOMON ISLANDS', 'SRI LANKA', 'SÃO TOMÉ AND PRINCIPE', 'TAJIKISTAN', 'TANZANIA', 'TIMOR-LESTE', 'TUNISIA', 'UKRAINE', 'UZBEKISTAN', 'VANUATU', 'VIETNAM', 'WEST BANK AND GAZA', 'ZAMBIA', 'ZIMBABWE']\n"
     ]
    }
   ],
   "source": [
    "matches = re.finditer(pattern, html[low_middle_income_start_index: low_middle_income_end_index])\n",
    "low_middle_income_countries = []\n",
    "for match in matches:\n",
    "    low_middle_income_countries.append(match[1].upper())\n",
    "\n",
    "low_middle_income_countries = sorted(low_middle_income_countries)\n",
    "low_middle_income_countries = low_middle_income_countries[1:] \n",
    "print(low_middle_income_countries)"
   ]
  },
  {
   "cell_type": "code",
   "execution_count": 46,
   "id": "58486d99",
   "metadata": {},
   "outputs": [
    {
     "data": {
      "text/plain": [
       "25914"
      ]
     },
     "execution_count": 46,
     "metadata": {},
     "output_type": "execute_result"
    }
   ],
   "source": [
    "# UPPER-MIDDLE-INCOME ECONOMIES ($4,096 TO $12,695)\n",
    "upper_middle_income_start_index = html.find(\"UPPER-MIDDLE-INCOME\")\n",
    "upper_middle_income_start_index"
   ]
  },
  {
   "cell_type": "code",
   "execution_count": 47,
   "id": "67cdd3ed",
   "metadata": {},
   "outputs": [
    {
     "data": {
      "text/plain": [
       "30807"
      ]
     },
     "execution_count": 47,
     "metadata": {},
     "output_type": "execute_result"
    }
   ],
   "source": [
    "upper_middle_income_end_index = html.find(\"HIGH-INCOME ECONOMIES\")\n",
    "upper_middle_income_end_index"
   ]
  },
  {
   "cell_type": "code",
   "execution_count": 48,
   "id": "5aedf269",
   "metadata": {},
   "outputs": [],
   "source": [
    "# html[upper_middle_income_start_index: upper_middle_income_end_index]"
   ]
  },
  {
   "cell_type": "code",
   "execution_count": 49,
   "id": "96060c18",
   "metadata": {},
   "outputs": [
    {
     "name": "stdout",
     "output_type": "stream",
     "text": [
      "['ALBANIA', 'AMERICAN SAMOA', 'ARGENTINA', 'ARMENIA', 'AZERBAIJAN', 'BELARUS', 'BOSNIA AND\\n  HERZEGOVINA', 'BOTSWANA', 'BRAZIL', 'BULGARIA', 'CHINA', 'COLOMBIA', 'COSTA RICA', 'CUBA', 'DOMINICA', 'DOMINICAN REPUBLIC', 'ECUADOR', 'EQUATORIAL GUINEA', 'FIJI', 'GABON', 'GEORGIA', 'GRENADA', 'GUATEMALA', 'GUYANA', 'IRAQ', 'JORDAN', 'KAZAKHSTAN', 'KOSOVO', 'LEBANON', 'LIBYA', 'MALAYSIA', 'MALDIVES', 'MARSHALL ISLANDS', 'MAURITIUS', 'MEXICO', 'MOLDOVA', 'MONTENEGRO', 'NAMIBIA', 'NORTH MACEDONIA', 'PANAMA', 'PARAGUAY', 'PERU ', 'ROMANIA', 'RUSSIAN FEDERATION', 'SERBIA', 'SOUTH AFRICA', 'ST. LUCIA', 'ST. VINCENT AND THE\\n  GRENADINES', 'SURINAME', 'THAILAND', 'TONGA', 'TURKEY', 'TURKMENISTAN', 'TUVALU']\n"
     ]
    }
   ],
   "source": [
    "matches = re.finditer(pattern, html[upper_middle_income_start_index: upper_middle_income_end_index])\n",
    "upper_middle_income_countries = []\n",
    "for match in matches:\n",
    "    upper_middle_income_countries.append(match[1].upper())\n",
    "\n",
    "upper_middle_income_countries = sorted(upper_middle_income_countries)\n",
    "upper_middle_income_countries = upper_middle_income_countries[ 1:-1]\n",
    "print(upper_middle_income_countries)"
   ]
  },
  {
   "cell_type": "code",
   "execution_count": 50,
   "id": "ef913c5e",
   "metadata": {},
   "outputs": [
    {
     "data": {
      "text/plain": [
       "30807"
      ]
     },
     "execution_count": 50,
     "metadata": {},
     "output_type": "execute_result"
    }
   ],
   "source": [
    "# HIGH-INCOME ECONOMIES ($12,696 OR MORE)\n",
    "high_income_start_index = upper_middle_income_end_index\n",
    "high_income_start_index"
   ]
  },
  {
   "cell_type": "code",
   "execution_count": 51,
   "id": "527aa37f",
   "metadata": {},
   "outputs": [
    {
     "data": {
      "text/plain": [
       "34480"
      ]
     },
     "execution_count": 51,
     "metadata": {},
     "output_type": "execute_result"
    }
   ],
   "source": [
    "high_income_end_index = html.find(\"<br>IDA</b>\")\n",
    "high_income_end_index"
   ]
  },
  {
   "cell_type": "code",
   "execution_count": 52,
   "id": "14b729d3",
   "metadata": {},
   "outputs": [],
   "source": [
    "# html[high_income_start_index:high_income_end_index]"
   ]
  },
  {
   "cell_type": "code",
   "execution_count": 53,
   "id": "cf4aa9ee",
   "metadata": {},
   "outputs": [
    {
     "name": "stdout",
     "output_type": "stream",
     "text": [
      "['ANDORRA', 'ANTIGUA AND\\n  BARBUDA', 'ARUBA', 'AUSTRALIA', 'AUSTRIA', 'BAHAMAS, THE', 'BAHRAIN', 'BARBADOS', 'BELGIUM', 'BERMUDA', 'BRITISH VIRGIN\\n  ISLANDS', 'BRUNEI\\n  DARUSSALAM', 'CANADA', 'CAYMAN ISLANDS', 'CHANNEL ISLANDS', 'CHILE', 'CROATIA', 'CURAÇAO', 'CYPRUS', 'CZECH REPUBLIC', 'DENMARK', 'ESTONIA', 'FAROE ISLANDS', 'FINLAND', 'FRANCE', 'FRENCH POLYNESIA', 'GERMANY', 'GIBRALTAR', 'GREECE', 'GREENLAND', 'GUAM', 'HONG KONG SAR, CHINA', 'HUNGARY', 'ICELAND', 'IRELAND', 'ISLE OF MAN', 'ISRAEL', 'ITALY', 'JAPAN', 'KOREA, REP.', 'KUWAIT', 'LATVIA', 'LIECHTENSTEIN', 'LITHUANIA', 'LUXEMBOURG', 'MACAO SAR, CHINA', 'MALTA', 'MONACO', 'NAURU', 'NETHERLANDS', 'NEW CALEDONIA', 'NEW ZEALAND', 'NORTHERN MARIANA ISLANDS', 'NORWAY', 'OMAN', 'PALAU', 'POLAND', 'PORTUGAL', 'PUERTO RICO', 'QATAR', 'SAN MARINO', 'SAUDI ARABIA', 'SEYCHELLES', 'SINGAPORE', 'SINT MAARTEN (DUTCH PART)', 'SLOVAK REPUBLIC', 'SLOVENIA', 'SPAIN', 'ST. KITTS AND NEVIS', 'ST. MARTIN (FRENCH PART)', 'SWEDEN', 'SWITZERLAND', 'TAIWAN, CHINA', 'TRINIDAD AND TOBAGO', 'TURKS AND CAICOS ISLANDS', 'UNITED ARAB EMIRATES', 'UNITED KINGDOM', 'UNITED STATES', 'URUGUAY', 'VIRGIN ISLANDS (U.S.)']\n"
     ]
    }
   ],
   "source": [
    "matches = re.finditer(pattern, html[high_income_start_index: high_income_end_index])\n",
    "high_income_countries = []\n",
    "for match in matches:\n",
    "    high_income_countries.append(match[1].upper())\n",
    "\n",
    "high_income_countries = sorted(high_income_countries)\n",
    "high_income_countries = high_income_countries[2:]\n",
    "print(high_income_countries)"
   ]
  },
  {
   "cell_type": "code",
   "execution_count": 54,
   "id": "07d2e39a",
   "metadata": {},
   "outputs": [
    {
     "data": {
      "text/html": [
       "<div>\n",
       "<style scoped>\n",
       "    .dataframe tbody tr th:only-of-type {\n",
       "        vertical-align: middle;\n",
       "    }\n",
       "\n",
       "    .dataframe tbody tr th {\n",
       "        vertical-align: top;\n",
       "    }\n",
       "\n",
       "    .dataframe thead th {\n",
       "        text-align: right;\n",
       "    }\n",
       "</style>\n",
       "<table border=\"1\" class=\"dataframe\">\n",
       "  <thead>\n",
       "    <tr style=\"text-align: right;\">\n",
       "      <th></th>\n",
       "      <th>country</th>\n",
       "      <th>income</th>\n",
       "    </tr>\n",
       "  </thead>\n",
       "  <tbody>\n",
       "    <tr>\n",
       "      <th>0</th>\n",
       "      <td>AFGHANISTAN</td>\n",
       "      <td>Low Income</td>\n",
       "    </tr>\n",
       "    <tr>\n",
       "      <th>1</th>\n",
       "      <td>BURKINA FASO</td>\n",
       "      <td>Low Income</td>\n",
       "    </tr>\n",
       "    <tr>\n",
       "      <th>2</th>\n",
       "      <td>BURUNDI</td>\n",
       "      <td>Low Income</td>\n",
       "    </tr>\n",
       "    <tr>\n",
       "      <th>3</th>\n",
       "      <td>CENTRAL AFRICAN\\n  REPUBLIC</td>\n",
       "      <td>Low Income</td>\n",
       "    </tr>\n",
       "    <tr>\n",
       "      <th>4</th>\n",
       "      <td>CHAD</td>\n",
       "      <td>Low Income</td>\n",
       "    </tr>\n",
       "    <tr>\n",
       "      <th>...</th>\n",
       "      <td>...</td>\n",
       "      <td>...</td>\n",
       "    </tr>\n",
       "    <tr>\n",
       "      <th>210</th>\n",
       "      <td>UNITED ARAB EMIRATES</td>\n",
       "      <td>High Income</td>\n",
       "    </tr>\n",
       "    <tr>\n",
       "      <th>211</th>\n",
       "      <td>UNITED KINGDOM</td>\n",
       "      <td>High Income</td>\n",
       "    </tr>\n",
       "    <tr>\n",
       "      <th>212</th>\n",
       "      <td>UNITED STATES</td>\n",
       "      <td>High Income</td>\n",
       "    </tr>\n",
       "    <tr>\n",
       "      <th>213</th>\n",
       "      <td>URUGUAY</td>\n",
       "      <td>High Income</td>\n",
       "    </tr>\n",
       "    <tr>\n",
       "      <th>214</th>\n",
       "      <td>VIRGIN ISLANDS (U.S.)</td>\n",
       "      <td>High Income</td>\n",
       "    </tr>\n",
       "  </tbody>\n",
       "</table>\n",
       "<p>215 rows × 2 columns</p>\n",
       "</div>"
      ],
      "text/plain": [
       "                         country       income\n",
       "0                    AFGHANISTAN   Low Income\n",
       "1                   BURKINA FASO   Low Income\n",
       "2                        BURUNDI   Low Income\n",
       "3    CENTRAL AFRICAN\\n  REPUBLIC   Low Income\n",
       "4                           CHAD   Low Income\n",
       "..                           ...          ...\n",
       "210         UNITED ARAB EMIRATES  High Income\n",
       "211               UNITED KINGDOM  High Income\n",
       "212                UNITED STATES  High Income\n",
       "213                      URUGUAY  High Income\n",
       "214        VIRGIN ISLANDS (U.S.)  High Income\n",
       "\n",
       "[215 rows x 2 columns]"
      ]
     },
     "execution_count": 54,
     "metadata": {},
     "output_type": "execute_result"
    }
   ],
   "source": [
    "# Concatentate all income class countries into one dictionary and convert to a dataframe\n",
    "\n",
    "dict_income_class = {}\n",
    "for c in low_income_countries:\n",
    "        dict_income_class[c] = \"Low Income\"\n",
    "for c in low_middle_income_countries:\n",
    "        dict_income_class[c] = \"Low Middle Income\"\n",
    "for c in upper_middle_income_countries:\n",
    "        dict_income_class[c] = \"Upper Middle Income\"\n",
    "for c in high_income_countries:\n",
    "        dict_income_class[c] = \"High Income\"\n",
    "\n",
    "df_income_class = pd.DataFrame(dict_income_class.items(), columns=['country', 'income'])\n",
    "df_income_class"
   ]
  },
  {
   "cell_type": "code",
   "execution_count": 55,
   "id": "9263e809",
   "metadata": {
    "scrolled": true
   },
   "outputs": [
    {
     "data": {
      "text/html": [
       "<div>\n",
       "<style scoped>\n",
       "    .dataframe tbody tr th:only-of-type {\n",
       "        vertical-align: middle;\n",
       "    }\n",
       "\n",
       "    .dataframe tbody tr th {\n",
       "        vertical-align: top;\n",
       "    }\n",
       "\n",
       "    .dataframe thead th {\n",
       "        text-align: right;\n",
       "    }\n",
       "</style>\n",
       "<table border=\"1\" class=\"dataframe\">\n",
       "  <thead>\n",
       "    <tr style=\"text-align: right;\">\n",
       "      <th></th>\n",
       "      <th>country_id</th>\n",
       "      <th>country</th>\n",
       "      <th>continent</th>\n",
       "      <th>development_status</th>\n",
       "    </tr>\n",
       "  </thead>\n",
       "  <tbody>\n",
       "    <tr>\n",
       "      <th>0</th>\n",
       "      <td>0</td>\n",
       "      <td>ALGERIA</td>\n",
       "      <td>Africa</td>\n",
       "      <td>Developing</td>\n",
       "    </tr>\n",
       "    <tr>\n",
       "      <th>1</th>\n",
       "      <td>1</td>\n",
       "      <td>EGYPT</td>\n",
       "      <td>Africa</td>\n",
       "      <td>Developing</td>\n",
       "    </tr>\n",
       "    <tr>\n",
       "      <th>2</th>\n",
       "      <td>2</td>\n",
       "      <td>LIBYA</td>\n",
       "      <td>Africa</td>\n",
       "      <td>Developing</td>\n",
       "    </tr>\n",
       "    <tr>\n",
       "      <th>3</th>\n",
       "      <td>3</td>\n",
       "      <td>MOROCCO</td>\n",
       "      <td>Africa</td>\n",
       "      <td>Developing</td>\n",
       "    </tr>\n",
       "    <tr>\n",
       "      <th>4</th>\n",
       "      <td>4</td>\n",
       "      <td>SUDAN</td>\n",
       "      <td>Africa</td>\n",
       "      <td>Developing</td>\n",
       "    </tr>\n",
       "    <tr>\n",
       "      <th>...</th>\n",
       "      <td>...</td>\n",
       "      <td>...</td>\n",
       "      <td>...</td>\n",
       "      <td>...</td>\n",
       "    </tr>\n",
       "    <tr>\n",
       "      <th>242</th>\n",
       "      <td>242</td>\n",
       "      <td>SAMOA</td>\n",
       "      <td>Oceania</td>\n",
       "      <td>Developing</td>\n",
       "    </tr>\n",
       "    <tr>\n",
       "      <th>243</th>\n",
       "      <td>243</td>\n",
       "      <td>TOKELAU</td>\n",
       "      <td>Oceania</td>\n",
       "      <td>Developing</td>\n",
       "    </tr>\n",
       "    <tr>\n",
       "      <th>244</th>\n",
       "      <td>244</td>\n",
       "      <td>TONGA</td>\n",
       "      <td>Oceania</td>\n",
       "      <td>Developing</td>\n",
       "    </tr>\n",
       "    <tr>\n",
       "      <th>245</th>\n",
       "      <td>245</td>\n",
       "      <td>TUVALU</td>\n",
       "      <td>Oceania</td>\n",
       "      <td>Developing</td>\n",
       "    </tr>\n",
       "    <tr>\n",
       "      <th>246</th>\n",
       "      <td>246</td>\n",
       "      <td>WALLIS AND FUTUNA ISLANDS</td>\n",
       "      <td>Oceania</td>\n",
       "      <td>Developing</td>\n",
       "    </tr>\n",
       "  </tbody>\n",
       "</table>\n",
       "<p>247 rows × 4 columns</p>\n",
       "</div>"
      ],
      "text/plain": [
       "     country_id                    country continent development_status\n",
       "0             0                    ALGERIA    Africa         Developing\n",
       "1             1                      EGYPT    Africa         Developing\n",
       "2             2                      LIBYA    Africa         Developing\n",
       "3             3                    MOROCCO    Africa         Developing\n",
       "4             4                      SUDAN    Africa         Developing\n",
       "..          ...                        ...       ...                ...\n",
       "242         242                      SAMOA   Oceania         Developing\n",
       "243         243                    TOKELAU   Oceania         Developing\n",
       "244         244                      TONGA   Oceania         Developing\n",
       "245         245                     TUVALU   Oceania         Developing\n",
       "246         246  WALLIS AND FUTUNA ISLANDS   Oceania         Developing\n",
       "\n",
       "[247 rows x 4 columns]"
      ]
     },
     "execution_count": 55,
     "metadata": {},
     "output_type": "execute_result"
    }
   ],
   "source": [
    "df_country[\"country\"] = df_country[\"country\"].str.upper()\n",
    "df_country"
   ]
  },
  {
   "cell_type": "code",
   "execution_count": 56,
   "id": "fefb10a1",
   "metadata": {},
   "outputs": [],
   "source": [
    "# Standardize df_income_class and df_country for country names\n",
    "\n",
    "df_income_class['country'] = df_income_class['country'].map(lambda x: x.replace(\"\\n\", \"\").replace(\"  \", \" \")\\\n",
    "                                                            .split(\"(\", 1)[0].split(\", T\", 1)[0]\\\n",
    "                                                            .split(\", A\", 1)[0]\\\n",
    "                                                            .split(\", I\", 1)[0].strip())\n",
    "\n",
    "df_country['country'] = df_country['country'].map(lambda x: x.replace(\"\\n\", \"\").replace(\"  \", \" \")\\\n",
    "                                                            .split(\"(\", 1)[0].split(\", T\", 1)[0]\\\n",
    "                                                            .split(\", A\", 1)[0]\\\n",
    "                                                            .split(\", I\", 1)[0].strip())\n",
    "\n"
   ]
  },
  {
   "cell_type": "code",
   "execution_count": 57,
   "id": "658d1de7",
   "metadata": {},
   "outputs": [],
   "source": [
    "# Standardize country names where the names dont match between the country file and scrapped country name\n",
    "\n",
    "change_country_list = {\"HONG KONG SAR, CHINA\" : \"HONG KONG, CHINA\",\n",
    "                        \"KOREA, DEM. PEOPLE'S REP\" : \"DEMOCRATIC PEOPLE'S REPUBLIC OF KOREA\",\n",
    "                        \"KOREA, REP.\" : \"REPUBLIC OF KOREA\",\n",
    "                        \"YEMEN, REP.\" : \"YEMEN\",\n",
    "                        \"CONGO, DEM. REP\" : \"DEMOCRATIC REPUBLIC OF THE CONGO\",\n",
    "                        \"CONGO, REP.\" : \"CONGO\",\n",
    "                        \"VIETNAM\" :\"VIET NAM\",\n",
    "                        \"TANZANIA\" : \"UNITED REPUBLIC OF TANZANIA\",\n",
    "                        \"KYRGYZ REPUBLIC\" : \"KYRGYZSTAN\",\n",
    "                        \"MOLDOVA\" : \"REPUBLIC OF MOLDOVA\",\n",
    "                        \"CZECH REPUBLIC\" :\"CZECHIA\",\n",
    "                        \"SLOVAK REPUBLIC\" : \"SLOVAKIA\",\n",
    "                        \"LAO PDR\":\"LAO PEOPLE'S DEMOCRATIC REPUBLIC\"\n",
    "}\n",
    "\n",
    "for country, correct_country in change_country_list.items():\n",
    "    df_income_class.loc[df_income_class[\"country\"] == country, \"country\"] = change_country_list[country]"
   ]
  },
  {
   "cell_type": "code",
   "execution_count": 58,
   "id": "a121a993",
   "metadata": {},
   "outputs": [
    {
     "data": {
      "text/html": [
       "<div>\n",
       "<style scoped>\n",
       "    .dataframe tbody tr th:only-of-type {\n",
       "        vertical-align: middle;\n",
       "    }\n",
       "\n",
       "    .dataframe tbody tr th {\n",
       "        vertical-align: top;\n",
       "    }\n",
       "\n",
       "    .dataframe thead th {\n",
       "        text-align: right;\n",
       "    }\n",
       "</style>\n",
       "<table border=\"1\" class=\"dataframe\">\n",
       "  <thead>\n",
       "    <tr style=\"text-align: right;\">\n",
       "      <th></th>\n",
       "      <th>country</th>\n",
       "      <th>income</th>\n",
       "    </tr>\n",
       "  </thead>\n",
       "  <tbody>\n",
       "    <tr>\n",
       "      <th>215</th>\n",
       "      <td>SAO TOME AND PRINCIPE</td>\n",
       "      <td>Not Available</td>\n",
       "    </tr>\n",
       "    <tr>\n",
       "      <th>216</th>\n",
       "      <td>JAMAICA</td>\n",
       "      <td>Not Available</td>\n",
       "    </tr>\n",
       "    <tr>\n",
       "      <th>217</th>\n",
       "      <td>SAINT KITTS AND NEVIS</td>\n",
       "      <td>Not Available</td>\n",
       "    </tr>\n",
       "    <tr>\n",
       "      <th>218</th>\n",
       "      <td>SAINT LUCIA</td>\n",
       "      <td>Not Available</td>\n",
       "    </tr>\n",
       "    <tr>\n",
       "      <th>219</th>\n",
       "      <td>SAINT VINCENT AND THE GRENADINES</td>\n",
       "      <td>Not Available</td>\n",
       "    </tr>\n",
       "    <tr>\n",
       "      <th>220</th>\n",
       "      <td>UNITED STATES VIRGIN ISLANDS</td>\n",
       "      <td>Not Available</td>\n",
       "    </tr>\n",
       "    <tr>\n",
       "      <th>221</th>\n",
       "      <td>STATE OF PALESTINE</td>\n",
       "      <td>Not Available</td>\n",
       "    </tr>\n",
       "    <tr>\n",
       "      <th>222</th>\n",
       "      <td>SYRIAN ARAB REPUBLIC</td>\n",
       "      <td>Not Available</td>\n",
       "    </tr>\n",
       "    <tr>\n",
       "      <th>223</th>\n",
       "      <td>COOK ISLANDS</td>\n",
       "      <td>Not Available</td>\n",
       "    </tr>\n",
       "    <tr>\n",
       "      <th>224</th>\n",
       "      <td>NIUE</td>\n",
       "      <td>Not Available</td>\n",
       "    </tr>\n",
       "  </tbody>\n",
       "</table>\n",
       "</div>"
      ],
      "text/plain": [
       "                              country         income\n",
       "215             SAO TOME AND PRINCIPE  Not Available\n",
       "216                           JAMAICA  Not Available\n",
       "217             SAINT KITTS AND NEVIS  Not Available\n",
       "218                       SAINT LUCIA  Not Available\n",
       "219  SAINT VINCENT AND THE GRENADINES  Not Available\n",
       "220      UNITED STATES VIRGIN ISLANDS  Not Available\n",
       "221                STATE OF PALESTINE  Not Available\n",
       "222              SYRIAN ARAB REPUBLIC  Not Available\n",
       "223                      COOK ISLANDS  Not Available\n",
       "224                              NIUE  Not Available"
      ]
     },
     "execution_count": 58,
     "metadata": {},
     "output_type": "execute_result"
    }
   ],
   "source": [
    "# Add country names to country file which are missing in the website\n",
    "extra_countries = list({37, 75, 80, 81, 83, 87, 161, 162, 238, 240})\n",
    "extra_countries\n",
    "\n",
    "for c in list(df_country[df_country['country_id'].isin(extra_countries)][\"country\"]):\n",
    "    df_income_class = df_income_class.append({'country': c, 'income' : 'Not Available' }, ignore_index=True)\n",
    "    \n",
    "df_income_class[df_income_class[\"income\"].str.contains(\"Not\")]"
   ]
  },
  {
   "cell_type": "code",
   "execution_count": 59,
   "id": "3f13d522",
   "metadata": {},
   "outputs": [
    {
     "data": {
      "text/html": [
       "<div>\n",
       "<style scoped>\n",
       "    .dataframe tbody tr th:only-of-type {\n",
       "        vertical-align: middle;\n",
       "    }\n",
       "\n",
       "    .dataframe tbody tr th {\n",
       "        vertical-align: top;\n",
       "    }\n",
       "\n",
       "    .dataframe thead th {\n",
       "        text-align: right;\n",
       "    }\n",
       "</style>\n",
       "<table border=\"1\" class=\"dataframe\">\n",
       "  <thead>\n",
       "    <tr style=\"text-align: right;\">\n",
       "      <th></th>\n",
       "      <th>country_id</th>\n",
       "      <th>country</th>\n",
       "      <th>continent</th>\n",
       "      <th>development_status</th>\n",
       "    </tr>\n",
       "  </thead>\n",
       "  <tbody>\n",
       "    <tr>\n",
       "      <th>0</th>\n",
       "      <td>0</td>\n",
       "      <td>ALGERIA</td>\n",
       "      <td>Africa</td>\n",
       "      <td>Developing</td>\n",
       "    </tr>\n",
       "    <tr>\n",
       "      <th>1</th>\n",
       "      <td>1</td>\n",
       "      <td>EGYPT</td>\n",
       "      <td>Africa</td>\n",
       "      <td>Developing</td>\n",
       "    </tr>\n",
       "    <tr>\n",
       "      <th>2</th>\n",
       "      <td>2</td>\n",
       "      <td>LIBYA</td>\n",
       "      <td>Africa</td>\n",
       "      <td>Developing</td>\n",
       "    </tr>\n",
       "    <tr>\n",
       "      <th>3</th>\n",
       "      <td>3</td>\n",
       "      <td>MOROCCO</td>\n",
       "      <td>Africa</td>\n",
       "      <td>Developing</td>\n",
       "    </tr>\n",
       "    <tr>\n",
       "      <th>4</th>\n",
       "      <td>4</td>\n",
       "      <td>SUDAN</td>\n",
       "      <td>Africa</td>\n",
       "      <td>Developing</td>\n",
       "    </tr>\n",
       "    <tr>\n",
       "      <th>...</th>\n",
       "      <td>...</td>\n",
       "      <td>...</td>\n",
       "      <td>...</td>\n",
       "      <td>...</td>\n",
       "    </tr>\n",
       "    <tr>\n",
       "      <th>242</th>\n",
       "      <td>242</td>\n",
       "      <td>SAMOA</td>\n",
       "      <td>Oceania</td>\n",
       "      <td>Developing</td>\n",
       "    </tr>\n",
       "    <tr>\n",
       "      <th>243</th>\n",
       "      <td>243</td>\n",
       "      <td>TOKELAU</td>\n",
       "      <td>Oceania</td>\n",
       "      <td>Developing</td>\n",
       "    </tr>\n",
       "    <tr>\n",
       "      <th>244</th>\n",
       "      <td>244</td>\n",
       "      <td>TONGA</td>\n",
       "      <td>Oceania</td>\n",
       "      <td>Developing</td>\n",
       "    </tr>\n",
       "    <tr>\n",
       "      <th>245</th>\n",
       "      <td>245</td>\n",
       "      <td>TUVALU</td>\n",
       "      <td>Oceania</td>\n",
       "      <td>Developing</td>\n",
       "    </tr>\n",
       "    <tr>\n",
       "      <th>246</th>\n",
       "      <td>246</td>\n",
       "      <td>WALLIS AND FUTUNA ISLANDS</td>\n",
       "      <td>Oceania</td>\n",
       "      <td>Developing</td>\n",
       "    </tr>\n",
       "  </tbody>\n",
       "</table>\n",
       "<p>242 rows × 4 columns</p>\n",
       "</div>"
      ],
      "text/plain": [
       "     country_id                    country continent development_status\n",
       "0             0                    ALGERIA    Africa         Developing\n",
       "1             1                      EGYPT    Africa         Developing\n",
       "2             2                      LIBYA    Africa         Developing\n",
       "3             3                    MOROCCO    Africa         Developing\n",
       "4             4                      SUDAN    Africa         Developing\n",
       "..          ...                        ...       ...                ...\n",
       "242         242                      SAMOA   Oceania         Developing\n",
       "243         243                    TOKELAU   Oceania         Developing\n",
       "244         244                      TONGA   Oceania         Developing\n",
       "245         245                     TUVALU   Oceania         Developing\n",
       "246         246  WALLIS AND FUTUNA ISLANDS   Oceania         Developing\n",
       "\n",
       "[242 rows x 4 columns]"
      ]
     },
     "execution_count": 59,
     "metadata": {},
     "output_type": "execute_result"
    }
   ],
   "source": [
    "# Delete ids for which there are no entries in measurement file\n",
    "\n",
    "remove_from_df_country = [69, 84, 97, 123, 143]\n",
    "df_country = df_country[~df_country['country_id'].isin(remove_from_df_country)]\n",
    "df_country"
   ]
  },
  {
   "cell_type": "code",
   "execution_count": 60,
   "id": "d165d032",
   "metadata": {},
   "outputs": [],
   "source": [
    "df_country = df_country[[\"country_id\", \"country\", \"continent\", \"development_status\"]]\n",
    "df_country = pd.merge(df_country, df_income_class, on = \"country\", how = \"inner\")\n",
    "\n",
    "# Remove extra countries for which data is not available for analysis\n",
    "\n",
    "df_country = df_country[~df_country[\"country_id\"].isnull()]\n"
   ]
  },
  {
   "cell_type": "code",
   "execution_count": 61,
   "id": "b87b3912",
   "metadata": {},
   "outputs": [
    {
     "data": {
      "text/html": [
       "<div>\n",
       "<style scoped>\n",
       "    .dataframe tbody tr th:only-of-type {\n",
       "        vertical-align: middle;\n",
       "    }\n",
       "\n",
       "    .dataframe tbody tr th {\n",
       "        vertical-align: top;\n",
       "    }\n",
       "\n",
       "    .dataframe thead th {\n",
       "        text-align: right;\n",
       "    }\n",
       "</style>\n",
       "<table border=\"1\" class=\"dataframe\">\n",
       "  <thead>\n",
       "    <tr style=\"text-align: right;\">\n",
       "      <th></th>\n",
       "      <th>country_id</th>\n",
       "      <th>country</th>\n",
       "      <th>continent</th>\n",
       "      <th>development_status</th>\n",
       "      <th>income</th>\n",
       "    </tr>\n",
       "  </thead>\n",
       "  <tbody>\n",
       "    <tr>\n",
       "      <th>104</th>\n",
       "      <td>128</td>\n",
       "      <td>BRUNEI DARUSSALAM</td>\n",
       "      <td>Asia</td>\n",
       "      <td>Developing</td>\n",
       "      <td>High Income</td>\n",
       "    </tr>\n",
       "    <tr>\n",
       "      <th>126</th>\n",
       "      <td>151</td>\n",
       "      <td>CYPRUS</td>\n",
       "      <td>Asia</td>\n",
       "      <td>Developed</td>\n",
       "      <td>High Income</td>\n",
       "    </tr>\n",
       "    <tr>\n",
       "      <th>141</th>\n",
       "      <td>166</td>\n",
       "      <td>BELARUS</td>\n",
       "      <td>Europe</td>\n",
       "      <td>Developed</td>\n",
       "      <td>Upper Middle Income</td>\n",
       "    </tr>\n",
       "    <tr>\n",
       "      <th>148</th>\n",
       "      <td>173</td>\n",
       "      <td>RUSSIAN FEDERATION</td>\n",
       "      <td>Europe</td>\n",
       "      <td>Developed</td>\n",
       "      <td>Upper Middle Income</td>\n",
       "    </tr>\n",
       "  </tbody>\n",
       "</table>\n",
       "</div>"
      ],
      "text/plain": [
       "     country_id             country continent development_status  \\\n",
       "104         128   BRUNEI DARUSSALAM      Asia         Developing   \n",
       "126         151              CYPRUS      Asia          Developed   \n",
       "141         166             BELARUS    Europe          Developed   \n",
       "148         173  RUSSIAN FEDERATION    Europe          Developed   \n",
       "\n",
       "                  income  \n",
       "104          High Income  \n",
       "126          High Income  \n",
       "141  Upper Middle Income  \n",
       "148  Upper Middle Income  "
      ]
     },
     "execution_count": 61,
     "metadata": {},
     "output_type": "execute_result"
    }
   ],
   "source": [
    "df_country[df_country[\"country\"].str.contains(\"RUS\")]"
   ]
  },
  {
   "cell_type": "code",
   "execution_count": 62,
   "id": "b481698d",
   "metadata": {},
   "outputs": [],
   "source": [
    "df_country.to_csv('data_countries.csv', index=False)"
   ]
  },
  {
   "cell_type": "code",
   "execution_count": null,
   "id": "3f6ed8b0",
   "metadata": {},
   "outputs": [],
   "source": []
  }
 ],
 "metadata": {
  "interpreter": {
   "hash": "31f2aee4e71d21fbe5cf8b01ff0e069b9275f58929596ceb00d14d90e3e16cd6"
  },
  "kernelspec": {
   "display_name": "Python 3",
   "language": "python",
   "name": "python3"
  },
  "language_info": {
   "codemirror_mode": {
    "name": "ipython",
    "version": 3
   },
   "file_extension": ".py",
   "mimetype": "text/x-python",
   "name": "python",
   "nbconvert_exporter": "python",
   "pygments_lexer": "ipython3",
   "version": "3.8.8"
  }
 },
 "nbformat": 4,
 "nbformat_minor": 5
}
